{
 "cells": [
  {
   "cell_type": "markdown",
   "metadata": {},
   "source": [
    "# Identified tasks"
   ]
  },
  {
   "cell_type": "markdown",
   "metadata": {},
   "source": [
    "- This small project aims to produce a clean dataframe from multiple text files (various topics) which can be further used in text processing. Tasks included open text file, remove unnessary words, count number of words in each file, calculate average word in each file, write texts back in a dataframe. Functions and class will be combined to fulfill this task. For this project, `bbc` text files are used and can be dowloaded from this link https://www.kaggle.com/c/learn-ai-bbc/data."
   ]
  },
  {
   "cell_type": "code",
   "execution_count": 47,
   "metadata": {},
   "outputs": [
    {
     "data": {
      "text/plain": [
       "'Dollar gains on Greenspan speech The dollar has hit its highest level against the euro in almost three months after the Federal Reserve head said the US trade deficit is set to stabilise And Alan Greenspan highlighted the US government s willingness to curb spending and rising household savings as factors which may help to reduce it In late trading in New York the dollar reached against the euro from on Thursday Market concerns about the deficit has hit the greenback in recent months On Friday Federal Reserve chairman Mr Greenspan s speech in London ahead of the meeting of G finance ministers sent the dollar higher after it had earlier tumbled on the back of worse than expected US jobs data I think the chairman s taking a much more sanguine view on the current account deficit than he s taken for some time said Robert Sinche head of currency strategy at Bank of America in New York He s taking a longer term view laying out a set of conditions under which the current account deficit can improve this year and next Worries about the deficit concerns about China do however remain China s currency remains pegged to the dollar and the US currency s sharp falls in recent months have therefore made Chinese export prices highly competitive But calls for a shift in Beijing s policy have fallen on deaf ears despite recent comments in a major Chinese newspaper that the time is ripe for a loosening of the peg The G meeting is thought unlikely to produce any meaningful movement in Chinese policy In the meantime the US Federal Reserve s decision on February to boost interest rates by a quarter of a point the sixth such move in as many months has opened up a differential with European rates The half point window some believe could be enough to keep US assets looking more attractive and could help prop up the dollar The recent falls have partly been the result of big budget deficits as well as the US s yawning current account gap both of which need to be funded by the buying of US bonds and assets by foreign firms and governments The White House will announce its budget on Monday and many commentators believe the deficit will remain at close to half a trillion dollars'"
      ]
     },
     "execution_count": 47,
     "metadata": {},
     "output_type": "execute_result"
    }
   ],
   "source": [
    "# Sample data (1 file)\n",
    "import re\n",
    "text1=r\"E:\\Python_Tutorials\\Data_Science\\LDS6_Machine Learning\\Final Test\\bbc\\business\\002.txt\"\n",
    "file=open(text1)\n",
    "# Print out the content of the file\n",
    "file=file.read()\n",
    "file=re.sub(\"[^a-zA-Z]\",\" \", file).split()\n",
    "newtext=\" \".join(file)\n",
    "# Clean text\n",
    "newtext"
   ]
  },
  {
   "cell_type": "code",
   "execution_count": 42,
   "metadata": {},
   "outputs": [],
   "source": [
    "import os\n",
    "import pandas as pd\n",
    "path=r\"E:\\Python_Tutorials\\Data_Science\\LDS6_Machine Learning\\Final Test\\bbc\"\n",
    "\n",
    "class TextCleaning():\n",
    "    def __init__(self, path):\n",
    "        self.path=path\n",
    "    def fileCount(self):\n",
    "        listFile=[]\n",
    "        try:\n",
    "            if os.path.exists(self.path):\n",
    "                for folder, subfolder, file in os.walk(self.path):\n",
    "                    listFile.extend(file)\n",
    "        except:\n",
    "            print(\"Your folders may not exist or something wrong\")\n",
    "        print(\"You had a total of\", len(listFile), \"text files\")\n",
    "    def listPath(self):\n",
    "        listPaths=[]\n",
    "        for folder, subFolder, files in os.walk(self.path):\n",
    "            if files:\n",
    "                for i in files:\n",
    "                    listPaths.append(os.path.join(folder, i))\n",
    "        return listPaths   \n",
    "    \n",
    "    def textDataFrame(self):\n",
    "            filePaths=self.listPath()\n",
    "            total=[]\n",
    "            fileName=[]\n",
    "            textItem=[]\n",
    "            wordCount=[]\n",
    "            for eachfile in filePaths:\n",
    "                readFile=open(eachfile)\n",
    "                file=readFile.read()\n",
    "                file=re.sub(\"[^a-zA-Z]\",\" \", file).split()\n",
    "                newtext=\" \".join(file)\n",
    "                letter=list(newtext)\n",
    "                total.append(len(letter))\n",
    "                fileName.append(os.path.basename(eachfile))\n",
    "                textItem.append(newtext)\n",
    "                wordCount.append(len(letter)/len(file))\n",
    "                \n",
    "            \n",
    "            df=pd.DataFrame({\"FileName\":fileName,\"Content\":textItem,\"letterCount\":total,\"AvgWord\":wordCount})\n",
    "            return df\n",
    "    "
   ]
  },
  {
   "cell_type": "code",
   "execution_count": 44,
   "metadata": {},
   "outputs": [
    {
     "name": "stdout",
     "output_type": "stream",
     "text": [
      "You had a total of 2225 text files\n"
     ]
    }
   ],
   "source": [
    "# Testing\n",
    "test=TextCleaning(path)\n",
    "test.fileCount()"
   ]
  },
  {
   "cell_type": "code",
   "execution_count": 46,
   "metadata": {},
   "outputs": [
    {
     "data": {
      "text/html": [
       "<div>\n",
       "<style scoped>\n",
       "    .dataframe tbody tr th:only-of-type {\n",
       "        vertical-align: middle;\n",
       "    }\n",
       "\n",
       "    .dataframe tbody tr th {\n",
       "        vertical-align: top;\n",
       "    }\n",
       "\n",
       "    .dataframe thead th {\n",
       "        text-align: right;\n",
       "    }\n",
       "</style>\n",
       "<table border=\"1\" class=\"dataframe\">\n",
       "  <thead>\n",
       "    <tr style=\"text-align: right;\">\n",
       "      <th></th>\n",
       "      <th>FileName</th>\n",
       "      <th>Content</th>\n",
       "      <th>letterCount</th>\n",
       "      <th>AvgWord</th>\n",
       "    </tr>\n",
       "  </thead>\n",
       "  <tbody>\n",
       "    <tr>\n",
       "      <th>0</th>\n",
       "      <td>001.txt</td>\n",
       "      <td>Ad sales boost Time Warner profit Quarterly pr...</td>\n",
       "      <td>2402</td>\n",
       "      <td>5.705463</td>\n",
       "    </tr>\n",
       "    <tr>\n",
       "      <th>1</th>\n",
       "      <td>002.txt</td>\n",
       "      <td>Dollar gains on Greenspan speech The dollar ha...</td>\n",
       "      <td>2187</td>\n",
       "      <td>5.564885</td>\n",
       "    </tr>\n",
       "    <tr>\n",
       "      <th>2</th>\n",
       "      <td>003.txt</td>\n",
       "      <td>Yukos unit buyer faces loan claim The owners o...</td>\n",
       "      <td>1502</td>\n",
       "      <td>5.583643</td>\n",
       "    </tr>\n",
       "    <tr>\n",
       "      <th>3</th>\n",
       "      <td>004.txt</td>\n",
       "      <td>High fuel prices hit BA s profits British Airw...</td>\n",
       "      <td>2211</td>\n",
       "      <td>5.597468</td>\n",
       "    </tr>\n",
       "    <tr>\n",
       "      <th>4</th>\n",
       "      <td>005.txt</td>\n",
       "      <td>Pernod takeover talk lifts Domecq Shares in UK...</td>\n",
       "      <td>1486</td>\n",
       "      <td>5.586466</td>\n",
       "    </tr>\n",
       "    <tr>\n",
       "      <th>...</th>\n",
       "      <td>...</td>\n",
       "      <td>...</td>\n",
       "      <td>...</td>\n",
       "      <td>...</td>\n",
       "    </tr>\n",
       "    <tr>\n",
       "      <th>2220</th>\n",
       "      <td>397.txt</td>\n",
       "      <td>BT program to beat dialler scams BT is introdu...</td>\n",
       "      <td>2454</td>\n",
       "      <td>5.747073</td>\n",
       "    </tr>\n",
       "    <tr>\n",
       "      <th>2221</th>\n",
       "      <td>398.txt</td>\n",
       "      <td>Spam e mails tempt net shoppers Computer users...</td>\n",
       "      <td>2200</td>\n",
       "      <td>6.162465</td>\n",
       "    </tr>\n",
       "    <tr>\n",
       "      <th>2222</th>\n",
       "      <td>399.txt</td>\n",
       "      <td>Be careful how you code A new European directi...</td>\n",
       "      <td>6157</td>\n",
       "      <td>5.797552</td>\n",
       "    </tr>\n",
       "    <tr>\n",
       "      <th>2223</th>\n",
       "      <td>400.txt</td>\n",
       "      <td>US cyber security chief resigns The man making...</td>\n",
       "      <td>2260</td>\n",
       "      <td>5.931759</td>\n",
       "    </tr>\n",
       "    <tr>\n",
       "      <th>2224</th>\n",
       "      <td>401.txt</td>\n",
       "      <td>Losing yourself in online gaming Online role p...</td>\n",
       "      <td>15598</td>\n",
       "      <td>5.258935</td>\n",
       "    </tr>\n",
       "  </tbody>\n",
       "</table>\n",
       "<p>2225 rows × 4 columns</p>\n",
       "</div>"
      ],
      "text/plain": [
       "     FileName                                            Content  letterCount  \\\n",
       "0     001.txt  Ad sales boost Time Warner profit Quarterly pr...         2402   \n",
       "1     002.txt  Dollar gains on Greenspan speech The dollar ha...         2187   \n",
       "2     003.txt  Yukos unit buyer faces loan claim The owners o...         1502   \n",
       "3     004.txt  High fuel prices hit BA s profits British Airw...         2211   \n",
       "4     005.txt  Pernod takeover talk lifts Domecq Shares in UK...         1486   \n",
       "...       ...                                                ...          ...   \n",
       "2220  397.txt  BT program to beat dialler scams BT is introdu...         2454   \n",
       "2221  398.txt  Spam e mails tempt net shoppers Computer users...         2200   \n",
       "2222  399.txt  Be careful how you code A new European directi...         6157   \n",
       "2223  400.txt  US cyber security chief resigns The man making...         2260   \n",
       "2224  401.txt  Losing yourself in online gaming Online role p...        15598   \n",
       "\n",
       "       AvgWord  \n",
       "0     5.705463  \n",
       "1     5.564885  \n",
       "2     5.583643  \n",
       "3     5.597468  \n",
       "4     5.586466  \n",
       "...        ...  \n",
       "2220  5.747073  \n",
       "2221  6.162465  \n",
       "2222  5.797552  \n",
       "2223  5.931759  \n",
       "2224  5.258935  \n",
       "\n",
       "[2225 rows x 4 columns]"
      ]
     },
     "execution_count": 46,
     "metadata": {},
     "output_type": "execute_result"
    }
   ],
   "source": [
    "# Testing \n",
    "test.textDataFrame()"
   ]
  },
  {
   "cell_type": "code",
   "execution_count": null,
   "metadata": {},
   "outputs": [],
   "source": []
  }
 ],
 "metadata": {
  "kernelspec": {
   "display_name": "Python 3",
   "language": "python",
   "name": "python3"
  },
  "language_info": {
   "codemirror_mode": {
    "name": "ipython",
    "version": 3
   },
   "file_extension": ".py",
   "mimetype": "text/x-python",
   "name": "python",
   "nbconvert_exporter": "python",
   "pygments_lexer": "ipython3",
   "version": "3.8.5"
  }
 },
 "nbformat": 4,
 "nbformat_minor": 4
}
