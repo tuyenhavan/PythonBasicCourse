{
 "cells": [
  {
   "cell_type": "markdown",
   "metadata": {},
   "source": [
    "# Bài tập củng cố buổi 5: Kiểu dữ liệu dict, iteration, Boolean trong Python"
   ]
  },
  {
   "cell_type": "markdown",
   "metadata": {},
   "source": [
    "**1.Viết một chương trình Python để thêm 1 key ‘c’ vào 1 dict** <br>\n",
    " Dict1= {‘a’:10, ‘b’:20}"
   ]
  },
  {
   "cell_type": "code",
   "execution_count": 7,
   "metadata": {},
   "outputs": [
    {
     "data": {
      "text/plain": [
       "{'a': 10, 'b': 20, 'c': 30}"
      ]
     },
     "execution_count": 7,
     "metadata": {},
     "output_type": "execute_result"
    }
   ],
   "source": [
    "# Creating a assigned dictionary \n",
    "Dict1={\"a\":10, \"b\":20}\n",
    "# Adding a key and random value to the existing dictionary \n",
    "Dict1[\"c\"]=30\n",
    "Dict1"
   ]
  },
  {
   "cell_type": "markdown",
   "metadata": {},
   "source": [
    "**2. Viết một chương trình Python để gộp 3 dict sau thành 1 dict mới:** <br>\n",
    "Dic1= {‘a’:10, ‘b’:20} <br>\n",
    "Dic2= {‘python’:4, ‘member’:15} <br>\n",
    "Dic3= {2:10, 3:15}"
   ]
  },
  {
   "cell_type": "code",
   "execution_count": 28,
   "metadata": {},
   "outputs": [
    {
     "data": {
      "text/plain": [
       "{'a': 10, 'ba': 20, 'python': 4, 'member': 15, 2: 10, 3: 15}"
      ]
     },
     "execution_count": 28,
     "metadata": {},
     "output_type": "execute_result"
    }
   ],
   "source": [
    "Dic1={\"a\":10, \"ba\":20}\n",
    "Dic2= {\"python\":4, \"member\":15}\n",
    "Dic3= {2:10, 3:15}\n",
    "# Using update method \n",
    "Dic1.update(Dic2)\n",
    "Dic1.update(Dic3)\n",
    "Dic1"
   ]
  },
  {
   "cell_type": "code",
   "execution_count": 31,
   "metadata": {},
   "outputs": [
    {
     "data": {
      "text/plain": [
       "{'a': 10, 'ba': 20, 'python': 4, 'member': 15, 2: 10, 3: 15}"
      ]
     },
     "execution_count": 31,
     "metadata": {},
     "output_type": "execute_result"
    }
   ],
   "source": [
    "# Alternatively \n",
    "newDict={**Dic1, **Dic2, **Dic3}\n",
    "newDict"
   ]
  },
  {
   "cell_type": "markdown",
   "metadata": {},
   "source": [
    "**3. Cho một Dict với các value là List. Viết chương trình Python để xóa các phần tử trong value là các list thuộc Dict trên.**<br>\n",
    "Dict1={‘a1’:[10,20,30], ‘b’:[20,30,40], ‘c’:[2,3,4]} <br>\n",
    "(output: Dict1={‘a1’:[], ‘b’:[], ‘c’:[]} <br>"
   ]
  },
  {
   "cell_type": "code",
   "execution_count": 45,
   "metadata": {},
   "outputs": [
    {
     "data": {
      "text/plain": [
       "{'a1': [], 'b': [], 'c': []}"
      ]
     },
     "execution_count": 45,
     "metadata": {},
     "output_type": "execute_result"
    }
   ],
   "source": [
    "Dict1={\"a1\":[10,20,30], \"b\":[20,30,40], \"c\":[2,3,4]}\n",
    "\n",
    "for key in Dict1:\n",
    "    Dict1[key].clear()\n",
    "Dict1  "
   ]
  },
  {
   "cell_type": "code",
   "execution_count": 46,
   "metadata": {},
   "outputs": [
    {
     "data": {
      "text/plain": [
       "{'a1': [], 'b': [], 'c': []}"
      ]
     },
     "execution_count": 46,
     "metadata": {},
     "output_type": "execute_result"
    }
   ],
   "source": [
    "# Alternative\n",
    "Dict1={\"a1\":[10,20,30], \"b\":[20,30,40], \"c\":[2,3,4]}\n",
    "\n",
    "newDict={key:[] for key in Dict1}\n",
    "\n",
    "newDict"
   ]
  },
  {
   "cell_type": "markdown",
   "metadata": {},
   "source": [
    "**4. Cho 1 dict sau: Dict1={‘a’:1, ‘c’:3 , ‘b’:2}** <br>\n",
    "Viết chương trình Python để:<br>\n",
    "a. Tính tổng các item trong dict.<br>\n",
    "b. Xóa bỏ 1 key trong dict.<br>\n",
    "c. Sắp xếp thứ tự trong dict theo key<br>\n",
    "d. Tìm value lớn nhất và nhỏ nhất trong dict.<br>\n",
    "e. Kiểm tra dict trên rỗng hay không.<br>\n",
    "f. Kiểm tra 1 key ‘d’ có nằm trong dict1 hay không."
   ]
  },
  {
   "cell_type": "code",
   "execution_count": 60,
   "metadata": {},
   "outputs": [],
   "source": [
    "Dict1={\"a\":1, \"c\":3 , \"b\":2}"
   ]
  },
  {
   "cell_type": "code",
   "execution_count": 61,
   "metadata": {},
   "outputs": [
    {
     "data": {
      "text/plain": [
       "6"
      ]
     },
     "execution_count": 61,
     "metadata": {},
     "output_type": "execute_result"
    }
   ],
   "source": [
    "# a. Tính tổng các item trong dict.\n",
    "Tong=sum([value for value in Dict1.values()])\n",
    "\n",
    "Tong"
   ]
  },
  {
   "cell_type": "code",
   "execution_count": 62,
   "metadata": {},
   "outputs": [
    {
     "data": {
      "text/plain": [
       "{'c': 3, 'b': 2}"
      ]
     },
     "execution_count": 62,
     "metadata": {},
     "output_type": "execute_result"
    }
   ],
   "source": [
    "# b. Xóa bỏ 1 key trong dict.\n",
    "Dict1.pop(\"a\")\n",
    "\n",
    "Dict1"
   ]
  },
  {
   "cell_type": "code",
   "execution_count": 3,
   "metadata": {},
   "outputs": [
    {
     "data": {
      "text/plain": [
       "[('a', 1), ('b', 2), ('c', 3)]"
      ]
     },
     "execution_count": 3,
     "metadata": {},
     "output_type": "execute_result"
    }
   ],
   "source": [
    "# c. Sắp xếp thứ tự trong dict theo key\n",
    "Dict1={\"a\":1, \"c\":3 , \"b\":2}\n",
    "sortDict=sorted(Dict1.items())\n",
    "sortDict"
   ]
  },
  {
   "cell_type": "code",
   "execution_count": 66,
   "metadata": {},
   "outputs": [
    {
     "name": "stdout",
     "output_type": "stream",
     "text": [
      "Dict1 min is 1 and Dict1 max is 3\n"
     ]
    }
   ],
   "source": [
    "# d. Tìm value lớn nhất và nhỏ nhất trong dict.\n",
    "\n",
    "minValue = min([value for value in Dict1.values()])\n",
    "\n",
    "maxValue=max([value for value in Dict1.values()])\n",
    "\n",
    "print(\"Dict1 min is {} and Dict1 max is {}\".format(minValue, maxValue))"
   ]
  },
  {
   "cell_type": "code",
   "execution_count": 71,
   "metadata": {},
   "outputs": [
    {
     "name": "stdout",
     "output_type": "stream",
     "text": [
      "Is Dict1 empty? False\n"
     ]
    }
   ],
   "source": [
    "# e. Kiểm tra dict trên rỗng hay không.\n",
    "Dict1={\"a\":1, \"c\":3 , \"b\":2}\n",
    "\n",
    "print(\"Is Dict1 empty? \" + str(not Dict1))"
   ]
  },
  {
   "cell_type": "code",
   "execution_count": 72,
   "metadata": {},
   "outputs": [
    {
     "name": "stdout",
     "output_type": "stream",
     "text": [
      "Is Dict1 empty? False\n"
     ]
    }
   ],
   "source": [
    "print(\"Is Dict1 empty? \" + str(not bool(Dict1)))"
   ]
  },
  {
   "cell_type": "code",
   "execution_count": 75,
   "metadata": {},
   "outputs": [
    {
     "name": "stdout",
     "output_type": "stream",
     "text": [
      "Is 'd' in Dict1: False\n"
     ]
    }
   ],
   "source": [
    "# f. Kiểm tra 1 key ‘d’ có nằm trong dict1 hay không.\n",
    "\n",
    "print(\"Is 'd' in Dict1:\", str(\"d\" in Dict1))"
   ]
  }
 ],
 "metadata": {
  "kernelspec": {
   "display_name": "Python 3",
   "language": "python",
   "name": "python3"
  },
  "language_info": {
   "codemirror_mode": {
    "name": "ipython",
    "version": 3
   },
   "file_extension": ".py",
   "mimetype": "text/x-python",
   "name": "python",
   "nbconvert_exporter": "python",
   "pygments_lexer": "ipython3",
   "version": "3.8.5"
  }
 },
 "nbformat": 4,
 "nbformat_minor": 4
}
