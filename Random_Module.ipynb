{
  "nbformat": 4,
  "nbformat_minor": 0,
  "metadata": {
    "colab": {
      "name": "Random Module.ipynb",
      "provenance": []
    },
    "kernelspec": {
      "name": "python3",
      "display_name": "Python 3"
    },
    "language_info": {
      "name": "python"
    }
  },
  "cells": [
    {
      "cell_type": "code",
      "metadata": {
        "id": "4_9RYMsAdZm7"
      },
      "source": [
        "import random"
      ],
      "execution_count": null,
      "outputs": []
    },
    {
      "cell_type": "code",
      "metadata": {
        "id": "jLIVqdfwdkh4",
        "colab": {
          "base_uri": "https://localhost:8080/"
        },
        "outputId": "113450d4-2756-45b3-837d-d14b46431cfb"
      },
      "source": [
        "# Generate a random integer within a range\n",
        "random.randint(10,20)"
      ],
      "execution_count": null,
      "outputs": [
        {
          "output_type": "execute_result",
          "data": {
            "text/plain": [
              "20"
            ]
          },
          "metadata": {},
          "execution_count": 2
        }
      ]
    },
    {
      "cell_type": "code",
      "source": [
        "# Generate a random integer number within a range but a step\n",
        "random.randrange(1,50,step=4)"
      ],
      "metadata": {
        "id": "DaI_-0Q3PycO",
        "colab": {
          "base_uri": "https://localhost:8080/"
        },
        "outputId": "eee4b341-ff7b-417c-ed06-da43cad52bba"
      },
      "execution_count": null,
      "outputs": [
        {
          "output_type": "execute_result",
          "data": {
            "text/plain": [
              "9"
            ]
          },
          "metadata": {},
          "execution_count": 3
        }
      ]
    },
    {
      "cell_type": "code",
      "source": [
        "# Generate a random floating number between 0 and 1\n",
        "random.random()"
      ],
      "metadata": {
        "colab": {
          "base_uri": "https://localhost:8080/"
        },
        "id": "PzSrvXgOppyV",
        "outputId": "aa194a7d-9988-417c-d899-fdd2fe6d1f9f"
      },
      "execution_count": null,
      "outputs": [
        {
          "output_type": "execute_result",
          "data": {
            "text/plain": [
              "0.1671756707045262"
            ]
          },
          "metadata": {},
          "execution_count": 4
        }
      ]
    },
    {
      "cell_type": "code",
      "source": [
        "# Generate a random floating number between a and b\n",
        "random.uniform(2,9)"
      ],
      "metadata": {
        "id": "I1rfcL12q5Eo",
        "colab": {
          "base_uri": "https://localhost:8080/"
        },
        "outputId": "eb035d93-8db5-439e-d152-e2a7bcf35a46"
      },
      "execution_count": null,
      "outputs": [
        {
          "output_type": "execute_result",
          "data": {
            "text/plain": [
              "6.856217657913993"
            ]
          },
          "metadata": {},
          "execution_count": 5
        }
      ]
    },
    {
      "cell_type": "code",
      "source": [
        "# Select a random number from list-like container\n",
        "mlist=[1,3,6,7,8,4,3,3]\n",
        "\n",
        "random.choice(mlist)"
      ],
      "metadata": {
        "colab": {
          "base_uri": "https://localhost:8080/"
        },
        "id": "TR04fv1G_yax",
        "outputId": "a41b4804-42e9-4418-8d2b-55694e7b8015"
      },
      "execution_count": null,
      "outputs": [
        {
          "output_type": "execute_result",
          "data": {
            "text/plain": [
              "3"
            ]
          },
          "metadata": {},
          "execution_count": 6
        }
      ]
    },
    {
      "cell_type": "code",
      "source": [
        "# Select a multiple random numbers with replacement from a list, tuple and string\n",
        "random.choices(mlist,k=8)"
      ],
      "metadata": {
        "colab": {
          "base_uri": "https://localhost:8080/"
        },
        "id": "n878r_e9_8jc",
        "outputId": "4f770087-15c8-4fb2-dd7c-51ecaec6d403"
      },
      "execution_count": null,
      "outputs": [
        {
          "output_type": "execute_result",
          "data": {
            "text/plain": [
              "[4, 3, 4, 3, 1, 6, 3, 3]"
            ]
          },
          "metadata": {},
          "execution_count": 7
        }
      ]
    },
    {
      "cell_type": "code",
      "source": [
        "# Select a multiple random numbers without replacement from a list, tuple,set and strings\n",
        "random.sample(mlist,k=5)"
      ],
      "metadata": {
        "colab": {
          "base_uri": "https://localhost:8080/"
        },
        "id": "UMjtjcfRAIUX",
        "outputId": "65527227-d8bf-479d-aca9-a31c1b20e02a"
      },
      "execution_count": null,
      "outputs": [
        {
          "output_type": "execute_result",
          "data": {
            "text/plain": [
              "[1, 4, 3, 7, 6]"
            ]
          },
          "metadata": {},
          "execution_count": 8
        }
      ]
    },
    {
      "cell_type": "code",
      "source": [
        "# Generate a random float number with a bias towards to a certain number\n",
        "import matplotlib.pyplot as plt\n",
        "newList=[]\n",
        "\n",
        "for i in range(1000):\n",
        "  newList.append(random.triangular(1,99,mode=10)) # We can see more numbers towards 10\n",
        "\n",
        "plt.hist(newList)\n",
        "plt.show()"
      ],
      "metadata": {
        "colab": {
          "base_uri": "https://localhost:8080/",
          "height": 265
        },
        "id": "qKQgezpZAdCm",
        "outputId": "5aed2204-288d-4418-b9ec-94e6890744d2"
      },
      "execution_count": null,
      "outputs": [
        {
          "output_type": "display_data",
          "data": {
            "image/png": "[encoded data removed]",
            "text/plain": [
              "<Figure size 432x288 with 1 Axes>"
            ]
          },
          "metadata": {
            "needs_background": "light"
          }
        }
      ]
    },
    {
      "cell_type": "code",
      "source": [
        "# Generate a random number with normal distribution\n",
        "normalList=[]\n",
        "\n",
        "for i in range(1000):\n",
        "  normalList.append(random.normalvariate(mu=5,sigma=8))# alpha =mean, beta = standard deviation\n",
        "plt.hist(normalList, bins=20, color=\"blue\",linewidth=0.5, edgecolor=\"white\")\n",
        "plt.show()"
      ],
      "metadata": {
        "colab": {
          "base_uri": "https://localhost:8080/",
          "height": 265
        },
        "id": "8r8geGp2A83U",
        "outputId": "fc2c8a5c-742c-4a27-c675-e09119dd0356"
      },
      "execution_count": null,
      "outputs": [
        {
          "output_type": "display_data",
          "data": {
            "image/png": "[encoded data removed]",
            "text/plain": [
              "<Figure size 432x288 with 1 Axes>"
            ]
          },
          "metadata": {
            "needs_background": "light"
          }
        }
      ]
    },
    {
      "cell_type": "code",
      "source": [
        "# Generate a number with exponential distribution\n",
        "expoList=[]\n",
        "\n",
        "for i in range(10000):\n",
        "  expoList.append(random.expovariate(4))\n",
        "plt.hist(expoList,bins=100, linewidth=0.5, color=\"blue\", edgecolor=\"white\")\n",
        "plt.show()"
      ],
      "metadata": {
        "colab": {
          "base_uri": "https://localhost:8080/",
          "height": 265
        },
        "id": "UBduzWvOB3tP",
        "outputId": "63644cde-f32a-47f8-f9ac-de6aac5b350e"
      },
      "execution_count": null,
      "outputs": [
        {
          "output_type": "display_data",
          "data": {
            "image/png": "[encoded data removed]",
            "text/plain": [
              "<Figure size 432x288 with 1 Axes>"
            ]
          },
          "metadata": {
            "needs_background": "light"
          }
        }
      ]
    },
    {
      "cell_type": "code",
      "source": [
        "# Beta variate \n",
        "betaList=[]\n",
        "\n",
        "for i in range(10000):\n",
        "  betaList.append(random.betavariate(alpha=5,beta=8)) # each iteration returns a value between 0 and 1\n",
        "plt.hist(betaList, linewidth=0.5, edgecolor=\"white\",color=\"blue\", bins=50)\n",
        "plt.show()"
      ],
      "metadata": {
        "colab": {
          "base_uri": "https://localhost:8080/",
          "height": 265
        },
        "id": "D6XFMxFaClw5",
        "outputId": "2a25f0be-358c-49d2-c4e2-00cc944d9a60"
      },
      "execution_count": null,
      "outputs": [
        {
          "output_type": "display_data",
          "data": {
            "image/png": "[encoded data removed]",
            "text/plain": [
              "<Figure size 432x288 with 1 Axes>"
            ]
          },
          "metadata": {
            "needs_background": "light"
          }
        }
      ]
    },
    {
      "cell_type": "code",
      "source": [
        "# Generate a random number with gamma distribution\n",
        "gammaList=[]\n",
        "\n",
        "for i in range(1000):\n",
        "  gammaList.append(random.gammavariate(alpha=5,beta=10))\n",
        "plt.hist(gammaList, linewidth=0.5, edgecolor=\"white\",color=\"blue\",bins=50)\n",
        "plt.show()"
      ],
      "metadata": {
        "colab": {
          "base_uri": "https://localhost:8080/",
          "height": 265
        },
        "id": "zMQIk0GEDuVa",
        "outputId": "16c87ad7-190f-4377-85df-3a9730befedd"
      },
      "execution_count": null,
      "outputs": [
        {
          "output_type": "display_data",
          "data": {
            "image/png": "[encoded data removed]",
            "text/plain": [
              "<Figure size 432x288 with 1 Axes>"
            ]
          },
          "metadata": {
            "needs_background": "light"
          }
        }
      ]
    },
    {
      "cell_type": "code",
      "source": [
        "# Generate a random number with Gauss distribution\n",
        "gaussList=[]\n",
        "\n",
        "for i in range(1000):\n",
        "  gaussList.append(random.gauss(mu=5,sigma=3))\n",
        "\n",
        "plt.hist(gaussList,bins=20, color=\"blue\",linewidth=0.5, edgecolor=\"white\")\n",
        "plt.show()"
      ],
      "metadata": {
        "colab": {
          "base_uri": "https://localhost:8080/",
          "height": 265
        },
        "id": "U5JlIUvbEwpv",
        "outputId": "0940423b-47ab-486b-d78c-5c06c34890d3"
      },
      "execution_count": null,
      "outputs": [
        {
          "output_type": "display_data",
          "data": {
            "image/png": "[encoded data removed]",
            "text/plain": [
              "<Figure size 432x288 with 1 Axes>"
            ]
          },
          "metadata": {
            "needs_background": "light"
          }
        }
      ]
    },
    {
      "cell_type": "code",
      "source": [
        ""
      ],
      "metadata": {
        "id": "eLbzg8x6cy0G"
      },
      "execution_count": 7,
      "outputs": []
    }
  ]
}