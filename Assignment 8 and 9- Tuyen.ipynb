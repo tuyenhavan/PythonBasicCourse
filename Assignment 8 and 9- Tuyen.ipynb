{
 "cells": [
  {
   "cell_type": "markdown",
   "metadata": {},
   "source": [
    "# Exercise 8"
   ]
  },
  {
   "cell_type": "markdown",
   "metadata": {},
   "source": [
    "1. Viết 1 hàm Python để tìm số lớn nhất trong 3 số."
   ]
  },
  {
   "cell_type": "code",
   "execution_count": 40,
   "metadata": {},
   "outputs": [
    {
     "data": {
      "text/plain": [
       "6"
      ]
     },
     "execution_count": 40,
     "metadata": {},
     "output_type": "execute_result"
    }
   ],
   "source": [
    "# Đầu vào là 1 iterable object như list, tuple \n",
    "def maxNumber(a):\n",
    "    randomNum=a[0]\n",
    "    for i in a:\n",
    "        if i> randomNum:\n",
    "            randomNum=i\n",
    "    return randomNum\n",
    "\n",
    "maxNumber([4,6,4])"
   ]
  },
  {
   "cell_type": "markdown",
   "metadata": {},
   "source": [
    "2. Cho lst=[8, 2, 3, 5, -2, 6] <br>\n",
    "Viết hàm Python để: <br>\n",
    "a. Tính tổng các phần tử trong list trên <br>\n",
    "b. Tính tích các phần tử trong list trên."
   ]
  },
  {
   "cell_type": "code",
   "execution_count": 41,
   "metadata": {},
   "outputs": [
    {
     "data": {
      "text/plain": [
       "22"
      ]
     },
     "execution_count": 41,
     "metadata": {},
     "output_type": "execute_result"
    }
   ],
   "source": [
    "# a. Hàm Tính tổng \n",
    "\n",
    "mlist=[8, 2, 3, 5, -2, 6]\n",
    "\n",
    "def sumNumber(a):\n",
    "    num=0\n",
    "    for i in a:\n",
    "        num+=i\n",
    "    return num\n",
    "        \n",
    "sumNumber(mlist)"
   ]
  },
  {
   "cell_type": "code",
   "execution_count": 42,
   "metadata": {},
   "outputs": [
    {
     "data": {
      "text/plain": [
       "-2880"
      ]
     },
     "execution_count": 42,
     "metadata": {},
     "output_type": "execute_result"
    }
   ],
   "source": [
    "# b. Tinh tích các phần tử trong list\n",
    "\n",
    "def timeNumber(a):\n",
    "    num=1\n",
    "    for i in a:\n",
    "        num*=i\n",
    "    return num\n",
    "timeNumber(mlist)"
   ]
  },
  {
   "cell_type": "markdown",
   "metadata": {},
   "source": [
    "3. Viết hàm trong python để nhập vào 1 chuỗi và tính số ký tự in hoa, in thường trong chuỗi. <br>\n",
    "S= “This is Python Class at NIIT Ha Noi”<br>"
   ]
  },
  {
   "cell_type": "code",
   "execution_count": 43,
   "metadata": {},
   "outputs": [],
   "source": [
    "def wordCount(string):\n",
    "    lowercase=[]\n",
    "    uppercase=[]\n",
    "    for i in string:\n",
    "        if i==\" \":\n",
    "            pass\n",
    "        else:\n",
    "            if i.isupper():\n",
    "                uppercase.append(i)\n",
    "            else:\n",
    "                lowercase.append(i)\n",
    "    print(\"Number of lowercase words is {} and No. of uppercase is {}\".format(len(lowercase), len(uppercase)))"
   ]
  },
  {
   "cell_type": "code",
   "execution_count": 44,
   "metadata": {},
   "outputs": [
    {
     "name": "stdout",
     "output_type": "stream",
     "text": [
      "Number of lowercase words is 19 and No. of uppercase is 9\n"
     ]
    }
   ],
   "source": [
    "S= \"This is Python Class at NIIT Ha Noi\"\n",
    "wordCount(S)"
   ]
  },
  {
   "cell_type": "markdown",
   "metadata": {},
   "source": [
    "4. Viết hàm Python để đảo ngược 1 chuỗi ban đầu.<br>\n",
    "S= \"1234abcd\""
   ]
  },
  {
   "cell_type": "code",
   "execution_count": 45,
   "metadata": {},
   "outputs": [
    {
     "data": {
      "text/plain": [
       "'dcba4321'"
      ]
     },
     "execution_count": 45,
     "metadata": {},
     "output_type": "execute_result"
    }
   ],
   "source": [
    "def reverseString(string):\n",
    "    result=list(reversed(string))\n",
    "    result=\"\".join(result)\n",
    "    return result\n",
    "S=\"1234abcd\"\n",
    "reverseString(S)"
   ]
  },
  {
   "cell_type": "markdown",
   "metadata": {},
   "source": [
    "5. Viết hàm Python để nhập vào 1 list và trả về 1 list mới chỉ chứa các phần tử khác nhau trong list ban đầu. <br>\n",
    "Lst= [1,2,2,2,3,3,3,3,4,5,6]"
   ]
  },
  {
   "cell_type": "code",
   "execution_count": 46,
   "metadata": {},
   "outputs": [
    {
     "name": "stdout",
     "output_type": "stream",
     "text": [
      "Vui lòng nhập số phần tử trong list như 2 hoặc 10, etc: 5\n",
      "Nhập giá trị của list: 55\n",
      "Nhập giá trị của list: 4\n",
      "Nhập giá trị của list: 4\n",
      "Nhập giá trị của list: 5\n",
      "Nhập giá trị của list: 58\n"
     ]
    },
    {
     "data": {
      "text/plain": [
       "[55, 58]"
      ]
     },
     "execution_count": 46,
     "metadata": {},
     "output_type": "execute_result"
    }
   ],
   "source": [
    "def difference(list1,list2):\n",
    "    mlist=[]\n",
    "    for item in list1:\n",
    "        if item not in list2:\n",
    "            mlist.append(item)\n",
    "    return mlist\n",
    "\n",
    "list1=[]\n",
    "\n",
    "n=int(input(\"Vui lòng nhập số phần tử trong list như 2 hoặc 10, etc: \"))\n",
    "\n",
    "for i in range(0,n):\n",
    "    num=int(input(\"Nhập giá trị của list: \"))\n",
    "    list1.append(num)\n",
    "    \n",
    "list2= [1,2,2,2,3,3,3,3,4,5,6]\n",
    "difference(list1, list2)"
   ]
  },
  {
   "cell_type": "markdown",
   "metadata": {},
   "source": [
    "# Exercise 9: "
   ]
  },
  {
   "cell_type": "markdown",
   "metadata": {},
   "source": [
    "1. Viết chương trình Python để tạo 2 class trống: Student và Marks. Hãy tạo một số thể hiện (đối tượng) và kiểm tra xem chúng có phải là thể hiện của các lớp đã tạo hay không. Ngoài ra, hãy kiểm tra xem các lớp đã nói có phải là lớp con của lớp đối tượng được xây dựng sẵn hay không."
   ]
  },
  {
   "cell_type": "code",
   "execution_count": 47,
   "metadata": {},
   "outputs": [],
   "source": [
    "class Student():\n",
    "    pass\n",
    "class Marks():\n",
    "    pass"
   ]
  },
  {
   "cell_type": "markdown",
   "metadata": {},
   "source": [
    "2. Viết một class có tên là Student với hai thuộc tính student_name, mark. Sửa đổi các giá trị thuộc tính của lớp và in các giá trị ban đầu và đã sửa đổi của các thuộc tính trên. "
   ]
  },
  {
   "cell_type": "code",
   "execution_count": 73,
   "metadata": {},
   "outputs": [],
   "source": [
    "class Student():\n",
    "    def __init__(self, student_name, mark):\n",
    "        self.student_name=student_name\n",
    "        self.mark=mark\n",
    "    def display(self):\n",
    "        print(\"Student name: {}, Mark: {}\".format(self.student_name, self.mark))"
   ]
  },
  {
   "cell_type": "code",
   "execution_count": 74,
   "metadata": {},
   "outputs": [
    {
     "name": "stdout",
     "output_type": "stream",
     "text": [
      "######################## Giá trị ban đầu\n",
      "Student name: Ha Van Tuyen, Mark: 20\n"
     ]
    }
   ],
   "source": [
    "print(\"######################## Giá trị ban đầu\")\n",
    "Lop=Student(\"Ha Van Tuyen\",20)\n",
    "\n",
    "Lop.display()"
   ]
  },
  {
   "cell_type": "code",
   "execution_count": 75,
   "metadata": {},
   "outputs": [
    {
     "name": "stdout",
     "output_type": "stream",
     "text": [
      "######################################### Chỉnh sửa hoặc thêm giá trí thuộc tính\n",
      "Student name: Nguyen Huy, Mark: 1\n"
     ]
    }
   ],
   "source": [
    "print(\"######################################### Chỉnh sửa hoặc thêm giá trí thuộc tính\")\n",
    "Lop.student_name=\"Nguyen Huy\"\n",
    "Lop.mark=1\n",
    "Lop.display()"
   ]
  },
  {
   "cell_type": "markdown",
   "metadata": {},
   "source": [
    "3. Viết một class có tên là Student với hai thuộc tính student_id, student_name. Thêm một thuộc tính mới student_class. Tạo một hàm để hiển thị toàn bộ thuộc tính và giá trị của chúng trong lớp Student."
   ]
  },
  {
   "cell_type": "code",
   "execution_count": 85,
   "metadata": {},
   "outputs": [],
   "source": [
    "class Student():\n",
    "    def __init__(self, student_id, student_name):\n",
    "        self.student_id=student_id\n",
    "        self.student_name=student_name\n",
    "    def displayContent(self):\n",
    "        for attr in self.__dict__.keys():\n",
    "            value=getattr(self, attr)\n",
    "            print(\"{}: {}\".format(attr, value))"
   ]
  },
  {
   "cell_type": "code",
   "execution_count": 88,
   "metadata": {},
   "outputs": [
    {
     "name": "stdout",
     "output_type": "stream",
     "text": [
      "################ Ban đầu\n",
      "student_id: 10\n",
      "student_name: Ha Van\n",
      "##################### Thêm thuộc tính và hiển thị\n",
      "student_id: 10\n",
      "student_name: Ha Van\n",
      "student_class: Python Basics\n"
     ]
    }
   ],
   "source": [
    "print(\"################ Ban đầu\")\n",
    "Lop=Student(10,\"Ha Van\")\n",
    "Lop.displayContent()\n",
    "print(\"##################### Thêm thuộc tính và hiển thị\")\n",
    "Lop.student_class=\"Python Basics\"\n",
    "Lop.displayContent()"
   ]
  },
  {
   "cell_type": "markdown",
   "metadata": {},
   "source": [
    "4. Viết một class có tên là Student với hai thuộc tính student_id, student_name. Thêm một thuộc tính mới student_class và hiển thị toàn bộ các thuộc tính và các giá trị của chúng. Bây giờ, loại bỏ thuộc tính student_name và hiển thị toàn bộ thuộc tính với các giá trị."
   ]
  },
  {
   "cell_type": "code",
   "execution_count": 68,
   "metadata": {},
   "outputs": [],
   "source": [
    "class Student():\n",
    "    def __init__(self, student_id, student_name):\n",
    "        self.student_id=student_id\n",
    "        self.student_name=student_name\n",
    "    def displayContent(self):\n",
    "        for attr in self.__dict__.keys():\n",
    "            value=getattr(self, attr)\n",
    "            print(\"{}: {}\".format(attr, value))"
   ]
  },
  {
   "cell_type": "code",
   "execution_count": 70,
   "metadata": {},
   "outputs": [
    {
     "name": "stdout",
     "output_type": "stream",
     "text": [
      "############ Nguyen gốc\n",
      "student_id: 10\n",
      "student_name: Ha Van\n",
      "############# thêm student_class\n",
      "student_id: 10\n",
      "student_name: Ha Van\n",
      "student_class: K42QLDD\n"
     ]
    }
   ],
   "source": [
    "print(\"############ Nguyen gốc\")\n",
    "Lop=Student(10,\"Ha Van\")\n",
    "Lop.displayContent()\n",
    "print(\"############# thêm student_class\")\n",
    "Lop.student_class=\"K42QLDD\"\n",
    "Lop.displayContent()"
   ]
  },
  {
   "cell_type": "code",
   "execution_count": 71,
   "metadata": {},
   "outputs": [
    {
     "name": "stdout",
     "output_type": "stream",
     "text": [
      "######## Xoá thuộc tính\n",
      "student_id: 10\n",
      "student_class: K42QLDD\n"
     ]
    }
   ],
   "source": [
    "print(\"######## Xoá thuộc tính\")\n",
    "delattr(Lop, \"student_name\")\n",
    "Lop.displayContent()"
   ]
  }
 ],
 "metadata": {
  "kernelspec": {
   "display_name": "Python 3",
   "language": "python",
   "name": "python3"
  },
  "language_info": {
   "codemirror_mode": {
    "name": "ipython",
    "version": 3
   },
   "file_extension": ".py",
   "mimetype": "text/x-python",
   "name": "python",
   "nbconvert_exporter": "python",
   "pygments_lexer": "ipython3",
   "version": "3.8.5"
  }
 },
 "nbformat": 4,
 "nbformat_minor": 4
}
