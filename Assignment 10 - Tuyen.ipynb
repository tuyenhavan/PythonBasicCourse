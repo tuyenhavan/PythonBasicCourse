{
 "cells": [
  {
   "cell_type": "markdown",
   "metadata": {},
   "source": [
    "# Bài tập củng cố buổi 10\n",
    "## Lập trình hướng đối tượng trong Python (OOP)"
   ]
  },
  {
   "cell_type": "markdown",
   "metadata": {},
   "source": [
    "- 1. Viết một lớp Python có tên là Student và hiển thị kiểu của nó. Đồng thời, hiển thị các key của thuộc tính __dict__ và giá trị của thuộc tính __module__ của class Sinh viên."
   ]
  },
  {
   "cell_type": "code",
   "execution_count": 65,
   "metadata": {},
   "outputs": [
    {
     "name": "stdout",
     "output_type": "stream",
     "text": [
      "Kiểu class: <class '__main__.Student'>\n",
      "Thuộc tính dict : dict_keys(['__module__', '__dict__', '__weakref__', '__doc__'])\n"
     ]
    }
   ],
   "source": [
    "class Student():\n",
    "    pass\n",
    "print(\"Kiểu class: {}\".format(type(Student())))\n",
    "\n",
    "print(\"Thuộc tính dict :\", Student.__dict__.keys())"
   ]
  },
  {
   "cell_type": "code",
   "execution_count": 66,
   "metadata": {},
   "outputs": [
    {
     "name": "stdout",
     "output_type": "stream",
     "text": [
      "Thuộc tính module:  __main__\n"
     ]
    }
   ],
   "source": [
    "print(\"Thuộc tính module: \", Student.__module__)"
   ]
  },
  {
   "cell_type": "markdown",
   "metadata": {},
   "source": [
    "- 2. Viết một lớp Python có hai phương thức get_String và print_String. get_String chấp nhận một chuỗi từ người dùng và print_String in chuỗi đó bằng chữ hoa."
   ]
  },
  {
   "cell_type": "code",
   "execution_count": 74,
   "metadata": {},
   "outputs": [
    {
     "name": "stdout",
     "output_type": "stream",
     "text": [
      "Please enter your name: Ha van Tuyen\n",
      "HA VAN TUYEN\n"
     ]
    }
   ],
   "source": [
    "class String():\n",
    "    def get_String(self):\n",
    "        self.string=input(\"Please enter your name: \")\n",
    "    def print_String(self):\n",
    "        print(self.string.upper())\n",
    "        \n",
    "lop1=String()\n",
    "\n",
    "lop1.get_String()\n",
    "\n",
    "lop1.print_String()"
   ]
  },
  {
   "cell_type": "markdown",
   "metadata": {},
   "source": [
    "3. Viết chương trình python:<br>\n",
    "a. Tạo một lớp Vehicle với các thuộc tính max_speed và bản sao tổng số.<br>\n",
    "b. Tạo một lớp Vehicle không có biến và phương thức nào cả.<br>\n",
    "c. Tạo một lớp con Bus kế thừa mọi biến và phương thức của lớp cha Vehicle.<br>\n",
    "d. Hãy đưa ra đối số sức chứa của Bus.seating_capacity() một giá trị mặc định là 50.<br>\n",
    "e. Xác định mỗi đối tượng của Bus thuộc lớp nào.<br>\n",
    "f. Xác định nếu School_bus cũng là một bản sao của lớp Vehicle."
   ]
  },
  {
   "cell_type": "code",
   "execution_count": 55,
   "metadata": {},
   "outputs": [
    {
     "name": "stdout",
     "output_type": "stream",
     "text": [
      "Brand: Honda, Max speed: 30 and mileage: 100\n"
     ]
    }
   ],
   "source": [
    "# a. Tạo một lớp Vehicle với các thuộc tính max_speed và bản sao tổng số.\n",
    "\n",
    "class Vehicle():\n",
    "    def __init__(self,brand, max_speed, mileage):\n",
    "        self.max_speed=max_speed\n",
    "        self.mileage=mileage\n",
    "        self.brand=brand\n",
    "lop1=Vehicle(\"Honda\",30,100)\n",
    "\n",
    "print(\"Brand: {}, Max speed: {} and mileage: {}\".format(lop1.brand,lop1.max_speed,lop1.mileage))"
   ]
  },
  {
   "cell_type": "code",
   "execution_count": 16,
   "metadata": {},
   "outputs": [],
   "source": [
    "# b. Tạo một lớp Vehicle không có biến và phương thức nào cả.\n",
    "\n",
    "class Vehicle():\n",
    "    pass"
   ]
  },
  {
   "cell_type": "code",
   "execution_count": 98,
   "metadata": {},
   "outputs": [
    {
     "name": "stdout",
     "output_type": "stream",
     "text": [
      "Honda != 30\n"
     ]
    },
    {
     "data": {
      "text/plain": [
       "1500"
      ]
     },
     "execution_count": 98,
     "metadata": {},
     "output_type": "execute_result"
    }
   ],
   "source": [
    "# c. Tạo một lớp con Bus kế thừa mọi biến và phương thức của lớp cha Vehicle.\n",
    "class Vehicle():\n",
    "    def __init__(self, max_speed, mileage):\n",
    "        self.mileage=mileage\n",
    "        self.max_speed=max_speed\n",
    "        \n",
    "    def capacity(self, seat):\n",
    "        return self.max_speed*seat # for example\n",
    "\n",
    "class Bus(Vehicle):\n",
    "    def __init__(self, brand, max_speed, mileage):\n",
    "        self.brand=brand\n",
    "        Vehicle.__init__(self,max_speed, mileage)\n",
    "    def displayContent(self):\n",
    "        print(self.brand, \"!=\", self.max_speed)\n",
    "lopBus=Bus(\"Honda\", 30,20)\n",
    "\n",
    "lopBus.displayContent()\n",
    "\n",
    "lopBus.capacity(50)"
   ]
  },
  {
   "cell_type": "code",
   "execution_count": 95,
   "metadata": {},
   "outputs": [
    {
     "data": {
      "text/plain": [
       "50"
      ]
     },
     "execution_count": 95,
     "metadata": {},
     "output_type": "execute_result"
    }
   ],
   "source": [
    "# d. Hãy đưa ra đối số sức chứa của Bus.seating_capacity() một giá trị mặc định là 50.\n",
    "class Bus(Vehicle):\n",
    "    def __init__(self, brand, max_speed, mileage):\n",
    "        self.brand=brand\n",
    "        Vehicle.__init__(self,max_speed, mileage)\n",
    "    def seating_capacity(self, seat=50):\n",
    "        self.seat=seat\n",
    "        return self.seat\n",
    "lopBus=Bus(\"School Bus\", 30,40)\n",
    "lopBus.seating_capacity()"
   ]
  },
  {
   "cell_type": "code",
   "execution_count": 96,
   "metadata": {},
   "outputs": [
    {
     "data": {
      "text/plain": [
       "50"
      ]
     },
     "execution_count": 96,
     "metadata": {},
     "output_type": "execute_result"
    }
   ],
   "source": [
    "lopBus.seat"
   ]
  },
  {
   "cell_type": "markdown",
   "metadata": {},
   "source": [
    "4. Sử dụng python hướng đối tượng hãy viết chương trình quản lý sinh viên, gồm cácchức năng chính như sau: <br>\n",
    "1 Khởi đầu là danh sách sinh viên rỗng.<br>\n",
    "2 Thông tin lưu trữ gồm mã sinh viên và tên sinh viên <br>\n",
    "3 Cho phép người dùng chọn chức năng như sau: <br>\n",
    "    - Thêm sinh viên<br>\n",
    "    - Xóa sinh viên<br>\n",
    "    - Sửa sinh viên<br>\n",
    "    - Xem danh sách sinh viên"
   ]
  },
  {
   "cell_type": "code",
   "execution_count": 103,
   "metadata": {},
   "outputs": [],
   "source": [
    "class StudentManagement:\n",
    "\n",
    "    def __init__(self,maSV=None,tenSV=None):\n",
    "        self.tenSV = tenSV\n",
    "        self.maSV = maSV\n",
    "        if self.tenSV and self.maSV:\n",
    "            self.danhsachSV = {maSV:tenSV}\n",
    "        else:\n",
    "            self.danhsachSV = {}\n",
    "            \n",
    "    def addSV(self,maSV,tenSV):\n",
    "        if maSV not in self.danhsachSV:\n",
    "            self.danhsachSV[maSV] = tenSV\n",
    "        else:\n",
    "            print (\"Mã sinh viên đã tồn tại!\")\n",
    "            \n",
    "    def editSV(self,maSV,tenSV):\n",
    "        if maSV in self.danhsachSV:\n",
    "            self.danhsachSV[maSV] = tenSV\n",
    "        else:\n",
    "            print (\"Mã sinh viên chưa tồn tại, làm ơn thêm mã vào danh sách\")\n",
    "            \n",
    "    def delSV(self,maSV):\n",
    "        if maSV in self.danhsachSV:\n",
    "            del self.danhsachSV[maSV]\n",
    "        else:\n",
    "            print (\"Không tìm thấy dữ liệu với mã sinh viên {}, mời thử lại\".format(maSV))\n",
    "            \n",
    "            \n",
    "    def displayDSSV(self):\n",
    "        print (\"STT\\tSVID\\tFullname\")\n",
    "        for stt,eachMaSV in enumerate(self.danhsachSV.keys()):\n",
    "            print (\"{}\\t{}\\t{}\".format(stt+1,eachMaSV,self.danhsachSV[eachMaSV])) "
   ]
  },
  {
   "cell_type": "code",
   "execution_count": 108,
   "metadata": {},
   "outputs": [
    {
     "name": "stdout",
     "output_type": "stream",
     "text": [
      "STT\tSVID\tFullname\n",
      "1\t123\tHa Van Tuan\n"
     ]
    }
   ],
   "source": [
    "test=StudentManagement() # Khởi đầu là danh sách sinh viên rỗng.\n",
    "test.addSV(123, \"Ha Van Tuyen\") # Thêm SV\n",
    "test.addSV(124,\"Nguyen Van Huy\")\n",
    "# Edit SV\n",
    "test.editSV(123, \"Ha Van Tuan\")\n",
    "# Delete students\n",
    "test.delSV(124)\n",
    "# Hiển thị danh sách SV\n",
    "test.displayDSSV()"
   ]
  },
  {
   "cell_type": "code",
   "execution_count": null,
   "metadata": {},
   "outputs": [],
   "source": []
  }
 ],
 "metadata": {
  "kernelspec": {
   "display_name": "Python 3",
   "language": "python",
   "name": "python3"
  },
  "language_info": {
   "codemirror_mode": {
    "name": "ipython",
    "version": 3
   },
   "file_extension": ".py",
   "mimetype": "text/x-python",
   "name": "python",
   "nbconvert_exporter": "python",
   "pygments_lexer": "ipython3",
   "version": "3.8.5"
  }
 },
 "nbformat": 4,
 "nbformat_minor": 4
}
