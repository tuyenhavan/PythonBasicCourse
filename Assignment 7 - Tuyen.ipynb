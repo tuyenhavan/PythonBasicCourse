{
 "cells": [
  {
   "cell_type": "markdown",
   "metadata": {},
   "source": [
    "# Bài tập củng cố buổi 7. Vòng lặp trong Python"
   ]
  },
  {
   "cell_type": "markdown",
   "metadata": {},
   "source": [
    "1. Viết chương trình Python để in mẫu chữ cái in hoa ‘A’"
   ]
  },
  {
   "cell_type": "code",
   "execution_count": 1,
   "metadata": {},
   "outputs": [
    {
     "name": "stdout",
     "output_type": "stream",
     "text": [
      "Nhập số bạn muốn: 12\n",
      "  * * * * * * * * * *   \n",
      "*                     * \n",
      "*                     * \n",
      "*                     * \n",
      "*                     * \n",
      "*                     * \n",
      "* * * * * * * * * * * * \n",
      "*                     * \n",
      "*                     * \n",
      "*                     * \n",
      "*                     * \n",
      "*                     * \n"
     ]
    }
   ],
   "source": [
    "# Nhập số tự nhiên từ 3 đến 20\n",
    "n=int(input(\"Nhập số bạn muốn: \"))\n",
    "\n",
    "for row in range(n):\n",
    "    for col in range(n):\n",
    "        if ((row==0 and (col!=0 and col!=n-1)) or (row!=0 and col==0) or (row!=0 and col==n-1) or \n",
    "            (row==n//2 and (col!=0 and col!=n-1))):\n",
    "            print(\"*\", end=\" \")\n",
    "        else:\n",
    "            print(\" \", end=\" \")\n",
    "    print()"
   ]
  },
  {
   "cell_type": "markdown",
   "metadata": {},
   "source": [
    "2. Viết chương trình Python để in mẫu chữ cái in hoa ‘R\""
   ]
  },
  {
   "cell_type": "code",
   "execution_count": 2,
   "metadata": {},
   "outputs": [
    {
     "name": "stdout",
     "output_type": "stream",
     "text": [
      "Nhập số bạn muốn: 12\n",
      "  * * * * * * * * * *   \n",
      "*                     * \n",
      "*                     * \n",
      "*                     * \n",
      "*                     * \n",
      "*                     * \n",
      "* * * * * * * * * * *   \n",
      "*             *         \n",
      "*               *       \n",
      "*                 *     \n",
      "*                   *   \n",
      "*                     * \n"
     ]
    }
   ],
   "source": [
    "# Nhập số tự nhiên từ 3 đến 20 để đạt chữ R đẹp mắt\n",
    "n=int(input(\"Nhập số bạn muốn: \"))\n",
    "\n",
    "for row in range(n):\n",
    "    for col in range(n):\n",
    "        if ((row==0 and (col!=0 and col!=n-1)) or (row!=0 and col==0) or ((row!=0 and row<n//2) and col==n-1) or \n",
    "            (row==n//2 and (col!=0 and col!=n-1)) or (row==col and row>n//2)):\n",
    "            \n",
    "            print(\"*\", end=\" \")\n",
    "        else:\n",
    "            print(\" \", end=\" \")\n",
    "    print()"
   ]
  },
  {
   "cell_type": "markdown",
   "metadata": {},
   "source": [
    "3. Viết chương trình python để in tất cả các số nguyên tố từ 0 đến 100 và in ra có"
   ]
  },
  {
   "cell_type": "code",
   "execution_count": null,
   "metadata": {},
   "outputs": [],
   "source": [
    "count=0\n",
    "for n in range(0,101):\n",
    "    if n>1:\n",
    "        for i in range(2, n):\n",
    "            if n%i==0:\n",
    "                break\n",
    "        else:\n",
    "            count+=1\n",
    "            print(n, end=\",\")\n",
    "            \n",
    "print(\"\\nCó {} số nguyên tố từ 0 đến 100\".format(count))"
   ]
  },
  {
   "cell_type": "markdown",
   "metadata": {},
   "source": [
    "4. Viết chương trình Python mà đầu vào là một chuỗi các số nhị phân gồm 4 chữ số và in ra 1 list các số chia hết cho 5"
   ]
  },
  {
   "cell_type": "code",
   "execution_count": null,
   "metadata": {},
   "outputs": [],
   "source": [
    "dayNhiPhan=input(\"Nhập dãy số nhị phân gồm 4 số và cách nhau bởi dấu phẩy (ví dụ: 1010,0011): \").split(\",\")\n",
    "\n",
    "ketQua=[x for x in dayNhiPhan if int(x, 2)%5==0]\n",
    "\n",
    "ketQua"
   ]
  },
  {
   "cell_type": "markdown",
   "metadata": {},
   "source": [
    "5. Viết chương trình Python để kiểm tra tính hợp lệ của mật khẩu (nhập từ người dùng). <br>\n",
    "Yêu cầu của mật khẩu:<br>\n",
    "Ít nhất 1 chữ cái giữa [a-z] và 1 chữ cái giữa [A-Z].<br>\n",
    "Ít nhất 1 số trong khoảng từ [0-9].<br>\n",
    "Ít nhất 1 ký tự từ [$ # @].<br>\n",
    "Độ dài tối thiểu 6 ký tự.<br>\n",
    "Độ dài tối đa 16 ký tự.<br>"
   ]
  },
  {
   "cell_type": "code",
   "execution_count": 1,
   "metadata": {},
   "outputs": [
    {
     "name": "stdout",
     "output_type": "stream",
     "text": [
      "Please enter your password. Your password should include at least one lowercase and one uppercase letters, one number and between 6 and 16 characters: hansHa89$\n",
      "Mật khẩu hợp lệ\n"
     ]
    }
   ],
   "source": [
    "import string\n",
    "number=[str(x) for x in range(0,10)]\n",
    "lowercase=[x for x in string.ascii_lowercase]\n",
    "uppercase=[x for x in string.ascii_uppercase]\n",
    "special=[\"$\", \"#\", \"@\"]\n",
    "while True:\n",
    "    pw=input(\"Please enter your password. Your password should include at least one lowercase and one uppercase letters, one number and between 6 and 16 characters: \")\n",
    "    pwLen=len(pw)\n",
    "    if (pwLen >=6 and pwLen<=16):\n",
    "        for x in pw:\n",
    "            if x in number:\n",
    "                dk1=True\n",
    "                break\n",
    "            else:\n",
    "                dk1=False\n",
    "        for x in pw:\n",
    "            if x in lowercase:\n",
    "                dk2=True\n",
    "                break\n",
    "            else:\n",
    "                dk2=False\n",
    "        for x in pw:\n",
    "            if x in uppercase:\n",
    "                dk3=True\n",
    "                break\n",
    "            else:\n",
    "                dk3=False\n",
    "        for x in special:\n",
    "            if x in special:\n",
    "                dk4=True\n",
    "            else:\n",
    "                dk4=False\n",
    "    if (dk1==True and dk2==True and dk3==True and dk4==True):\n",
    "        print(\"Mật khẩu hợp lệ\")\n",
    "        break\n",
    "    "
   ]
  },
  {
   "cell_type": "code",
   "execution_count": null,
   "metadata": {},
   "outputs": [],
   "source": []
  },
  {
   "cell_type": "code",
   "execution_count": null,
   "metadata": {},
   "outputs": [],
   "source": [
    "while True:\n",
    "    pw = input('Nhập mật khẩu: ')\n",
    "    special = ['$','#','@']\n",
    "\n",
    "    if len(pw) < 6 or len(pw) > 16:\n",
    "        print('Mật khẩu phải dài từ 6 đến 16 ký tự')\n",
    "\n",
    "    if not any(char.islower() for char in pw):\n",
    "        print('Mật khẩu phải chứa ít nhất 1 chữ cái trong khoảng (a-z)')\n",
    "\n",
    "    if not any(char.isupper() for char in pw):\n",
    "        print('Mật khẩu phải chứa ít nhất 1 chữ cái trong khoảng (A-Z)')\n",
    "\n",
    "    if not any(char.isdigit() for char in pw):\n",
    "        print('Mật khẩu phải chứa ít nhất 1 số trong khoảng (1-9)')\n",
    "\n",
    "    if not any(char in special for char in pw):\n",
    "        print('Phải chứa ít nhất 1 ký tự ($,#,@)')\n",
    "\n",
    "    else:\n",
    "        print('Mật khẩu hợp lệ')\n",
    "        break"
   ]
  },
  {
   "cell_type": "code",
   "execution_count": null,
   "metadata": {},
   "outputs": [],
   "source": [
    "any(char.isdigit() for char in \"Havababdbdbdbd\")"
   ]
  },
  {
   "cell_type": "code",
   "execution_count": 10,
   "metadata": {},
   "outputs": [
    {
     "name": "stdout",
     "output_type": "stream",
     "text": [
      "*\n",
      "*\n",
      "*\n",
      "*\n",
      "*\n",
      "*\n",
      "* * * * "
     ]
    }
   ],
   "source": [
    "for i in range(10):\n",
    "    if i>5:\n",
    "        print(\"*\", end=\" \")\n",
    "    else:\n",
    "        print(\"*\")"
   ]
  },
  {
   "cell_type": "code",
   "execution_count": null,
   "metadata": {},
   "outputs": [],
   "source": []
  }
 ],
 "metadata": {
  "kernelspec": {
   "display_name": "Python 3",
   "language": "python",
   "name": "python3"
  },
  "language_info": {
   "codemirror_mode": {
    "name": "ipython",
    "version": 3
   },
   "file_extension": ".py",
   "mimetype": "text/x-python",
   "name": "python",
   "nbconvert_exporter": "python",
   "pygments_lexer": "ipython3",
   "version": "3.8.5"
  }
 },
 "nbformat": 4,
 "nbformat_minor": 4
}
