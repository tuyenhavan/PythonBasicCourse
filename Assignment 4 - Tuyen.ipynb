{
 "cells": [
  {
   "cell_type": "markdown",
   "metadata": {},
   "source": [
    "##### 1. Cho 2 list sau:\n",
    " List1= [1,3,5,7,9]<br>\n",
    " List2= [1,2,4,6,7,8]<br>\n",
    " Viết chương trình Python để cho ra kết quả là 1 list gồm các phần tử khác nhau giữa 2 list trên."
   ]
  },
  {
   "cell_type": "code",
   "execution_count": null,
   "metadata": {},
   "outputs": [],
   "source": [
    "# Way 1 using list comprehension \n",
    "list1=[1,3,5,7,9]\n",
    "list2=[1,2,4,6,7,8]\n",
    "\n",
    "comList=[ item for item in list1 if item!=1 and item!=7] + [item for item in list2 if item!=1 and item!=7]\n",
    "\n",
    "comList\n",
    "# Way 2 using indexing or remove or pop, but it is quite long\n",
    "list1.remove(1)\n",
    "list1.remove(7)\n",
    "list2.remove(1)\n",
    "list2.remove(7)\n",
    "\n",
    "list1.extend(list2)\n",
    "list1"
   ]
  },
  {
   "cell_type": "code",
   "execution_count": 2,
   "metadata": {},
   "outputs": [
    {
     "data": {
      "text/plain": [
       "[2, 3, 4, 5, 6, 8, 9]"
      ]
     },
     "execution_count": 2,
     "metadata": {},
     "output_type": "execute_result"
    }
   ],
   "source": [
    "# Way 3 using set operator \n",
    "list1=[1,3,5,7,9]\n",
    "list2=[1,2,4,6,7,8]\n",
    "set1=set(list1)\n",
    "set2=set(list2)\n",
    "\n",
    "comList=set1.symmetric_difference(set2)\n",
    "list(comList)\n"
   ]
  },
  {
   "cell_type": "markdown",
   "metadata": {},
   "source": [
    "##### 2. Cho list sau:\n",
    "List1= [‘p’, ‘q’] <br>\n",
    "Viết chương trình python để cho ra 1 list mới như sau: <br>\n",
    "New_list= [‘p1’, ‘q1’, ‘p2’, ‘q2’, ‘p3’, ‘q3’, ‘p4’, ‘q4’] <br>"
   ]
  },
  {
   "cell_type": "code",
   "execution_count": 5,
   "metadata": {},
   "outputs": [
    {
     "data": {
      "text/plain": [
       "['p1', 'q1', 'p2', 'q2', 'p3', 'q3', 'p4', 'q4']"
      ]
     },
     "execution_count": 5,
     "metadata": {},
     "output_type": "execute_result"
    }
   ],
   "source": [
    "# using for loop\n",
    "list1=[\"p\",\"q\"]\n",
    "\n",
    "newList=[]\n",
    "\n",
    "for index in range(1,5):\n",
    "    p=list1[0]+str(index)\n",
    "    q=list1[1]+str(index)\n",
    "    newList.append(p)\n",
    "    newList.append(q)\n",
    "newList"
   ]
  },
  {
   "cell_type": "code",
   "execution_count": 17,
   "metadata": {},
   "outputs": [
    {
     "data": {
      "text/plain": [
       "['p1', 'q1', 'p2', 'q2', 'p3', 'q3', 'p4', 'q4']"
      ]
     },
     "execution_count": 17,
     "metadata": {},
     "output_type": "execute_result"
    }
   ],
   "source": [
    "# Semilarly using list comprehension\n",
    "\n",
    "newList=[item for l in [[\"p%s\"%i, \"q%s\"%i] for i in range(1,5)] for item in l]\n",
    "\n",
    "newList"
   ]
  },
  {
   "cell_type": "markdown",
   "metadata": {},
   "source": [
    "##### 3. Viết chương trình python để chuyển giá trị gốc là string sang 1 tuple:\n",
    "Chuỗi gốc: ‘python 3.0’ <br>\n",
    "Tuple: ('p', 'y', 't', 'h', 'o', 'n', '3', '.', '0')"
   ]
  },
  {
   "cell_type": "code",
   "execution_count": 3,
   "metadata": {},
   "outputs": [
    {
     "data": {
      "text/plain": [
       "('p', 'y', 't', 'h', 'o', 'n', ' ', '3', '.', '0')"
      ]
     },
     "execution_count": 3,
     "metadata": {},
     "output_type": "execute_result"
    }
   ],
   "source": [
    "string=\"python 3.0\"\n",
    "\n",
    "tuple(list(string))"
   ]
  },
  {
   "cell_type": "markdown",
   "metadata": {},
   "source": [
    "##### 4. Viết chương trình Python để chuyển 1 tuple chứa các phần tử string sang 1 tuple mới\n",
    "mà các phần tử thuộc kiểu số: <br>\n",
    "Tuple gốc: (('333', '33'), ('1416', '55')) <br>\n",
    "Tuple mới: ((333, 33), (1416, 55))"
   ]
  },
  {
   "cell_type": "code",
   "execution_count": 6,
   "metadata": {},
   "outputs": [
    {
     "data": {
      "text/plain": [
       "(('333', '33'), ('1416', '55'))"
      ]
     },
     "execution_count": 6,
     "metadata": {},
     "output_type": "execute_result"
    }
   ],
   "source": [
    "tupleGoc=((\"333\",\"33\"),(\"1416\",\"55\"))\n",
    "\n",
    "tupleGoc"
   ]
  },
  {
   "cell_type": "code",
   "execution_count": 15,
   "metadata": {},
   "outputs": [
    {
     "data": {
      "text/plain": [
       "((333, 33), (1416, 55))"
      ]
     },
     "execution_count": 15,
     "metadata": {},
     "output_type": "execute_result"
    }
   ],
   "source": [
    "# Way 1 using for loop\n",
    "conList=[]\n",
    "for first in tupleGoc:\n",
    "    temList=[]\n",
    "    for second in first:\n",
    "        value=int(second)\n",
    "        temList.append(value)\n",
    "    conList.append(tuple(temList))\n",
    "conList\n",
    "newTuple=tuple(conList)\n",
    "newTuple"
   ]
  },
  {
   "cell_type": "code",
   "execution_count": 30,
   "metadata": {},
   "outputs": [
    {
     "data": {
      "text/plain": [
       "((333, 33), (1416, 55))"
      ]
     },
     "execution_count": 30,
     "metadata": {},
     "output_type": "execute_result"
    }
   ],
   "source": [
    "# Way 2 using list comprehension\n",
    "newTuple=tuple([(int(x),int(y)) for x, y in tupleGoc])\n",
    "newTuple"
   ]
  },
  {
   "cell_type": "markdown",
   "metadata": {},
   "source": [
    "##### 5. Cho list sau:\n",
    "List1= [(10, 20, 40), (40, 50, 60), (70, 80, 90)] <br>\n",
    "Viết chương trình python để thay thế giá trị cuối cùng trong Tuple trong 1 list: 90 thành 100"
   ]
  },
  {
   "cell_type": "code",
   "execution_count": 3,
   "metadata": {},
   "outputs": [
    {
     "data": {
      "text/plain": [
       "[(10, 20, 40), (40, 50, 60), (70, 80, 100)]"
      ]
     },
     "execution_count": 3,
     "metadata": {},
     "output_type": "execute_result"
    }
   ],
   "source": [
    "list1=[(10, 20, 40), (40, 50, 60), (70, 80, 90)]\n",
    "\n",
    "newList=[]\n",
    "for x,y,z in list1:\n",
    "    if z==90:\n",
    "        z=100\n",
    "        newList.append((x,y,z))\n",
    "    else:\n",
    "        newList.append((x,y,z))\n",
    "newList"
   ]
  },
  {
   "cell_type": "markdown",
   "metadata": {},
   "source": [
    "##### 6. Cho 2 set sau:\n",
    "Set1= {1,2,3,4,5} <br>\n",
    "Set 2= {4,5,6,7,8} <br>\n",
    "Viết phương trình python để xóa đi trong set1 các phần tử là giao của 2 set"
   ]
  },
  {
   "cell_type": "code",
   "execution_count": 4,
   "metadata": {},
   "outputs": [
    {
     "data": {
      "text/plain": [
       "{4, 5}"
      ]
     },
     "execution_count": 4,
     "metadata": {},
     "output_type": "execute_result"
    }
   ],
   "source": [
    "set1= {1,2,3,4,5}\n",
    "set2= {4,5,6,7,8}\n",
    "\n",
    "set1.intersection(set2)"
   ]
  },
  {
   "cell_type": "code",
   "execution_count": null,
   "metadata": {},
   "outputs": [],
   "source": []
  }
 ],
 "metadata": {
  "kernelspec": {
   "display_name": "Python 3",
   "language": "python",
   "name": "python3"
  },
  "language_info": {
   "codemirror_mode": {
    "name": "ipython",
    "version": 3
   },
   "file_extension": ".py",
   "mimetype": "text/x-python",
   "name": "python",
   "nbconvert_exporter": "python",
   "pygments_lexer": "ipython3",
   "version": "3.8.5"
  }
 },
 "nbformat": 4,
 "nbformat_minor": 4
}
