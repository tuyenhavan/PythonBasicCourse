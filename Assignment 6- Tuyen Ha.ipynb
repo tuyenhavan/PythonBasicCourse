{
 "cells": [
  {
   "cell_type": "markdown",
   "metadata": {},
   "source": [
    "# Bài tập củng cố buổi 6 <br> \n",
    "# Cấu trúc rẽ nhánh trong Python"
   ]
  },
  {
   "cell_type": "markdown",
   "metadata": {},
   "source": [
    "1. Cho 1 list: list1= [12, 15, 32, 42, 55, 75, 122, 132, 150, 180] <br>\n",
    "Viết chương trình Python để có được list chỉ gồm các phần tử chia hết cho 5."
   ]
  },
  {
   "cell_type": "code",
   "execution_count": 2,
   "metadata": {},
   "outputs": [
    {
     "name": "stdout",
     "output_type": "stream",
     "text": [
      "15\n",
      "55\n",
      "75\n",
      "150\n",
      "180\n"
     ]
    }
   ],
   "source": [
    "list1= [12, 15, 32, 42, 55, 75, 122, 132, 150, 180]\n",
    "# First try\n",
    "for item in list1:\n",
    "    if item % 5 ==0:\n",
    "        print(item)"
   ]
  },
  {
   "cell_type": "code",
   "execution_count": 4,
   "metadata": {},
   "outputs": [
    {
     "data": {
      "text/plain": [
       "[15, 55, 75, 150, 180]"
      ]
     },
     "execution_count": 4,
     "metadata": {},
     "output_type": "execute_result"
    }
   ],
   "source": [
    "# Second try\n",
    "\n",
    "ketqua=[item for item in list1 if item % 5 ==0]\n",
    "\n",
    "ketqua"
   ]
  },
  {
   "cell_type": "markdown",
   "metadata": {},
   "source": [
    "2. Viết một chương trình Python để chuyển tên một tháng thành số ngày của tháng đó. <br>\n",
    "(ví dụ: input là April thì output là 30 ngày)"
   ]
  },
  {
   "cell_type": "code",
   "execution_count": 89,
   "metadata": {},
   "outputs": [
    {
     "name": "stdout",
     "output_type": "stream",
     "text": [
      "Nhập tháng bạn mong muốn (viết bằng chữ như April hoặc June): June\n",
      "June có 30 ngày\n"
     ]
    }
   ],
   "source": [
    "import calendar \n",
    "import datetime\n",
    "\n",
    "# Làm cách thủ công dùng if, elif và else\n",
    "# Toạ ra tháng và số ngày trong tháng cho năm 2021\n",
    "months ={}\n",
    "\n",
    "for i in range(1,13):\n",
    "    \n",
    "    numMonth=datetime.date(2021, i,1)\n",
    "    days=calendar.monthrange(numMonth.year, numMonth.month)[1]\n",
    "    monthrange=numMonth.strftime('%B')\n",
    "    months[monthrange]=days\n",
    "# Viết if elif và else\n",
    "yourMonth=input(\"Nhập tháng bạn mong muốn (viết bằng chữ như April hoặc June): \").title()\n",
    "\n",
    "if yourMonth==\"January\":\n",
    "    print(\"January có {} ngày\".format(months[\"January\"]))\n",
    "elif yourMonth==\"February\":\n",
    "    print(\"February có {} ngày\".format(months[\"February\"]))\n",
    "elif yourMonth==\"March\":\n",
    "    print(\"March có {} ngày\".format(months[\"March\"]))\n",
    "elif yourMonth==\"April\":\n",
    "    print(\"April có {} ngày\".format(months[\"April\"]))\n",
    "elif yourMonth==\"May\":\n",
    "    print(\"May có {} ngày\".format(months[\"May\"]))\n",
    "elif yourMonth==\"June\":\n",
    "    print(\"June có {} ngày\".format(months[\"June\"]))\n",
    "elif yourMonth==\"July\":\n",
    "    print(\"July có {} ngày\".format(months[\"July\"]))\n",
    "elif yourMonth==\"August\":\n",
    "    print(\"August có {} ngày\".format(months[\"August\"]))\n",
    "elif yourMonth==\"September\":\n",
    "    print(\"September có {} ngày\".format(months[\"September\"]))\n",
    "elif yourMonth==\"October\":\n",
    "    print(\"October có {} ngày\".format(months[\"October\"]))\n",
    "elif yourMonth==\"November\":\n",
    "    print(\"November có {} ngày\".format(months[\"November\"]))\n",
    "elif yourMonth==\"December\":\n",
    "    print(\"December có {} ngày\".format(months[\"December\"]))\n",
    "else:\n",
    "    print(\"Bạn có thể đã nhập sai tháng. Nhập lại!\")"
   ]
  },
  {
   "cell_type": "code",
   "execution_count": 83,
   "metadata": {},
   "outputs": [
    {
     "name": "stdout",
     "output_type": "stream",
     "text": [
      "Nhập tháng của bạn (bằng số): 05\n",
      "Nhập năm của bạn (bằng số): 2021\n",
      "Số ngày của tháng 5 là 31 ngày\n"
     ]
    }
   ],
   "source": [
    "# Có thể dùng thư viện calendar và datetime\n",
    "import calendar\n",
    "import datetime\n",
    "month=input(\"Nhập tháng của bạn (bằng số): \")\n",
    "year=input(\"Nhập năm của bạn (bằng số): \")\n",
    "if int(month)>=1 and int(month)<=12:\n",
    "    dateString=month.lstrip(\"0\")+\"-\"+year\n",
    "    dateObject=datetime.datetime.strptime(dateString, \"%m-%Y\")\n",
    "    noDay=calendar.monthrange(dateObject.year, dateObject.month)[1]\n",
    "    print(\"Số ngày của tháng {} là {} ngày\".format(dateObject.month, noDay))\n",
    "else:\n",
    "    print(\"Sai bạn ơi! Tháng phải từ 1 đến 12. Nhập lại\")"
   ]
  },
  {
   "cell_type": "markdown",
   "metadata": {},
   "source": [
    "3. Viết một chương trình Python để output là ngày tiếp theo của input là ngày,tháng, năm đã cho bất kỳ."
   ]
  },
  {
   "cell_type": "code",
   "execution_count": 36,
   "metadata": {},
   "outputs": [
    {
     "name": "stdout",
     "output_type": "stream",
     "text": [
      "Nhập ngày: 04\n",
      "Nhập tháng: 09\n",
      "Nhập năm: 2020\n",
      "Ngày tháng năm của bạn: 05-09-2020\n"
     ]
    }
   ],
   "source": [
    "import datetime \n",
    "\n",
    "ngay=input(\"Nhập ngày: \")\n",
    "thang=input(\"Nhập tháng: \")\n",
    "nam=input(\"Nhập năm: \")\n",
    "\n",
    "stringDate=\"{}-{}-{}\".format(nam, thang.lstrip(\"0\"), ngay.lstrip(\"0\"))\n",
    "\n",
    "timeDelta=datetime.timedelta(days=1)\n",
    "\n",
    "dateObject=datetime.datetime.strptime(stringDate,\"%Y-%m-%d\") + timeDelta\n",
    "dateString=datetime.datetime.strftime(dateObject, \"%d-%m-%Y\")\n",
    "\n",
    "print(\"Ngày tháng năm của bạn: {}\".format(dateString))"
   ]
  },
  {
   "cell_type": "markdown",
   "metadata": {},
   "source": [
    "4. Một học viên sẽ không được tham dự kì thi nếu họ không đi học >= 25% số buổi. Nhưng nếu học viên đó nghỉ có lý do về sức khỏe thì vẫn được thi. <br>\n",
    "Viết chương trình python để kiểm tra xem 1 học viên có được thi hay không?"
   ]
  },
  {
   "cell_type": "code",
   "execution_count": 91,
   "metadata": {},
   "outputs": [
    {
     "name": "stdout",
     "output_type": "stream",
     "text": [
      "Số buổi nghỉ của bạn: 24\n",
      "Tông số buổi học: 45\n",
      "Lý do nghỉ do sức khoẻ? (đúng hay không): kho\n",
      "Xin lỗi. Bạn không đủ điều kiện dự thi!\n"
     ]
    }
   ],
   "source": [
    "buoiNghi=int(input(\"Số buổi nghỉ của bạn: \"))\n",
    "tongHoc=int(input(\"Tông số buổi học: \"))\n",
    "\n",
    "phanTram=(buoiNghi/tongHoc)*100\n",
    "\n",
    "if phanTram>=25:\n",
    "    sucKhoe=input(\"Lý do nghỉ do sức khoẻ? (đúng hay không): \").upper()\n",
    "    if sucKhoe==\"ĐÚNG\":\n",
    "        print(\"Bạn được phép tham dự kì thi\")\n",
    "    else:\n",
    "        print(\"Xin lỗi. Bạn không đủ điều kiện dự thi!\")\n",
    "else:\n",
    "    print(\"Bạn đủ điều kiện tham gia kì thi!\")\n",
    "        "
   ]
  },
  {
   "cell_type": "code",
   "execution_count": null,
   "metadata": {},
   "outputs": [],
   "source": []
  }
 ],
 "metadata": {
  "kernelspec": {
   "display_name": "Python 3",
   "language": "python",
   "name": "python3"
  },
  "language_info": {
   "codemirror_mode": {
    "name": "ipython",
    "version": 3
   },
   "file_extension": ".py",
   "mimetype": "text/x-python",
   "name": "python",
   "nbconvert_exporter": "python",
   "pygments_lexer": "ipython3",
   "version": "3.8.5"
  }
 },
 "nbformat": 4,
 "nbformat_minor": 4
}
