{
 "cells": [
  {
   "cell_type": "code",
   "execution_count": 1,
   "metadata": {},
   "outputs": [],
   "source": [
    "import ee\n",
    "import geemap as emap"
   ]
  },
  {
   "cell_type": "code",
   "execution_count": null,
   "metadata": {},
   "outputs": [],
   "source": [
    "ee.Initialize()\n",
    "ee.Authenticate()"
   ]
  },
  {
   "cell_type": "markdown",
   "metadata": {},
   "source": [
    "**Load the shapefile points data and Sentinel-2 Collection**"
   ]
  },
  {
   "cell_type": "code",
   "execution_count": 4,
   "metadata": {},
   "outputs": [],
   "source": [
    "point=ee.FeatureCollection(\"users/miketu72/Test_point\")"
   ]
  },
  {
   "cell_type": "code",
   "execution_count": 7,
   "metadata": {},
   "outputs": [],
   "source": [
    "sentinel2=ee.ImageCollection(\"COPERNICUS/S2_SR\").filterDate(\"2020-01-01\",\"2020-12-31\").\\\n",
    "filterMetadata(\"CLOUDY_PIXEL_PERCENTAGE\", \"less_than\",30).filterBounds(point).first()"
   ]
  },
  {
   "cell_type": "markdown",
   "metadata": {},
   "source": [
    "**Extract raster values from the `sentinel2` image**"
   ]
  },
  {
   "cell_type": "code",
   "execution_count": 8,
   "metadata": {},
   "outputs": [],
   "source": [
    "data=sentinel2.reduceRegion(reducer=ee.Reducer.mean(),geometry=point.geometry(), scale= 10)"
   ]
  },
  {
   "cell_type": "code",
   "execution_count": 70,
   "metadata": {},
   "outputs": [
    {
     "data": {
      "text/plain": [
       "{'AOT': 420,\n",
       " 'B1': 813.3958333333334,\n",
       " 'B11': 1740.0833333333333,\n",
       " 'B12': 1343.875,\n",
       " 'B2': 893.0833333333334,\n",
       " 'B3': 1177.0833333333333,\n",
       " 'B4': 1161.4166666666667,\n",
       " 'B5': 1500.2708333333333,\n",
       " 'B6': 1847.125,\n",
       " 'B7': 1969.9791666666667,\n",
       " 'B8': 2037.6875,\n",
       " 'B8A': 2008.1875,\n",
       " 'B9': 2053.6041666666665,\n",
       " 'MSK_CLDPRB': 4.958333333333333,\n",
       " 'MSK_SNWPRB': 0,\n",
       " 'QA10': 0,\n",
       " 'QA20': 0,\n",
       " 'QA60': 0,\n",
       " 'SCL': 6.1875,\n",
       " 'TCI_B': 91.4375,\n",
       " 'TCI_G': 120.16666666666667,\n",
       " 'TCI_R': 118.14583333333333,\n",
       " 'WVP': 1576.8125}"
      ]
     },
     "execution_count": 70,
     "metadata": {},
     "output_type": "execute_result"
    }
   ],
   "source": [
    "data.getInfo() # It should extract values at all points. However, only one point extracted."
   ]
  },
  {
   "cell_type": "markdown",
   "metadata": {},
   "source": [
    "Please add your script if you can help me to extract all points in `point` shapefile."
   ]
  },
  {
   "cell_type": "code",
   "execution_count": null,
   "metadata": {},
   "outputs": [],
   "source": []
  }
 ],
 "metadata": {
  "kernelspec": {
   "display_name": "Python 3",
   "language": "python",
   "name": "python3"
  },
  "language_info": {
   "codemirror_mode": {
    "name": "ipython",
    "version": 3
   },
   "file_extension": ".py",
   "mimetype": "text/x-python",
   "name": "python",
   "nbconvert_exporter": "python",
   "pygments_lexer": "ipython3",
   "version": "3.8.5"
  }
 },
 "nbformat": 4,
 "nbformat_minor": 4
}
