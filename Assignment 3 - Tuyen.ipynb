{
 "cells": [
  {
   "cell_type": "markdown",
   "metadata": {},
   "source": [
    "# Bài Tập về nhà ngày 17/05/2021"
   ]
  },
  {
   "cell_type": "markdown",
   "metadata": {},
   "source": [
    "- 1. Hãy dùng các phương thức chuỗi đã học, xử lý chuỗi s cho ra chuỗi S mới dưới đây:\n",
    "- s=‘aabcLoppython04 oOpdnjkaa’\n",
    "- S=‘Lop Python 04-OOP’"
   ]
  },
  {
   "cell_type": "code",
   "execution_count": 1,
   "metadata": {},
   "outputs": [
    {
     "data": {
      "text/plain": [
       "'Lop Python 04-OOP'"
      ]
     },
     "execution_count": 1,
     "metadata": {},
     "output_type": "execute_result"
    }
   ],
   "source": [
    "s=\"aabcLoppython04 oOpdnjkaa\"\n",
    "\n",
    "s1=s[4:-6].replace(\" \", \"-\")\n",
    "s2=s1[0:3] + \" \" + s1[3:9].title() + \" \" + s1[-6:].upper()\n",
    "s2"
   ]
  },
  {
   "cell_type": "markdown",
   "metadata": {},
   "source": [
    "##### 2. Cho biến s với giá trị chuỗi sau:\n",
    "- s= ‘hoc hanh’\n",
    "- a. Dựa trên các kiến thức đã học phần kiểu dữ liệu (chuỗi toán tử, xử lý chuỗi, định dạng, phương thức của chuỗi), code dựa trên biến s để cho ra màn hình dòng\n",
    "- “Muon gioi phai hoc\n",
    "    Muon hoc thi phai “hanh””\n",
    "- (code theo nhiều cách khác nhau)\n",
    " - b. Căn lề trái, phải, giữa, 2 dòng trên với ký tự ‘*’ và cách lề 10 ký tự."
   ]
  },
  {
   "cell_type": "code",
   "execution_count": 6,
   "metadata": {},
   "outputs": [
    {
     "name": "stdout",
     "output_type": "stream",
     "text": [
      "Muon gioi thi phai hoc \n",
      "Muon hoc thi phai \"hanh\"\n"
     ]
    }
   ],
   "source": [
    "# Cách 1\n",
    "s=\"hoc hanh\"\n",
    "print(\"Muon gioi thi phai {0} \\nMuon {0} thi phai \\\"{1}\\\"\".format(s[0:3],s[4:]))"
   ]
  },
  {
   "cell_type": "code",
   "execution_count": 17,
   "metadata": {},
   "outputs": [
    {
     "name": "stdout",
     "output_type": "stream",
     "text": [
      "Muon goi thi phai hoc \n",
      "Muon hoc thi phai \"hanh\"\n"
     ]
    }
   ],
   "source": [
    "# Cách 2\n",
    "s=\"hoc hanh\"\n",
    "print(f\"Muon goi thi phai {s[0:3]} \\nMuon {s[0:3]} thi phai \\\"{s[4:]}\\\"\")"
   ]
  },
  {
   "cell_type": "code",
   "execution_count": 16,
   "metadata": {},
   "outputs": [
    {
     "data": {
      "text/plain": [
       "[1, 2, 3, 4, 5, 6]"
      ]
     },
     "execution_count": 16,
     "metadata": {},
     "output_type": "execute_result"
    }
   ],
   "source": [
    "s1=[1,2,3,4,5,6,7]\n",
    "s1[0:-1]"
   ]
  },
  {
   "cell_type": "code",
   "execution_count": 73,
   "metadata": {},
   "outputs": [
    {
     "name": "stdout",
     "output_type": "stream",
     "text": [
      " **********Muon gioi thi phai hoc \n",
      "Muon hoc thi phai \"hanh\"**********\n"
     ]
    }
   ],
   "source": [
    "# Căn lề trái\n",
    "\n",
    "myString=\"Muon gioi thi phai {0} \\nMuon {0} thi phai \\\"{1}\\\"\".format(s[0:3],s[4:])\n",
    "star=10*\"*\"\n",
    "\n",
    "print(\" {}{:*<58}\".format(star,myString))"
   ]
  },
  {
   "cell_type": "code",
   "execution_count": 67,
   "metadata": {},
   "outputs": [
    {
     "name": "stdout",
     "output_type": "stream",
     "text": [
      "**********Muon gioi thi phai hoc \n",
      "Muon hoc thi phai \"hanh\" **********\n"
     ]
    }
   ],
   "source": [
    "# Căn lề phải\n",
    "\n",
    "myString=\"Muon gioi thi phai {0} \\nMuon {0} thi phai \\\"{1}\\\"\".format(s[0:3],s[4:])\n",
    "star=10*\"*\"\n",
    "\n",
    "print(\"{:*>58} {}\".format(myString,star))"
   ]
  },
  {
   "cell_type": "code",
   "execution_count": 71,
   "metadata": {},
   "outputs": [
    {
     "name": "stdout",
     "output_type": "stream",
     "text": [
      "******Muon gioi thi phai hoc \n",
      "Muon hoc thi phai \"hanh\"******\n"
     ]
    }
   ],
   "source": [
    "# Căn lề giữa\n",
    "\n",
    "myString=\"Muon gioi thi phai {0} \\nMuon {0} thi phai \\\"{1}\\\"\".format(s[0:3],s[4:])\n",
    "star=10*\"*\"\n",
    "\n",
    "print(\"{:*^60}\".format(myString))"
   ]
  },
  {
   "cell_type": "code",
   "execution_count": null,
   "metadata": {},
   "outputs": [],
   "source": []
  }
 ],
 "metadata": {
  "kernelspec": {
   "display_name": "Python 3",
   "language": "python",
   "name": "python3"
  },
  "language_info": {
   "codemirror_mode": {
    "name": "ipython",
    "version": 3
   },
   "file_extension": ".py",
   "mimetype": "text/x-python",
   "name": "python",
   "nbconvert_exporter": "python",
   "pygments_lexer": "ipython3",
   "version": "3.8.5"
  }
 },
 "nbformat": 4,
 "nbformat_minor": 4
}
