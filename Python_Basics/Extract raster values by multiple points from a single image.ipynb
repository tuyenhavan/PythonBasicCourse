{
 "cells": [
  {
   "cell_type": "code",
   "execution_count": 3,
   "metadata": {},
   "outputs": [],
   "source": [
    "import ee\n",
    "import geemap as emap"
   ]
  },
  {
   "cell_type": "code",
   "execution_count": 6,
   "metadata": {},
   "outputs": [
    {
     "data": {
      "text/html": [
       "<p>To authorize access needed by Earth Engine, open the following\n",
       "        URL in a web browser and follow the instructions:</p>\n",
       "        <p><a href=https://accounts.google.com/o/oauth2/auth?client_id=517222506229-vsmmajv00ul0bs7p89v5m89qs8eb9359.apps.googleusercontent.com&scope=https%3A%2F%2Fwww.googleapis.com%2Fauth%2Fearthengine+https%3A%2F%2Fwww.googleapis.com%2Fauth%2Fdevstorage.full_control&redirect_uri=urn%3Aietf%3Awg%3Aoauth%3A2.0%3Aoob&response_type=code&code_challenge=zS-t0zcShVsJIjrqetfvZ59hcG4BZ6t7XR6eHLBC4jg&code_challenge_method=S256>https://accounts.google.com/o/oauth2/auth?client_id=517222506229-vsmmajv00ul0bs7p89v5m89qs8eb9359.apps.googleusercontent.com&scope=https%3A%2F%2Fwww.googleapis.com%2Fauth%2Fearthengine+https%3A%2F%2Fwww.googleapis.com%2Fauth%2Fdevstorage.full_control&redirect_uri=urn%3Aietf%3Awg%3Aoauth%3A2.0%3Aoob&response_type=code&code_challenge=zS-t0zcShVsJIjrqetfvZ59hcG4BZ6t7XR6eHLBC4jg&code_challenge_method=S256</a></p>\n",
       "        <p>The authorization workflow will generate a code, which you\n",
       "        should paste in the box below</p>\n",
       "        "
      ],
      "text/plain": [
       "<IPython.core.display.HTML object>"
      ]
     },
     "metadata": {},
     "output_type": "display_data"
    },
    {
     "name": "stdout",
     "output_type": "stream",
     "text": [
      "Enter verification code: 4/1AX4XfWgKQbrLk65gB9a1i87ccVhwKNJJuABtAceWyXyWgd9aJXoNGs0uxNA\n",
      "\n",
      "Successfully saved authorization token.\n"
     ]
    }
   ],
   "source": [
    "ee.Initialize()\n",
    "ee.Authenticate()"
   ]
  },
  {
   "cell_type": "code",
   "execution_count": 7,
   "metadata": {},
   "outputs": [
    {
     "data": {
      "application/vnd.jupyter.widget-view+json": {
       "model_id": "f115a976fb1f47a7b5972fb6e996058b",
       "version_major": 2,
       "version_minor": 0
      },
      "text/plain": [
       "Map(center=[40, -100], controls=(WidgetControl(options=['position', 'transparent_bg'], widget=HBox(children=(T…"
      ]
     },
     "metadata": {},
     "output_type": "display_data"
    }
   ],
   "source": [
    "Map=emap.Map()\n",
    "Map"
   ]
  },
  {
   "cell_type": "markdown",
   "metadata": {},
   "source": [
    "**Load the shapefile points data and Sentinel-2 Collection**"
   ]
  },
  {
   "cell_type": "code",
   "execution_count": 8,
   "metadata": {},
   "outputs": [],
   "source": [
    "point=ee.FeatureCollection(\"users/miketu72/Test_point\")"
   ]
  },
  {
   "cell_type": "code",
   "execution_count": 9,
   "metadata": {},
   "outputs": [
    {
     "data": {
      "application/vnd.jupyter.widget-view+json": {
       "model_id": "f115a976fb1f47a7b5972fb6e996058b",
       "version_major": 2,
       "version_minor": 0
      },
      "text/plain": [
       "Map(bottom=1851.0, center=[21.24149464251615, 105.49841825544672], controls=(WidgetControl(options=['position'…"
      ]
     },
     "metadata": {},
     "output_type": "display_data"
    }
   ],
   "source": [
    "Map.centerObject(point,10)\n",
    "Map.addLayer(point,{},\"Point\")\n",
    "Map"
   ]
  },
  {
   "cell_type": "code",
   "execution_count": 10,
   "metadata": {},
   "outputs": [],
   "source": [
    "sentinel2=ee.ImageCollection(\"COPERNICUS/S2_SR\").filterDate(\"2020-01-01\",\"2020-12-31\").\\\n",
    "filterMetadata(\"CLOUDY_PIXEL_PERCENTAGE\", \"less_than\",30).filterBounds(point).first()"
   ]
  },
  {
   "cell_type": "markdown",
   "metadata": {},
   "source": [
    "**Extract raster values from a single `sentinel2` image**"
   ]
  },
  {
   "cell_type": "code",
   "execution_count": 11,
   "metadata": {},
   "outputs": [],
   "source": [
    "data=sentinel2.reduceRegion(reducer=ee.Reducer.first(),geometry=point.geometry(), scale= 10)"
   ]
  },
  {
   "cell_type": "code",
   "execution_count": 12,
   "metadata": {},
   "outputs": [
    {
     "data": {
      "text/plain": [
       "{'AOT': 420,\n",
       " 'B1': 901,\n",
       " 'B11': 1891,\n",
       " 'B12': 1257,\n",
       " 'B2': 1106,\n",
       " 'B3': 1616,\n",
       " 'B4': 1854,\n",
       " 'B5': 2313,\n",
       " 'B6': 2297,\n",
       " 'B7': 2354,\n",
       " 'B8': 2401,\n",
       " 'B8A': 2291,\n",
       " 'B9': 2265,\n",
       " 'MSK_CLDPRB': 27,\n",
       " 'MSK_SNWPRB': 0,\n",
       " 'QA10': 0,\n",
       " 'QA20': 0,\n",
       " 'QA60': 0,\n",
       " 'SCL': 5,\n",
       " 'TCI_B': 114,\n",
       " 'TCI_G': 165,\n",
       " 'TCI_R': 189,\n",
       " 'WVP': 1935}"
      ]
     },
     "execution_count": 12,
     "metadata": {},
     "output_type": "execute_result"
    }
   ],
   "source": [
    "data.getInfo() # It should extract values at all points. However, only one point extracted."
   ]
  },
  {
   "cell_type": "markdown",
   "metadata": {},
   "source": [
    "**Better approach for this task**"
   ]
  },
  {
   "cell_type": "code",
   "execution_count": 13,
   "metadata": {},
   "outputs": [],
   "source": [
    "sampleRegions=sentinel2.sampleRegions(collection=point, scale=10,geometries =True).getInfo()"
   ]
  },
  {
   "cell_type": "code",
   "execution_count": 16,
   "metadata": {
    "scrolled": false
   },
   "outputs": [],
   "source": [
    "import pandas as pd\n",
    "def data(sampleRegions):\n",
    "    test=sampleRegions[\"features\"]\n",
    "    mlist=[]\n",
    "    coord=[]\n",
    "    for item in test:\n",
    "        mdict=item[\"properties\"]\n",
    "        geom=tuple(item[\"geometry\"][\"coordinates\"])\n",
    "        coord.append(geom)\n",
    "        mlist.append(mdict)\n",
    "    test=pd.DataFrame(mlist)\n",
    "    test[\"Coordinate\"]=coord\n",
    "    return test          "
   ]
  },
  {
   "cell_type": "code",
   "execution_count": 17,
   "metadata": {},
   "outputs": [
    {
     "data": {
      "text/html": [
       "<div>\n",
       "<style scoped>\n",
       "    .dataframe tbody tr th:only-of-type {\n",
       "        vertical-align: middle;\n",
       "    }\n",
       "\n",
       "    .dataframe tbody tr th {\n",
       "        vertical-align: top;\n",
       "    }\n",
       "\n",
       "    .dataframe thead th {\n",
       "        text-align: right;\n",
       "    }\n",
       "</style>\n",
       "<table border=\"1\" class=\"dataframe\">\n",
       "  <thead>\n",
       "    <tr style=\"text-align: right;\">\n",
       "      <th></th>\n",
       "      <th>AOT</th>\n",
       "      <th>B1</th>\n",
       "      <th>B11</th>\n",
       "      <th>B12</th>\n",
       "      <th>B2</th>\n",
       "      <th>B3</th>\n",
       "      <th>B4</th>\n",
       "      <th>B5</th>\n",
       "      <th>B6</th>\n",
       "      <th>B7</th>\n",
       "      <th>...</th>\n",
       "      <th>MSK_SNWPRB</th>\n",
       "      <th>QA10</th>\n",
       "      <th>QA20</th>\n",
       "      <th>QA60</th>\n",
       "      <th>SCL</th>\n",
       "      <th>TCI_B</th>\n",
       "      <th>TCI_G</th>\n",
       "      <th>TCI_R</th>\n",
       "      <th>WVP</th>\n",
       "      <th>Coordinate</th>\n",
       "    </tr>\n",
       "  </thead>\n",
       "  <tbody>\n",
       "    <tr>\n",
       "      <th>0</th>\n",
       "      <td>420</td>\n",
       "      <td>852</td>\n",
       "      <td>195</td>\n",
       "      <td>145</td>\n",
       "      <td>856</td>\n",
       "      <td>1210</td>\n",
       "      <td>1003</td>\n",
       "      <td>1481</td>\n",
       "      <td>1014</td>\n",
       "      <td>1017</td>\n",
       "      <td>...</td>\n",
       "      <td>0</td>\n",
       "      <td>0</td>\n",
       "      <td>0</td>\n",
       "      <td>0</td>\n",
       "      <td>6</td>\n",
       "      <td>88</td>\n",
       "      <td>122</td>\n",
       "      <td>100</td>\n",
       "      <td>1586</td>\n",
       "      <td>(105.4664572274428, 21.257836779293218)</td>\n",
       "    </tr>\n",
       "    <tr>\n",
       "      <th>1</th>\n",
       "      <td>420</td>\n",
       "      <td>1024</td>\n",
       "      <td>3339</td>\n",
       "      <td>2343</td>\n",
       "      <td>1080</td>\n",
       "      <td>1484</td>\n",
       "      <td>1990</td>\n",
       "      <td>2284</td>\n",
       "      <td>2530</td>\n",
       "      <td>2609</td>\n",
       "      <td>...</td>\n",
       "      <td>0</td>\n",
       "      <td>0</td>\n",
       "      <td>0</td>\n",
       "      <td>0</td>\n",
       "      <td>5</td>\n",
       "      <td>109</td>\n",
       "      <td>150</td>\n",
       "      <td>202</td>\n",
       "      <td>1564</td>\n",
       "      <td>(105.48221735810253, 21.273061800349055)</td>\n",
       "    </tr>\n",
       "    <tr>\n",
       "      <th>2</th>\n",
       "      <td>420</td>\n",
       "      <td>827</td>\n",
       "      <td>1276</td>\n",
       "      <td>818</td>\n",
       "      <td>921</td>\n",
       "      <td>1164</td>\n",
       "      <td>1074</td>\n",
       "      <td>1391</td>\n",
       "      <td>1634</td>\n",
       "      <td>1669</td>\n",
       "      <td>...</td>\n",
       "      <td>0</td>\n",
       "      <td>0</td>\n",
       "      <td>0</td>\n",
       "      <td>0</td>\n",
       "      <td>7</td>\n",
       "      <td>98</td>\n",
       "      <td>118</td>\n",
       "      <td>112</td>\n",
       "      <td>1586</td>\n",
       "      <td>(105.5048508995842, 21.295763913397618)</td>\n",
       "    </tr>\n",
       "    <tr>\n",
       "      <th>3</th>\n",
       "      <td>420</td>\n",
       "      <td>882</td>\n",
       "      <td>605</td>\n",
       "      <td>417</td>\n",
       "      <td>983</td>\n",
       "      <td>1394</td>\n",
       "      <td>1108</td>\n",
       "      <td>1688</td>\n",
       "      <td>1685</td>\n",
       "      <td>1699</td>\n",
       "      <td>...</td>\n",
       "      <td>0</td>\n",
       "      <td>0</td>\n",
       "      <td>0</td>\n",
       "      <td>0</td>\n",
       "      <td>6</td>\n",
       "      <td>101</td>\n",
       "      <td>143</td>\n",
       "      <td>112</td>\n",
       "      <td>1586</td>\n",
       "      <td>(105.47630965597945, 21.29440147616462)</td>\n",
       "    </tr>\n",
       "    <tr>\n",
       "      <th>4</th>\n",
       "      <td>420</td>\n",
       "      <td>710</td>\n",
       "      <td>212</td>\n",
       "      <td>144</td>\n",
       "      <td>743</td>\n",
       "      <td>912</td>\n",
       "      <td>781</td>\n",
       "      <td>1032</td>\n",
       "      <td>704</td>\n",
       "      <td>673</td>\n",
       "      <td>...</td>\n",
       "      <td>0</td>\n",
       "      <td>0</td>\n",
       "      <td>0</td>\n",
       "      <td>0</td>\n",
       "      <td>6</td>\n",
       "      <td>75</td>\n",
       "      <td>93</td>\n",
       "      <td>79</td>\n",
       "      <td>1586</td>\n",
       "      <td>(105.46062957558976, 21.274477476785552)</td>\n",
       "    </tr>\n",
       "  </tbody>\n",
       "</table>\n",
       "<p>5 rows × 25 columns</p>\n",
       "</div>"
      ],
      "text/plain": [
       "   AOT    B1   B11   B12    B2    B3    B4    B5    B6    B7  ...  MSK_SNWPRB  \\\n",
       "0  420   852   195   145   856  1210  1003  1481  1014  1017  ...           0   \n",
       "1  420  1024  3339  2343  1080  1484  1990  2284  2530  2609  ...           0   \n",
       "2  420   827  1276   818   921  1164  1074  1391  1634  1669  ...           0   \n",
       "3  420   882   605   417   983  1394  1108  1688  1685  1699  ...           0   \n",
       "4  420   710   212   144   743   912   781  1032   704   673  ...           0   \n",
       "\n",
       "   QA10  QA20  QA60  SCL  TCI_B  TCI_G  TCI_R   WVP  \\\n",
       "0     0     0     0    6     88    122    100  1586   \n",
       "1     0     0     0    5    109    150    202  1564   \n",
       "2     0     0     0    7     98    118    112  1586   \n",
       "3     0     0     0    6    101    143    112  1586   \n",
       "4     0     0     0    6     75     93     79  1586   \n",
       "\n",
       "                                 Coordinate  \n",
       "0   (105.4664572274428, 21.257836779293218)  \n",
       "1  (105.48221735810253, 21.273061800349055)  \n",
       "2   (105.5048508995842, 21.295763913397618)  \n",
       "3   (105.47630965597945, 21.29440147616462)  \n",
       "4  (105.46062957558976, 21.274477476785552)  \n",
       "\n",
       "[5 rows x 25 columns]"
      ]
     },
     "execution_count": 17,
     "metadata": {},
     "output_type": "execute_result"
    }
   ],
   "source": [
    "df=data(sampleRegions)\n",
    "df.head()"
   ]
  },
  {
   "cell_type": "markdown",
   "metadata": {},
   "source": [
    "### Select images from specified date ranges"
   ]
  },
  {
   "cell_type": "code",
   "execution_count": 18,
   "metadata": {},
   "outputs": [],
   "source": [
    "myBoarder=ee.FeatureCollection(\"users/miketu72/Test_Area\")"
   ]
  },
  {
   "cell_type": "code",
   "execution_count": 19,
   "metadata": {},
   "outputs": [],
   "source": [
    "def test(date):\n",
    "    image = ee.ImageCollection('COPERNICUS/S2_SR').filterBounds(myBoarder).filterDate(date[0],date[-1]).filterMetadata('CLOUDY_PIXEL_PERCENTAGE', 'less_than', 0.5)\\\n",
    "    .mean().clip(myBoarder)\n",
    "    return image\n",
    "dates = [('2018-06-01', '2018-12-31'),('2020-06-01', '2020-12-31'),('2019-06-01', '2019-12-31')]"
   ]
  },
  {
   "cell_type": "code",
   "execution_count": 20,
   "metadata": {},
   "outputs": [],
   "source": [
    "mlist=[]\n",
    "\n",
    "for i in dates:\n",
    "    ketqua=test(i)\n",
    "    mlist.append(ketqua)\n",
    "col=ee.ImageCollection.fromImages(mlist) "
   ]
  },
  {
   "cell_type": "markdown",
   "metadata": {},
   "source": [
    "**Covered all in a function**"
   ]
  },
  {
   "cell_type": "code",
   "execution_count": 21,
   "metadata": {},
   "outputs": [],
   "source": [
    "def test(date):\n",
    "    mlist=[]\n",
    "    for x in date:\n",
    "            image = ee.ImageCollection('COPERNICUS/S2_SR').filterBounds(myBoarder).\\\n",
    "            filterDate(x[0],x[-1]).filterMetadata('CLOUDY_PIXEL_PERCENTAGE', 'less_than', 0.5)\\\n",
    "            .mean().clip(myBoarder)\n",
    "            mlist.append(image)\n",
    "    return mlist\n",
    "ketqua=ee.ImageCollection(test(dates))"
   ]
  },
  {
   "cell_type": "code",
   "execution_count": 22,
   "metadata": {},
   "outputs": [
    {
     "data": {
      "text/plain": [
       "48"
      ]
     },
     "execution_count": 22,
     "metadata": {},
     "output_type": "execute_result"
    }
   ],
   "source": [
    "# Hourly global temperature data\n",
    "tem=ee.ImageCollection(\"ECMWF/ERA5_LAND/HOURLY\").filterDate(\"2017-01-01\",\"2017-01-03\")\n",
    "tem.size().getInfo()"
   ]
  },
  {
   "cell_type": "code",
   "execution_count": null,
   "metadata": {},
   "outputs": [],
   "source": []
  }
 ],
 "metadata": {
  "kernelspec": {
   "display_name": "Python 3",
   "language": "python",
   "name": "python3"
  },
  "language_info": {
   "codemirror_mode": {
    "name": "ipython",
    "version": 3
   },
   "file_extension": ".py",
   "mimetype": "text/x-python",
   "name": "python",
   "nbconvert_exporter": "python",
   "pygments_lexer": "ipython3",
   "version": "3.8.5"
  }
 },
 "nbformat": 4,
 "nbformat_minor": 4
}
