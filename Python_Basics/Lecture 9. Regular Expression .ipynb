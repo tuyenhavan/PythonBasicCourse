{
 "cells": [
  {
   "cell_type": "markdown",
   "metadata": {},
   "source": [
    "**Regular Expression**\n",
    "\n",
    "A regular expression is a powerful tool for matching text, based on a pre-defined pattern. It can detect the presence or absence of a text by matching with a particular pattern, and also can split a pattern into one or more sub-patterns. "
   ]
  },
  {
   "cell_type": "code",
   "execution_count": 10,
   "metadata": {},
   "outputs": [],
   "source": [
    "import re  \n",
    "import pandas as pd"
   ]
  },
  {
   "cell_type": "markdown",
   "metadata": {},
   "source": [
    "##### Regular expression rules"
   ]
  },
  {
   "cell_type": "markdown",
   "metadata": {},
   "source": [
    ".       - Any Character Except New Line <br>\n",
    "\\d      - Digit (0-9)<br>\n",
    "\\D      - Not a Digit (0-9)<br>\n",
    "\\w      - Word Character (a-z, A-Z, 0-9, _)<br>\n",
    "\\W      - Not a Word Character<br>\n",
    "\\s      - Whitespace (space, tab, newline)<br>\n",
    "\\S      - Not Whitespace (space, tab, newline)<br>\n",
    "\n",
    "\\b      - Word Boundary<br>\n",
    "\\B      - Not a Word Boundary<br>\n",
    "^       - Beginning of a String<br>\n",
    "$       - End of a String<br>\n",
    "\n",
    "[]      - Matches Characters in brackets <br>\n",
    "[^ ]    - Matches Characters NOT in brackets<br>\n",
    "|       - Either Or<br>\n",
    "( )     - Group<br>\n",
    "\n",
    "Quantifiers:<br>\n",
    "    *       - 0 or More<br>\n",
    "    +       - 1 or More<br>\n",
    "    ?       - 0 or One<br>\n",
    "    {3}     - Exact Number<br>\n",
    "    {3,4}   - Range of Numbers (Minimum, Maximum)<br>\n",
    "\n",
    "#### Remember #####\n",
    "MetaCharacters (Need to be escaped): <br>\n",
    ". ^ $ * + ? { } [ ] \\ | ( )\n",
    "\n",
    "\n",
    " #### Sample Regexs ####\n",
    "\n",
    "[a-zA-Z0-9_.+-]+@[a-zA-Z0-9-]+\\.[a-zA-Z0-9-.]+\n"
   ]
  },
  {
   "cell_type": "markdown",
   "metadata": {},
   "source": [
    "#### Create a sample text \n",
    "\n",
    "Task: Find `.` and print out all `.`."
   ]
  },
  {
   "cell_type": "code",
   "execution_count": 45,
   "metadata": {},
   "outputs": [
    {
     "name": "stdout",
     "output_type": "stream",
     "text": [
      ".\n"
     ]
    }
   ],
   "source": [
    "text=\"ha Van Tuyen. This is 30 years old & and % $ and # ? \\ 90 |\"\n",
    "\n",
    "pattern =re.compile(r\"\\.\")\n",
    "\n",
    "matches = pattern.finditer(text)\n",
    "\n",
    "for i in matches:\n",
    "    print(i[0])"
   ]
  },
  {
   "cell_type": "markdown",
   "metadata": {},
   "source": [
    "- What if we don't have `re` library "
   ]
  },
  {
   "cell_type": "code",
   "execution_count": 46,
   "metadata": {},
   "outputs": [
    {
     "name": "stdout",
     "output_type": "stream",
     "text": [
      ".\n"
     ]
    }
   ],
   "source": [
    "for item in text:\n",
    "    if item==\".\":\n",
    "        print(item)"
   ]
  },
  {
   "cell_type": "code",
   "execution_count": 126,
   "metadata": {},
   "outputs": [],
   "source": [
    "text='''\n",
    "Dave Martin\n",
    "615-555-7164\n",
    "173 Main St., Springfield RI 55924\n",
    "davemartin@bogusemail.com\n",
    "\n",
    "Charles Harris\n",
    "800-555-5669\n",
    "969 High St., Atlantis VA 34075\n",
    "charlesharris@bogusemail.com\n",
    "\n",
    "Eric Williams\n",
    "560-555-5153\n",
    "806 1st St., Faketown AK 86847\n",
    "laurawilliams@bogusemail.com\n",
    "Mr. Ha Van Tuyen\n",
    "Ms. Nguyen Thi Ha\n",
    "560.555.5153\n",
    "Mrs. Le Thi Linh\n",
    "trinhtam@gmail.com16\n",
    "This is a good start point & and % and $ and . and (). Many other things \\ and []\n",
    "^ $ * + ? { } [] \\ | ( )\n",
    "'''\n"
   ]
  },
  {
   "cell_type": "markdown",
   "metadata": {},
   "source": [
    "**Challenge:**\n",
    "\n",
    "If you don't know regular expression, how can you get all email addresses?"
   ]
  },
  {
   "cell_type": "code",
   "execution_count": 50,
   "metadata": {},
   "outputs": [
    {
     "name": "stdout",
     "output_type": "stream",
     "text": [
      "davemartin@bogusemail.com\n",
      "charlesharris@bogusemail.com\n",
      "laurawilliams@bogusemail.com\n",
      "trinhtam@gmail.com\n"
     ]
    }
   ],
   "source": [
    "for i in text.split():\n",
    "    if \"@\" in i:\n",
    "        print(i)"
   ]
  },
  {
   "cell_type": "markdown",
   "metadata": {},
   "source": [
    "###### 1. Search for a certain patterns\n",
    "\n",
    "- Search for only period (.) from the text"
   ]
  },
  {
   "cell_type": "code",
   "execution_count": 51,
   "metadata": {},
   "outputs": [
    {
     "name": "stdout",
     "output_type": "stream",
     "text": [
      "<re.Match object; span=(37, 38), match='.'> : .\n",
      "<re.Match object; span=(82, 83), match='.'> : .\n",
      "<re.Match object; span=(127, 128), match='.'> : .\n"
     ]
    }
   ],
   "source": [
    "pattern=re.compile(r\"\\.\") # Search for only dấu chấm (period)\n",
    "\n",
    "matches=pattern.finditer(text)\n",
    "count=0\n",
    "for i in matches:\n",
    "    print(i,\":\",i[0])\n",
    "    count+=1\n",
    "    if count==3:\n",
    "        break"
   ]
  },
  {
   "cell_type": "code",
   "execution_count": 144,
   "metadata": {},
   "outputs": [
    {
     "name": "stdout",
     "output_type": "stream",
     "text": [
      "[]\n",
      "[]\n"
     ]
    }
   ],
   "source": [
    "# Similarly, search for special characters []\n",
    "\n",
    "pattern=re.compile(r\"\\[]\")\n",
    "\n",
    "matches = pattern.finditer(text)\n",
    "\n",
    "for i in matches:\n",
    "    print(i.group())"
   ]
  },
  {
   "cell_type": "markdown",
   "metadata": {},
   "source": [
    "- Search for only numbers"
   ]
  },
  {
   "cell_type": "code",
   "execution_count": 6,
   "metadata": {},
   "outputs": [
    {
     "name": "stdout",
     "output_type": "stream",
     "text": [
      "<re.Match object; span=(12, 13), match='6'>\n",
      "<re.Match object; span=(13, 14), match='1'>\n",
      "<re.Match object; span=(14, 15), match='5'>\n",
      "<re.Match object; span=(16, 17), match='5'>\n"
     ]
    }
   ],
   "source": [
    "# Search for numbers\n",
    "pattern=re.compile(r\"\\d\") \n",
    "\n",
    "count=0\n",
    "matches=pattern.finditer(text)\n",
    "for i in matches:\n",
    "    print(i)\n",
    "    count+=1\n",
    "    if count==4: # if count =4, stop the loop\n",
    "        break"
   ]
  },
  {
   "cell_type": "markdown",
   "metadata": {},
   "source": [
    "- Search for phone numbers"
   ]
  },
  {
   "cell_type": "code",
   "execution_count": 57,
   "metadata": {},
   "outputs": [
    {
     "name": "stdout",
     "output_type": "stream",
     "text": [
      "615-555-7164\n",
      "800-555-5669\n",
      "560-555-5153\n",
      "560.555.5153\n"
     ]
    }
   ],
   "source": [
    "# Search for phone numbers\n",
    "\n",
    "pattern=re.compile(r\"\\d\\d\\d.\\d\\d\\d.\\d\\d\\d\\d\") \n",
    "\n",
    "matches=pattern.finditer(text)\n",
    "for i in matches:\n",
    "    print(i[0])"
   ]
  },
  {
   "cell_type": "markdown",
   "metadata": {},
   "source": [
    "- Search for street numbers and names"
   ]
  },
  {
   "cell_type": "code",
   "execution_count": 68,
   "metadata": {},
   "outputs": [
    {
     "name": "stdout",
     "output_type": "stream",
     "text": [
      "173 Main St.\n",
      "969 High St.\n",
      "806 1st St.\n"
     ]
    }
   ],
   "source": [
    "# Search for street number and names\n",
    "pattern=re.compile(r\"\\d\\d\\d.[a-zA-Z0-9]+.[a-zA-Z]+\\.\") # dấu chấm lấy tất cả chữ, space và số, nhưng ko lấy tab và new line.\n",
    "matches=pattern.finditer(text)\n",
    "\n",
    "for i in matches:\n",
    "    print(i[0])"
   ]
  },
  {
   "cell_type": "code",
   "execution_count": 69,
   "metadata": {},
   "outputs": [
    {
     "name": "stdout",
     "output_type": "stream",
     "text": [
      "173 Main St.\n",
      "969 High St.\n",
      "806 1st St.\n"
     ]
    }
   ],
   "source": [
    "# Search for street numbers and street names\n",
    "pattern =re.compile(r\"[0-9]+\\s[a-zA-Z0-9]+\\s[a-zA-Z]+\\.\")\n",
    "\n",
    "matches=pattern.finditer(text)\n",
    "\n",
    "for item in matches:\n",
    "    print(item[0])"
   ]
  },
  {
   "cell_type": "code",
   "execution_count": 70,
   "metadata": {},
   "outputs": [
    {
     "name": "stdout",
     "output_type": "stream",
     "text": [
      "<re.Match object; span=(0, 4), match='This'>\n"
     ]
    }
   ],
   "source": [
    "sentence=\"This is a good time to travel.\"\n",
    "\n",
    "pattern=re.compile(r'^This') # search for character at starting\n",
    "\n",
    "match=pattern.finditer(sentence)\n",
    "\n",
    "for i in match:\n",
    "    print(i)"
   ]
  },
  {
   "cell_type": "code",
   "execution_count": 71,
   "metadata": {},
   "outputs": [
    {
     "name": "stdout",
     "output_type": "stream",
     "text": [
      "<re.Match object; span=(23, 30), match='travel.'>\n"
     ]
    }
   ],
   "source": [
    "sentence=\"This is a good time to travel.\"\n",
    "\n",
    "pattern=re.compile(r'travel.$') # search for character at ending\n",
    "\n",
    "match=pattern.finditer(sentence)\n",
    "\n",
    "for i in match:\n",
    "    print(i)"
   ]
  },
  {
   "cell_type": "markdown",
   "metadata": {},
   "source": [
    "- Search for everything but not texts and numbers"
   ]
  },
  {
   "cell_type": "code",
   "execution_count": 72,
   "metadata": {},
   "outputs": [
    {
     "name": "stdout",
     "output_type": "stream",
     "text": [
      "<re.Match object; span=(0, 1), match='\\n'>\n",
      "<re.Match object; span=(5, 6), match=' '>\n",
      "<re.Match object; span=(12, 13), match='\\n'>\n",
      "<re.Match object; span=(16, 17), match='-'>\n",
      "<re.Match object; span=(20, 21), match='-'>\n"
     ]
    }
   ],
   "source": [
    "# Search for everything but not texts and numbers\n",
    "\n",
    "pattern=re.compile(r\"[^a-zA-Z0-9]\")\n",
    "\n",
    "matches=pattern.finditer(text)\n",
    "count=0\n",
    "\n",
    "for item in matches:\n",
    "    print(item)\n",
    "    count+=1\n",
    "    if count==5:\n",
    "        break"
   ]
  },
  {
   "cell_type": "markdown",
   "metadata": {},
   "source": [
    "- Search for emails"
   ]
  },
  {
   "cell_type": "code",
   "execution_count": 79,
   "metadata": {},
   "outputs": [
    {
     "name": "stdout",
     "output_type": "stream",
     "text": [
      "davemartin@bogusemail.com\n",
      "charlesharris@bogusemail.com\n",
      "laurawilliams@bogusemail.com\n",
      "trinhtam@gmail.com\n"
     ]
    }
   ],
   "source": [
    "# Search for email\n",
    "pattern=re.compile(r\"[a-zA-Z0-9._]+@[a-zA-Z.-]+\\.[a-zA-Z]+\")\n",
    "\n",
    "matches=pattern.finditer(text)\n",
    "\n",
    "for item in matches:\n",
    "    print(item[0])\n"
   ]
  },
  {
   "cell_type": "markdown",
   "metadata": {},
   "source": [
    "- Search for only numbers (three digits)"
   ]
  },
  {
   "cell_type": "code",
   "execution_count": 83,
   "metadata": {},
   "outputs": [
    {
     "name": "stdout",
     "output_type": "stream",
     "text": [
      "7164\n",
      "5592\n",
      "5669\n",
      "3407\n",
      "5153\n",
      "8684\n",
      "5153\n"
     ]
    }
   ],
   "source": [
    "pattern=re.compile(r\"\\d{4}\")\n",
    "\n",
    "matches = pattern.finditer(text)\n",
    "\n",
    "for item in matches:\n",
    "    print(item[0])"
   ]
  },
  {
   "cell_type": "code",
   "execution_count": 88,
   "metadata": {},
   "outputs": [
    {
     "name": "stdout",
     "output_type": "stream",
     "text": [
      "800-456-899\n",
      "900.567.900\n",
      "800*445*490\n"
     ]
    }
   ],
   "source": [
    "# Search for a set of characters\n",
    "\n",
    "number=\"\"\"\n",
    "8800-456-899\n",
    "900.567.900\n",
    "800*445*490\n",
    "123*456-890\n",
    "\"\"\"\n",
    "\n",
    "pattern = re.compile(r'\\d\\d\\d.\\d\\d\\d.\\d\\d\\d')\n",
    "\n",
    "\n",
    "pattern = re.compile(r'[8-9]00[-.*][0-9]+[-*.][0-9]+')\n",
    "\n",
    "\n",
    "\n",
    "match=pattern.finditer(number)\n",
    "\n",
    "for i in match:\n",
    "    print(i[0])\n",
    "    \n"
   ]
  },
  {
   "cell_type": "markdown",
   "metadata": {},
   "source": [
    "- Find Mr. or Ms or Mrs. "
   ]
  },
  {
   "cell_type": "code",
   "execution_count": 19,
   "metadata": {},
   "outputs": [],
   "source": [
    "name='''\n",
    "Mr. Ha Van\n",
    "Ms Van Nguyen\n",
    "Mrs. Kha Thuy\n",
    "Mr. T\n",
    "'''"
   ]
  },
  {
   "cell_type": "code",
   "execution_count": 89,
   "metadata": {},
   "outputs": [
    {
     "name": "stdout",
     "output_type": "stream",
     "text": [
      "Mr. Ha Van\n",
      "Ms Van Nguyen\n",
      "Mrs. Kha Thuy\n",
      "Mr. T\n",
      "\n"
     ]
    }
   ],
   "source": [
    "# Tìm tất cả các chữ bên trên theo pattern\n",
    "pattern = re.compile(r\"M\\w+\\.?[a-zA-Z\\s.]+\")\n",
    "\n",
    "matches = pattern.finditer(name)\n",
    "\n",
    "for match in matches:\n",
    "    print(match[0])"
   ]
  },
  {
   "cell_type": "code",
   "execution_count": 97,
   "metadata": {},
   "outputs": [
    {
     "name": "stdout",
     "output_type": "stream",
     "text": [
      "Mr. Ha Van\n",
      "Ms Van Nguyen\n",
      "Mrs. Kha Thuy\n",
      "Mr. T\n"
     ]
    }
   ],
   "source": [
    "# Dùng group\n",
    "name='''\n",
    "Mr. Ha Van\n",
    "Ms Van Nguyen\n",
    "Mrs. Kha Thuy\n",
    "Mr. T\n",
    "'''\n",
    "\n",
    "pattern = re.compile(r\"(Mr|Ms)s?\\.?.+\")\n",
    "\n",
    "matches = pattern.finditer(name)\n",
    "\n",
    "for match in matches:\n",
    "    print(match[0])"
   ]
  },
  {
   "cell_type": "markdown",
   "metadata": {},
   "source": [
    "**Other Handy Functions**\n",
    "\n",
    "`re.findall()`, `re.search(pattern, string, flags)`, `re.match(pattern, string, flags)`, `re.sub(pattern, replace, string)`"
   ]
  },
  {
   "cell_type": "code",
   "execution_count": 103,
   "metadata": {},
   "outputs": [],
   "source": [
    "text =\"\"\"A regular expression is a powerful tool for matching text, \n",
    "based on a pre-defined pattern. It can detect the presence or absence of a text \n",
    "by matching with a particular pattern, \n",
    "and also can split a pattern into one or more sub-patterns.\n",
    "regular express.\n",
    "\"\"\""
   ]
  },
  {
   "cell_type": "markdown",
   "metadata": {},
   "source": [
    "**`re.search()` and `re.match()`**"
   ]
  },
  {
   "cell_type": "code",
   "execution_count": 104,
   "metadata": {},
   "outputs": [
    {
     "name": "stdout",
     "output_type": "stream",
     "text": [
      "<re.Match object; span=(2, 17), match='regular express'>\n",
      "regular express\n",
      "Start Index: 2\n",
      "End Index: 17\n"
     ]
    }
   ],
   "source": [
    "search = re.search(r'regular express', text) # Search anywhere in string\n",
    "# Print what is inside match\n",
    "print(search)\n",
    "# Print out the matching string\n",
    "print(search.group())\n",
    "# Get starting index\n",
    "print('Start Index:', search.start())\n",
    "# Get last index\n",
    "print('End Index:', search.end())"
   ]
  },
  {
   "cell_type": "code",
   "execution_count": 109,
   "metadata": {},
   "outputs": [
    {
     "data": {
      "text/plain": [
       "<re.Match object; span=(3, 4), match='a'>"
      ]
     },
     "execution_count": 109,
     "metadata": {},
     "output_type": "execute_result"
    }
   ],
   "source": [
    "# search only first instances \n",
    "\n",
    "search=re.search(r\"a\",\"bddaabcada\")\n",
    "\n",
    "search"
   ]
  },
  {
   "cell_type": "code",
   "execution_count": 24,
   "metadata": {},
   "outputs": [
    {
     "data": {
      "text/plain": [
       "<re.Match object; span=(0, 2), match='aa'>"
      ]
     },
     "execution_count": 24,
     "metadata": {},
     "output_type": "execute_result"
    }
   ],
   "source": [
    "# search only first instances \n",
    "\n",
    "search=re.search(r\"a+\",\"aabcada\")\n",
    "\n",
    "search"
   ]
  },
  {
   "cell_type": "code",
   "execution_count": 111,
   "metadata": {},
   "outputs": [
    {
     "data": {
      "text/plain": [
       "True"
      ]
     },
     "execution_count": 111,
     "metadata": {},
     "output_type": "execute_result"
    }
   ],
   "source": [
    "# match the begining of the string\n",
    "match=re.match(r\"A\", text,re.IGNORECASE) # re.IGNORECASE ignores case sensitive\n",
    "\n",
    "match\n",
    "# Check if exist\n",
    "\n",
    "bool(match)"
   ]
  },
  {
   "cell_type": "markdown",
   "metadata": {},
   "source": [
    "**`re.findall()`**"
   ]
  },
  {
   "cell_type": "code",
   "execution_count": 116,
   "metadata": {},
   "outputs": [
    {
     "name": "stdout",
     "output_type": "stream",
     "text": [
      "['Tuyen', 'Tam', 'Ha']\n"
     ]
    },
    {
     "data": {
      "text/plain": [
       "['30', '31', '45']"
      ]
     },
     "execution_count": 116,
     "metadata": {},
     "output_type": "execute_result"
    }
   ],
   "source": [
    "info=\"Tuyen is 30 years old, Tam is 31 years old and Ha is 45 years old.\"\n",
    "# Get name\n",
    "name=re.findall(r'[A-Z][a-z]*',info)\n",
    "\n",
    "print(name)\n",
    "\n",
    "# Get age\n",
    "age=re.findall(r\"\\d{1,3}\",info)\n",
    "\n",
    "age"
   ]
  },
  {
   "cell_type": "code",
   "execution_count": 27,
   "metadata": {},
   "outputs": [
    {
     "data": {
      "text/plain": [
       "['aa', 'aa']"
      ]
     },
     "execution_count": 27,
     "metadata": {},
     "output_type": "execute_result"
    }
   ],
   "source": [
    "# Find all instances of a certain string\n",
    "\n",
    "re.findall(\"aa\",\"aa,aahahaha\")"
   ]
  },
  {
   "cell_type": "code",
   "execution_count": 118,
   "metadata": {},
   "outputs": [
    {
     "data": {
      "text/plain": [
       "['This', 'is', 'a', 'good', 'package']"
      ]
     },
     "execution_count": 118,
     "metadata": {},
     "output_type": "execute_result"
    }
   ],
   "source": [
    "# Split\n",
    "\n",
    "re.split(r\"\\s\", \"This is a good package\") # Split texts between spaces"
   ]
  },
  {
   "cell_type": "code",
   "execution_count": 121,
   "metadata": {},
   "outputs": [
    {
     "name": "stdout",
     "output_type": "stream",
     "text": [
      "Mr.\n",
      "Ms\n",
      "Mrs.\n",
      "Mr.\n"
     ]
    }
   ],
   "source": [
    "name='''\n",
    "Mr. Ha Van\n",
    "Ms Van Nguyen\n",
    "Mrs. Kha Thuy\n",
    "Mr. T\n",
    "'''\n",
    "\n",
    "pattern=re.compile(r'(Mrs|Mr|Ms)\\.?')\n",
    "match=pattern.finditer(name)\n",
    "for i in match:\n",
    "    print(i[0])"
   ]
  },
  {
   "cell_type": "code",
   "execution_count": 118,
   "metadata": {},
   "outputs": [
    {
     "name": "stdout",
     "output_type": "stream",
     "text": [
      "<re.Match object; span=(1, 21), match='havantuyen@gmail.com'>\n",
      "<re.Match object; span=(22, 37), match='havan@gmail.net'>\n",
      "<re.Match object; span=(38, 53), match='khanan@gmail.eu'>\n"
     ]
    }
   ],
   "source": [
    "s=\"\"\"\n",
    "havantuyen@gmail.com\n",
    "havan@gmail.net\n",
    "khanan@gmail.eu\n",
    "\n",
    "\"\"\"\n",
    "\n",
    "pattern=re.compile(r'[a-zA-Z]+@[a-z]+\\.(com|net|eu)')\n",
    "\n",
    "match=pattern.finditer(s)\n",
    "\n",
    "\n",
    "for i in match:\n",
    "    print(i)"
   ]
  },
  {
   "cell_type": "code",
   "execution_count": 124,
   "metadata": {},
   "outputs": [
    {
     "data": {
      "text/plain": [
       "'Okayvantuyenkhang'"
      ]
     },
     "execution_count": 124,
     "metadata": {},
     "output_type": "execute_result"
    }
   ],
   "source": [
    "text=\"havantuyenkhang\"\n",
    "\n",
    "re.sub(\"^ha\",\"Okay\",text)"
   ]
  },
  {
   "cell_type": "markdown",
   "metadata": {},
   "source": [
    "**Challenge 1**\n",
    "\n",
    "Write a Python program that matches a word containing 'z', not at the start or end of the word."
   ]
  },
  {
   "cell_type": "code",
   "execution_count": null,
   "metadata": {},
   "outputs": [],
   "source": []
  },
  {
   "cell_type": "markdown",
   "metadata": {},
   "source": [
    "**Challenge 2**\n",
    "\n",
    "Write a Python program to remove leading zeros from an IP address.\n",
    "\n",
    "sample: ip = \"216.08.094.196\"\n",
    "\n",
    "result: ip = \"216.8.94.196\""
   ]
  },
  {
   "cell_type": "markdown",
   "metadata": {},
   "source": [
    "# Exercises "
   ]
  },
  {
   "cell_type": "markdown",
   "metadata": {},
   "source": [
    "1. Write a Python program to check that a string contains only a certain set of characters (in this case a-z, A-Z and 0-9)."
   ]
  },
  {
   "cell_type": "code",
   "execution_count": null,
   "metadata": {},
   "outputs": [],
   "source": []
  },
  {
   "cell_type": "markdown",
   "metadata": {},
   "source": [
    "2. Write a Python program that matches a string that has an a followed by zero or one 'b'."
   ]
  },
  {
   "cell_type": "code",
   "execution_count": null,
   "metadata": {},
   "outputs": [],
   "source": []
  },
  {
   "cell_type": "markdown",
   "metadata": {},
   "source": [
    "3. Write a Python program to find sequences of lowercase letters joined with a underscore."
   ]
  },
  {
   "cell_type": "code",
   "execution_count": null,
   "metadata": {},
   "outputs": [],
   "source": []
  },
  {
   "cell_type": "markdown",
   "metadata": {},
   "source": [
    "4. Write a Python program that matches a string that has an 'a' followed by anything, ending in 'b'. "
   ]
  },
  {
   "cell_type": "code",
   "execution_count": null,
   "metadata": {},
   "outputs": [],
   "source": []
  },
  {
   "cell_type": "markdown",
   "metadata": {},
   "source": [
    "5. Write a Python program where a string will start with a specific number"
   ]
  },
  {
   "cell_type": "code",
   "execution_count": null,
   "metadata": {},
   "outputs": [],
   "source": []
  },
  {
   "cell_type": "markdown",
   "metadata": {},
   "source": [
    "6. Write a Python program to convert a date of yyyy-mm-dd format to dd-mm-yyyy format."
   ]
  },
  {
   "cell_type": "code",
   "execution_count": null,
   "metadata": {},
   "outputs": [],
   "source": []
  },
  {
   "cell_type": "markdown",
   "metadata": {},
   "source": [
    "7. Write a program to match the follow patterns from `text` below.\n",
    "\n",
    "a. All USD money such as 45$\n",
    "\n",
    "b. All address and postal code such as Atlantis VA 34075\n",
    "\n",
    "c. Get all words or letters after @ such as bogusemail.com\n",
    "\n",
    "d. Get all first names such as Dave\n",
    "\n",
    "e. Get all special characters such *,&, etc.\n"
   ]
  },
  {
   "cell_type": "code",
   "execution_count": null,
   "metadata": {},
   "outputs": [],
   "source": [
    "text='''\n",
    "Dave Martin\n",
    "615-555-7164\n",
    "Amount: 45$\n",
    "173 Main St., Springfield RI 55924\n",
    "davemartin@bogusemail.com\n",
    "\n",
    "Charles Harris\n",
    "800-555-5669\n",
    "969 High St., Atlantis VA 34075\n",
    "charlesharris@bogusemail.com\n",
    "Amount: 23334$\n",
    "Eric Williams\n",
    "560-555-5153\n",
    "806 1st St., Faketown AK 86847\n",
    "laurawilliams@bogusemail.com\n",
    "Mr. Ha Van Tuyen\n",
    "Ms. Nguyen Thi Ha\n",
    "560.555.5153\n",
    "Amount: 456$\n",
    "Mrs. Le Thi Linh\n",
    "trinhtam@gmail.com16\n",
    "This is a good start point & and % and $ and . and (). Many other things \\ and []\n",
    "^ $ * + ? { } [] \\ | ( )\n",
    "'''"
   ]
  }
 ],
 "metadata": {
  "kernelspec": {
   "display_name": "Python 3",
   "language": "python",
   "name": "python3"
  },
  "language_info": {
   "codemirror_mode": {
    "name": "ipython",
    "version": 3
   },
   "file_extension": ".py",
   "mimetype": "text/x-python",
   "name": "python",
   "nbconvert_exporter": "python",
   "pygments_lexer": "ipython3",
   "version": "3.8.5"
  }
 },
 "nbformat": 4,
 "nbformat_minor": 4
}
