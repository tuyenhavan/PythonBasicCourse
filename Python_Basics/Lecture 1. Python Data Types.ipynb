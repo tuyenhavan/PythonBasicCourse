{
 "cells": [
  {
   "cell_type": "markdown",
   "metadata": {},
   "source": [
    "**Python Overview**\n",
    "\n",
    "Python was developed by Guido van Rossum and widely used for different purposes such as web and software development, and scientific computation and data science. \n",
    "\n",
    "Python is an easy-to-use and readable language since its syntax has semilarities to English. \n",
    "\n",
    "This course will be using Python 3 and its syntax will be written in Jupyter notebook Annaconda platform. If you have not installed Annaconda, please follow installation instruction for `Window system` from [this video](https://www.youtube.com/watch?v=g6ln1dAt-RI&ab_channel=Ritman). "
   ]
  },
  {
   "cell_type": "markdown",
   "metadata": {},
   "source": [
    "# Python Data\n",
    "### String "
   ]
  },
  {
   "cell_type": "markdown",
   "metadata": {},
   "source": [
    "**String**\n",
    "\n",
    "String in Python is a native data type, basically text which contains character data. There are many functions, operators and methods for working with strings. We will explore some of them. "
   ]
  },
  {
   "cell_type": "code",
   "execution_count": 6,
   "metadata": {},
   "outputs": [
    {
     "name": "stdout",
     "output_type": "stream",
     "text": [
      "What's you name? \n",
      "\n",
      "Your phone number is 025413365\n"
     ]
    }
   ],
   "source": [
    "# Create strings in Python\n",
    "\n",
    "string=\"What's you name?\"\n",
    "# String can be both text and numbers \n",
    "stringNumber=\"Your phone number is 025413365\"\n",
    "# Print out strings\n",
    "print(string,\"\\n\")\n",
    "print(stringNumber)"
   ]
  },
  {
   "cell_type": "code",
   "execution_count": 19,
   "metadata": {},
   "outputs": [
    {
     "name": "stdout",
     "output_type": "stream",
     "text": [
      "123456\n"
     ]
    }
   ],
   "source": [
    "# String numbers\n",
    "numberString=\"123456\" # String number can't do maths\n",
    "print(numberString)"
   ]
  },
  {
   "cell_type": "code",
   "execution_count": 43,
   "metadata": {},
   "outputs": [
    {
     "name": "stdout",
     "output_type": "stream",
     "text": [
      "Mr. Khanh is 30 years old.\n"
     ]
    }
   ],
   "source": [
    "# String with print \n",
    "age=30\n",
    "name=\"Khanh\"\n",
    "\n",
    "print(\"Mr.\",name, \"is\", age, \"years old.\")"
   ]
  },
  {
   "cell_type": "code",
   "execution_count": 20,
   "metadata": {},
   "outputs": [
    {
     "name": "stdout",
     "output_type": "stream",
     "text": [
      "Please type your name:No, I don't want to...\n"
     ]
    }
   ],
   "source": [
    "# Using input \n",
    "\n",
    "user=input(\"Please type your name:\")"
   ]
  },
  {
   "cell_type": "code",
   "execution_count": 21,
   "metadata": {},
   "outputs": [
    {
     "data": {
      "text/plain": [
       "\"No, I don't want to...\""
      ]
     },
     "execution_count": 21,
     "metadata": {},
     "output_type": "execute_result"
    }
   ],
   "source": [
    "user"
   ]
  },
  {
   "cell_type": "markdown",
   "metadata": {},
   "source": [
    "**String Operators**\n",
    "\n",
    "There are many string operators, and it can be found [here](https://www.python-ds.com/python-3-string-operators)"
   ]
  },
  {
   "cell_type": "code",
   "execution_count": 25,
   "metadata": {},
   "outputs": [
    {
     "data": {
      "text/plain": [
       "'Ha Van Khanh'"
      ]
     },
     "execution_count": 25,
     "metadata": {},
     "output_type": "execute_result"
    }
   ],
   "source": [
    "# Plus two or multiple text strings\n",
    "## Create first name and last name\n",
    "firstName=\"Ha Van\"\n",
    "lastName=\"Khanh\"\n",
    "# Create Fullname\n",
    "fullName=firstName+lastName # They will not have a space between first and last name\n",
    "# Overcome it, add \" \" between\n",
    "fullName=firstName + \" \" + lastName\n",
    "# print(fullName)\n",
    "fullName"
   ]
  },
  {
   "cell_type": "code",
   "execution_count": 26,
   "metadata": {},
   "outputs": [
    {
     "name": "stdout",
     "output_type": "stream",
     "text": [
      "String 1 String 2  String 3 !!!!\n"
     ]
    }
   ],
   "source": [
    "# Plus multiple strings\n",
    "a=\"String 1\"\n",
    "b=\"String 2\"\n",
    "c=\"String 3\"\n",
    "\n",
    "plusString=a + \" \"+ b +\" \" +\" \"+ c\n",
    "print(plusString, \"!!!!\")"
   ]
  },
  {
   "cell_type": "code",
   "execution_count": 28,
   "metadata": {},
   "outputs": [
    {
     "name": "stdout",
     "output_type": "stream",
     "text": [
      "Good. Good. Good. \n"
     ]
    }
   ],
   "source": [
    "# Multiply strings\n",
    "string=\"Good. \"\n",
    "\n",
    "print(string*3)"
   ]
  },
  {
   "cell_type": "code",
   "execution_count": 41,
   "metadata": {},
   "outputs": [
    {
     "data": {
      "text/plain": [
       "'654321'"
      ]
     },
     "execution_count": 41,
     "metadata": {},
     "output_type": "execute_result"
    }
   ],
   "source": [
    "# Reverse string\n",
    "string=\"123456\"\n",
    "\n",
    "string[::-1]"
   ]
  },
  {
   "cell_type": "code",
   "execution_count": 3,
   "metadata": {},
   "outputs": [
    {
     "data": {
      "text/plain": [
       "True"
      ]
     },
     "execution_count": 3,
     "metadata": {},
     "output_type": "execute_result"
    }
   ],
   "source": [
    "# Membership in\n",
    "\"ha\" in \"Han Van Khanh\"\n"
   ]
  },
  {
   "cell_type": "code",
   "execution_count": 34,
   "metadata": {},
   "outputs": [
    {
     "data": {
      "text/plain": [
       "False"
      ]
     },
     "execution_count": 34,
     "metadata": {},
     "output_type": "execute_result"
    }
   ],
   "source": [
    "# Compare two string\n",
    "\"Ha\"==\"Ha Van\""
   ]
  },
  {
   "cell_type": "code",
   "execution_count": 35,
   "metadata": {},
   "outputs": [
    {
     "data": {
      "text/plain": [
       "False"
      ]
     },
     "execution_count": 35,
     "metadata": {},
     "output_type": "execute_result"
    }
   ],
   "source": [
    "# not in\n",
    "\n",
    "\"Ha Nguyen\" not in \"Ha Nguyen Khanh\""
   ]
  },
  {
   "cell_type": "markdown",
   "metadata": {},
   "source": [
    "**String index**\n",
    "\n",
    "The pic below from realpython.com website demonstrates the string indexing."
   ]
  },
  {
   "attachments": {
    "image-2.png": {
     "image/png": "[encoded data removed]"
    }
   },
   "cell_type": "markdown",
   "metadata": {},
   "source": [
    "![image-2.png](attachment:image-2.png)"
   ]
  },
  {
   "cell_type": "code",
   "execution_count": 38,
   "metadata": {},
   "outputs": [
    {
     "data": {
      "text/plain": [
       "'oob'"
      ]
     },
     "execution_count": 38,
     "metadata": {},
     "output_type": "execute_result"
    }
   ],
   "source": [
    "string=\"foobar\"\n",
    "# Get single character by using [] \n",
    "string[0]\n",
    "# Get three last letters \n",
    "string[3:]\n",
    "string[3:6] # String slicing \n",
    "# Get the last letter\n",
    "string[-1]\n",
    "# Using negative index\n",
    "string[-5:-2]"
   ]
  },
  {
   "cell_type": "markdown",
   "metadata": {},
   "source": [
    "**Note**\n",
    "\n",
    "Please note that `empty space` in string also has index.\n",
    "\n",
    "String is `immutable`"
   ]
  },
  {
   "cell_type": "code",
   "execution_count": 38,
   "metadata": {},
   "outputs": [
    {
     "data": {
      "text/plain": [
       "'Ha '"
      ]
     },
     "execution_count": 38,
     "metadata": {},
     "output_type": "execute_result"
    }
   ],
   "source": [
    "string=\"Ha Van Khanh\"\n",
    "string[2] # position 2 is an empty space\n",
    "string[:3] # Get letters from index 0 upto 3 (exclusive)"
   ]
  },
  {
   "cell_type": "markdown",
   "metadata": {},
   "source": [
    "**Task**\n",
    "\n",
    "s1 = \"Ault\"\n",
    "s2 = \"Kelly\"\n",
    "\n",
    "Output:\n",
    "\n",
    "AuKellylt"
   ]
  },
  {
   "cell_type": "code",
   "execution_count": 130,
   "metadata": {},
   "outputs": [],
   "source": [
    "string[2]=\"AI\" # Can't modify "
   ]
  },
  {
   "cell_type": "markdown",
   "metadata": {},
   "source": [
    "**String formating**\n",
    "\n",
    "There are few ways to format strings in Python. For this course, it is enough to know two following formats `.format` and `f`."
   ]
  },
  {
   "cell_type": "code",
   "execution_count": 55,
   "metadata": {},
   "outputs": [
    {
     "name": "stdout",
     "output_type": "stream",
     "text": [
      "Mr. Manh is 30 years Hahaha old.  0.22\n"
     ]
    }
   ],
   "source": [
    "# Create strings and format\n",
    "age=30\n",
    "name=\"Manh\"\n",
    "\n",
    "print(\"Mr. {} is {} years {} old.  {:.2}\".format(name, age,\"Hahaha\",0.223222))\n",
    "\n",
    "# print(\"Mr.\", name, \"is\", age, \"years old.\")"
   ]
  },
  {
   "cell_type": "code",
   "execution_count": 47,
   "metadata": {},
   "outputs": [
    {
     "name": "stdout",
     "output_type": "stream",
     "text": [
      "Mr. Manh is 30 years old.\n",
      "Mr. Manh is 30 years old.\n"
     ]
    }
   ],
   "source": [
    "# Alternatively\n",
    "print(f\"Mr. {name} is {age} years old.\")"
   ]
  },
  {
   "cell_type": "markdown",
   "metadata": {},
   "source": [
    "**String Methods**\n",
    "\n",
    "There are many methods associated with string object. We will look at some of them and more can be found [here](https://www.python-ds.com/python-3-string-methods)."
   ]
  },
  {
   "cell_type": "code",
   "execution_count": 52,
   "metadata": {},
   "outputs": [
    {
     "data": {
      "text/plain": [
       "'NGUYEN THI HANH'"
      ]
     },
     "execution_count": 52,
     "metadata": {},
     "output_type": "execute_result"
    }
   ],
   "source": [
    "string=\"nguyen thi hanh\"\n",
    "# Converting lower case to upper case\n",
    "string.upper()# If we want to use it later, we should assign it to a variable"
   ]
  },
  {
   "cell_type": "code",
   "execution_count": 53,
   "metadata": {},
   "outputs": [
    {
     "name": "stdout",
     "output_type": "stream",
     "text": [
      "['__add__', '__class__', '__contains__', '__delattr__', '__dir__', '__doc__', '__eq__', '__format__', '__ge__', '__getattribute__', '__getitem__', '__getnewargs__', '__gt__', '__hash__', '__init__', '__init_subclass__', '__iter__', '__le__', '__len__', '__lt__', '__mod__', '__mul__', '__ne__', '__new__', '__reduce__', '__reduce_ex__', '__repr__', '__rmod__', '__rmul__', '__setattr__', '__sizeof__', '__str__', '__subclasshook__', 'capitalize', 'casefold', 'center', 'count', 'encode', 'endswith', 'expandtabs', 'find', 'format', 'format_map', 'index', 'isalnum', 'isalpha', 'isascii', 'isdecimal', 'isdigit', 'isidentifier', 'islower', 'isnumeric', 'isprintable', 'isspace', 'istitle', 'isupper', 'join', 'ljust', 'lower', 'lstrip', 'maketrans', 'partition', 'replace', 'rfind', 'rindex', 'rjust', 'rpartition', 'rsplit', 'rstrip', 'split', 'splitlines', 'startswith', 'strip', 'swapcase', 'title', 'translate', 'upper', 'zfill']\n"
     ]
    }
   ],
   "source": [
    "# Investigate string methods\n",
    "\n",
    "print(dir(string))"
   ]
  },
  {
   "cell_type": "code",
   "execution_count": 58,
   "metadata": {},
   "outputs": [
    {
     "data": {
      "text/plain": [
       "'Ha van khanh'"
      ]
     },
     "execution_count": 58,
     "metadata": {},
     "output_type": "execute_result"
    }
   ],
   "source": [
    "# Capitalize\n",
    "string.capitalize()"
   ]
  },
  {
   "cell_type": "code",
   "execution_count": 59,
   "metadata": {},
   "outputs": [
    {
     "data": {
      "text/plain": [
       "'Ha Van Khanh'"
      ]
     },
     "execution_count": 59,
     "metadata": {},
     "output_type": "execute_result"
    }
   ],
   "source": [
    "# strip\n",
    "string=\" Ha Van Khanh \"\n",
    "string.strip()"
   ]
  },
  {
   "cell_type": "code",
   "execution_count": 129,
   "metadata": {},
   "outputs": [
    {
     "data": {
      "text/plain": [
       "'Ha van Tuyen 020303030202'"
      ]
     },
     "execution_count": 129,
     "metadata": {},
     "output_type": "execute_result"
    }
   ],
   "source": [
    "# Strip \".com\" using right strip rstrip\n",
    "\"congty.com\".rstrip(\".com\")\n",
    "\n",
    "number=\"&Ha van Tuyen 020303030202&\"\n",
    "# strip both\n",
    "number.strip(\"&\")"
   ]
  },
  {
   "cell_type": "code",
   "execution_count": 64,
   "metadata": {},
   "outputs": [
    {
     "data": {
      "text/plain": [
       "['This', 'is', 'a', 'split', 'method.', 'Okay']"
      ]
     },
     "execution_count": 64,
     "metadata": {},
     "output_type": "execute_result"
    }
   ],
   "source": [
    "# Split\n",
    "string=\"This is a split method.\"\n",
    "\n",
    "split=string.split() # We can pass a pattern into split like split(\".\")\n",
    "split"
   ]
  },
  {
   "cell_type": "code",
   "execution_count": 65,
   "metadata": {},
   "outputs": [
    {
     "data": {
      "text/plain": [
       "'This is a split method. Okay'"
      ]
     },
     "execution_count": 65,
     "metadata": {},
     "output_type": "execute_result"
    }
   ],
   "source": [
    "# join() to convert a list to a string/text\n",
    "\" \".join(split) "
   ]
  },
  {
   "cell_type": "code",
   "execution_count": 70,
   "metadata": {},
   "outputs": [
    {
     "data": {
      "text/plain": [
       "'This is a replace method.'"
      ]
     },
     "execution_count": 70,
     "metadata": {},
     "output_type": "execute_result"
    }
   ],
   "source": [
    "# Replace\n",
    "string=\"This is a split method.\"\n",
    "\n",
    "string.replace(\"split\",\"replace\")# We can pass a list/ dictionary into replace()"
   ]
  },
  {
   "cell_type": "code",
   "execution_count": 72,
   "metadata": {},
   "outputs": [
    {
     "data": {
      "text/plain": [
       "10"
      ]
     },
     "execution_count": 72,
     "metadata": {},
     "output_type": "execute_result"
    }
   ],
   "source": [
    "# Index\n",
    "index=string.index(\"split\") # a is in a position 8\n",
    "index"
   ]
  },
  {
   "cell_type": "code",
   "execution_count": 69,
   "metadata": {},
   "outputs": [
    {
     "data": {
      "text/plain": [
       "True"
      ]
     },
     "execution_count": 69,
     "metadata": {},
     "output_type": "execute_result"
    }
   ],
   "source": [
    "# endswith\n",
    "file=\"world.shp\"\n",
    "\n",
    "file.endswith(\".shp\")"
   ]
  },
  {
   "cell_type": "code",
   "execution_count": 70,
   "metadata": {},
   "outputs": [
    {
     "data": {
      "text/plain": [
       "False"
      ]
     },
     "execution_count": 70,
     "metadata": {},
     "output_type": "execute_result"
    }
   ],
   "source": [
    "# isdigit()\n",
    "file.isdigit()"
   ]
  },
  {
   "cell_type": "code",
   "execution_count": 77,
   "metadata": {},
   "outputs": [
    {
     "data": {
      "text/plain": [
       "False"
      ]
     },
     "execution_count": 77,
     "metadata": {},
     "output_type": "execute_result"
    }
   ],
   "source": [
    "# isalpha() is used to idetify string\n",
    "string=\"123number\"\n",
    "string.isalpha()"
   ]
  },
  {
   "cell_type": "code",
   "execution_count": 78,
   "metadata": {},
   "outputs": [
    {
     "data": {
      "text/plain": [
       "True"
      ]
     },
     "execution_count": 78,
     "metadata": {},
     "output_type": "execute_result"
    }
   ],
   "source": [
    "\"234AA5\".isalnum()"
   ]
  },
  {
   "cell_type": "code",
   "execution_count": 85,
   "metadata": {},
   "outputs": [
    {
     "data": {
      "text/plain": [
       "'-------Ha van-------'"
      ]
     },
     "execution_count": 85,
     "metadata": {},
     "output_type": "execute_result"
    }
   ],
   "source": [
    "# center \n",
    "\"Ha van\".center(20,\"-\")"
   ]
  },
  {
   "cell_type": "code",
   "execution_count": 80,
   "metadata": {},
   "outputs": [
    {
     "data": {
      "text/plain": [
       "-1"
      ]
     },
     "execution_count": 80,
     "metadata": {},
     "output_type": "execute_result"
    }
   ],
   "source": [
    "# find return index or -1 if no found\n",
    "\n",
    "\"This a string\".find(\"f\")"
   ]
  },
  {
   "cell_type": "markdown",
   "metadata": {},
   "source": [
    "**Escape Sequence**\n",
    "\n",
    "There are many escape sequence, but we will look at some of them. More in escape sequence can be found [here](https://www.python-ds.com/python-3-escape-sequences)"
   ]
  },
  {
   "cell_type": "code",
   "execution_count": 81,
   "metadata": {},
   "outputs": [
    {
     "name": "stdout",
     "output_type": "stream",
     "text": [
      "Name: Nguyen Van A\n",
      "Age: 30\n"
     ]
    }
   ],
   "source": [
    "# new line \\n\n",
    "\n",
    "string=\"Name: Nguyen Van A\\nAge: 30\"\n",
    "\n",
    "print(string)"
   ]
  },
  {
   "cell_type": "code",
   "execution_count": 103,
   "metadata": {},
   "outputs": [
    {
     "name": "stdout",
     "output_type": "stream",
     "text": [
      "This is a string and it is too long to fit in a line. Hence, we can go to next line\n"
     ]
    }
   ],
   "source": [
    "# Continue \n",
    "string=\"This is a string and it is too long to fit in a line. Hence, we can \\\n",
    "go to next line\" # note that no space after \\\n",
    "\n",
    "print(string)"
   ]
  },
  {
   "cell_type": "markdown",
   "metadata": {},
   "source": [
    "## Numeric data types\n",
    "\n",
    "There are some data types such as `int` and `float`."
   ]
  },
  {
   "cell_type": "code",
   "execution_count": 82,
   "metadata": {},
   "outputs": [
    {
     "data": {
      "text/plain": [
       "int"
      ]
     },
     "execution_count": 82,
     "metadata": {},
     "output_type": "execute_result"
    }
   ],
   "source": [
    "# int \n",
    "intNumber=1\n",
    "# Print out the data type\n",
    "type(intNumber)"
   ]
  },
  {
   "cell_type": "code",
   "execution_count": 83,
   "metadata": {},
   "outputs": [
    {
     "data": {
      "text/plain": [
       "float"
      ]
     },
     "execution_count": 83,
     "metadata": {},
     "output_type": "execute_result"
    }
   ],
   "source": [
    "# float\n",
    "floatNumber=20.20\n",
    "type(floatNumber)"
   ]
  },
  {
   "cell_type": "markdown",
   "metadata": {},
   "source": [
    "**Mathematic Operators**\n",
    "\n",
    "We can apply normal operators to int or float as we have learnt in high school such as `+`, `-`, `*` (multiply), `/` (division), `**` (square)."
   ]
  },
  {
   "cell_type": "code",
   "execution_count": 84,
   "metadata": {},
   "outputs": [
    {
     "data": {
      "text/plain": [
       "27"
      ]
     },
     "execution_count": 84,
     "metadata": {},
     "output_type": "execute_result"
    }
   ],
   "source": [
    "3**3"
   ]
  },
  {
   "cell_type": "code",
   "execution_count": 85,
   "metadata": {},
   "outputs": [
    {
     "data": {
      "text/plain": [
       "11.25"
      ]
     },
     "execution_count": 85,
     "metadata": {},
     "output_type": "execute_result"
    }
   ],
   "source": [
    "45/4"
   ]
  },
  {
   "cell_type": "code",
   "execution_count": 89,
   "metadata": {},
   "outputs": [
    {
     "data": {
      "text/plain": [
       "5"
      ]
     },
     "execution_count": 89,
     "metadata": {},
     "output_type": "execute_result"
    }
   ],
   "source": [
    "count=3\n",
    "# count=count+2\n",
    "count+=2\n",
    "count"
   ]
  },
  {
   "cell_type": "markdown",
   "metadata": {},
   "source": [
    "**Data Type Conversion**\n",
    "\n",
    "In some cases, we have to convert between data types."
   ]
  },
  {
   "cell_type": "code",
   "execution_count": 115,
   "metadata": {},
   "outputs": [
    {
     "data": {
      "text/plain": [
       "'23.78'"
      ]
     },
     "execution_count": 115,
     "metadata": {},
     "output_type": "execute_result"
    }
   ],
   "source": [
    "# Convert float to string\n",
    "\n",
    "floatNum=23.78\n",
    "\n",
    "stringNum=str(floatNum)\n",
    "stringNum"
   ]
  },
  {
   "cell_type": "code",
   "execution_count": 117,
   "metadata": {},
   "outputs": [
    {
     "data": {
      "text/plain": [
       "13"
      ]
     },
     "execution_count": 117,
     "metadata": {},
     "output_type": "execute_result"
    }
   ],
   "source": [
    "# Convert float to int\n",
    "floatNum=13.234\n",
    "\n",
    "stringNum=int(floatNum)\n",
    "\n",
    "stringNum"
   ]
  },
  {
   "cell_type": "code",
   "execution_count": 123,
   "metadata": {},
   "outputs": [
    {
     "name": "stdout",
     "output_type": "stream",
     "text": [
      "String Number: 1234.45\n",
      "Float Number: 1234.45\n",
      "Int Number: 1234\n"
     ]
    }
   ],
   "source": [
    "# Convert string number to int or float\n",
    "string=\"1234.45\"\n",
    "print(f\"String Number: {string}\")\n",
    "# To float\n",
    "floatNum=float(string) \n",
    "print(f\"Float Number: {floatNum}\")\n",
    "# To int\n",
    "intNumber=int(floatNum)\n",
    "print(f\"Int Number: {intNumber}\")"
   ]
  },
  {
   "cell_type": "markdown",
   "metadata": {},
   "source": [
    "# Exercises\n",
    "\n",
    "Most of the exercises contain in this notebook taken from [w3resource.com](https://www.w3resource.com/)"
   ]
  },
  {
   "cell_type": "markdown",
   "metadata": {},
   "source": [
    "**1** . Write a Python program to print the following string in a specific format (see the output).\n",
    "\n",
    "Sample String: \"Twinkle, twinkle, little star, How I wonder what you are! Up above the world so high, Like a diamond in the sky. Twinkle, twinkle, little star, How I wonder what you are!\""
   ]
  },
  {
   "attachments": {
    "image.png": {
     "image/png": "[encoded data removed]"
    }
   },
   "cell_type": "markdown",
   "metadata": {},
   "source": [
    "Output sample:\n",
    "\n",
    "![image.png](attachment:image.png)"
   ]
  },
  {
   "cell_type": "code",
   "execution_count": 25,
   "metadata": {},
   "outputs": [
    {
     "name": "stdout",
     "output_type": "stream",
     "text": [
      "Twinkle, twinkle, little star, \n",
      "\tHow I wonder what you are!\n",
      "\t\tUp above the world so high, \n",
      "\t\tLike a diamond in the sky.\n",
      "Twinkle, twinkle, little star, \n",
      "\tHow I wonder what you are!\n"
     ]
    }
   ],
   "source": [
    "print(\"Twinkle, twinkle, little star, \\n\\tHow I wonder what you are!\\\n",
    "\\n\\t\\tUp above the world so high, \\n\\t\\tLike a diamond in the sky.\\\n",
    "\\nTwinkle, twinkle, little star, \\n\\tHow I wonder what you are!\")"
   ]
  },
  {
   "cell_type": "markdown",
   "metadata": {},
   "source": [
    "2. Write a Python program which accepts the user's first and last name and print them in reverse order with a space between them."
   ]
  },
  {
   "cell_type": "code",
   "execution_count": 12,
   "metadata": {},
   "outputs": [
    {
     "name": "stdout",
     "output_type": "stream",
     "text": [
      "Please enter your first name: Ha\n",
      "Please enter your last name: Khanh\n",
      "Hello! Khanh Ha.\n"
     ]
    }
   ],
   "source": [
    "first=input(\"Please enter your first name: \")\n",
    "last=input(\"Please enter your last name: \")\n",
    "\n",
    "print(f\"Hello! {last} {first}.\")"
   ]
  },
  {
   "cell_type": "markdown",
   "metadata": {},
   "source": [
    "3. Write a Python program which accepts a sequence of comma-separated numbers from user and generate a list with those numbers.\n",
    "\n",
    "    Sample data : 3, 5, 7, 23 <br>\n",
    "    Output : <br>\n",
    "    List : ['3', ' 5', ' 7', ' 23'] "
   ]
  },
  {
   "cell_type": "code",
   "execution_count": 10,
   "metadata": {},
   "outputs": [
    {
     "name": "stdout",
     "output_type": "stream",
     "text": [
      "Please enter your numbers: 1 2 34 4 4\n"
     ]
    },
    {
     "data": {
      "text/plain": [
       "['1', '2', '34', '4', '4']"
      ]
     },
     "execution_count": 10,
     "metadata": {},
     "output_type": "execute_result"
    }
   ],
   "source": [
    "userNumber=input(\"Please enter your numbers: \")\n",
    "\n",
    "userNumber.split()"
   ]
  },
  {
   "cell_type": "markdown",
   "metadata": {},
   "source": [
    "4. Write a Python program to accept a filename from the user and print the extension of that.<br>\n",
    "    Sample file: \"tailieu.doc\" <br>\n",
    "    Output: \".doc\""
   ]
  },
  {
   "cell_type": "code",
   "execution_count": 9,
   "metadata": {},
   "outputs": [
    {
     "name": "stdout",
     "output_type": "stream",
     "text": [
      "tailieu.doc\n"
     ]
    }
   ],
   "source": [
    "file=\"tailieu.doc\"\n",
    "\n",
    "if file.endswith(\".doc\"):\n",
    "    print(file)\n",
    "else:\n",
    "    print(\"Don't exist\")"
   ]
  },
  {
   "cell_type": "markdown",
   "metadata": {},
   "source": [
    "5. Write a Python program to print the following 'here document'. <br>\n",
    "    Sample string : <br>\n",
    "    a string that you \"don't\" have to escape <br>\n",
    "    This<br>\n",
    "    is a ....... multi-line<br>\n",
    "    heredoc string --------> example<br>"
   ]
  },
  {
   "cell_type": "code",
   "execution_count": 27,
   "metadata": {},
   "outputs": [
    {
     "name": "stdout",
     "output_type": "stream",
     "text": [
      "\n",
      "a string that you \"don't\" have to escape\n",
      "This\n",
      "is a ....... multi-line\n",
      "heredoc string --------> example\n",
      "\n"
     ]
    }
   ],
   "source": [
    "print('''\n",
    "a string that you \"don't\" have to escape\n",
    "This\n",
    "is a ....... multi-line\n",
    "heredoc string --------> example\n",
    "''')"
   ]
  },
  {
   "cell_type": "markdown",
   "metadata": {},
   "source": [
    "7. Write a Python program to get the difference between a given number and 17, if the number is greater than 17 return double the absolute difference"
   ]
  },
  {
   "cell_type": "code",
   "execution_count": 7,
   "metadata": {},
   "outputs": [
    {
     "name": "stdout",
     "output_type": "stream",
     "text": [
      "Please enter your number? 34\n",
      "User Number> 17. Ket qua la:  34.0\n"
     ]
    }
   ],
   "source": [
    "userNumber=float(input(\"Please enter your number? \"))\n",
    "\n",
    "if userNumber>17:\n",
    "    ketqua=userNumber-17\n",
    "    ketqua=ketqua*2\n",
    "    print(\"User Number> 17. Ket qua la: \",ketqua)\n",
    "else:\n",
    "    userNumber"
   ]
  },
  {
   "cell_type": "markdown",
   "metadata": {},
   "source": [
    "8. Write a Python program to test whether a number is within 100 of 1000 or 2000"
   ]
  },
  {
   "cell_type": "code",
   "execution_count": 29,
   "metadata": {},
   "outputs": [
    {
     "data": {
      "text/plain": [
       "True"
      ]
     },
     "execution_count": 29,
     "metadata": {},
     "output_type": "execute_result"
    }
   ],
   "source": [
    "# Check \n",
    "1 not in range(100,1001)"
   ]
  },
  {
   "cell_type": "markdown",
   "metadata": {},
   "source": [
    "9. Write a Python program to display your details like name, age, address in three different lines. "
   ]
  },
  {
   "cell_type": "code",
   "execution_count": 3,
   "metadata": {},
   "outputs": [
    {
     "name": "stdout",
     "output_type": "stream",
     "text": [
      "Name: Ha Van Hung\n",
      "Age:30\n",
      "Address: HN, Vietnam.\n"
     ]
    }
   ],
   "source": [
    "print(\"Name: Ha Van Hung\\nAge:30\\nAddress: HN, Vietnam.\")"
   ]
  },
  {
   "cell_type": "markdown",
   "metadata": {},
   "source": [
    "10. Check if a given number or string is the same data type."
   ]
  },
  {
   "cell_type": "code",
   "execution_count": 1,
   "metadata": {},
   "outputs": [
    {
     "name": "stdout",
     "output_type": "stream",
     "text": [
      "Please type your name: Ha\n"
     ]
    },
    {
     "data": {
      "text/plain": [
       "True"
      ]
     },
     "execution_count": 1,
     "metadata": {},
     "output_type": "execute_result"
    }
   ],
   "source": [
    "# Given a string or number\n",
    "\n",
    "userInput=input(\"Please type your name: \")\n",
    "\n",
    "type(userInput)==str"
   ]
  }
 ],
 "metadata": {
  "kernelspec": {
   "display_name": "Python 3",
   "language": "python",
   "name": "python3"
  },
  "language_info": {
   "codemirror_mode": {
    "name": "ipython",
    "version": 3
   },
   "file_extension": ".py",
   "mimetype": "text/x-python",
   "name": "python",
   "nbconvert_exporter": "python",
   "pygments_lexer": "ipython3",
   "version": "3.8.5"
  }
 },
 "nbformat": 4,
 "nbformat_minor": 4
}
