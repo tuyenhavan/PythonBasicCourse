{
 "cells": [
  {
   "cell_type": "markdown",
   "metadata": {},
   "source": [
    "This notebook is to provide the basics of `GEE` in Python. "
   ]
  },
  {
   "cell_type": "code",
   "execution_count": 1,
   "metadata": {},
   "outputs": [],
   "source": [
    "import ee\n",
    "import geemap as emap"
   ]
  },
  {
   "cell_type": "markdown",
   "metadata": {},
   "source": [
    "# <font color='blue'> Initialization of GEE </font>"
   ]
  },
  {
   "cell_type": "code",
   "execution_count": 2,
   "metadata": {},
   "outputs": [
    {
     "data": {
      "text/html": [
       "<p>To authorize access needed by Earth Engine, open the following\n",
       "        URL in a web browser and follow the instructions:</p>\n",
       "        <p><a href=https://accounts.google.com/o/oauth2/auth?client_id=517222506229-vsmmajv00ul0bs7p89v5m89qs8eb9359.apps.googleusercontent.com&scope=https%3A%2F%2Fwww.googleapis.com%2Fauth%2Fearthengine+https%3A%2F%2Fwww.googleapis.com%2Fauth%2Fdevstorage.full_control&redirect_uri=urn%3Aietf%3Awg%3Aoauth%3A2.0%3Aoob&response_type=code&code_challenge=q9HaJYv09habyJE6FdbHw1EYEcmyXpRJf3EDOfAlD_s&code_challenge_method=S256>https://accounts.google.com/o/oauth2/auth?client_id=517222506229-vsmmajv00ul0bs7p89v5m89qs8eb9359.apps.googleusercontent.com&scope=https%3A%2F%2Fwww.googleapis.com%2Fauth%2Fearthengine+https%3A%2F%2Fwww.googleapis.com%2Fauth%2Fdevstorage.full_control&redirect_uri=urn%3Aietf%3Awg%3Aoauth%3A2.0%3Aoob&response_type=code&code_challenge=q9HaJYv09habyJE6FdbHw1EYEcmyXpRJf3EDOfAlD_s&code_challenge_method=S256</a></p>\n",
       "        <p>The authorization workflow will generate a code, which you\n",
       "        should paste in the box below</p>\n",
       "        "
      ],
      "text/plain": [
       "<IPython.core.display.HTML object>"
      ]
     },
     "metadata": {},
     "output_type": "display_data"
    },
    {
     "name": "stdout",
     "output_type": "stream",
     "text": [
      "Enter verification code: 4/1AX4XfWiflHOi3TxdCnW7znX5B16EIbBQe-PZH7ZoNTpB6OmGHVkvxlTjiF8\n",
      "\n",
      "Successfully saved authorization token.\n"
     ]
    }
   ],
   "source": [
    "try: \n",
    "    ee.Initialize()\n",
    "    ee.Authenticate()\n",
    "except:\n",
    "    print(\"Errors\") "
   ]
  },
  {
   "cell_type": "markdown",
   "metadata": {},
   "source": [
    "# <font color='blue'> 1. String Object in GEE </font> "
   ]
  },
  {
   "cell_type": "code",
   "execution_count": 3,
   "metadata": {},
   "outputs": [
    {
     "name": "stdout",
     "output_type": "stream",
     "text": [
      "What's your name?\n"
     ]
    }
   ],
   "source": [
    "# Python string object\n",
    "print(\"What's your name?\")"
   ]
  },
  {
   "cell_type": "code",
   "execution_count": 4,
   "metadata": {},
   "outputs": [
    {
     "name": "stdout",
     "output_type": "stream",
     "text": [
      "ee.String({\n",
      "  \"constantValue\": \"Please send this text to GEE server\"\n",
      "})\n",
      "############################\n",
      "Please send this text to GEE server\n"
     ]
    }
   ],
   "source": [
    "# String object in GEE. \n",
    "ee_string=ee.String(\"Please send this text to GEE server\")\n",
    "print(ee_string)\n",
    "print(\"############################\")\n",
    "# They first sent the string to the server for evaluation and then sent it back to Python.\n",
    "print(ee_string.getInfo()) # Always use .getInfo() if you want to print out its content"
   ]
  },
  {
   "cell_type": "markdown",
   "metadata": {},
   "source": [
    "#  <font color='blue'>  2. Numbers  </font>"
   ]
  },
  {
   "cell_type": "code",
   "execution_count": 5,
   "metadata": {},
   "outputs": [
    {
     "name": "stdout",
     "output_type": "stream",
     "text": [
      "Number 34\n"
     ]
    }
   ],
   "source": [
    "# Python numbers\n",
    "number=34\n",
    "print(\"Number\", number)"
   ]
  },
  {
   "cell_type": "code",
   "execution_count": 6,
   "metadata": {},
   "outputs": [
    {
     "name": "stdout",
     "output_type": "stream",
     "text": [
      "34\n"
     ]
    }
   ],
   "source": [
    "# GEE server numbers. \n",
    "serverNumber=ee.Number(34)\n",
    "# They first sent number to GEE server and then sent it back to Python\n",
    "print(serverNumber.getInfo())"
   ]
  },
  {
   "cell_type": "markdown",
   "metadata": {},
   "source": [
    "# <font color=\"blue\"> 3. Methods on GEE Objects </font>"
   ]
  },
  {
   "cell_type": "code",
   "execution_count": 7,
   "metadata": {},
   "outputs": [
    {
     "name": "stdout",
     "output_type": "stream",
     "text": [
      "4.605170185988092\n"
     ]
    }
   ],
   "source": [
    "# Log in GEE\n",
    "print(ee.Number(100).log().getInfo()) # log(e)"
   ]
  },
  {
   "cell_type": "code",
   "execution_count": 8,
   "metadata": {},
   "outputs": [
    {
     "name": "stdout",
     "output_type": "stream",
     "text": [
      "['And', 'Not', 'Or', '__class__', '__delattr__', '__dict__', '__dir__', '__doc__', '__eq__', '__format__', '__ge__', '__getattribute__', '__gt__', '__hash__', '__init__', '__init_subclass__', '__le__', '__lt__', '__module__', '__ne__', '__new__', '__reduce__', '__reduce_ex__', '__repr__', '__setattr__', '__sizeof__', '__str__', '__subclasshook__', '__weakref__', '_cast', '_initialized', '_number', 'abs', 'acos', 'add', 'args', 'aside', 'asin', 'atan', 'atan2', 'bitCount', 'bitwiseAnd', 'bitwiseNot', 'bitwiseOr', 'bitwiseXor', 'bitwise_and', 'bitwise_not', 'bitwise_or', 'bitwise_xor', 'byte', 'cbrt', 'ceil', 'clamp', 'cos', 'cosh', 'digamma', 'divide', 'double', 'encode', 'encode_cloud_value', 'eq', 'erf', 'erfInv', 'erfc', 'erfcInv', 'exp', 'expression', 'first', 'firstNonZero', 'first_nonzero', 'float', 'floor', 'format', 'freeze', 'func', 'gamma', 'gammainc', 'getInfo', 'gt', 'gte', 'hypot', 'initialize', 'int', 'int16', 'int32', 'int64', 'int8', 'isVariable', 'lanczos', 'leftShift', 'left_shift', 'log', 'log10', 'long', 'lt', 'lte', 'max', 'min', 'mod', 'multiply', 'name', 'neq', 'parse', 'pow', 'reset', 'rightShift', 'right_shift', 'round', 'serialize', 'short', 'signum', 'sin', 'sinh', 'sqrt', 'subtract', 'tan', 'tanh', 'toByte', 'toDouble', 'toFloat', 'toInt', 'toInt16', 'toInt32', 'toInt64', 'toInt8', 'toLong', 'toShort', 'toUint16', 'toUint32', 'toUint8', 'trigamma', 'uint16', 'uint32', 'uint8', 'unitScale', 'varName']\n"
     ]
    }
   ],
   "source": [
    "num=ee.Number(10)\n",
    "# Print out all methods associated with ee.Number()\n",
    "print(dir(num))"
   ]
  },
  {
   "cell_type": "code",
   "execution_count": 9,
   "metadata": {},
   "outputs": [
    {
     "name": "stdout",
     "output_type": "stream",
     "text": [
      "1\n"
     ]
    }
   ],
   "source": [
    "#Some Exapmles\n",
    "print(ee.Number(10).log10().getInfo()) # Log10(10)"
   ]
  },
  {
   "cell_type": "code",
   "execution_count": 10,
   "metadata": {},
   "outputs": [
    {
     "name": "stdout",
     "output_type": "stream",
     "text": [
      "9\n"
     ]
    }
   ],
   "source": [
    "print(ee.Number(3).pow(2).getInfo()) # 3^2"
   ]
  },
  {
   "cell_type": "code",
   "execution_count": 11,
   "metadata": {},
   "outputs": [
    {
     "data": {
      "text/plain": [
       "5"
      ]
     },
     "execution_count": 11,
     "metadata": {},
     "output_type": "execute_result"
    }
   ],
   "source": [
    "# Using divide method \n",
    "ee.Number(10).divide(2).getInfo()"
   ]
  },
  {
   "cell_type": "code",
   "execution_count": 12,
   "metadata": {},
   "outputs": [
    {
     "data": {
      "text/plain": [
       "int"
      ]
     },
     "execution_count": 12,
     "metadata": {},
     "output_type": "execute_result"
    }
   ],
   "source": [
    "a=ee.Number(10.22).toInt32() # Convert float to int32\n",
    "\n",
    "type(a.getInfo())"
   ]
  },
  {
   "cell_type": "markdown",
   "metadata": {},
   "source": [
    "## <font color=\"blue\"> 3.1. Lists </font>"
   ]
  },
  {
   "cell_type": "code",
   "execution_count": 13,
   "metadata": {},
   "outputs": [
    {
     "data": {
      "text/plain": [
       "[1, 2, 3, 4]"
      ]
     },
     "execution_count": 13,
     "metadata": {},
     "output_type": "execute_result"
    }
   ],
   "source": [
    "# Creating a list in GEE\n",
    "eeList=ee.List([1,2,3,4])\n",
    "\n",
    "# print(dir(eeList)) # print out all associated methods with ee.List\n",
    "\n",
    "eeList.getInfo()"
   ]
  },
  {
   "cell_type": "code",
   "execution_count": 14,
   "metadata": {},
   "outputs": [
    {
     "name": "stdout",
     "output_type": "stream",
     "text": [
      "Length of the list: 4\n"
     ]
    }
   ],
   "source": [
    "print(\"Length of the list:\",eeList.length().getInfo())"
   ]
  },
  {
   "cell_type": "code",
   "execution_count": 15,
   "metadata": {},
   "outputs": [
    {
     "data": {
      "text/plain": [
       "[[1, 3], [2, 2], [3, 4], [4, 5]]"
      ]
     },
     "execution_count": 15,
     "metadata": {},
     "output_type": "execute_result"
    }
   ],
   "source": [
    "# Using zip() to make a pair of values\n",
    "list1=ee.List([3,2,4,5])\n",
    "# list2=ee.List([5,6,7,7])\n",
    "zipList=eeList.zip(list1).getInfo()\n",
    "zipList # This is a normal list"
   ]
  },
  {
   "cell_type": "code",
   "execution_count": 16,
   "metadata": {},
   "outputs": [
    {
     "data": {
      "text/plain": [
       "list"
      ]
     },
     "execution_count": 16,
     "metadata": {},
     "output_type": "execute_result"
    }
   ],
   "source": [
    "# Turn a Python list into a GEE list\n",
    "eeList=ee.List(zipList)\n",
    "\n",
    "type(eeList.getInfo())"
   ]
  },
  {
   "cell_type": "code",
   "execution_count": 17,
   "metadata": {},
   "outputs": [
    {
     "name": "stdout",
     "output_type": "stream",
     "text": [
      "[2, 2, 2, 2, 2, 2, 2, 2, 2, 2]\n"
     ]
    }
   ],
   "source": [
    "# Repeat list demo\n",
    "repeatList=ee.List.repeat(2,10)\n",
    "\n",
    "print(repeatList.getInfo())"
   ]
  },
  {
   "cell_type": "code",
   "execution_count": 18,
   "metadata": {},
   "outputs": [
    {
     "data": {
      "text/plain": [
       "[2010, 2011, 2012, 2013, 2014, 2015, 2016, 2017, 2018, 2019, 2020]"
      ]
     },
     "execution_count": 18,
     "metadata": {},
     "output_type": "execute_result"
    }
   ],
   "source": [
    "mlist=ee.List.sequence(2010,2020)\n",
    "\n",
    "mlist.getInfo()\n",
    "\n",
    "# l=list(range(1,10))\n",
    "# l"
   ]
  },
  {
   "cell_type": "markdown",
   "metadata": {},
   "source": [
    "#### List indexing"
   ]
  },
  {
   "cell_type": "code",
   "execution_count": 19,
   "metadata": {},
   "outputs": [
    {
     "data": {
      "text/plain": [
       "6"
      ]
     },
     "execution_count": 19,
     "metadata": {},
     "output_type": "execute_result"
    }
   ],
   "source": [
    "# Create a list\n",
    "eeList=ee.List.sequence(1,20)\n",
    "# Get value at a given index\n",
    "eeList.get(5).getInfo()"
   ]
  },
  {
   "cell_type": "code",
   "execution_count": null,
   "metadata": {},
   "outputs": [],
   "source": [
    "# Creating a list\n",
    "eeList=ee.List.sequence(1,20)\n",
    "# Make modifications to a list\n",
    "for i in eeList.getInfo():\n",
    "    cong=ee.Number(i).add(ee.Number(3))\n",
    "    tru=ee.Number(i).subtract(4)\n",
    "    nhan=ee.Number(i).multiply(3)\n",
    "    chia=ee.Number(i).divide(3)\n",
    "    print(f\"Phep cong: {cong.getInfo()}, Phep tru: {tru.getInfo()}, Phep nhan: {nhan.getInfo()}, Phep chia: {round(chia.getInfo(),3)}\")"
   ]
  },
  {
   "cell_type": "code",
   "execution_count": null,
   "metadata": {},
   "outputs": [],
   "source": [
    "month=ee.List.sequence(1,12)\n",
    "year=ee.List.sequence(2010,2020)\n",
    "\n",
    "for y in year.getInfo():\n",
    "    for m in month.getInfo():\n",
    "        print(f\"Tháng {m} năm {y}\")"
   ]
  },
  {
   "cell_type": "markdown",
   "metadata": {},
   "source": [
    "**Challenge**\n",
    "\n",
    "You are required to create a `GEE` list of numbers from 1 to 12 like below.\n",
    "\n",
    "ee.List(ee.Number(1), ee.Number(2),...,ee.Number(12))"
   ]
  },
  {
   "cell_type": "code",
   "execution_count": null,
   "metadata": {},
   "outputs": [],
   "source": [
    "mlist=ee.List([ee.Number(i) for i in [1,5,7,6,8,9,8]])\n",
    "\n",
    "mlist.getInfo()"
   ]
  },
  {
   "cell_type": "markdown",
   "metadata": {},
   "source": [
    "## <font color=\"blue\"> 3.2. Dictionary </font>"
   ]
  },
  {
   "cell_type": "code",
   "execution_count": 20,
   "metadata": {},
   "outputs": [
    {
     "name": "stdout",
     "output_type": "stream",
     "text": [
      "{' 1': 35, 'Address': 'Lap Thach, Vinh Phuc', 'Age': 34, 'Name': 'Ha Van Tuyen'}\n"
     ]
    }
   ],
   "source": [
    "# Return a dictionary\n",
    "eeDictionary=ee.Dictionary({\"Name\": \"Ha Van Tuyen\", \"Age\":34, \"Address\": \"Lap Thach, Vinh Phuc\",\" 1\":35})\n",
    "\n",
    "print(eeDictionary.getInfo())"
   ]
  },
  {
   "cell_type": "code",
   "execution_count": 21,
   "metadata": {},
   "outputs": [
    {
     "name": "stdout",
     "output_type": "stream",
     "text": [
      "[' 1', 'Address', 'Age', 'Name']\n"
     ]
    }
   ],
   "source": [
    "# Print out keys\n",
    "print(eeDictionary.keys().getInfo())"
   ]
  },
  {
   "cell_type": "code",
   "execution_count": 22,
   "metadata": {},
   "outputs": [
    {
     "name": "stdout",
     "output_type": "stream",
     "text": [
      " 1 : 35\n",
      "Address : Lap Thach, Vinh Phuc\n",
      "Age : 34\n",
      "Name : Ha Van Tuyen\n"
     ]
    }
   ],
   "source": [
    "# Loop over the dictionary\n",
    "for key in eeDictionary.keys().getInfo():\n",
    "    print(key,\":\",eeDictionary.get(key).getInfo())"
   ]
  },
  {
   "cell_type": "markdown",
   "metadata": {},
   "source": [
    "## <font color ='blue'> 3.3. Date time in GEE </font>"
   ]
  },
  {
   "cell_type": "code",
   "execution_count": 24,
   "metadata": {},
   "outputs": [
    {
     "name": "stdout",
     "output_type": "stream",
     "text": [
      "{'type': 'Date', 'value': 1608422400000}\n"
     ]
    }
   ],
   "source": [
    "# Define date in GEE\n",
    "eeDate=ee.Date(\"2020-12-20\")\n",
    "\n",
    "print(eeDate.getInfo())"
   ]
  },
  {
   "cell_type": "code",
   "execution_count": 28,
   "metadata": {},
   "outputs": [
    {
     "name": "stdout",
     "output_type": "stream",
     "text": [
      "{'type': 'Date', 'value': 1608422400000}\n"
     ]
    }
   ],
   "source": [
    "# Alternatively\n",
    "eeDate=ee.Date.fromYMD(2020,12,20)\n",
    "\n",
    "print(eeDate.getInfo())"
   ]
  },
  {
   "cell_type": "code",
   "execution_count": 30,
   "metadata": {},
   "outputs": [
    {
     "name": "stdout",
     "output_type": "stream",
     "text": [
      "20-12-2020\n"
     ]
    }
   ],
   "source": [
    "# Get human readable datetime using .format()\n",
    "print(eeDate.format(\"dd-MM-YYYY\").getInfo())"
   ]
  },
  {
   "cell_type": "markdown",
   "metadata": {},
   "source": [
    "# <font color=\"blue\"> 4. Loop and Map </font>"
   ]
  },
  {
   "cell_type": "markdown",
   "metadata": {},
   "source": [
    "### Using loop \n",
    "\n",
    "Unfortunately it is not recommended to use `loop` for `ee` object since it uses server side processing."
   ]
  },
  {
   "cell_type": "code",
   "execution_count": 31,
   "metadata": {},
   "outputs": [
    {
     "name": "stdout",
     "output_type": "stream",
     "text": [
      "30\n",
      "60\n",
      "90\n",
      "120\n",
      "150\n",
      "180\n",
      "210\n",
      "240\n",
      "270\n",
      "300\n",
      "It takes: 4.8 seconds\n"
     ]
    }
   ],
   "source": [
    "# Create a server list\n",
    "eeList=ee.List.sequence(1,10)\n",
    "import datetime as dt\n",
    "\n",
    "t1=dt.datetime.now()\n",
    "# Create a list by multiplying each element by 30\n",
    "for i in eeList.getInfo():\n",
    "    ketqua=ee.Number(i).multiply(ee.Number(30))\n",
    "    print(ketqua.getInfo())\n",
    "t2=dt.datetime.now()\n",
    "\n",
    "timeCompare=t2-t1\n",
    "print(f\"It takes: {timeCompare.total_seconds():.3} seconds\")"
   ]
  },
  {
   "cell_type": "markdown",
   "metadata": {},
   "source": [
    "### Using map to do the same thing"
   ]
  },
  {
   "cell_type": "code",
   "execution_count": 32,
   "metadata": {},
   "outputs": [],
   "source": [
    "def multiply(n):\n",
    "    ketqua=ee.Number(n).multiply(ee.Number(30))\n",
    "    return ketqua # Don't put .getInfo() here. It takes longer time to process"
   ]
  },
  {
   "cell_type": "code",
   "execution_count": 41,
   "metadata": {},
   "outputs": [
    {
     "name": "stdout",
     "output_type": "stream",
     "text": [
      "It takes 0.259812 seconds\n"
     ]
    }
   ],
   "source": [
    "t1=dt.datetime.now()\n",
    "list(map(multiply, eeList.getInfo()))\n",
    "t2=dt.datetime.now()\n",
    "\n",
    "timeCompare=t2-t1\n",
    "\n",
    "print(f\"It takes {timeCompare.total_seconds()} seconds\")"
   ]
  },
  {
   "cell_type": "markdown",
   "metadata": {},
   "source": [
    "- **Note: map() python is the same as .map() GEE Javarscript in terms of time processing**"
   ]
  },
  {
   "cell_type": "code",
   "execution_count": 48,
   "metadata": {},
   "outputs": [
    {
     "name": "stdout",
     "output_type": "stream",
     "text": [
      "[30, 60, 90, 120, 150, 180, 210, 240, 270, 300]\n",
      "It takes 0.271782 seconds\n"
     ]
    }
   ],
   "source": [
    "# Using Gee map function\n",
    "t1=dt.datetime.now()\n",
    "result=eeList.map(multiply)\n",
    "# Print out the result\n",
    "print(result.getInfo())\n",
    "# See time taken\n",
    "t2=dt.datetime.now()\n",
    "timeCompare=t2-t1\n",
    "print(f\"It takes {timeCompare.total_seconds()} seconds\")"
   ]
  },
  {
   "cell_type": "markdown",
   "metadata": {},
   "source": [
    "**Create an Image**"
   ]
  },
  {
   "cell_type": "code",
   "execution_count": 3,
   "metadata": {},
   "outputs": [
    {
     "data": {
      "text/plain": [
       "{'type': 'Image',\n",
       " 'bands': [{'id': 'constant',\n",
       "   'data_type': {'type': 'PixelType', 'precision': 'int', 'min': 2, 'max': 2},\n",
       "   'crs': 'EPSG:4326',\n",
       "   'crs_transform': [1, 0, 0, 0, 1, 0]}]}"
      ]
     },
     "execution_count": 3,
     "metadata": {},
     "output_type": "execute_result"
    }
   ],
   "source": [
    "# Create image 1\n",
    "img1=ee.Image(2)\n",
    "img1.getInfo()"
   ]
  },
  {
   "cell_type": "code",
   "execution_count": 4,
   "metadata": {},
   "outputs": [
    {
     "data": {
      "text/plain": [
       "{'type': 'Image',\n",
       " 'bands': [{'id': 'constant',\n",
       "   'data_type': {'type': 'PixelType',\n",
       "    'precision': 'int',\n",
       "    'min': 20,\n",
       "    'max': 20},\n",
       "   'crs': 'EPSG:4326',\n",
       "   'crs_transform': [1, 0, 0, 0, 1, 0]}]}"
      ]
     },
     "execution_count": 4,
     "metadata": {},
     "output_type": "execute_result"
    }
   ],
   "source": [
    "# Create image 2\n",
    "img2=ee.Image(20)\n",
    "img2.getInfo()"
   ]
  },
  {
   "cell_type": "code",
   "execution_count": 5,
   "metadata": {},
   "outputs": [
    {
     "name": "stdout",
     "output_type": "stream",
     "text": [
      "{'type': 'Image', 'bands': [{'id': 'constant', 'data_type': {'type': 'PixelType', 'precision': 'int', 'min': 2, 'max': 2}, 'crs': 'EPSG:4326', 'crs_transform': [1, 0, 0, 0, 1, 0]}, {'id': 'constant_1', 'data_type': {'type': 'PixelType', 'precision': 'int', 'min': 20, 'max': 20}, 'crs': 'EPSG:4326', 'crs_transform': [1, 0, 0, 0, 1, 0]}]}\n"
     ]
    }
   ],
   "source": [
    "# Concatenate two or more images\n",
    "img3=ee.Image.cat([img1,img2]) # a two-band image\n",
    "\n",
    "print(img3.getInfo())"
   ]
  },
  {
   "cell_type": "code",
   "execution_count": 6,
   "metadata": {},
   "outputs": [
    {
     "name": "stdout",
     "output_type": "stream",
     "text": [
      "{'type': 'Image', 'bands': [{'id': 'constant', 'data_type': {'type': 'PixelType', 'precision': 'int', 'min': 1, 'max': 1}, 'crs': 'EPSG:4326', 'crs_transform': [1, 0, 0, 0, 1, 0]}, {'id': 'constant_1', 'data_type': {'type': 'PixelType', 'precision': 'int', 'min': 2, 'max': 2}, 'crs': 'EPSG:4326', 'crs_transform': [1, 0, 0, 0, 1, 0]}, {'id': 'constant_2', 'data_type': {'type': 'PixelType', 'precision': 'int', 'min': 3, 'max': 3}, 'crs': 'EPSG:4326', 'crs_transform': [1, 0, 0, 0, 1, 0]}]}\n"
     ]
    }
   ],
   "source": [
    "# Create a multi-band image from a list of constant\n",
    "multiband = ee.Image([1, 2, 3])\n",
    "print(multiband.getInfo())"
   ]
  },
  {
   "cell_type": "code",
   "execution_count": 7,
   "metadata": {},
   "outputs": [
    {
     "name": "stdout",
     "output_type": "stream",
     "text": [
      "{'type': 'Image', 'bands': [{'id': 'constant', 'data_type': {'type': 'PixelType', 'precision': 'int', 'min': 2, 'max': 2}, 'crs': 'EPSG:4326', 'crs_transform': [1, 0, 0, 0, 1, 0]}, {'id': 'constant_1', 'data_type': {'type': 'PixelType', 'precision': 'int', 'min': 20, 'max': 20}, 'crs': 'EPSG:4326', 'crs_transform': [1, 0, 0, 0, 1, 0]}, {'id': 'constant_2', 'data_type': {'type': 'PixelType', 'precision': 'int', 'min': 100, 'max': 100}, 'crs': 'EPSG:4326', 'crs_transform': [1, 0, 0, 0, 1, 0]}]}\n"
     ]
    }
   ],
   "source": [
    "# We can add a new band to an existing image\n",
    "newBand=img3.addBands(ee.Image(100))\n",
    "\n",
    "print(newBand.getInfo())"
   ]
  },
  {
   "cell_type": "code",
   "execution_count": 8,
   "metadata": {},
   "outputs": [
    {
     "data": {
      "text/plain": [
       "['constant', 'constant_1', 'constant_2']"
      ]
     },
     "execution_count": 8,
     "metadata": {},
     "output_type": "execute_result"
    }
   ],
   "source": [
    "newBand.bandNames().getInfo()"
   ]
  },
  {
   "cell_type": "markdown",
   "metadata": {},
   "source": [
    "# <font color='blue'> First taste of RS imagery </font>"
   ]
  },
  {
   "cell_type": "code",
   "execution_count": 13,
   "metadata": {
    "scrolled": true
   },
   "outputs": [
    {
     "data": {
      "application/vnd.jupyter.widget-view+json": {
       "model_id": "ed0cc8f9a7b94164894626f86a107eff",
       "version_major": 2,
       "version_minor": 0
      },
      "text/plain": [
       "Map(center=[40, -100], controls=(WidgetControl(options=['position', 'transparent_bg'], widget=HBox(children=(T…"
      ]
     },
     "metadata": {},
     "output_type": "display_data"
    }
   ],
   "source": [
    "import geemap as emap\n",
    "Map=emap.Map()\n",
    "# Map.add_basemap(\"Google Satellite\")\n",
    "Map"
   ]
  },
  {
   "cell_type": "code",
   "execution_count": 21,
   "metadata": {},
   "outputs": [
    {
     "data": {
      "application/vnd.jupyter.widget-view+json": {
       "model_id": "ed0cc8f9a7b94164894626f86a107eff",
       "version_major": 2,
       "version_minor": 0
      },
      "text/plain": [
       "Map(bottom=1623117.0, center=[37.471602850590656, -122.14451407746262], controls=(WidgetControl(options=['posi…"
      ]
     },
     "metadata": {},
     "output_type": "display_data"
    }
   ],
   "source": [
    "# Load an image.\n",
    "\n",
    "image = ee.Image('LANDSAT/LC08/C01/T1_TOA/LC08_044034_20140318')\n",
    "\n",
    "# Define the visualization parameters.\n",
    "# vizParams = {\n",
    "#   'bands': ['B4', 'B3', 'B2'],\n",
    "#   'min': 0,\n",
    "#   'max': 0.4\n",
    "# }\n",
    "\n",
    "# Center the map and display the image.\n",
    "# Map.setCenter(-122.1899, 37.5010, 10) # San Francisco Bay\n",
    "Map.centerObject(image,10) ## Other way around to set the center\n",
    "Map.addLayer(image, {\"bands\":[\"B5\",\"B4\",\"B3\"],\"min\":0, \"max\":0.3}, 'False Color Composite')\n",
    "\n",
    "# Display the map\n",
    "Map"
   ]
  },
  {
   "cell_type": "code",
   "execution_count": 22,
   "metadata": {},
   "outputs": [
    {
     "name": "stdout",
     "output_type": "stream",
     "text": [
      "['B1', 'B2', 'B3', 'B4', 'B5', 'B6', 'B7', 'B8', 'B9', 'B10', 'B11', 'BQA']\n"
     ]
    }
   ],
   "source": [
    "# Get the band names' \n",
    "bandName=image.bandNames()\n",
    "\n",
    "print(bandName.getInfo())"
   ]
  },
  {
   "cell_type": "code",
   "execution_count": 23,
   "metadata": {},
   "outputs": [
    {
     "name": "stdout",
     "output_type": "stream",
     "text": [
      "{'type': 'Projection', 'crs': 'EPSG:32610', 'transform': [30, 0, 460785, 0, -30, 4264215]}\n"
     ]
    }
   ],
   "source": [
    "# Get projection\n",
    "projb1=image.select(\"B1\").projection().getInfo()\n",
    "\n",
    "print(projb1)"
   ]
  },
  {
   "cell_type": "code",
   "execution_count": 25,
   "metadata": {},
   "outputs": [
    {
     "name": "stdout",
     "output_type": "stream",
     "text": [
      "Resolution B1: 30m\n"
     ]
    }
   ],
   "source": [
    "# Get spatial resolution \n",
    "\n",
    "resolution=image.select(\"B1\").projection().nominalScale().getInfo()\n",
    "\n",
    "print(f\"Resolution B1: {resolution}m\")"
   ]
  },
  {
   "cell_type": "code",
   "execution_count": 26,
   "metadata": {},
   "outputs": [
    {
     "name": "stdout",
     "output_type": "stream",
     "text": [
      "B1: 30m\n",
      "B2: 30m\n",
      "B3: 30m\n",
      "B4: 30m\n",
      "B5: 30m\n",
      "B6: 30m\n",
      "B7: 30m\n",
      "B8: 15m\n",
      "B9: 30m\n",
      "B10: 30m\n",
      "B11: 30m\n",
      "BQA: 30m\n"
     ]
    }
   ],
   "source": [
    "# Get all spatial resolutions of all bands\n",
    "\n",
    "for band in image.bandNames().getInfo():\n",
    "    res=image.select(band).projection().nominalScale().getInfo()\n",
    "    print(f\"{band}: {res}m\")"
   ]
  },
  {
   "cell_type": "code",
   "execution_count": 44,
   "metadata": {},
   "outputs": [
    {
     "name": "stdout",
     "output_type": "stream",
     "text": [
      "Cloud percent:0.06%\n"
     ]
    }
   ],
   "source": [
    "# See cloudiness \n",
    "\n",
    "cloud=image.get('CLOUD_COVER').getInfo()\n",
    "\n",
    "print(f\"Cloud percent:{round(cloud,3)}%\")"
   ]
  },
  {
   "cell_type": "code",
   "execution_count": 50,
   "metadata": {},
   "outputs": [
    {
     "data": {
      "text/plain": [
       "'18-03-2014'"
      ]
     },
     "execution_count": 50,
     "metadata": {},
     "output_type": "execute_result"
    }
   ],
   "source": [
    "ee.Date(image.get('system:time_start')).format(\"dd-MM-YYYY\").getInfo()"
   ]
  },
  {
   "cell_type": "code",
   "execution_count": 51,
   "metadata": {},
   "outputs": [
    {
     "name": "stdout",
     "output_type": "stream",
     "text": [
      "Timestamp:  {'type': 'Date', 'value': 1395168392050}\n",
      "The image taken on 2014-03-18\n"
     ]
    }
   ],
   "source": [
    "# Get system time \n",
    "date = ee.Date(image.get('system:time_start'))\n",
    "print('Timestamp: ', date.getInfo()) # ee.Date\n",
    "\n",
    "# Format the date\n",
    "datestr=date.format(\"YYYY-MM-dd\").getInfo()\n",
    "print(f\"The image taken on {datestr}\")"
   ]
  },
  {
   "cell_type": "markdown",
   "metadata": {},
   "source": [
    "**Properties of Image**"
   ]
  },
  {
   "cell_type": "code",
   "execution_count": 57,
   "metadata": {},
   "outputs": [
    {
     "name": "stdout",
     "output_type": "stream",
     "text": [
      "['system:version', 'system:id', 'RADIANCE_MULT_BAND_5', 'RADIANCE_MULT_BAND_6', 'RADIANCE_MULT_BAND_3', 'RADIANCE_MULT_BAND_4', 'RADIANCE_MULT_BAND_1', 'RADIANCE_MULT_BAND_2', 'K2_CONSTANT_BAND_11', 'K2_CONSTANT_BAND_10', 'system:footprint', 'REFLECTIVE_SAMPLES', 'SUN_AZIMUTH', 'CPF_NAME', 'DATE_ACQUIRED', 'ELLIPSOID', 'google:registration_offset_x', 'google:registration_offset_y', 'STATION_ID', 'RESAMPLING_OPTION', 'ORIENTATION', 'WRS_ROW', 'RADIANCE_MULT_BAND_9', 'TARGET_WRS_ROW', 'RADIANCE_MULT_BAND_7', 'RADIANCE_MULT_BAND_8', 'IMAGE_QUALITY_TIRS', 'TRUNCATION_OLI', 'CLOUD_COVER', 'GEOMETRIC_RMSE_VERIFY', 'COLLECTION_CATEGORY', 'GRID_CELL_SIZE_REFLECTIVE', 'CLOUD_COVER_LAND', 'GEOMETRIC_RMSE_MODEL', 'COLLECTION_NUMBER', 'IMAGE_QUALITY_OLI', 'LANDSAT_SCENE_ID', 'WRS_PATH', 'google:registration_count', 'PANCHROMATIC_SAMPLES', 'PANCHROMATIC_LINES', 'GEOMETRIC_RMSE_MODEL_Y', 'REFLECTIVE_LINES', 'TIRS_STRAY_LIGHT_CORRECTION_SOURCE', 'GEOMETRIC_RMSE_MODEL_X', 'system:asset_size', 'system:index', 'REFLECTANCE_ADD_BAND_1', 'REFLECTANCE_ADD_BAND_2', 'DATUM', 'REFLECTANCE_ADD_BAND_3', 'REFLECTANCE_ADD_BAND_4', 'RLUT_FILE_NAME', 'REFLECTANCE_ADD_BAND_5', 'REFLECTANCE_ADD_BAND_6', 'REFLECTANCE_ADD_BAND_7', 'REFLECTANCE_ADD_BAND_8', 'BPF_NAME_TIRS', 'GROUND_CONTROL_POINTS_VERSION', 'DATA_TYPE', 'UTM_ZONE', 'LANDSAT_PRODUCT_ID', 'REFLECTANCE_ADD_BAND_9', 'google:registration_ratio', 'GRID_CELL_SIZE_PANCHROMATIC', 'RADIANCE_ADD_BAND_4', 'REFLECTANCE_MULT_BAND_7', 'system:time_start', 'RADIANCE_ADD_BAND_5', 'REFLECTANCE_MULT_BAND_6', 'RADIANCE_ADD_BAND_6', 'REFLECTANCE_MULT_BAND_9', 'PROCESSING_SOFTWARE_VERSION', 'RADIANCE_ADD_BAND_7', 'REFLECTANCE_MULT_BAND_8', 'RADIANCE_ADD_BAND_1', 'RADIANCE_ADD_BAND_2', 'RADIANCE_ADD_BAND_3', 'REFLECTANCE_MULT_BAND_1', 'RADIANCE_ADD_BAND_8', 'REFLECTANCE_MULT_BAND_3', 'RADIANCE_ADD_BAND_9', 'REFLECTANCE_MULT_BAND_2', 'REFLECTANCE_MULT_BAND_5', 'REFLECTANCE_MULT_BAND_4', 'THERMAL_LINES', 'TIRS_SSM_POSITION_STATUS', 'GRID_CELL_SIZE_THERMAL', 'NADIR_OFFNADIR', 'RADIANCE_ADD_BAND_11', 'REQUEST_ID', 'EARTH_SUN_DISTANCE', 'TIRS_SSM_MODEL', 'FILE_DATE', 'SCENE_CENTER_TIME', 'SUN_ELEVATION', 'BPF_NAME_OLI', 'RADIANCE_ADD_BAND_10', 'ROLL_ANGLE', 'K1_CONSTANT_BAND_10', 'SATURATION_BAND_1', 'SATURATION_BAND_2', 'SATURATION_BAND_3', 'SATURATION_BAND_4', 'SATURATION_BAND_5', 'MAP_PROJECTION', 'SATURATION_BAND_6', 'SENSOR_ID', 'SATURATION_BAND_7', 'K1_CONSTANT_BAND_11', 'SATURATION_BAND_8', 'SATURATION_BAND_9', 'TARGET_WRS_PATH', 'RADIANCE_MULT_BAND_11', 'RADIANCE_MULT_BAND_10', 'GROUND_CONTROL_POINTS_MODEL', 'SPACECRAFT_ID', 'ELEVATION_SOURCE', 'THERMAL_SAMPLES', 'GROUND_CONTROL_POINTS_VERIFY', 'system:bands', 'system:band_names']\n"
     ]
    }
   ],
   "source": [
    "info=image.propertyNames()\n",
    "\n",
    "print(info.getInfo())"
   ]
  },
  {
   "cell_type": "code",
   "execution_count": 78,
   "metadata": {},
   "outputs": [
    {
     "data": {
      "text/plain": [
       "'LANDSAT/LC08/C01/T1_TOA/LC08_044034_20140318'"
      ]
     },
     "execution_count": 78,
     "metadata": {},
     "output_type": "execute_result"
    }
   ],
   "source": [
    "image.get(\"system:id\").getInfo()"
   ]
  },
  {
   "cell_type": "markdown",
   "metadata": {},
   "source": [
    "**Band selection**"
   ]
  },
  {
   "cell_type": "code",
   "execution_count": 63,
   "metadata": {},
   "outputs": [
    {
     "data": {
      "text/plain": [
       "['B4', 'B3', 'B2']"
      ]
     },
     "execution_count": 63,
     "metadata": {},
     "output_type": "execute_result"
    }
   ],
   "source": [
    "# Select Landsat images and 3 bands\n",
    "landsat = ee.Image('LANDSAT/LC08/C01/T1_TOA/LC08_123032_20140515').select(['B4', 'B3', 'B2'])\n",
    "\n",
    "landsat.bandNames().getInfo()"
   ]
  },
  {
   "cell_type": "markdown",
   "metadata": {},
   "source": [
    "**Band rename**"
   ]
  },
  {
   "cell_type": "code",
   "execution_count": 80,
   "metadata": {},
   "outputs": [],
   "source": [
    "# Change the name of bands\n",
    "test=landsat.select(\"B4\").rename(\"A\") # Band 4 changed to band A\n",
    "\n",
    "name=landsat.select(\"B3\").rename(\"B\") # Band 3 changed to band B\n",
    "\n",
    "test1=test.addBands(name) # Add name (band B) to test (combined with band A)"
   ]
  },
  {
   "cell_type": "code",
   "execution_count": 64,
   "metadata": {},
   "outputs": [
    {
     "data": {
      "text/plain": [
       "['Red', 'Green', 'Blue']"
      ]
     },
     "execution_count": 64,
     "metadata": {},
     "output_type": "execute_result"
    }
   ],
   "source": [
    "test1=landsat.select(['B4', 'B3', 'B2'],[\"Red\",\"Green\",\"Blue\"])\n",
    "\n",
    "test1.bandNames().getInfo()"
   ]
  },
  {
   "cell_type": "code",
   "execution_count": 81,
   "metadata": {},
   "outputs": [
    {
     "data": {
      "text/plain": [
       "['A', 'B']"
      ]
     },
     "execution_count": 81,
     "metadata": {},
     "output_type": "execute_result"
    }
   ],
   "source": [
    "test1.bandNames().getInfo() # See those bands"
   ]
  },
  {
   "cell_type": "code",
   "execution_count": 82,
   "metadata": {},
   "outputs": [
    {
     "data": {
      "application/vnd.jupyter.widget-view+json": {
       "model_id": "87384963af0441dcb119d2084dc79855",
       "version_major": 2,
       "version_minor": 0
      },
      "text/plain": [
       "Map(bottom=6492.0, center=[40.17887331434698, -122.25585937500001], controls=(WidgetControl(options=['position…"
      ]
     },
     "metadata": {},
     "output_type": "display_data"
    }
   ],
   "source": [
    "nl2012 = ee.Image('NOAA/DMSP-OLS/NIGHTTIME_LIGHTS/F182012')\n",
    "lights = nl2012.select('stable_lights')\n",
    "palette= ['#000000', '#1a1a17', '#434343', '#ff3414',\"#ff1212\"]\n",
    "Map.addLayer(lights, {\"min\":-30.2,\"max\":38.5, \"palette\":palette}, 'Nighttime lights')\n",
    "Map"
   ]
  },
  {
   "cell_type": "code",
   "execution_count": null,
   "metadata": {},
   "outputs": [],
   "source": [
    "# Create arbitrary constant images.\n",
    "constant1 = ee.Image(1)\n",
    "constant2 = ee.Image(2)\n",
    "\n",
    "# Create a collection by giving a list to the constructor.\n",
    "collectionFromConstructor = ee.ImageCollection([constant1, constant2])\n",
    "print('collectionFromConstructor: ', collectionFromConstructor.getInfo())"
   ]
  },
  {
   "cell_type": "code",
   "execution_count": null,
   "metadata": {},
   "outputs": [],
   "source": [
    "constant1.getInfo()"
   ]
  },
  {
   "cell_type": "code",
   "execution_count": null,
   "metadata": {},
   "outputs": [],
   "source": [
    "Map.centerObject(constant1)\n",
    "Map.addLayer(constant1,{},\"Constant\")\n",
    "Map"
   ]
  },
  {
   "cell_type": "markdown",
   "metadata": {},
   "source": [
    "**Elevation Data**"
   ]
  },
  {
   "cell_type": "code",
   "execution_count": 67,
   "metadata": {
    "scrolled": true
   },
   "outputs": [
    {
     "data": {
      "application/vnd.jupyter.widget-view+json": {
       "model_id": "ed0cc8f9a7b94164894626f86a107eff",
       "version_major": 2,
       "version_minor": 0
      },
      "text/plain": [
       "Map(bottom=13103.399993652345, center=[36.57142382346277, -122.46459960937501], controls=(WidgetControl(option…"
      ]
     },
     "metadata": {},
     "output_type": "display_data"
    }
   ],
   "source": [
    "SRTM=ee.Image(\"CGIAR/SRTM90_V4\")\n",
    "vis_params = {\n",
    "  'min': 0,\n",
    "  'max': 4000,\n",
    "  'palette': ['006633', 'E5FFCC', '662A00', 'D8D8D8', 'F5F5F5']}\n",
    "Map.addLayer(SRTM,vis_params,\"DEM\")\n",
    "Map"
   ]
  },
  {
   "cell_type": "code",
   "execution_count": 70,
   "metadata": {},
   "outputs": [
    {
     "data": {
      "text/plain": [
       "['system:visualization_0_min',\n",
       " 'type_name',\n",
       " 'thumb',\n",
       " 'description',\n",
       " 'source_tags',\n",
       " 'system:id',\n",
       " 'visualization_0_max',\n",
       " 'title',\n",
       " 'product_tags',\n",
       " 'provider',\n",
       " 'visualization_0_min',\n",
       " 'system:version',\n",
       " 'visualization_0_name',\n",
       " 'date_range',\n",
       " 'system:visualization_0_gamma',\n",
       " 'period',\n",
       " 'system:visualization_0_bands',\n",
       " 'system:time_end',\n",
       " 'provider_url',\n",
       " 'sample',\n",
       " 'tags',\n",
       " 'system:time_start',\n",
       " 'system:visualization_0_max',\n",
       " 'system:visualization_0_name',\n",
       " 'system:asset_size',\n",
       " 'visualization_0_bands',\n",
       " 'system:bands',\n",
       " 'system:band_names']"
      ]
     },
     "execution_count": 70,
     "metadata": {},
     "output_type": "execute_result"
    }
   ],
   "source": [
    "SRTM.propertyNames().getInfo()"
   ]
  },
  {
   "cell_type": "markdown",
   "metadata": {},
   "source": [
    "**Sentinel-2 Data**"
   ]
  },
  {
   "cell_type": "code",
   "execution_count": 71,
   "metadata": {},
   "outputs": [
    {
     "data": {
      "application/vnd.jupyter.widget-view+json": {
       "model_id": "ed0cc8f9a7b94164894626f86a107eff",
       "version_major": 2,
       "version_minor": 0
      },
      "text/plain": [
       "Map(bottom=1199.3999643554725, center=[55.38351156485216, 167.83524736593878], controls=(WidgetControl(options…"
      ]
     },
     "metadata": {},
     "output_type": "display_data"
    }
   ],
   "source": [
    "sentinel2=ee.ImageCollection(\"COPERNICUS/S2_SR\").filterDate(\"2020-01-01\",\"2020-12-31\").\\\n",
    "filterMetadata(\"CLOUDY_PIXEL_PERCENTAGE\", \"less_than\",30).first()\n",
    "\n",
    "Map.centerObject(sentinel2,10)\n",
    "\n",
    "Map.addLayer(sentinel2,{},\"Sentinel\")\n",
    "\n",
    "Map"
   ]
  },
  {
   "cell_type": "markdown",
   "metadata": {},
   "source": []
  },
  {
   "cell_type": "code",
   "execution_count": null,
   "metadata": {},
   "outputs": [],
   "source": []
  }
 ],
 "metadata": {
  "kernelspec": {
   "display_name": "Python 3",
   "language": "python",
   "name": "python3"
  },
  "language_info": {
   "codemirror_mode": {
    "name": "ipython",
    "version": 3
   },
   "file_extension": ".py",
   "mimetype": "text/x-python",
   "name": "python",
   "nbconvert_exporter": "python",
   "pygments_lexer": "ipython3",
   "version": "3.8.5"
  }
 },
 "nbformat": 4,
 "nbformat_minor": 4
}
