{
 "cells": [
  {
   "cell_type": "markdown",
   "metadata": {},
   "source": [
    "# 1. Functions\n",
    "\n",
    "**Python built-in functions**"
   ]
  },
  {
   "cell_type": "markdown",
   "metadata": {},
   "source": [
    "**Challenge**\n",
    "\n",
    "Một học viên sẽ không được tham dự kì thi nếu họ không đi học >= 25% số buổi. Nhưng nếu học viên đó nghỉ có lý do về sức khỏe thì vẫn được thi.\n",
    "Viết chương trình python để kiểm tra xem 1 học viên có được thi hay không?"
   ]
  },
  {
   "cell_type": "code",
   "execution_count": 45,
   "metadata": {},
   "outputs": [
    {
     "name": "stdout",
     "output_type": "stream",
     "text": [
      "This is a python print function\n"
     ]
    }
   ],
   "source": [
    "# print() function\n",
    "\n",
    "print(\"This is a python print function\")"
   ]
  },
  {
   "cell_type": "code",
   "execution_count": 46,
   "metadata": {},
   "outputs": [
    {
     "data": {
      "text/plain": [
       "12"
      ]
     },
     "execution_count": 46,
     "metadata": {},
     "output_type": "execute_result"
    }
   ],
   "source": [
    "# int, float, list, dict, etc\n",
    "\n",
    "int(12.34)"
   ]
  },
  {
   "cell_type": "code",
   "execution_count": 4,
   "metadata": {},
   "outputs": [
    {
     "data": {
      "text/plain": [
       "['__doc__',\n",
       " '__loader__',\n",
       " '__name__',\n",
       " '__package__',\n",
       " '__spec__',\n",
       " 'acos',\n",
       " 'acosh',\n",
       " 'asin',\n",
       " 'asinh',\n",
       " 'atan',\n",
       " 'atan2',\n",
       " 'atanh',\n",
       " 'ceil',\n",
       " 'comb',\n",
       " 'copysign',\n",
       " 'cos',\n",
       " 'cosh',\n",
       " 'degrees',\n",
       " 'dist',\n",
       " 'e',\n",
       " 'erf',\n",
       " 'erfc',\n",
       " 'exp',\n",
       " 'expm1',\n",
       " 'fabs',\n",
       " 'factorial',\n",
       " 'floor',\n",
       " 'fmod',\n",
       " 'frexp',\n",
       " 'fsum',\n",
       " 'gamma',\n",
       " 'gcd',\n",
       " 'hypot',\n",
       " 'inf',\n",
       " 'isclose',\n",
       " 'isfinite',\n",
       " 'isinf',\n",
       " 'isnan',\n",
       " 'isqrt',\n",
       " 'ldexp',\n",
       " 'lgamma',\n",
       " 'log',\n",
       " 'log10',\n",
       " 'log1p',\n",
       " 'log2',\n",
       " 'modf',\n",
       " 'nan',\n",
       " 'perm',\n",
       " 'pi',\n",
       " 'pow',\n",
       " 'prod',\n",
       " 'radians',\n",
       " 'remainder',\n",
       " 'sin',\n",
       " 'sinh',\n",
       " 'sqrt',\n",
       " 'tan',\n",
       " 'tanh',\n",
       " 'tau',\n",
       " 'trunc']"
      ]
     },
     "execution_count": 4,
     "metadata": {},
     "output_type": "execute_result"
    }
   ],
   "source": [
    "# functiosn from packages\n",
    "import math\n",
    "\n",
    "math.sqrt(100)\n",
    "# See all associated methods of math package\n",
    "dir(math)"
   ]
  },
  {
   "cell_type": "markdown",
   "metadata": {},
   "source": [
    "## User-defined functions\n",
    "\n",
    "**Formula**\n",
    "\n",
    "`def` function_name(param1, param2, paramn):<br>\n",
    "    code body <br>\n",
    "    `return` result"
   ]
  },
  {
   "cell_type": "code",
   "execution_count": 42,
   "metadata": {},
   "outputs": [],
   "source": [
    "# Write a function to calculate an area of a square\n",
    "def squareArea(a,b):\n",
    "    ketqua=a*b\n",
    "#     print(ketqua)\n",
    "    return ketqua"
   ]
  },
  {
   "cell_type": "code",
   "execution_count": 43,
   "metadata": {},
   "outputs": [
    {
     "data": {
      "text/plain": [
       "400"
      ]
     },
     "execution_count": 43,
     "metadata": {},
     "output_type": "execute_result"
    }
   ],
   "source": [
    "squareArea(20,20)"
   ]
  },
  {
   "cell_type": "code",
   "execution_count": 5,
   "metadata": {},
   "outputs": [
    {
     "name": "stdout",
     "output_type": "stream",
     "text": [
      "200\n"
     ]
    }
   ],
   "source": [
    "# Similarly\n",
    "def squareArea(a,b):\n",
    "    ketqua =a*b\n",
    "    print(ketqua) # It does not save the ketqua, can't be used later. \n",
    "# print out the result\n",
    "squareArea(10,20)"
   ]
  },
  {
   "cell_type": "code",
   "execution_count": 129,
   "metadata": {},
   "outputs": [
    {
     "data": {
      "text/plain": [
       "15"
      ]
     },
     "execution_count": 129,
     "metadata": {},
     "output_type": "execute_result"
    }
   ],
   "source": [
    "# Write a function to calculate a total of a list\n",
    "\n",
    "def plus(n):\n",
    "    total =0\n",
    "    for i in n:\n",
    "        total+=i\n",
    "    return total\n",
    "\n",
    "plus([1,2,3,4,5])"
   ]
  },
  {
   "cell_type": "markdown",
   "metadata": {},
   "source": [
    "**Task**\n",
    "\n",
    "Write a function to calculate the number of lowercase letters and upper case letters in a following string.\n",
    "\n",
    "Sample string:\"Like many other popular programming languages, strings in Python are arrays of bytes representing unicode characters. However, Python does not have a character data type, a single character is simply a string with a length of 1. String has many methods and number such as 1, 2 , 3, 78 can be string.\""
   ]
  },
  {
   "cell_type": "code",
   "execution_count": null,
   "metadata": {},
   "outputs": [],
   "source": []
  },
  {
   "cell_type": "markdown",
   "metadata": {},
   "source": [
    "**Positional arguments, default arguments**"
   ]
  },
  {
   "cell_type": "code",
   "execution_count": 53,
   "metadata": {},
   "outputs": [
    {
     "data": {
      "text/plain": [
       "-2"
      ]
     },
     "execution_count": 53,
     "metadata": {},
     "output_type": "execute_result"
    }
   ],
   "source": [
    "# Positional arguments\n",
    "\n",
    "def minus(a,b):\n",
    "    ketqua=a-b\n",
    "    return ketqua\n",
    "minus(4,2) # positional argument\n",
    "minus(b=4,a=2) # keyword argument"
   ]
  },
  {
   "cell_type": "code",
   "execution_count": 56,
   "metadata": {},
   "outputs": [
    {
     "data": {
      "text/plain": [
       "-11"
      ]
     },
     "execution_count": 56,
     "metadata": {},
     "output_type": "execute_result"
    }
   ],
   "source": [
    "# Default argument\n",
    "\n",
    "def minus(a,b=10):\n",
    "    ketqua = a-b\n",
    "    return ketqua\n",
    "# minus(2) # positional argument\n",
    "\n",
    "# minus(3,5) # positional argument\n",
    "\n",
    "minus(a=9,b=20) # keyword argument"
   ]
  },
  {
   "cell_type": "markdown",
   "metadata": {},
   "source": [
    "- `*args` and `**kwargs`"
   ]
  },
  {
   "cell_type": "markdown",
   "metadata": {},
   "source": [
    "**Non-keyword argument** `*args`"
   ]
  },
  {
   "cell_type": "code",
   "execution_count": 59,
   "metadata": {},
   "outputs": [
    {
     "data": {
      "text/plain": [
       "30"
      ]
     },
     "execution_count": 59,
     "metadata": {},
     "output_type": "execute_result"
    }
   ],
   "source": [
    "# If we don't know how many parameters to pass on the function, we can use *args. It also called non-keyword ảgument\n",
    "# *args returns a tuple\n",
    "def total(*args):\n",
    "    ketqua=0\n",
    "    for i in args:\n",
    "        ketqua+=i\n",
    "    return ketqua\n",
    "total(1,2,3,4,1,1,2,2,2,2,2,2,2,2,2) # Can't pass a list. "
   ]
  },
  {
   "cell_type": "code",
   "execution_count": 61,
   "metadata": {},
   "outputs": [
    {
     "name": "stdout",
     "output_type": "stream",
     "text": [
      "Student: Tuyen\n",
      "(1, 2, 3, 3)\n"
     ]
    }
   ],
   "source": [
    "# Another example\n",
    "def studentScore(student, *score):\n",
    "    print(f\"Student: {student}\")\n",
    "    print(score)\n",
    "#     for i in score:\n",
    "#         print(i)\n",
    "studentScore(\"Tuyen\",1,2,3,3)"
   ]
  },
  {
   "cell_type": "code",
   "execution_count": 29,
   "metadata": {},
   "outputs": [
    {
     "data": {
      "text/plain": [
       "[181, 5]"
      ]
     },
     "execution_count": 29,
     "metadata": {},
     "output_type": "execute_result"
    }
   ],
   "source": [
    "text=\"\"\" \n",
    "Write a function addEvenNumber() such that it can accept a variable length of argument, \n",
    "and can add all even arguments value and display I want to know about this question can somebody \n",
    "will explain me how to do it?? Naahahahhadhdh \"\"\"\n",
    "\n",
    "# count=0\n",
    "# for i in text:\n",
    "#     if i.isalpha():\n",
    "#         print(i)\n",
    "#         count+=1\n",
    "# count\n",
    "\n",
    "def counter(text):\n",
    "    lower_count=0\n",
    "    upper_count=0\n",
    "    for i in text:\n",
    "        if i.isalpha():\n",
    "            if i.isupper():\n",
    "                upper_count+=1\n",
    "            else:\n",
    "                lower_count+=1\n",
    "            \n",
    "            \n",
    "    return [lower_count, upper_count]\n",
    "       \n",
    "counter(text)    "
   ]
  },
  {
   "cell_type": "markdown",
   "metadata": {},
   "source": [
    "**Keyword argument** `**kwargs`"
   ]
  },
  {
   "cell_type": "code",
   "execution_count": 64,
   "metadata": {},
   "outputs": [
    {
     "name": "stdout",
     "output_type": "stream",
     "text": [
      "{'first': 'Ha', 'last': 'Nguyen', 'number': 10}\n"
     ]
    }
   ],
   "source": [
    "def myFun(**kwargs):\n",
    "    print(kwargs)\n",
    "    \n",
    "myFun(first=\"Ha\",last=\"Nguyen\", number=10) # return a dictionary"
   ]
  },
  {
   "cell_type": "markdown",
   "metadata": {},
   "source": [
    "**Lambda Function**\n",
    "\n",
    "`lambda` param1,param2,etc: code body"
   ]
  },
  {
   "cell_type": "code",
   "execution_count": 66,
   "metadata": {},
   "outputs": [
    {
     "name": "stdout",
     "output_type": "stream",
     "text": [
      "3\n"
     ]
    }
   ],
   "source": [
    "def plus(a,b):\n",
    "    print(a+b)\n",
    "plus(1,2)"
   ]
  },
  {
   "cell_type": "code",
   "execution_count": 77,
   "metadata": {},
   "outputs": [
    {
     "data": {
      "text/plain": [
       "5"
      ]
     },
     "execution_count": 77,
     "metadata": {},
     "output_type": "execute_result"
    }
   ],
   "source": [
    "# Write a lambda to plus two numbers\n",
    "\n",
    "plus=lambda a,b: a+b\n",
    "\n",
    "plus(2,3)"
   ]
  },
  {
   "cell_type": "code",
   "execution_count": 80,
   "metadata": {},
   "outputs": [
    {
     "data": {
      "text/plain": [
       "[(0, 0), (1, 1), (2, 2), (3, 3), (4, 4)]"
      ]
     },
     "execution_count": 80,
     "metadata": {},
     "output_type": "execute_result"
    }
   ],
   "source": [
    "mzip=zip(list1,list2)\n",
    "list(mzip)"
   ]
  },
  {
   "cell_type": "markdown",
   "metadata": {},
   "source": [
    "**Zip function**"
   ]
  },
  {
   "cell_type": "code",
   "execution_count": 78,
   "metadata": {},
   "outputs": [
    {
     "name": "stdout",
     "output_type": "stream",
     "text": [
      "0\n",
      "2\n",
      "4\n",
      "6\n",
      "8\n"
     ]
    }
   ],
   "source": [
    "list1=range(5)\n",
    "list2=range(5)\n",
    "mzip=zip(list1,list2)\n",
    "for x,y in mzip:\n",
    "    ketqua=plus(x,y)\n",
    "    print(ketqua)\n"
   ]
  },
  {
   "cell_type": "markdown",
   "metadata": {},
   "source": [
    "**Map and filter**\n",
    "\n",
    "`Map` and `filter` is used as alternative for `for loop`. Some examples below illustrates its use."
   ]
  },
  {
   "cell_type": "markdown",
   "metadata": {},
   "source": [
    "**Map**\n",
    "\n",
    "Formula\n",
    "\n",
    "map(function,iterable) return an iterator object"
   ]
  },
  {
   "cell_type": "code",
   "execution_count": 95,
   "metadata": {},
   "outputs": [],
   "source": [
    "mlist=[1,2,3,4,4,4.23,23.76]\n",
    "# Convert all values in mlist to be float type\n",
    "a=map(int, mlist)\n",
    "\n",
    "b=list(a)\n",
    "# ketqua=map(float, mlist)\n",
    "# # Access it values\n",
    "# print(list(ketqua))"
   ]
  },
  {
   "cell_type": "code",
   "execution_count": 39,
   "metadata": {},
   "outputs": [],
   "source": [
    "mlist=range(9000000)\n",
    "\n",
    "def random(pythonList):\n",
    "    dlist=[]\n",
    "    for i in pythonList:\n",
    "        ketqua=i*2\n",
    "        dlist.append(ketqua)\n",
    "    return dlist"
   ]
  },
  {
   "cell_type": "code",
   "execution_count": 42,
   "metadata": {},
   "outputs": [
    {
     "data": {
      "text/plain": [
       "<map at 0x24d9060fd00>"
      ]
     },
     "execution_count": 42,
     "metadata": {},
     "output_type": "execute_result"
    }
   ],
   "source": [
    "def nhan(x):\n",
    "    ketqua=x*2\n",
    "    return ketqua\n",
    "map(nhan, mlist)"
   ]
  },
  {
   "cell_type": "code",
   "execution_count": 97,
   "metadata": {},
   "outputs": [
    {
     "data": {
      "text/plain": [
       "[10, 20, 30, 40, 40, 42.300000000000004, 237.60000000000002]"
      ]
     },
     "execution_count": 97,
     "metadata": {},
     "output_type": "execute_result"
    }
   ],
   "source": [
    "nhan=lambda x: x*10\n",
    "\n",
    "a=map(nhan, mlist)\n",
    "list(a)"
   ]
  },
  {
   "cell_type": "markdown",
   "metadata": {},
   "source": [
    "**filter**\n",
    "\n",
    "filter(function, iterable)"
   ]
  },
  {
   "cell_type": "code",
   "execution_count": 101,
   "metadata": {},
   "outputs": [
    {
     "data": {
      "text/plain": [
       "[1, 2, 3, 4]"
      ]
     },
     "execution_count": 101,
     "metadata": {},
     "output_type": "execute_result"
    }
   ],
   "source": [
    "mlist=[1,2,3,4,5,54]\n",
    "ham1=lambda x: x<5\n",
    "myFilter=filter(ham1, mlist)\n",
    "\n",
    "list(myFilter)"
   ]
  },
  {
   "cell_type": "code",
   "execution_count": null,
   "metadata": {},
   "outputs": [],
   "source": []
  },
  {
   "cell_type": "code",
   "execution_count": 130,
   "metadata": {},
   "outputs": [],
   "source": [
    "# Alternatively \n",
    "def ham2(x):\n",
    "    if x<5:\n",
    "        return True\n",
    "    else:\n",
    "        return False"
   ]
  },
  {
   "cell_type": "code",
   "execution_count": 131,
   "metadata": {},
   "outputs": [
    {
     "data": {
      "text/plain": [
       "[1, 2, 3, 4]"
      ]
     },
     "execution_count": 131,
     "metadata": {},
     "output_type": "execute_result"
    }
   ],
   "source": [
    "a=filter(ham2, mlist)\n",
    "\n",
    "list(a)"
   ]
  },
  {
   "cell_type": "markdown",
   "metadata": {},
   "source": [
    "**Challenge** \n",
    "\n",
    "Viết hàm trong python để nhập vào 1 chuỗi và tính số ký tự in hoa, in thường trong chuỗi. <br>\n",
    "S= “This is Python Class at NIIT Ha Noi”<br>"
   ]
  },
  {
   "cell_type": "markdown",
   "metadata": {},
   "source": [
    "# 2. Class\n",
    "\n",
    "**Class Creation**"
   ]
  },
  {
   "cell_type": "code",
   "execution_count": 61,
   "metadata": {},
   "outputs": [
    {
     "data": {
      "text/plain": [
       "10"
      ]
     },
     "execution_count": 61,
     "metadata": {},
     "output_type": "execute_result"
    }
   ],
   "source": [
    "# Write a class to do some calculations\n",
    "\n",
    "class Computation():\n",
    "    class_variable=3 # Class variable \n",
    "    def __init__(self, x,y):\n",
    "        self.x=x # instance variable \n",
    "        self.y=y\n",
    "        \n",
    "    def plus(self):\n",
    "        ketqua=self.x+self.y\n",
    "        return ketqua\n",
    "    def minus(self, other):\n",
    "        ketqua=self.x-self.y*other\n",
    "        return ketqua\n",
    "    def multiply(self):\n",
    "        ketqua=self.x*self.y*self.class_variable\n",
    "        return ketqua\n",
    "test=Computation(x=9,y=10) # Instance of a class \n",
    "\n",
    "test.y\n",
    "# test.plus()\n",
    "\n",
    "# test.minus(10)\n",
    "\n",
    "# test.multiply()"
   ]
  },
  {
   "cell_type": "markdown",
   "metadata": {},
   "source": [
    "**Class Inheritance**"
   ]
  },
  {
   "cell_type": "code",
   "execution_count": 57,
   "metadata": {},
   "outputs": [
    {
     "data": {
      "text/plain": [
       "3"
      ]
     },
     "execution_count": 57,
     "metadata": {},
     "output_type": "execute_result"
    }
   ],
   "source": [
    "class Subclass(Computation):\n",
    "    def __init__(self, x, y, z):\n",
    "        super().__init__(x,y)\n",
    "#         Computation.__init__(self,x,y)\n",
    "        self.z=z\n",
    "    def plus1(self):\n",
    "        ketqua=self.x+self.y+self.z\n",
    "        return ketqua\n",
    "test1=Subclass(1,2,4)\n",
    "\n",
    "test1.plus1()\n",
    "\n",
    "test1.plus()\n",
    "# # test1.minus(10)\n",
    "\n",
    "# test1.class_variable=5\n",
    "\n",
    "# test1.multiply()"
   ]
  },
  {
   "cell_type": "markdown",
   "metadata": {},
   "source": [
    "# Exercies Practice\n",
    "\n",
    "Some of the exercises in this notebook taken from internet sources, mainly at [w3resource.com.]() "
   ]
  },
  {
   "cell_type": "markdown",
   "metadata": {},
   "source": [
    "**1.** Create a function that can accept two arguments name and age and print its value"
   ]
  },
  {
   "cell_type": "code",
   "execution_count": 2,
   "metadata": {},
   "outputs": [
    {
     "name": "stdout",
     "output_type": "stream",
     "text": [
      "Please enter your name: Ha Van Tuyen\n",
      "Please enter your age: 30\n",
      "Name: Ha Van Tuyen, Age: 30\n"
     ]
    }
   ],
   "source": [
    "def student():\n",
    "    name=input(\"Please enter your name: \")\n",
    "    age=int(input(\"Please enter your age: \"))\n",
    "    print(f\"Name: {name}, Age: {age}\")\n",
    "        \n",
    "student()"
   ]
  },
  {
   "cell_type": "markdown",
   "metadata": {},
   "source": [
    "**2.** Write a function calculation() such that it can accept two variables and calculate the addition and subtraction of them. And also it must return both addition and subtraction in a single return call."
   ]
  },
  {
   "cell_type": "code",
   "execution_count": 4,
   "metadata": {},
   "outputs": [
    {
     "data": {
      "text/plain": [
       "(0, 20)"
      ]
     },
     "execution_count": 4,
     "metadata": {},
     "output_type": "execute_result"
    }
   ],
   "source": [
    "def calculation(a,b):\n",
    "    sub=a-b\n",
    "    plus=b+a\n",
    "    return sub, plus\n",
    "calculation(10,10)"
   ]
  },
  {
   "cell_type": "markdown",
   "metadata": {},
   "source": [
    "**3**. Return the largest item from the given list.\n",
    "\n",
    "mlist=[1,4,6,7,8,9,3,4,5,6]"
   ]
  },
  {
   "cell_type": "code",
   "execution_count": 13,
   "metadata": {},
   "outputs": [
    {
     "data": {
      "text/plain": [
       "9"
      ]
     },
     "execution_count": 13,
     "metadata": {},
     "output_type": "execute_result"
    }
   ],
   "source": [
    "mlist=[1,4,6,7,8,9,3,4,5,6]\n",
    "\n",
    "max_value=0\n",
    "\n",
    "for i in mlist:\n",
    "    if i>max_value:\n",
    "        max_value=i\n",
    "max_value            "
   ]
  },
  {
   "cell_type": "code",
   "execution_count": 21,
   "metadata": {},
   "outputs": [],
   "source": [
    "mlist=[1,4,6,7,8,9,3,4,5,6]\n",
    "\n"
   ]
  },
  {
   "cell_type": "markdown",
   "metadata": {},
   "source": [
    "**4.** Write a Python function that takes a sequence of numbers and determines whether all the numbers are different from each other."
   ]
  },
  {
   "cell_type": "code",
   "execution_count": null,
   "metadata": {},
   "outputs": [],
   "source": []
  },
  {
   "cell_type": "markdown",
   "metadata": {},
   "source": [
    "**5.** Write a Python function to remove and print every third number from a list of numbers."
   ]
  },
  {
   "cell_type": "code",
   "execution_count": null,
   "metadata": {},
   "outputs": [],
   "source": []
  },
  {
   "cell_type": "markdown",
   "metadata": {},
   "source": [
    "**6**. Write a Python program to count the number of each character of a given text of a text file.\n",
    "\n",
    "\"\"\"\n",
    "Write a function addEvenNumber() such that it can accept a variable length of argument,\n",
    "and can add all even arguments value and display\n",
    "I want to know about this question can somebody will explain me how to do it??\n",
    "\"\"\""
   ]
  },
  {
   "cell_type": "code",
   "execution_count": null,
   "metadata": {},
   "outputs": [],
   "source": []
  },
  {
   "cell_type": "markdown",
   "metadata": {},
   "source": [
    "**7.** Write a Python program to get all possible two digit letter combinations from a digit (1 to 9) string."
   ]
  },
  {
   "cell_type": "code",
   "execution_count": null,
   "metadata": {},
   "outputs": [],
   "source": []
  },
  {
   "cell_type": "markdown",
   "metadata": {},
   "source": [
    "**8**. Write a Python class to implement pow(x, n)"
   ]
  },
  {
   "cell_type": "code",
   "execution_count": null,
   "metadata": {},
   "outputs": [],
   "source": []
  },
  {
   "cell_type": "markdown",
   "metadata": {},
   "source": [
    "**9**. Write a Python class to find the three elements that sum to zero from a set of n real numbers. <br>\n",
    "Input array : [-25, -10, -7, -3, 2, 4, 8, 10] <br>\n",
    "Output : [[-10, 2, 8], [-7, -3, 10]]"
   ]
  },
  {
   "cell_type": "code",
   "execution_count": 58,
   "metadata": {},
   "outputs": [
    {
     "name": "stdout",
     "output_type": "stream",
     "text": [
      "(-25, -10, -7)\n",
      "(-25, -10, -3)\n",
      "(-25, -10, 2)\n",
      "(-25, -10, 4)\n",
      "(-25, -10, 8)\n",
      "(-25, -10, 10)\n",
      "(-25, -7, -3)\n",
      "(-25, -7, 2)\n",
      "(-25, -7, 4)\n",
      "(-25, -7, 8)\n",
      "(-25, -7, 10)\n",
      "(-25, -3, 2)\n",
      "(-25, -3, 4)\n",
      "(-25, -3, 8)\n",
      "(-25, -3, 10)\n",
      "(-25, 2, 4)\n",
      "(-25, 2, 8)\n",
      "(-25, 2, 10)\n",
      "(-25, 4, 8)\n",
      "(-25, 4, 10)\n",
      "(-25, 8, 10)\n",
      "(-10, -7, -3)\n",
      "(-10, -7, 2)\n",
      "(-10, -7, 4)\n",
      "(-10, -7, 8)\n",
      "(-10, -7, 10)\n",
      "(-10, -3, 2)\n",
      "(-10, -3, 4)\n",
      "(-10, -3, 8)\n",
      "(-10, -3, 10)\n",
      "(-10, 2, 4)\n",
      "(-10, 2, 8)\n",
      "(-10, 2, 10)\n",
      "(-10, 4, 8)\n",
      "(-10, 4, 10)\n",
      "(-10, 8, 10)\n",
      "(-7, -3, 2)\n",
      "(-7, -3, 4)\n",
      "(-7, -3, 8)\n",
      "(-7, -3, 10)\n",
      "(-7, 2, 4)\n",
      "(-7, 2, 8)\n",
      "(-7, 2, 10)\n",
      "(-7, 4, 8)\n",
      "(-7, 4, 10)\n",
      "(-7, 8, 10)\n",
      "(-3, 2, 4)\n",
      "(-3, 2, 8)\n",
      "(-3, 2, 10)\n",
      "(-3, 4, 8)\n",
      "(-3, 4, 10)\n",
      "(-3, 8, 10)\n",
      "(2, 4, 8)\n",
      "(2, 4, 10)\n",
      "(2, 8, 10)\n",
      "(4, 8, 10)\n"
     ]
    }
   ],
   "source": [
    "# A Python program to print all\n",
    "# combinations of given length\n",
    "from itertools import combinations\n",
    "# given list\n",
    "mlist=[-25, -10, -7, -3, 2, 4, 8, 10]\n",
    "comb = combinations(mlist, 3)\n",
    "\n",
    "# Print the obtained combinations\n",
    "for i in list(comb):\n",
    "    print(i)"
   ]
  },
  {
   "cell_type": "code",
   "execution_count": null,
   "metadata": {},
   "outputs": [],
   "source": [
    "[1,2,3]\n",
    "\n",
    "12\n",
    "13\n",
    "23"
   ]
  },
  {
   "cell_type": "markdown",
   "metadata": {},
   "source": [
    "**10**. Write a Python function that takes a list and returns a new list with unique elements of the first list."
   ]
  },
  {
   "cell_type": "code",
   "execution_count": null,
   "metadata": {},
   "outputs": [],
   "source": []
  },
  {
   "cell_type": "markdown",
   "metadata": {},
   "source": [
    "**11**. Write a Python class to create and print a list where the values are square of numbers between 1 and 30 (both included)."
   ]
  },
  {
   "cell_type": "code",
   "execution_count": null,
   "metadata": {},
   "outputs": [],
   "source": []
  }
 ],
 "metadata": {
  "kernelspec": {
   "display_name": "Python 3",
   "language": "python",
   "name": "python3"
  },
  "language_info": {
   "codemirror_mode": {
    "name": "ipython",
    "version": 3
   },
   "file_extension": ".py",
   "mimetype": "text/x-python",
   "name": "python",
   "nbconvert_exporter": "python",
   "pygments_lexer": "ipython3",
   "version": "3.8.5"
  }
 },
 "nbformat": 4,
 "nbformat_minor": 4
}
