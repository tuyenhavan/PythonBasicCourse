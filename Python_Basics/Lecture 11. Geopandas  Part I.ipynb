{
 "cells": [
  {
   "cell_type": "markdown",
   "metadata": {},
   "source": [
    "**Welcome to Geospatial Data**\n",
    "\n",
    "Using QGIS to demonstrate the understanding of spatial data `shapefile` such as atribute information, extent and etc. Also, it is very important to know the file extension of vector data such as `shapefile`. Please see here for all possible file extension [link](https://gdal.org/drivers/vector/index.html). "
   ]
  },
  {
   "cell_type": "code",
   "execution_count": 1,
   "metadata": {},
   "outputs": [],
   "source": [
    "import geopandas as gpd"
   ]
  },
  {
   "cell_type": "markdown",
   "metadata": {},
   "source": [
    "# Read and Write Vector Data/shapefile\n",
    "\n",
    "**Read shapefile**\n",
    "\n",
    "Please access to this [website](https://gadm.org/download_country_v3.html) to download `Vietnam` maps."
   ]
  },
  {
   "cell_type": "code",
   "execution_count": 6,
   "metadata": {},
   "outputs": [
    {
     "data": {
      "text/html": [
       "<div>\n",
       "<style scoped>\n",
       "    .dataframe tbody tr th:only-of-type {\n",
       "        vertical-align: middle;\n",
       "    }\n",
       "\n",
       "    .dataframe tbody tr th {\n",
       "        vertical-align: top;\n",
       "    }\n",
       "\n",
       "    .dataframe thead th {\n",
       "        text-align: right;\n",
       "    }\n",
       "</style>\n",
       "<table border=\"1\" class=\"dataframe\">\n",
       "  <thead>\n",
       "    <tr style=\"text-align: right;\">\n",
       "      <th></th>\n",
       "      <th>GID_0</th>\n",
       "      <th>NAME_0</th>\n",
       "      <th>GID_1</th>\n",
       "      <th>NAME_1</th>\n",
       "      <th>VARNAME_1</th>\n",
       "      <th>NL_NAME_1</th>\n",
       "      <th>TYPE_1</th>\n",
       "      <th>ENGTYPE_1</th>\n",
       "      <th>CC_1</th>\n",
       "      <th>HASC_1</th>\n",
       "      <th>geometry</th>\n",
       "    </tr>\n",
       "  </thead>\n",
       "  <tbody>\n",
       "    <tr>\n",
       "      <th>0</th>\n",
       "      <td>VNM</td>\n",
       "      <td>Vietnam</td>\n",
       "      <td>VNM.1_1</td>\n",
       "      <td>An Giang</td>\n",
       "      <td>An Giang</td>\n",
       "      <td>None</td>\n",
       "      <td>Tỉnh</td>\n",
       "      <td>Province</td>\n",
       "      <td>None</td>\n",
       "      <td>VN.AG</td>\n",
       "      <td>POLYGON ((105.37450 10.24604, 105.33623 10.234...</td>\n",
       "    </tr>\n",
       "    <tr>\n",
       "      <th>1</th>\n",
       "      <td>VNM</td>\n",
       "      <td>Vietnam</td>\n",
       "      <td>VNM.2_1</td>\n",
       "      <td>Bạc Liêu</td>\n",
       "      <td>Bac Lieu</td>\n",
       "      <td>None</td>\n",
       "      <td>Tỉnh</td>\n",
       "      <td>Province</td>\n",
       "      <td>None</td>\n",
       "      <td>VN.BL</td>\n",
       "      <td>POLYGON ((105.41638 9.01717, 105.41731 9.02926...</td>\n",
       "    </tr>\n",
       "    <tr>\n",
       "      <th>2</th>\n",
       "      <td>VNM</td>\n",
       "      <td>Vietnam</td>\n",
       "      <td>VNM.3_1</td>\n",
       "      <td>Bắc Giang</td>\n",
       "      <td>Bac Giang</td>\n",
       "      <td>None</td>\n",
       "      <td>Tỉnh</td>\n",
       "      <td>Province</td>\n",
       "      <td>None</td>\n",
       "      <td>VN.BG</td>\n",
       "      <td>POLYGON ((105.96444 21.23003, 105.96074 21.230...</td>\n",
       "    </tr>\n",
       "    <tr>\n",
       "      <th>3</th>\n",
       "      <td>VNM</td>\n",
       "      <td>Vietnam</td>\n",
       "      <td>VNM.4_1</td>\n",
       "      <td>Bắc Kạn</td>\n",
       "      <td>Bac Kan</td>\n",
       "      <td>None</td>\n",
       "      <td>Tỉnh</td>\n",
       "      <td>Province</td>\n",
       "      <td>None</td>\n",
       "      <td>VN.BK</td>\n",
       "      <td>POLYGON ((105.59045 22.00770, 105.58698 22.003...</td>\n",
       "    </tr>\n",
       "    <tr>\n",
       "      <th>4</th>\n",
       "      <td>VNM</td>\n",
       "      <td>Vietnam</td>\n",
       "      <td>VNM.5_1</td>\n",
       "      <td>Bắc Ninh</td>\n",
       "      <td>Bac Ninh</td>\n",
       "      <td>None</td>\n",
       "      <td>Tỉnh</td>\n",
       "      <td>Province</td>\n",
       "      <td>None</td>\n",
       "      <td>VN.BN</td>\n",
       "      <td>POLYGON ((106.02851 20.99314, 106.02468 20.996...</td>\n",
       "    </tr>\n",
       "  </tbody>\n",
       "</table>\n",
       "</div>"
      ],
      "text/plain": [
       "  GID_0   NAME_0    GID_1     NAME_1  VARNAME_1 NL_NAME_1 TYPE_1 ENGTYPE_1  \\\n",
       "0   VNM  Vietnam  VNM.1_1   An Giang   An Giang      None   Tỉnh  Province   \n",
       "1   VNM  Vietnam  VNM.2_1   Bạc Liêu   Bac Lieu      None   Tỉnh  Province   \n",
       "2   VNM  Vietnam  VNM.3_1  Bắc Giang  Bac Giang      None   Tỉnh  Province   \n",
       "3   VNM  Vietnam  VNM.4_1    Bắc Kạn    Bac Kan      None   Tỉnh  Province   \n",
       "4   VNM  Vietnam  VNM.5_1   Bắc Ninh   Bac Ninh      None   Tỉnh  Province   \n",
       "\n",
       "   CC_1 HASC_1                                           geometry  \n",
       "0  None  VN.AG  POLYGON ((105.37450 10.24604, 105.33623 10.234...  \n",
       "1  None  VN.BL  POLYGON ((105.41638 9.01717, 105.41731 9.02926...  \n",
       "2  None  VN.BG  POLYGON ((105.96444 21.23003, 105.96074 21.230...  \n",
       "3  None  VN.BK  POLYGON ((105.59045 22.00770, 105.58698 22.003...  \n",
       "4  None  VN.BN  POLYGON ((106.02851 20.99314, 106.02468 20.996...  "
      ]
     },
     "execution_count": 6,
     "metadata": {},
     "output_type": "execute_result"
    }
   ],
   "source": [
    "# Read shapefile polygon\n",
    "\n",
    "poly=gpd.read_file(r\"F:\\Research\\Maps\\Maps\\VN_DIVA_GIS\\gadm36_VNM_1.shp\",encoding=\"utf-8\")\n",
    "\n",
    "poly.head()"
   ]
  },
  {
   "cell_type": "code",
   "execution_count": 7,
   "metadata": {},
   "outputs": [
    {
     "data": {
      "text/html": [
       "<div>\n",
       "<style scoped>\n",
       "    .dataframe tbody tr th:only-of-type {\n",
       "        vertical-align: middle;\n",
       "    }\n",
       "\n",
       "    .dataframe tbody tr th {\n",
       "        vertical-align: top;\n",
       "    }\n",
       "\n",
       "    .dataframe thead th {\n",
       "        text-align: right;\n",
       "    }\n",
       "</style>\n",
       "<table border=\"1\" class=\"dataframe\">\n",
       "  <thead>\n",
       "    <tr style=\"text-align: right;\">\n",
       "      <th></th>\n",
       "      <th>ID</th>\n",
       "      <th>Lat</th>\n",
       "      <th>Long</th>\n",
       "      <th>District</th>\n",
       "      <th>Counts</th>\n",
       "      <th>geometry</th>\n",
       "    </tr>\n",
       "  </thead>\n",
       "  <tbody>\n",
       "    <tr>\n",
       "      <th>0</th>\n",
       "      <td>03 - 016</td>\n",
       "      <td>21.095000</td>\n",
       "      <td>105.733611</td>\n",
       "      <td>Bac Tu Liem</td>\n",
       "      <td>0</td>\n",
       "      <td>MULTIPOINT (105.73361 21.09500)</td>\n",
       "    </tr>\n",
       "    <tr>\n",
       "      <th>1</th>\n",
       "      <td>03 - 015</td>\n",
       "      <td>21.094167</td>\n",
       "      <td>105.733889</td>\n",
       "      <td>Bac Tu Liem</td>\n",
       "      <td>1</td>\n",
       "      <td>MULTIPOINT (105.73389 21.09417)</td>\n",
       "    </tr>\n",
       "    <tr>\n",
       "      <th>2</th>\n",
       "      <td>03 - 014</td>\n",
       "      <td>21.094167</td>\n",
       "      <td>105.734167</td>\n",
       "      <td>Bac Tu Liem</td>\n",
       "      <td>4</td>\n",
       "      <td>MULTIPOINT (105.73417 21.09417)</td>\n",
       "    </tr>\n",
       "    <tr>\n",
       "      <th>3</th>\n",
       "      <td>03 - 013</td>\n",
       "      <td>21.093889</td>\n",
       "      <td>105.734444</td>\n",
       "      <td>Bac Tu Liem</td>\n",
       "      <td>23</td>\n",
       "      <td>MULTIPOINT (105.73444 21.09389)</td>\n",
       "    </tr>\n",
       "    <tr>\n",
       "      <th>4</th>\n",
       "      <td>03 - 008</td>\n",
       "      <td>21.093056</td>\n",
       "      <td>105.734444</td>\n",
       "      <td>Bac Tu Liem</td>\n",
       "      <td>0</td>\n",
       "      <td>MULTIPOINT (105.73444 21.09306)</td>\n",
       "    </tr>\n",
       "  </tbody>\n",
       "</table>\n",
       "</div>"
      ],
      "text/plain": [
       "         ID        Lat        Long     District  Counts  \\\n",
       "0  03 - 016  21.095000  105.733611  Bac Tu Liem       0   \n",
       "1  03 - 015  21.094167  105.733889  Bac Tu Liem       1   \n",
       "2  03 - 014  21.094167  105.734167  Bac Tu Liem       4   \n",
       "3  03 - 013  21.093889  105.734444  Bac Tu Liem      23   \n",
       "4  03 - 008  21.093056  105.734444  Bac Tu Liem       0   \n",
       "\n",
       "                          geometry  \n",
       "0  MULTIPOINT (105.73361 21.09500)  \n",
       "1  MULTIPOINT (105.73389 21.09417)  \n",
       "2  MULTIPOINT (105.73417 21.09417)  \n",
       "3  MULTIPOINT (105.73444 21.09389)  \n",
       "4  MULTIPOINT (105.73444 21.09306)  "
      ]
     },
     "execution_count": 7,
     "metadata": {},
     "output_type": "execute_result"
    }
   ],
   "source": [
    "# Read point shapefile\n",
    "point=gpd.read_file(r\"E:\\Geospatial_R_ILRI\\Study_Area\\Mosquito_Count.shp\")\n",
    "\n",
    "point.head()"
   ]
  },
  {
   "cell_type": "markdown",
   "metadata": {},
   "source": [
    "**Read `geojson` file**"
   ]
  },
  {
   "cell_type": "code",
   "execution_count": 8,
   "metadata": {},
   "outputs": [
    {
     "data": {
      "text/html": [
       "<div>\n",
       "<style scoped>\n",
       "    .dataframe tbody tr th:only-of-type {\n",
       "        vertical-align: middle;\n",
       "    }\n",
       "\n",
       "    .dataframe tbody tr th {\n",
       "        vertical-align: top;\n",
       "    }\n",
       "\n",
       "    .dataframe thead th {\n",
       "        text-align: right;\n",
       "    }\n",
       "</style>\n",
       "<table border=\"1\" class=\"dataframe\">\n",
       "  <thead>\n",
       "    <tr style=\"text-align: right;\">\n",
       "      <th></th>\n",
       "      <th>GID_0</th>\n",
       "      <th>NAME_0</th>\n",
       "      <th>GID_1</th>\n",
       "      <th>NAME_1</th>\n",
       "      <th>VARNAME_1</th>\n",
       "      <th>NL_NAME_1</th>\n",
       "      <th>TYPE_1</th>\n",
       "      <th>ENGTYPE_1</th>\n",
       "      <th>CC_1</th>\n",
       "      <th>HASC_1</th>\n",
       "      <th>geometry</th>\n",
       "    </tr>\n",
       "  </thead>\n",
       "  <tbody>\n",
       "    <tr>\n",
       "      <th>0</th>\n",
       "      <td>DEU</td>\n",
       "      <td>Germany</td>\n",
       "      <td>DEU.1_1</td>\n",
       "      <td>Baden-W�rttemberg</td>\n",
       "      <td>None</td>\n",
       "      <td>None</td>\n",
       "      <td>Land</td>\n",
       "      <td>State</td>\n",
       "      <td>08</td>\n",
       "      <td>DE.BW</td>\n",
       "      <td>MULTIPOLYGON (((8.70802 47.68958, 8.70766 47.6...</td>\n",
       "    </tr>\n",
       "    <tr>\n",
       "      <th>1</th>\n",
       "      <td>DEU</td>\n",
       "      <td>Germany</td>\n",
       "      <td>DEU.2_1</td>\n",
       "      <td>Bayern</td>\n",
       "      <td>Bavaria</td>\n",
       "      <td>None</td>\n",
       "      <td>Freistaat</td>\n",
       "      <td>None</td>\n",
       "      <td>09</td>\n",
       "      <td>DE.BY</td>\n",
       "      <td>POLYGON ((9.74066 47.55354, 9.74058 47.55311, ...</td>\n",
       "    </tr>\n",
       "    <tr>\n",
       "      <th>2</th>\n",
       "      <td>DEU</td>\n",
       "      <td>Germany</td>\n",
       "      <td>DEU.3_1</td>\n",
       "      <td>Berlin</td>\n",
       "      <td>None</td>\n",
       "      <td>None</td>\n",
       "      <td>Land</td>\n",
       "      <td>State</td>\n",
       "      <td>11</td>\n",
       "      <td>DE.BE</td>\n",
       "      <td>POLYGON ((13.17136 52.39776, 13.17135 52.39770...</td>\n",
       "    </tr>\n",
       "    <tr>\n",
       "      <th>3</th>\n",
       "      <td>DEU</td>\n",
       "      <td>Germany</td>\n",
       "      <td>DEU.4_1</td>\n",
       "      <td>Brandenburg</td>\n",
       "      <td>None</td>\n",
       "      <td>None</td>\n",
       "      <td>Land</td>\n",
       "      <td>State</td>\n",
       "      <td>12</td>\n",
       "      <td>DE.BR</td>\n",
       "      <td>MULTIPOLYGON (((12.26716 52.23131, 12.27047 52...</td>\n",
       "    </tr>\n",
       "    <tr>\n",
       "      <th>4</th>\n",
       "      <td>DEU</td>\n",
       "      <td>Germany</td>\n",
       "      <td>DEU.5_1</td>\n",
       "      <td>Bremen</td>\n",
       "      <td>None</td>\n",
       "      <td>None</td>\n",
       "      <td>Freie Hansestadt</td>\n",
       "      <td>State</td>\n",
       "      <td>04</td>\n",
       "      <td>DE.HB</td>\n",
       "      <td>MULTIPOLYGON (((8.71142 53.04463, 8.71033 53.0...</td>\n",
       "    </tr>\n",
       "  </tbody>\n",
       "</table>\n",
       "</div>"
      ],
      "text/plain": [
       "  GID_0   NAME_0    GID_1             NAME_1 VARNAME_1 NL_NAME_1  \\\n",
       "0   DEU  Germany  DEU.1_1  Baden-W�rttemberg      None      None   \n",
       "1   DEU  Germany  DEU.2_1             Bayern   Bavaria      None   \n",
       "2   DEU  Germany  DEU.3_1             Berlin      None      None   \n",
       "3   DEU  Germany  DEU.4_1        Brandenburg      None      None   \n",
       "4   DEU  Germany  DEU.5_1             Bremen      None      None   \n",
       "\n",
       "             TYPE_1 ENGTYPE_1 CC_1 HASC_1  \\\n",
       "0              Land     State   08  DE.BW   \n",
       "1         Freistaat      None   09  DE.BY   \n",
       "2              Land     State   11  DE.BE   \n",
       "3              Land     State   12  DE.BR   \n",
       "4  Freie Hansestadt     State   04  DE.HB   \n",
       "\n",
       "                                            geometry  \n",
       "0  MULTIPOLYGON (((8.70802 47.68958, 8.70766 47.6...  \n",
       "1  POLYGON ((9.74066 47.55354, 9.74058 47.55311, ...  \n",
       "2  POLYGON ((13.17136 52.39776, 13.17135 52.39770...  \n",
       "3  MULTIPOLYGON (((12.26716 52.23131, 12.27047 52...  \n",
       "4  MULTIPOLYGON (((8.71142 53.04463, 8.71033 53.0...  "
      ]
     },
     "execution_count": 8,
     "metadata": {},
     "output_type": "execute_result"
    }
   ],
   "source": [
    "url = \"https://gist.githubusercontent.com/tuyenhavan/5d0643ef2b49447492bd9047cb66ff5b/raw/46ee873c218d43482b9cb823aa5376cf96ab5aff/Germany.geojson\"\n",
    "df = gpd.read_file(url)\n",
    "df.head()"
   ]
  },
  {
   "cell_type": "code",
   "execution_count": 10,
   "metadata": {},
   "outputs": [
    {
     "data": {
      "text/html": [
       "<div>\n",
       "<style scoped>\n",
       "    .dataframe tbody tr th:only-of-type {\n",
       "        vertical-align: middle;\n",
       "    }\n",
       "\n",
       "    .dataframe tbody tr th {\n",
       "        vertical-align: top;\n",
       "    }\n",
       "\n",
       "    .dataframe thead th {\n",
       "        text-align: right;\n",
       "    }\n",
       "</style>\n",
       "<table border=\"1\" class=\"dataframe\">\n",
       "  <thead>\n",
       "    <tr style=\"text-align: right;\">\n",
       "      <th></th>\n",
       "      <th>GID_0</th>\n",
       "      <th>NAME_0</th>\n",
       "      <th>GID_1</th>\n",
       "      <th>NAME_1</th>\n",
       "      <th>VARNAME_1</th>\n",
       "      <th>NL_NAME_1</th>\n",
       "      <th>TYPE_1</th>\n",
       "      <th>ENGTYPE_1</th>\n",
       "      <th>CC_1</th>\n",
       "      <th>HASC_1</th>\n",
       "      <th>geometry</th>\n",
       "    </tr>\n",
       "  </thead>\n",
       "  <tbody>\n",
       "    <tr>\n",
       "      <th>2</th>\n",
       "      <td>DEU</td>\n",
       "      <td>Germany</td>\n",
       "      <td>DEU.3_1</td>\n",
       "      <td>Berlin</td>\n",
       "      <td>None</td>\n",
       "      <td>None</td>\n",
       "      <td>Land</td>\n",
       "      <td>State</td>\n",
       "      <td>11</td>\n",
       "      <td>DE.BE</td>\n",
       "      <td>POLYGON ((13.17136 52.39776, 13.17135 52.39770...</td>\n",
       "    </tr>\n",
       "  </tbody>\n",
       "</table>\n",
       "</div>"
      ],
      "text/plain": [
       "  GID_0   NAME_0    GID_1  NAME_1 VARNAME_1 NL_NAME_1 TYPE_1 ENGTYPE_1 CC_1  \\\n",
       "2   DEU  Germany  DEU.3_1  Berlin      None      None   Land     State   11   \n",
       "\n",
       "  HASC_1                                           geometry  \n",
       "2  DE.BE  POLYGON ((13.17136 52.39776, 13.17135 52.39770...  "
      ]
     },
     "execution_count": 10,
     "metadata": {},
     "output_type": "execute_result"
    }
   ],
   "source": [
    "# Select capital city of Berlin\n",
    "berlin=df.iloc[2:3,:]\n",
    "\n",
    "berlin"
   ]
  },
  {
   "cell_type": "markdown",
   "metadata": {},
   "source": [
    "- More reading vector files can be found [here](https://geopandas.org/docs/user_guide/io.html)"
   ]
  },
  {
   "cell_type": "markdown",
   "metadata": {},
   "source": [
    "**Writing vector files**\n",
    "\n",
    "- *Write to shapefile*"
   ]
  },
  {
   "cell_type": "code",
   "execution_count": 11,
   "metadata": {},
   "outputs": [],
   "source": [
    "# Write shapefile to shapefile\n",
    "store=r\"E:\\Spatial_Decision\\Test_Geopandas\\VN.shp\"\n",
    "\n",
    "poly.to_file(store)"
   ]
  },
  {
   "cell_type": "markdown",
   "metadata": {},
   "source": [
    "- *Write to GeoJSON*"
   ]
  },
  {
   "cell_type": "code",
   "execution_count": 12,
   "metadata": {},
   "outputs": [],
   "source": [
    "# Write shapefile to geojson\n",
    "df=gpd.read_file(r\"F:\\Research\\Maps\\Germany_Map\\gadm36_DEU_1.shp\")\n",
    "store=r\"E:\\Spatial_Decision\\Test_Geopandas\\Germany.geojson\"\n",
    "df.to_file(store, driver=\"GeoJSON\")"
   ]
  },
  {
   "cell_type": "code",
   "execution_count": 98,
   "metadata": {},
   "outputs": [],
   "source": [
    "## It throws error when writing VN map\n",
    "store=r\"E:\\Spatial_Decision\\Test_Geopandas\\VN.geojson\"\n",
    "# poly.to_file(store, driver=\"GeoJSON\", endcoding=\"utf-8\")"
   ]
  },
  {
   "cell_type": "code",
   "execution_count": null,
   "metadata": {},
   "outputs": [],
   "source": [
    "# Work around to convert VN maps to GeoJSON\n",
    "# First to conver geopandas shapefile to geojson\n",
    "df_json=poly.to_json()\n",
    "# # # Finally write text contents to store file as GeoJSON\n",
    "with open(store,\"w\") as wf:\n",
    "    wf.write(df_json)"
   ]
  },
  {
   "cell_type": "markdown",
   "metadata": {},
   "source": [
    "- *Write to geopackage*"
   ]
  },
  {
   "cell_type": "code",
   "execution_count": 8,
   "metadata": {},
   "outputs": [],
   "source": [
    "store=r\"E:\\Spatial_Decision\\Test_Geopandas\\VN.gpkg\"\n",
    "\n",
    "poly.to_file(store,layer=\"VN\", driver=\"GPKG\")"
   ]
  },
  {
   "cell_type": "markdown",
   "metadata": {},
   "source": [
    "# Shapefile Information\n",
    "\n",
    "What we should know about the properities of a shapefile. There are some information that we should know to better work with vector data such as `coordinate system`."
   ]
  },
  {
   "cell_type": "markdown",
   "metadata": {},
   "source": [
    "**Check coordinate system**"
   ]
  },
  {
   "cell_type": "code",
   "execution_count": 9,
   "metadata": {},
   "outputs": [
    {
     "data": {
      "text/plain": [
       "<Geographic 2D CRS: EPSG:4326>\n",
       "Name: WGS 84\n",
       "Axis Info [ellipsoidal]:\n",
       "- Lat[north]: Geodetic latitude (degree)\n",
       "- Lon[east]: Geodetic longitude (degree)\n",
       "Area of Use:\n",
       "- name: World\n",
       "- bounds: (-180.0, -90.0, 180.0, 90.0)\n",
       "Datum: World Geodetic System 1984\n",
       "- Ellipsoid: WGS 84\n",
       "- Prime Meridian: Greenwich"
      ]
     },
     "execution_count": 9,
     "metadata": {},
     "output_type": "execute_result"
    }
   ],
   "source": [
    "poly=gpd.read_file(r\"F:\\Research\\Maps\\Maps\\VN_DIVA_GIS\\gadm36_VNM_1.shp\",encoding=\"utf-8\")\n",
    "# Print out the coordinate information\n",
    "poly.crs"
   ]
  },
  {
   "cell_type": "code",
   "execution_count": 11,
   "metadata": {},
   "outputs": [
    {
     "data": {
      "text/plain": [
       "'epsg:4326'"
      ]
     },
     "execution_count": 11,
     "metadata": {},
     "output_type": "execute_result"
    }
   ],
   "source": [
    "# See the coordinate system code\n",
    "poly.crs.to_epsg()\n",
    "# Other way around\n",
    "str(poly.crs)"
   ]
  },
  {
   "cell_type": "markdown",
   "metadata": {},
   "source": [
    "**Work example**\n",
    "\n",
    "List all files with coordinates."
   ]
  },
  {
   "cell_type": "code",
   "execution_count": 11,
   "metadata": {},
   "outputs": [
    {
     "name": "stdout",
     "output_type": "stream",
     "text": [
      "Diemthugom.shp:32648\n",
      "Khuthugomrac.shp:3405\n",
      "SQD.shp:4326\n"
     ]
    }
   ],
   "source": [
    "path=r\"E:\\Python_Tutorials\\Practice_Data\"\n",
    "import os\n",
    "# Check crs if any missing\n",
    "\n",
    "for file in os.listdir(path):\n",
    "    \n",
    "    if file.endswith(\".shp\"):\n",
    "        link=os.path.join(path,file)\n",
    "        layer=gpd.read_file(link)\n",
    "        mycrs=layer.crs.to_epsg()\n",
    "#         print(file)\n",
    "        if mycrs:\n",
    "            print(f\"{file}:{mycrs}\")\n",
    "# #         else:\n",
    "#             print(f\"{file}\")"
   ]
  },
  {
   "cell_type": "markdown",
   "metadata": {},
   "source": [
    "**Change coordinate or reprojection**"
   ]
  },
  {
   "cell_type": "code",
   "execution_count": 14,
   "metadata": {},
   "outputs": [
    {
     "name": "stdout",
     "output_type": "stream",
     "text": [
      "32648\n"
     ]
    }
   ],
   "source": [
    "# You can do like this\n",
    "VN_UTM=poly.to_crs(\"EPSG:32648\")\n",
    "\n",
    "print(VN_UTM.crs.to_epsg())\n",
    "# We can export new shapefile\n",
    "store=r\"E:\\Spatial_Decision\\Test_Geopandas\\VN.shp\"\n",
    "\n",
    "VN_UTM.to_file(store)"
   ]
  },
  {
   "cell_type": "markdown",
   "metadata": {},
   "source": [
    "- Calculate area of a polygon"
   ]
  },
  {
   "cell_type": "code",
   "execution_count": 15,
   "metadata": {},
   "outputs": [
    {
     "data": {
      "text/html": [
       "<div>\n",
       "<style scoped>\n",
       "    .dataframe tbody tr th:only-of-type {\n",
       "        vertical-align: middle;\n",
       "    }\n",
       "\n",
       "    .dataframe tbody tr th {\n",
       "        vertical-align: top;\n",
       "    }\n",
       "\n",
       "    .dataframe thead th {\n",
       "        text-align: right;\n",
       "    }\n",
       "</style>\n",
       "<table border=\"1\" class=\"dataframe\">\n",
       "  <thead>\n",
       "    <tr style=\"text-align: right;\">\n",
       "      <th></th>\n",
       "      <th>GID_0</th>\n",
       "      <th>NAME_0</th>\n",
       "      <th>GID_1</th>\n",
       "      <th>NAME_1</th>\n",
       "      <th>VARNAME_1</th>\n",
       "      <th>NL_NAME_1</th>\n",
       "      <th>TYPE_1</th>\n",
       "      <th>ENGTYPE_1</th>\n",
       "      <th>CC_1</th>\n",
       "      <th>HASC_1</th>\n",
       "      <th>geometry</th>\n",
       "      <th>Area</th>\n",
       "    </tr>\n",
       "  </thead>\n",
       "  <tbody>\n",
       "    <tr>\n",
       "      <th>0</th>\n",
       "      <td>VNM</td>\n",
       "      <td>Vietnam</td>\n",
       "      <td>VNM.1_1</td>\n",
       "      <td>An Giang</td>\n",
       "      <td>An Giang</td>\n",
       "      <td>None</td>\n",
       "      <td>Tỉnh</td>\n",
       "      <td>Province</td>\n",
       "      <td>None</td>\n",
       "      <td>VN.AG</td>\n",
       "      <td>POLYGON ((541012.990 1132639.201, 536822.496 1...</td>\n",
       "      <td>3522.233281</td>\n",
       "    </tr>\n",
       "    <tr>\n",
       "      <th>1</th>\n",
       "      <td>VNM</td>\n",
       "      <td>Vietnam</td>\n",
       "      <td>VNM.2_1</td>\n",
       "      <td>Bạc Liêu</td>\n",
       "      <td>Bac Lieu</td>\n",
       "      <td>None</td>\n",
       "      <td>Tỉnh</td>\n",
       "      <td>Province</td>\n",
       "      <td>None</td>\n",
       "      <td>VN.BL</td>\n",
       "      <td>POLYGON ((545764.414 996776.503, 545865.190 99...</td>\n",
       "      <td>2477.306698</td>\n",
       "    </tr>\n",
       "    <tr>\n",
       "      <th>2</th>\n",
       "      <td>VNM</td>\n",
       "      <td>Vietnam</td>\n",
       "      <td>VNM.3_1</td>\n",
       "      <td>Bắc Giang</td>\n",
       "      <td>Bac Giang</td>\n",
       "      <td>None</td>\n",
       "      <td>Tỉnh</td>\n",
       "      <td>Province</td>\n",
       "      <td>None</td>\n",
       "      <td>VN.BG</td>\n",
       "      <td>POLYGON ((600082.174 2347911.498, 599698.069 2...</td>\n",
       "      <td>3892.812674</td>\n",
       "    </tr>\n",
       "    <tr>\n",
       "      <th>3</th>\n",
       "      <td>VNM</td>\n",
       "      <td>Vietnam</td>\n",
       "      <td>VNM.4_1</td>\n",
       "      <td>Bắc Kạn</td>\n",
       "      <td>Bac Kan</td>\n",
       "      <td>None</td>\n",
       "      <td>Tỉnh</td>\n",
       "      <td>Province</td>\n",
       "      <td>None</td>\n",
       "      <td>VN.BK</td>\n",
       "      <td>POLYGON ((560943.873 2433797.123, 560588.128 2...</td>\n",
       "      <td>4859.485955</td>\n",
       "    </tr>\n",
       "    <tr>\n",
       "      <th>4</th>\n",
       "      <td>VNM</td>\n",
       "      <td>Vietnam</td>\n",
       "      <td>VNM.5_1</td>\n",
       "      <td>Bắc Ninh</td>\n",
       "      <td>Bac Ninh</td>\n",
       "      <td>None</td>\n",
       "      <td>Tỉnh</td>\n",
       "      <td>Province</td>\n",
       "      <td>None</td>\n",
       "      <td>VN.BN</td>\n",
       "      <td>POLYGON ((606901.112 2321732.321, 606500.938 2...</td>\n",
       "      <td>820.901696</td>\n",
       "    </tr>\n",
       "  </tbody>\n",
       "</table>\n",
       "</div>"
      ],
      "text/plain": [
       "  GID_0   NAME_0    GID_1     NAME_1  VARNAME_1 NL_NAME_1 TYPE_1 ENGTYPE_1  \\\n",
       "0   VNM  Vietnam  VNM.1_1   An Giang   An Giang      None   Tỉnh  Province   \n",
       "1   VNM  Vietnam  VNM.2_1   Bạc Liêu   Bac Lieu      None   Tỉnh  Province   \n",
       "2   VNM  Vietnam  VNM.3_1  Bắc Giang  Bac Giang      None   Tỉnh  Province   \n",
       "3   VNM  Vietnam  VNM.4_1    Bắc Kạn    Bac Kan      None   Tỉnh  Province   \n",
       "4   VNM  Vietnam  VNM.5_1   Bắc Ninh   Bac Ninh      None   Tỉnh  Province   \n",
       "\n",
       "   CC_1 HASC_1                                           geometry         Area  \n",
       "0  None  VN.AG  POLYGON ((541012.990 1132639.201, 536822.496 1...  3522.233281  \n",
       "1  None  VN.BL  POLYGON ((545764.414 996776.503, 545865.190 99...  2477.306698  \n",
       "2  None  VN.BG  POLYGON ((600082.174 2347911.498, 599698.069 2...  3892.812674  \n",
       "3  None  VN.BK  POLYGON ((560943.873 2433797.123, 560588.128 2...  4859.485955  \n",
       "4  None  VN.BN  POLYGON ((606901.112 2321732.321, 606500.938 2...   820.901696  "
      ]
     },
     "execution_count": 15,
     "metadata": {},
     "output_type": "execute_result"
    }
   ],
   "source": [
    "VN_UTM[\"Area\"]=VN_UTM.area/1000000 # Unit: Km2\n",
    "\n",
    "VN_UTM.head()"
   ]
  },
  {
   "cell_type": "code",
   "execution_count": 16,
   "metadata": {},
   "outputs": [
    {
     "data": {
      "text/plain": [
       "'Polygon'"
      ]
     },
     "execution_count": 16,
     "metadata": {},
     "output_type": "execute_result"
    }
   ],
   "source": [
    "# Get geometry types\n",
    "poly.geom_type[0]"
   ]
  },
  {
   "cell_type": "code",
   "execution_count": 17,
   "metadata": {},
   "outputs": [
    {
     "data": {
      "text/html": [
       "<div>\n",
       "<style scoped>\n",
       "    .dataframe tbody tr th:only-of-type {\n",
       "        vertical-align: middle;\n",
       "    }\n",
       "\n",
       "    .dataframe tbody tr th {\n",
       "        vertical-align: top;\n",
       "    }\n",
       "\n",
       "    .dataframe thead th {\n",
       "        text-align: right;\n",
       "    }\n",
       "</style>\n",
       "<table border=\"1\" class=\"dataframe\">\n",
       "  <thead>\n",
       "    <tr style=\"text-align: right;\">\n",
       "      <th></th>\n",
       "      <th>minx</th>\n",
       "      <th>miny</th>\n",
       "      <th>maxx</th>\n",
       "      <th>maxy</th>\n",
       "    </tr>\n",
       "  </thead>\n",
       "  <tbody>\n",
       "    <tr>\n",
       "      <th>0</th>\n",
       "      <td>104.778381</td>\n",
       "      <td>10.183551</td>\n",
       "      <td>105.575272</td>\n",
       "      <td>10.962068</td>\n",
       "    </tr>\n",
       "    <tr>\n",
       "      <th>1</th>\n",
       "      <td>105.232574</td>\n",
       "      <td>9.017170</td>\n",
       "      <td>105.860481</td>\n",
       "      <td>9.637449</td>\n",
       "    </tr>\n",
       "    <tr>\n",
       "      <th>2</th>\n",
       "      <td>105.880775</td>\n",
       "      <td>21.121574</td>\n",
       "      <td>107.033577</td>\n",
       "      <td>21.626274</td>\n",
       "    </tr>\n",
       "    <tr>\n",
       "      <th>3</th>\n",
       "      <td>105.431129</td>\n",
       "      <td>21.804462</td>\n",
       "      <td>106.247055</td>\n",
       "      <td>22.741526</td>\n",
       "    </tr>\n",
       "    <tr>\n",
       "      <th>4</th>\n",
       "      <td>105.902649</td>\n",
       "      <td>20.969311</td>\n",
       "      <td>106.310631</td>\n",
       "      <td>21.264307</td>\n",
       "    </tr>\n",
       "  </tbody>\n",
       "</table>\n",
       "</div>"
      ],
      "text/plain": [
       "         minx       miny        maxx       maxy\n",
       "0  104.778381  10.183551  105.575272  10.962068\n",
       "1  105.232574   9.017170  105.860481   9.637449\n",
       "2  105.880775  21.121574  107.033577  21.626274\n",
       "3  105.431129  21.804462  106.247055  22.741526\n",
       "4  105.902649  20.969311  106.310631  21.264307"
      ]
     },
     "execution_count": 17,
     "metadata": {},
     "output_type": "execute_result"
    }
   ],
   "source": [
    "# Get bounds for each feature\n",
    "poly.bounds.head()"
   ]
  },
  {
   "cell_type": "code",
   "execution_count": 18,
   "metadata": {},
   "outputs": [
    {
     "data": {
      "text/plain": [
       "array([102.14458466,   8.38135529, 109.46916962,  23.39269257])"
      ]
     },
     "execution_count": 18,
     "metadata": {},
     "output_type": "execute_result"
    }
   ],
   "source": [
    "# Get total bounds \n",
    "poly.total_bounds"
   ]
  },
  {
   "cell_type": "markdown",
   "metadata": {},
   "source": [
    "- Centroids\n",
    "\n",
    "Also, you can get a representative point for each polygon `representative_point()`"
   ]
  },
  {
   "cell_type": "code",
   "execution_count": 19,
   "metadata": {},
   "outputs": [
    {
     "data": {
      "text/html": [
       "<div>\n",
       "<style scoped>\n",
       "    .dataframe tbody tr th:only-of-type {\n",
       "        vertical-align: middle;\n",
       "    }\n",
       "\n",
       "    .dataframe tbody tr th {\n",
       "        vertical-align: top;\n",
       "    }\n",
       "\n",
       "    .dataframe thead th {\n",
       "        text-align: right;\n",
       "    }\n",
       "</style>\n",
       "<table border=\"1\" class=\"dataframe\">\n",
       "  <thead>\n",
       "    <tr style=\"text-align: right;\">\n",
       "      <th></th>\n",
       "      <th>GID_0</th>\n",
       "      <th>NAME_0</th>\n",
       "      <th>GID_1</th>\n",
       "      <th>NAME_1</th>\n",
       "      <th>VARNAME_1</th>\n",
       "      <th>NL_NAME_1</th>\n",
       "      <th>TYPE_1</th>\n",
       "      <th>ENGTYPE_1</th>\n",
       "      <th>CC_1</th>\n",
       "      <th>HASC_1</th>\n",
       "      <th>geometry</th>\n",
       "      <th>Area</th>\n",
       "      <th>polyCentroid</th>\n",
       "    </tr>\n",
       "  </thead>\n",
       "  <tbody>\n",
       "    <tr>\n",
       "      <th>0</th>\n",
       "      <td>VNM</td>\n",
       "      <td>Vietnam</td>\n",
       "      <td>VNM.1_1</td>\n",
       "      <td>An Giang</td>\n",
       "      <td>An Giang</td>\n",
       "      <td>None</td>\n",
       "      <td>Tỉnh</td>\n",
       "      <td>Province</td>\n",
       "      <td>None</td>\n",
       "      <td>VN.AG</td>\n",
       "      <td>POLYGON ((541012.990 1132639.201, 536822.496 1...</td>\n",
       "      <td>3522.233281</td>\n",
       "      <td>POINT (519986.562 1161931.668)</td>\n",
       "    </tr>\n",
       "    <tr>\n",
       "      <th>1</th>\n",
       "      <td>VNM</td>\n",
       "      <td>Vietnam</td>\n",
       "      <td>VNM.2_1</td>\n",
       "      <td>Bạc Liêu</td>\n",
       "      <td>Bac Lieu</td>\n",
       "      <td>None</td>\n",
       "      <td>Tỉnh</td>\n",
       "      <td>Province</td>\n",
       "      <td>None</td>\n",
       "      <td>VN.BL</td>\n",
       "      <td>POLYGON ((545764.414 996776.503, 545865.190 99...</td>\n",
       "      <td>2477.306698</td>\n",
       "      <td>POINT (553726.762 1029585.362)</td>\n",
       "    </tr>\n",
       "    <tr>\n",
       "      <th>2</th>\n",
       "      <td>VNM</td>\n",
       "      <td>Vietnam</td>\n",
       "      <td>VNM.3_1</td>\n",
       "      <td>Bắc Giang</td>\n",
       "      <td>Bac Giang</td>\n",
       "      <td>None</td>\n",
       "      <td>Tỉnh</td>\n",
       "      <td>Province</td>\n",
       "      <td>None</td>\n",
       "      <td>VN.BG</td>\n",
       "      <td>POLYGON ((600082.174 2347911.498, 599698.069 2...</td>\n",
       "      <td>3892.812674</td>\n",
       "      <td>POINT (653546.119 2362449.083)</td>\n",
       "    </tr>\n",
       "    <tr>\n",
       "      <th>3</th>\n",
       "      <td>VNM</td>\n",
       "      <td>Vietnam</td>\n",
       "      <td>VNM.4_1</td>\n",
       "      <td>Bắc Kạn</td>\n",
       "      <td>Bac Kan</td>\n",
       "      <td>None</td>\n",
       "      <td>Tỉnh</td>\n",
       "      <td>Province</td>\n",
       "      <td>None</td>\n",
       "      <td>VN.BK</td>\n",
       "      <td>POLYGON ((560943.873 2433797.123, 560588.128 2...</td>\n",
       "      <td>4859.485955</td>\n",
       "      <td>POINT (585193.773 2461975.214)</td>\n",
       "    </tr>\n",
       "    <tr>\n",
       "      <th>4</th>\n",
       "      <td>VNM</td>\n",
       "      <td>Vietnam</td>\n",
       "      <td>VNM.5_1</td>\n",
       "      <td>Bắc Ninh</td>\n",
       "      <td>Bac Ninh</td>\n",
       "      <td>None</td>\n",
       "      <td>Tỉnh</td>\n",
       "      <td>Province</td>\n",
       "      <td>None</td>\n",
       "      <td>VN.BN</td>\n",
       "      <td>POLYGON ((606901.112 2321732.321, 606500.938 2...</td>\n",
       "      <td>820.901696</td>\n",
       "      <td>POINT (614868.373 2334631.289)</td>\n",
       "    </tr>\n",
       "  </tbody>\n",
       "</table>\n",
       "</div>"
      ],
      "text/plain": [
       "  GID_0   NAME_0    GID_1     NAME_1  VARNAME_1 NL_NAME_1 TYPE_1 ENGTYPE_1  \\\n",
       "0   VNM  Vietnam  VNM.1_1   An Giang   An Giang      None   Tỉnh  Province   \n",
       "1   VNM  Vietnam  VNM.2_1   Bạc Liêu   Bac Lieu      None   Tỉnh  Province   \n",
       "2   VNM  Vietnam  VNM.3_1  Bắc Giang  Bac Giang      None   Tỉnh  Province   \n",
       "3   VNM  Vietnam  VNM.4_1    Bắc Kạn    Bac Kan      None   Tỉnh  Province   \n",
       "4   VNM  Vietnam  VNM.5_1   Bắc Ninh   Bac Ninh      None   Tỉnh  Province   \n",
       "\n",
       "   CC_1 HASC_1                                           geometry  \\\n",
       "0  None  VN.AG  POLYGON ((541012.990 1132639.201, 536822.496 1...   \n",
       "1  None  VN.BL  POLYGON ((545764.414 996776.503, 545865.190 99...   \n",
       "2  None  VN.BG  POLYGON ((600082.174 2347911.498, 599698.069 2...   \n",
       "3  None  VN.BK  POLYGON ((560943.873 2433797.123, 560588.128 2...   \n",
       "4  None  VN.BN  POLYGON ((606901.112 2321732.321, 606500.938 2...   \n",
       "\n",
       "          Area                    polyCentroid  \n",
       "0  3522.233281  POINT (519986.562 1161931.668)  \n",
       "1  2477.306698  POINT (553726.762 1029585.362)  \n",
       "2  3892.812674  POINT (653546.119 2362449.083)  \n",
       "3  4859.485955  POINT (585193.773 2461975.214)  \n",
       "4   820.901696  POINT (614868.373 2334631.289)  "
      ]
     },
     "execution_count": 19,
     "metadata": {},
     "output_type": "execute_result"
    }
   ],
   "source": [
    "VN_UTM[\"polyCentroid\"]=VN_UTM.centroid\n",
    "\n",
    "VN_UTM.head()"
   ]
  },
  {
   "cell_type": "markdown",
   "metadata": {},
   "source": [
    "**Set projection**\n",
    "\n",
    "If a shapefile has `No` CRS, we have to assign a crs to it."
   ]
  },
  {
   "cell_type": "code",
   "execution_count": 20,
   "metadata": {},
   "outputs": [
    {
     "name": "stdout",
     "output_type": "stream",
     "text": [
      "None\n"
     ]
    }
   ],
   "source": [
    "newPath=os.path.join(path,\"DiemDoCao-QTQV.shp\")\n",
    "docao=gpd.read_file(newPath)\n",
    "# Check the coordinate \n",
    "print(docao.crs.to_epsg())"
   ]
  },
  {
   "cell_type": "code",
   "execution_count": 22,
   "metadata": {},
   "outputs": [
    {
     "name": "stdout",
     "output_type": "stream",
     "text": [
      "4326\n"
     ]
    }
   ],
   "source": [
    "# Set crs docao layer\n",
    "new_data=docao.set_crs(\"EPSG:4326\",allow_override=True)\n",
    "\n",
    "print(new_data.crs.to_epsg())"
   ]
  },
  {
   "cell_type": "markdown",
   "metadata": {},
   "source": [
    "## Shapefile information"
   ]
  },
  {
   "cell_type": "code",
   "execution_count": 110,
   "metadata": {},
   "outputs": [
    {
     "data": {
      "text/plain": [
       "'geometry'"
      ]
     },
     "execution_count": 110,
     "metadata": {},
     "output_type": "execute_result"
    }
   ],
   "source": [
    "# Check the geometry name\n",
    "poly.geometry.name"
   ]
  },
  {
   "cell_type": "code",
   "execution_count": 23,
   "metadata": {},
   "outputs": [
    {
     "data": {
      "text/html": [
       "<div>\n",
       "<style scoped>\n",
       "    .dataframe tbody tr th:only-of-type {\n",
       "        vertical-align: middle;\n",
       "    }\n",
       "\n",
       "    .dataframe tbody tr th {\n",
       "        vertical-align: top;\n",
       "    }\n",
       "\n",
       "    .dataframe thead th {\n",
       "        text-align: right;\n",
       "    }\n",
       "</style>\n",
       "<table border=\"1\" class=\"dataframe\">\n",
       "  <thead>\n",
       "    <tr style=\"text-align: right;\">\n",
       "      <th></th>\n",
       "      <th>GID_0</th>\n",
       "      <th>NAME_0</th>\n",
       "      <th>GID_1</th>\n",
       "      <th>NAME_1</th>\n",
       "      <th>VARNAME_1</th>\n",
       "      <th>NL_NAME_1</th>\n",
       "      <th>TYPE_1</th>\n",
       "      <th>ENGTYPE_1</th>\n",
       "      <th>CC_1</th>\n",
       "      <th>HASC_1</th>\n",
       "      <th>borders</th>\n",
       "    </tr>\n",
       "  </thead>\n",
       "  <tbody>\n",
       "    <tr>\n",
       "      <th>0</th>\n",
       "      <td>VNM</td>\n",
       "      <td>Vietnam</td>\n",
       "      <td>VNM.1_1</td>\n",
       "      <td>An Giang</td>\n",
       "      <td>An Giang</td>\n",
       "      <td>None</td>\n",
       "      <td>Tỉnh</td>\n",
       "      <td>Province</td>\n",
       "      <td>None</td>\n",
       "      <td>VN.AG</td>\n",
       "      <td>POLYGON ((105.37450 10.24604, 105.33623 10.234...</td>\n",
       "    </tr>\n",
       "    <tr>\n",
       "      <th>1</th>\n",
       "      <td>VNM</td>\n",
       "      <td>Vietnam</td>\n",
       "      <td>VNM.2_1</td>\n",
       "      <td>Bạc Liêu</td>\n",
       "      <td>Bac Lieu</td>\n",
       "      <td>None</td>\n",
       "      <td>Tỉnh</td>\n",
       "      <td>Province</td>\n",
       "      <td>None</td>\n",
       "      <td>VN.BL</td>\n",
       "      <td>POLYGON ((105.41638 9.01717, 105.41731 9.02926...</td>\n",
       "    </tr>\n",
       "    <tr>\n",
       "      <th>2</th>\n",
       "      <td>VNM</td>\n",
       "      <td>Vietnam</td>\n",
       "      <td>VNM.3_1</td>\n",
       "      <td>Bắc Giang</td>\n",
       "      <td>Bac Giang</td>\n",
       "      <td>None</td>\n",
       "      <td>Tỉnh</td>\n",
       "      <td>Province</td>\n",
       "      <td>None</td>\n",
       "      <td>VN.BG</td>\n",
       "      <td>POLYGON ((105.96444 21.23003, 105.96074 21.230...</td>\n",
       "    </tr>\n",
       "    <tr>\n",
       "      <th>3</th>\n",
       "      <td>VNM</td>\n",
       "      <td>Vietnam</td>\n",
       "      <td>VNM.4_1</td>\n",
       "      <td>Bắc Kạn</td>\n",
       "      <td>Bac Kan</td>\n",
       "      <td>None</td>\n",
       "      <td>Tỉnh</td>\n",
       "      <td>Province</td>\n",
       "      <td>None</td>\n",
       "      <td>VN.BK</td>\n",
       "      <td>POLYGON ((105.59045 22.00770, 105.58698 22.003...</td>\n",
       "    </tr>\n",
       "    <tr>\n",
       "      <th>4</th>\n",
       "      <td>VNM</td>\n",
       "      <td>Vietnam</td>\n",
       "      <td>VNM.5_1</td>\n",
       "      <td>Bắc Ninh</td>\n",
       "      <td>Bac Ninh</td>\n",
       "      <td>None</td>\n",
       "      <td>Tỉnh</td>\n",
       "      <td>Province</td>\n",
       "      <td>None</td>\n",
       "      <td>VN.BN</td>\n",
       "      <td>POLYGON ((106.02851 20.99314, 106.02468 20.996...</td>\n",
       "    </tr>\n",
       "  </tbody>\n",
       "</table>\n",
       "</div>"
      ],
      "text/plain": [
       "  GID_0   NAME_0    GID_1     NAME_1  VARNAME_1 NL_NAME_1 TYPE_1 ENGTYPE_1  \\\n",
       "0   VNM  Vietnam  VNM.1_1   An Giang   An Giang      None   Tỉnh  Province   \n",
       "1   VNM  Vietnam  VNM.2_1   Bạc Liêu   Bac Lieu      None   Tỉnh  Province   \n",
       "2   VNM  Vietnam  VNM.3_1  Bắc Giang  Bac Giang      None   Tỉnh  Province   \n",
       "3   VNM  Vietnam  VNM.4_1    Bắc Kạn    Bac Kan      None   Tỉnh  Province   \n",
       "4   VNM  Vietnam  VNM.5_1   Bắc Ninh   Bac Ninh      None   Tỉnh  Province   \n",
       "\n",
       "   CC_1 HASC_1                                            borders  \n",
       "0  None  VN.AG  POLYGON ((105.37450 10.24604, 105.33623 10.234...  \n",
       "1  None  VN.BL  POLYGON ((105.41638 9.01717, 105.41731 9.02926...  \n",
       "2  None  VN.BG  POLYGON ((105.96444 21.23003, 105.96074 21.230...  \n",
       "3  None  VN.BK  POLYGON ((105.59045 22.00770, 105.58698 22.003...  \n",
       "4  None  VN.BN  POLYGON ((106.02851 20.99314, 106.02468 20.996...  "
      ]
     },
     "execution_count": 23,
     "metadata": {},
     "output_type": "execute_result"
    }
   ],
   "source": [
    "# Change the geometry name\n",
    "newgeometry = poly.rename(columns={'geometry': 'borders'}).set_geometry('borders') # becareful with this\n",
    "newgeometry.head()"
   ]
  },
  {
   "cell_type": "markdown",
   "metadata": {},
   "source": [
    "**Plot map**"
   ]
  },
  {
   "cell_type": "code",
   "execution_count": 24,
   "metadata": {},
   "outputs": [],
   "source": [
    "import random\n",
    "\n",
    "poly[\"elev\"]=[i+random.random() for i in range(len(poly))]\n",
    "poly.head()\n",
    "\n",
    "poly.to_file(r\"E:\\Spatial_Decision\\Test_Geopandas\\test.shp\")"
   ]
  },
  {
   "cell_type": "code",
   "execution_count": 25,
   "metadata": {},
   "outputs": [
    {
     "data": {
      "text/plain": [
       "<AxesSubplot:>"
      ]
     },
     "execution_count": 25,
     "metadata": {},
     "output_type": "execute_result"
    },
    {
     "data": {
      "image/png": "[encoded data removed]",
      "text/plain": [
       "<Figure size 720x720 with 2 Axes>"
      ]
     },
     "metadata": {
      "needs_background": "light"
     },
     "output_type": "display_data"
    }
   ],
   "source": [
    "# fig, ax = plt.subplots(1, 1)\n",
    "poly.plot(column=\"elev\",legend=True, figsize=(10,10),legend_kwds={'label': \"Elevation\",'orientation': \"horizontal\"})"
   ]
  }
 ],
 "metadata": {
  "kernelspec": {
   "display_name": "Python 3",
   "language": "python",
   "name": "python3"
  },
  "language_info": {
   "codemirror_mode": {
    "name": "ipython",
    "version": 3
   },
   "file_extension": ".py",
   "mimetype": "text/x-python",
   "name": "python",
   "nbconvert_exporter": "python",
   "pygments_lexer": "ipython3",
   "version": "3.8.5"
  }
 },
 "nbformat": 4,
 "nbformat_minor": 4
}
