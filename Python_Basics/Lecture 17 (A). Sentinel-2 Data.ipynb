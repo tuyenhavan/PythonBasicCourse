{
 "cells": [
  {
   "cell_type": "code",
   "execution_count": 1,
   "metadata": {},
   "outputs": [],
   "source": [
    "import ee\n",
    "import geemap as emap\n",
    "\n",
    "# emap.update_package()"
   ]
  },
  {
   "cell_type": "markdown",
   "metadata": {},
   "source": [
    "**Initialize and authenticate**"
   ]
  },
  {
   "cell_type": "code",
   "execution_count": 2,
   "metadata": {},
   "outputs": [
    {
     "data": {
      "text/html": [
       "<p>To authorize access needed by Earth Engine, open the following\n",
       "        URL in a web browser and follow the instructions:</p>\n",
       "        <p><a href=https://accounts.google.com/o/oauth2/auth?client_id=517222506229-vsmmajv00ul0bs7p89v5m89qs8eb9359.apps.googleusercontent.com&scope=https%3A%2F%2Fwww.googleapis.com%2Fauth%2Fearthengine+https%3A%2F%2Fwww.googleapis.com%2Fauth%2Fdevstorage.full_control&redirect_uri=urn%3Aietf%3Awg%3Aoauth%3A2.0%3Aoob&response_type=code&code_challenge=VQkS59QP6svNAtcnEA1lI-fvGaxYTKIkzJaTU77Wt6E&code_challenge_method=S256>https://accounts.google.com/o/oauth2/auth?client_id=517222506229-vsmmajv00ul0bs7p89v5m89qs8eb9359.apps.googleusercontent.com&scope=https%3A%2F%2Fwww.googleapis.com%2Fauth%2Fearthengine+https%3A%2F%2Fwww.googleapis.com%2Fauth%2Fdevstorage.full_control&redirect_uri=urn%3Aietf%3Awg%3Aoauth%3A2.0%3Aoob&response_type=code&code_challenge=VQkS59QP6svNAtcnEA1lI-fvGaxYTKIkzJaTU77Wt6E&code_challenge_method=S256</a></p>\n",
       "        <p>The authorization workflow will generate a code, which you\n",
       "        should paste in the box below</p>\n",
       "        "
      ],
      "text/plain": [
       "<IPython.core.display.HTML object>"
      ]
     },
     "metadata": {},
     "output_type": "display_data"
    },
    {
     "name": "stdout",
     "output_type": "stream",
     "text": [
      "Enter verification code: 4/1AX4XfWgXWmUB9q4eYT72ISqFsvTgp8D03cg5N_fSMfjWljbIxdkWa00zEyg\n",
      "\n",
      "Successfully saved authorization token.\n"
     ]
    }
   ],
   "source": [
    "ee.Initialize()\n",
    "ee.Authenticate()"
   ]
  },
  {
   "cell_type": "code",
   "execution_count": 3,
   "metadata": {},
   "outputs": [
    {
     "data": {
      "application/vnd.jupyter.widget-view+json": {
       "model_id": "2f2e2ff301cf45b396236a771daa9358",
       "version_major": 2,
       "version_minor": 0
      },
      "text/plain": [
       "Map(center=[40, -100], controls=(WidgetControl(options=['position', 'transparent_bg'], widget=HBox(children=(T…"
      ]
     },
     "metadata": {},
     "output_type": "display_data"
    }
   ],
   "source": [
    "Map=emap.Map()\n",
    "Map"
   ]
  },
  {
   "cell_type": "markdown",
   "metadata": {},
   "source": [
    "**Load the Sentinel-2 Surface Reflectance**"
   ]
  },
  {
   "cell_type": "code",
   "execution_count": 28,
   "metadata": {},
   "outputs": [],
   "source": [
    "# Load the study area\n",
    "area=ee.FeatureCollection(\"users/miketu72/Test_Area\")\n",
    "point=ee.FeatureCollection(\"users/miketu72/Test_point\")\n",
    "Map.centerObject(area,10)\n",
    "Map.addLayer(point,{},\"Area\")"
   ]
  },
  {
   "cell_type": "code",
   "execution_count": 8,
   "metadata": {},
   "outputs": [],
   "source": [
    "# Load sentinel-2 data from 2020. Please keep in mind the factor =0.0001\n",
    "sentinel2=ee.ImageCollection(\"COPERNICUS/S2_SR\").filterDate(\"2020-01-01\",\"2020-12-31\").\\\n",
    "filterMetadata(\"CLOUDY_PIXEL_PERCENTAGE\", \"less_than\",30).filterBounds(area).first().clip(area)"
   ]
  },
  {
   "cell_type": "code",
   "execution_count": 9,
   "metadata": {},
   "outputs": [
    {
     "data": {
      "application/vnd.jupyter.widget-view+json": {
       "model_id": "d7e5ed70e8cc4f1fb729ae6129396fc4",
       "version_major": 2,
       "version_minor": 0
      },
      "text/plain": [
       "Map(bottom=230698.0, center=[21.242275458817613, 105.49860474289395], controls=(WidgetControl(options=['positi…"
      ]
     },
     "metadata": {},
     "output_type": "display_data"
    }
   ],
   "source": [
    "Map.centerObject(area,10)\n",
    "Map.addLayer(sentinel2,{\"bands\":[\"B8\",\"B4\",\"B3\"],\"min\":780.2, \"max\":3189.2},\"Sentinel\")  # 651-1448, 762-2077\n",
    "Map"
   ]
  },
  {
   "cell_type": "markdown",
   "metadata": {},
   "source": [
    "**Calculate NDVI**"
   ]
  },
  {
   "cell_type": "code",
   "execution_count": 25,
   "metadata": {},
   "outputs": [],
   "source": [
    "NDVI=sentinel2.expression(\"(NIR-RED)/(NIR+RED)\",\\\n",
    "                          {\"NIR\":sentinel2.select(\"B8\"),\\\n",
    "                          \"RED\":sentinel2.select(\"B4\")}).rename(\"NDVI\")\n",
    "# Add a NDVI band to the Sentinel-2 image\n",
    "sentinel2=sentinel2.addBands(NDVI)"
   ]
  },
  {
   "cell_type": "markdown",
   "metadata": {},
   "source": [
    "**Extract raster values using point shapefile**"
   ]
  },
  {
   "cell_type": "code",
   "execution_count": 11,
   "metadata": {},
   "outputs": [
    {
     "name": "stdout",
     "output_type": "stream",
     "text": [
      "value: 1854\n"
     ]
    }
   ],
   "source": [
    "scale = 10  # scale in meters\n",
    "\n",
    "# Print the Sentinel \n",
    "elv_urban_point = sentinel2.sample(point, scale).first().get('B4').getInfo()\n",
    "print('value:', elv_urban_point)"
   ]
  },
  {
   "cell_type": "markdown",
   "metadata": {},
   "source": [
    "**Time-series Data Extraction**"
   ]
  },
  {
   "cell_type": "code",
   "execution_count": 12,
   "metadata": {},
   "outputs": [],
   "source": [
    "sen2=ee.ImageCollection(\"COPERNICUS/S2_SR\").filterDate(\"2020-01-01\",\"2020-12-31\").\\\n",
    "filterMetadata(\"CLOUDY_PIXEL_PERCENTAGE\", \"less_than\",30).filterBounds(area)"
   ]
  },
  {
   "cell_type": "code",
   "execution_count": 13,
   "metadata": {},
   "outputs": [],
   "source": [
    "data = sen2.getRegion(point,scale).getInfo()"
   ]
  },
  {
   "cell_type": "code",
   "execution_count": 18,
   "metadata": {},
   "outputs": [
    {
     "data": {
      "text/html": [
       "<div>\n",
       "<style scoped>\n",
       "    .dataframe tbody tr th:only-of-type {\n",
       "        vertical-align: middle;\n",
       "    }\n",
       "\n",
       "    .dataframe tbody tr th {\n",
       "        vertical-align: top;\n",
       "    }\n",
       "\n",
       "    .dataframe thead th {\n",
       "        text-align: right;\n",
       "    }\n",
       "</style>\n",
       "<table border=\"1\" class=\"dataframe\">\n",
       "  <thead>\n",
       "    <tr style=\"text-align: right;\">\n",
       "      <th></th>\n",
       "      <th>id</th>\n",
       "      <th>longitude</th>\n",
       "      <th>latitude</th>\n",
       "      <th>time</th>\n",
       "      <th>B1</th>\n",
       "      <th>B2</th>\n",
       "      <th>B3</th>\n",
       "      <th>B4</th>\n",
       "      <th>B5</th>\n",
       "      <th>B6</th>\n",
       "      <th>...</th>\n",
       "      <th>WVP</th>\n",
       "      <th>SCL</th>\n",
       "      <th>TCI_R</th>\n",
       "      <th>TCI_G</th>\n",
       "      <th>TCI_B</th>\n",
       "      <th>MSK_CLDPRB</th>\n",
       "      <th>MSK_SNWPRB</th>\n",
       "      <th>QA10</th>\n",
       "      <th>QA20</th>\n",
       "      <th>QA60</th>\n",
       "    </tr>\n",
       "  </thead>\n",
       "  <tbody>\n",
       "    <tr>\n",
       "      <th>0</th>\n",
       "      <td>20200218T032811_20200218T033333_T48QWJ</td>\n",
       "      <td>105.524692</td>\n",
       "      <td>21.164353</td>\n",
       "      <td>1581997330480</td>\n",
       "      <td>568</td>\n",
       "      <td>512</td>\n",
       "      <td>830</td>\n",
       "      <td>630</td>\n",
       "      <td>1030</td>\n",
       "      <td>2693</td>\n",
       "      <td>...</td>\n",
       "      <td>1617</td>\n",
       "      <td>4</td>\n",
       "      <td>67</td>\n",
       "      <td>85</td>\n",
       "      <td>57</td>\n",
       "      <td>2</td>\n",
       "      <td>0</td>\n",
       "      <td>0</td>\n",
       "      <td>0</td>\n",
       "      <td>0</td>\n",
       "    </tr>\n",
       "    <tr>\n",
       "      <th>1</th>\n",
       "      <td>20200309T032551_20200309T033758_T48QWJ</td>\n",
       "      <td>105.524692</td>\n",
       "      <td>21.164353</td>\n",
       "      <td>1583725332600</td>\n",
       "      <td>736</td>\n",
       "      <td>734</td>\n",
       "      <td>974</td>\n",
       "      <td>709</td>\n",
       "      <td>1100</td>\n",
       "      <td>3028</td>\n",
       "      <td>...</td>\n",
       "      <td>2252</td>\n",
       "      <td>4</td>\n",
       "      <td>72</td>\n",
       "      <td>100</td>\n",
       "      <td>75</td>\n",
       "      <td>1</td>\n",
       "      <td>0</td>\n",
       "      <td>0</td>\n",
       "      <td>0</td>\n",
       "      <td>0</td>\n",
       "    </tr>\n",
       "    <tr>\n",
       "      <th>2</th>\n",
       "      <td>20200428T032541_20200428T033028_T48QWJ</td>\n",
       "      <td>105.524692</td>\n",
       "      <td>21.164353</td>\n",
       "      <td>1588045339021</td>\n",
       "      <td>527</td>\n",
       "      <td>473</td>\n",
       "      <td>775</td>\n",
       "      <td>528</td>\n",
       "      <td>1150</td>\n",
       "      <td>2983</td>\n",
       "      <td>...</td>\n",
       "      <td>2967</td>\n",
       "      <td>4</td>\n",
       "      <td>54</td>\n",
       "      <td>79</td>\n",
       "      <td>51</td>\n",
       "      <td>0</td>\n",
       "      <td>0</td>\n",
       "      <td>0</td>\n",
       "      <td>0</td>\n",
       "      <td>0</td>\n",
       "    </tr>\n",
       "    <tr>\n",
       "      <th>3</th>\n",
       "      <td>20200518T032541_20200518T033031_T48QWJ</td>\n",
       "      <td>105.524692</td>\n",
       "      <td>21.164353</td>\n",
       "      <td>1589773341883</td>\n",
       "      <td>535</td>\n",
       "      <td>557</td>\n",
       "      <td>843</td>\n",
       "      <td>710</td>\n",
       "      <td>1214</td>\n",
       "      <td>3403</td>\n",
       "      <td>...</td>\n",
       "      <td>4771</td>\n",
       "      <td>4</td>\n",
       "      <td>75</td>\n",
       "      <td>87</td>\n",
       "      <td>57</td>\n",
       "      <td>0</td>\n",
       "      <td>0</td>\n",
       "      <td>0</td>\n",
       "      <td>0</td>\n",
       "      <td>0</td>\n",
       "    </tr>\n",
       "    <tr>\n",
       "      <th>4</th>\n",
       "      <td>20200622T032539_20200622T033715_T48QWJ</td>\n",
       "      <td>105.524692</td>\n",
       "      <td>21.164353</td>\n",
       "      <td>1592797339103</td>\n",
       "      <td>287</td>\n",
       "      <td>365</td>\n",
       "      <td>662</td>\n",
       "      <td>438</td>\n",
       "      <td>936</td>\n",
       "      <td>3477</td>\n",
       "      <td>...</td>\n",
       "      <td>5556</td>\n",
       "      <td>4</td>\n",
       "      <td>42</td>\n",
       "      <td>67</td>\n",
       "      <td>35</td>\n",
       "      <td>0</td>\n",
       "      <td>0</td>\n",
       "      <td>0</td>\n",
       "      <td>0</td>\n",
       "      <td>0</td>\n",
       "    </tr>\n",
       "    <tr>\n",
       "      <th>...</th>\n",
       "      <td>...</td>\n",
       "      <td>...</td>\n",
       "      <td>...</td>\n",
       "      <td>...</td>\n",
       "      <td>...</td>\n",
       "      <td>...</td>\n",
       "      <td>...</td>\n",
       "      <td>...</td>\n",
       "      <td>...</td>\n",
       "      <td>...</td>\n",
       "      <td>...</td>\n",
       "      <td>...</td>\n",
       "      <td>...</td>\n",
       "      <td>...</td>\n",
       "      <td>...</td>\n",
       "      <td>...</td>\n",
       "      <td>...</td>\n",
       "      <td>...</td>\n",
       "      <td>...</td>\n",
       "      <td>...</td>\n",
       "      <td>...</td>\n",
       "    </tr>\n",
       "    <tr>\n",
       "      <th>379</th>\n",
       "      <td>20200518T032541_20200518T033031_T48QWJ</td>\n",
       "      <td>105.502594</td>\n",
       "      <td>21.316617</td>\n",
       "      <td>1589773341883</td>\n",
       "      <td>600</td>\n",
       "      <td>581</td>\n",
       "      <td>830</td>\n",
       "      <td>599</td>\n",
       "      <td>1176</td>\n",
       "      <td>982</td>\n",
       "      <td>...</td>\n",
       "      <td>4369</td>\n",
       "      <td>2</td>\n",
       "      <td>60</td>\n",
       "      <td>85</td>\n",
       "      <td>58</td>\n",
       "      <td>0</td>\n",
       "      <td>0</td>\n",
       "      <td>0</td>\n",
       "      <td>0</td>\n",
       "      <td>0</td>\n",
       "    </tr>\n",
       "    <tr>\n",
       "      <th>380</th>\n",
       "      <td>20200622T032539_20200622T033715_T48QWJ</td>\n",
       "      <td>105.502594</td>\n",
       "      <td>21.316617</td>\n",
       "      <td>1592797339103</td>\n",
       "      <td>513</td>\n",
       "      <td>446</td>\n",
       "      <td>641</td>\n",
       "      <td>441</td>\n",
       "      <td>867</td>\n",
       "      <td>523</td>\n",
       "      <td>...</td>\n",
       "      <td>5244</td>\n",
       "      <td>2</td>\n",
       "      <td>44</td>\n",
       "      <td>64</td>\n",
       "      <td>48</td>\n",
       "      <td>0</td>\n",
       "      <td>0</td>\n",
       "      <td>0</td>\n",
       "      <td>0</td>\n",
       "      <td>0</td>\n",
       "    </tr>\n",
       "    <tr>\n",
       "      <th>381</th>\n",
       "      <td>20200826T032541_20200826T032643_T48QWJ</td>\n",
       "      <td>105.502594</td>\n",
       "      <td>21.316617</td>\n",
       "      <td>1598413341884</td>\n",
       "      <td>453</td>\n",
       "      <td>469</td>\n",
       "      <td>894</td>\n",
       "      <td>572</td>\n",
       "      <td>1373</td>\n",
       "      <td>1167</td>\n",
       "      <td>...</td>\n",
       "      <td>4029</td>\n",
       "      <td>2</td>\n",
       "      <td>57</td>\n",
       "      <td>90</td>\n",
       "      <td>47</td>\n",
       "      <td>0</td>\n",
       "      <td>0</td>\n",
       "      <td>0</td>\n",
       "      <td>0</td>\n",
       "      <td>0</td>\n",
       "    </tr>\n",
       "    <tr>\n",
       "      <th>382</th>\n",
       "      <td>20201109T032949_20201109T033934_T48QWJ</td>\n",
       "      <td>105.502594</td>\n",
       "      <td>21.316617</td>\n",
       "      <td>1604893338106</td>\n",
       "      <td>562</td>\n",
       "      <td>664</td>\n",
       "      <td>927</td>\n",
       "      <td>648</td>\n",
       "      <td>1049</td>\n",
       "      <td>659</td>\n",
       "      <td>...</td>\n",
       "      <td>2318</td>\n",
       "      <td>2</td>\n",
       "      <td>68</td>\n",
       "      <td>97</td>\n",
       "      <td>68</td>\n",
       "      <td>0</td>\n",
       "      <td>0</td>\n",
       "      <td>0</td>\n",
       "      <td>0</td>\n",
       "      <td>0</td>\n",
       "    </tr>\n",
       "    <tr>\n",
       "      <th>383</th>\n",
       "      <td>20201114T033011_20201114T033914_T48QWJ</td>\n",
       "      <td>105.502594</td>\n",
       "      <td>21.316617</td>\n",
       "      <td>1605325340121</td>\n",
       "      <td>533</td>\n",
       "      <td>572</td>\n",
       "      <td>951</td>\n",
       "      <td>672</td>\n",
       "      <td>1135</td>\n",
       "      <td>982</td>\n",
       "      <td>...</td>\n",
       "      <td>1545</td>\n",
       "      <td>2</td>\n",
       "      <td>69</td>\n",
       "      <td>97</td>\n",
       "      <td>57</td>\n",
       "      <td>0</td>\n",
       "      <td>0</td>\n",
       "      <td>0</td>\n",
       "      <td>0</td>\n",
       "      <td>0</td>\n",
       "    </tr>\n",
       "  </tbody>\n",
       "</table>\n",
       "<p>384 rows × 27 columns</p>\n",
       "</div>"
      ],
      "text/plain": [
       "                                         id   longitude   latitude  \\\n",
       "0    20200218T032811_20200218T033333_T48QWJ  105.524692  21.164353   \n",
       "1    20200309T032551_20200309T033758_T48QWJ  105.524692  21.164353   \n",
       "2    20200428T032541_20200428T033028_T48QWJ  105.524692  21.164353   \n",
       "3    20200518T032541_20200518T033031_T48QWJ  105.524692  21.164353   \n",
       "4    20200622T032539_20200622T033715_T48QWJ  105.524692  21.164353   \n",
       "..                                      ...         ...        ...   \n",
       "379  20200518T032541_20200518T033031_T48QWJ  105.502594  21.316617   \n",
       "380  20200622T032539_20200622T033715_T48QWJ  105.502594  21.316617   \n",
       "381  20200826T032541_20200826T032643_T48QWJ  105.502594  21.316617   \n",
       "382  20201109T032949_20201109T033934_T48QWJ  105.502594  21.316617   \n",
       "383  20201114T033011_20201114T033914_T48QWJ  105.502594  21.316617   \n",
       "\n",
       "              time   B1   B2   B3   B4    B5    B6  ...   WVP  SCL  TCI_R  \\\n",
       "0    1581997330480  568  512  830  630  1030  2693  ...  1617    4     67   \n",
       "1    1583725332600  736  734  974  709  1100  3028  ...  2252    4     72   \n",
       "2    1588045339021  527  473  775  528  1150  2983  ...  2967    4     54   \n",
       "3    1589773341883  535  557  843  710  1214  3403  ...  4771    4     75   \n",
       "4    1592797339103  287  365  662  438   936  3477  ...  5556    4     42   \n",
       "..             ...  ...  ...  ...  ...   ...   ...  ...   ...  ...    ...   \n",
       "379  1589773341883  600  581  830  599  1176   982  ...  4369    2     60   \n",
       "380  1592797339103  513  446  641  441   867   523  ...  5244    2     44   \n",
       "381  1598413341884  453  469  894  572  1373  1167  ...  4029    2     57   \n",
       "382  1604893338106  562  664  927  648  1049   659  ...  2318    2     68   \n",
       "383  1605325340121  533  572  951  672  1135   982  ...  1545    2     69   \n",
       "\n",
       "     TCI_G  TCI_B  MSK_CLDPRB  MSK_SNWPRB  QA10  QA20  QA60  \n",
       "0       85     57           2           0     0     0     0  \n",
       "1      100     75           1           0     0     0     0  \n",
       "2       79     51           0           0     0     0     0  \n",
       "3       87     57           0           0     0     0     0  \n",
       "4       67     35           0           0     0     0     0  \n",
       "..     ...    ...         ...         ...   ...   ...   ...  \n",
       "379     85     58           0           0     0     0     0  \n",
       "380     64     48           0           0     0     0     0  \n",
       "381     90     47           0           0     0     0     0  \n",
       "382     97     68           0           0     0     0     0  \n",
       "383     97     57           0           0     0     0     0  \n",
       "\n",
       "[384 rows x 27 columns]"
      ]
     },
     "execution_count": 18,
     "metadata": {},
     "output_type": "execute_result"
    }
   ],
   "source": [
    "import pandas as pd\n",
    "df=pd.DataFrame(data[1:], columns=data[0])\n",
    "df"
   ]
  },
  {
   "cell_type": "markdown",
   "metadata": {},
   "source": [
    "**Challenge** \n",
    "\n",
    "Calculate `NDVI` for each sentinel-2 image and `monthly NDVI` for a given study area."
   ]
  },
  {
   "cell_type": "code",
   "execution_count": 33,
   "metadata": {},
   "outputs": [
    {
     "data": {
      "text/plain": [
       "73"
      ]
     },
     "execution_count": 33,
     "metadata": {},
     "output_type": "execute_result"
    }
   ],
   "source": [
    "s2=ee.ImageCollection(\"COPERNICUS/S2_SR\").filterDate(\"2020-01-01\",\"2020-12-31\").filterBounds(area)\n",
    "\n",
    "s2.size().getInfo()"
   ]
  },
  {
   "cell_type": "code",
   "execution_count": 34,
   "metadata": {},
   "outputs": [],
   "source": [
    "def NDVI(image):\n",
    "    ndvi=image.expression(\"(B8-B4)/(B8+B4)\",{\"B8\":image.select(\"B8\"),\"B4\":image.select(\"B4\")}).rename(\"NDVI\")\n",
    "    return image.addBands(ndvi)"
   ]
  },
  {
   "cell_type": "code",
   "execution_count": 47,
   "metadata": {},
   "outputs": [],
   "source": [
    "sa=s2.map(NDVI)"
   ]
  },
  {
   "cell_type": "markdown",
   "metadata": {},
   "source": [
    "**Image Composite**"
   ]
  },
  {
   "cell_type": "code",
   "execution_count": 10,
   "metadata": {},
   "outputs": [
    {
     "data": {
      "application/vnd.jupyter.widget-view+json": {
       "model_id": "0986e4fa332745a7b4ad7f7f79580771",
       "version_major": 2,
       "version_minor": 0
      },
      "text/plain": [
       "Map(bottom=29213.0, center=[20.709877019887912, 106.248779296875], controls=(WidgetControl(options=['position'…"
      ]
     },
     "metadata": {},
     "output_type": "display_data"
    }
   ],
   "source": [
    "# Mosaic composite\n",
    "s2=ee.ImageCollection(\"COPERNICUS/S2_SR\").filterDate(\"2020-01-01\",\"2020-12-31\").filterBounds(area)\n",
    "\n",
    "mosaic=s2.mosaic()\n",
    "\n",
    "Map.addLayer(mosaic,{\"bands\":[\"B4\",\"B3\",\"B2\"],\"min\":780.2, \"max\":3189.2},\"Mosaic\")\n",
    "Map"
   ]
  },
  {
   "cell_type": "code",
   "execution_count": 13,
   "metadata": {},
   "outputs": [
    {
     "data": {
      "application/vnd.jupyter.widget-view+json": {
       "model_id": "0986e4fa332745a7b4ad7f7f79580771",
       "version_major": 2,
       "version_minor": 0
      },
      "text/plain": [
       "Map(bottom=462767.0, center=[20.755150751051744, 105.23838043212892], controls=(WidgetControl(options=['positi…"
      ]
     },
     "metadata": {},
     "output_type": "display_data"
    }
   ],
   "source": [
    "# Median Composite\n",
    "median=s2.median()\n",
    "\n",
    "Map.addLayer(median,{\"bands\":[\"B4\",\"B3\",\"B2\"],\"min\":500.2, \"max\":2854.2},\"Median\")\n",
    "Map"
   ]
  },
  {
   "cell_type": "code",
   "execution_count": 6,
   "metadata": {},
   "outputs": [],
   "source": [
    "# Display the Hanoi boundary \n",
    "UN=ee.FeatureCollection(\"FAO/GAUL/2015/level2\")\n",
    "\n",
    "Singapore=UN.filterMetadata(\"ADM0_NAME\",\"equals\",\"Singapore\")\n"
   ]
  },
  {
   "cell_type": "code",
   "execution_count": 5,
   "metadata": {},
   "outputs": [
    {
     "data": {
      "application/vnd.jupyter.widget-view+json": {
       "model_id": "a46fb7e95e634347a7324ab3ae372a03",
       "version_major": 2,
       "version_minor": 0
      },
      "text/plain": [
       "Map(bottom=65340.0, center=[1.3611355787659067, 103.8202830927031], controls=(WidgetControl(options=['position…"
      ]
     },
     "metadata": {},
     "output_type": "display_data"
    }
   ],
   "source": [
    "# Obtain Landsat 8 TOA Level 1\n",
    "LS8=ee.ImageCollection(\"LANDSAT/LC08/C01/T1_TOA\").filterDate(\"2018-01-01\",\"2018-12-31\")\\\n",
    ".filterMetadata(\"CLOUD_COVER\",\"less_than\",10).filterBounds(Singapore) # Filter boundary of Singapore and cloud cover\n",
    "Map.addLayer(LS8,{},\"LS8\")\n",
    "Map"
   ]
  },
  {
   "cell_type": "code",
   "execution_count": 7,
   "metadata": {},
   "outputs": [
    {
     "data": {
      "application/vnd.jupyter.widget-view+json": {
       "model_id": "a46fb7e95e634347a7324ab3ae372a03",
       "version_major": 2,
       "version_minor": 0
      },
      "text/plain": [
       "Map(bottom=65340.0, center=[1.3611355787659067, 103.8202830927031], controls=(WidgetControl(options=['position…"
      ]
     },
     "metadata": {},
     "output_type": "display_data"
    }
   ],
   "source": [
    "Map.centerObject(Singapore,9)\n",
    "Map.addLayer(ee.Image().paint(Singapore,0,1.5),{\"palette\":[\"red\"]},\"Singapore\") # Colour = 0 or set color=\"red\", and width =1.5\n",
    "Map"
   ]
  },
  {
   "cell_type": "code",
   "execution_count": 8,
   "metadata": {},
   "outputs": [
    {
     "data": {
      "application/vnd.jupyter.widget-view+json": {
       "model_id": "a46fb7e95e634347a7324ab3ae372a03",
       "version_major": 2,
       "version_minor": 0
      },
      "text/plain": [
       "Map(bottom=65340.0, center=[1.3611355787659067, 103.8202830927031], controls=(WidgetControl(options=['position…"
      ]
     },
     "metadata": {},
     "output_type": "display_data"
    }
   ],
   "source": [
    "# Obtain median over the Image Collection\n",
    "LS_Sing=LS8.median().float().clip(Singapore) # Convert to float32 as it has both float32 and float64. Can't download if mixed\n",
    "Map.addLayer(LS_Sing,{},\"LSSIng\")\n",
    "Map"
   ]
  },
  {
   "cell_type": "code",
   "execution_count": 9,
   "metadata": {},
   "outputs": [
    {
     "data": {
      "text/plain": [
       "['B1', 'B2', 'B3', 'B4', 'B5', 'B6', 'B7', 'B8', 'B9', 'B10', 'B11', 'BQA']"
      ]
     },
     "execution_count": 9,
     "metadata": {},
     "output_type": "execute_result"
    }
   ],
   "source": [
    "LS_Sing.bandNames().getInfo()"
   ]
  },
  {
   "cell_type": "code",
   "execution_count": 10,
   "metadata": {},
   "outputs": [],
   "source": [
    "# Download a single image with boundary of Singapore and 30m pixel size\n",
    "task = ee.batch.Export.image.toDrive(image=LS_Sing,  # an ee.Image object.\n",
    "                                     region=Singapore.geometry().bounds().getInfo()[\"coordinates\"],  # an ee.Geometry object.\n",
    "                                     description=\"LS_Sing\",\n",
    "                                     folder=\"Tam_Example\",\n",
    "                                     fileNamePrefix=\"LS_Sing\",\n",
    "                                     scale=30)\n",
    "task.start()"
   ]
  },
  {
   "cell_type": "markdown",
   "metadata": {},
   "source": [
    "**Write a function to get a previous month image from the current date**"
   ]
  },
  {
   "cell_type": "code",
   "execution_count": 5,
   "metadata": {},
   "outputs": [
    {
     "name": "stdout",
     "output_type": "stream",
     "text": [
      "Please enter your date in yyyy, mm,dd format (e.g., 2020,4,20)2020,2,34\n"
     ]
    }
   ],
   "source": [
    "import datetime as dt\n",
    "def imageMonth(date=input(\"Please enter your date in yyyy, mm,dd format (e.g., 2020,4,20)\")):\n",
    "    now=dt.date.now()"
   ]
  }
 ],
 "metadata": {
  "kernelspec": {
   "display_name": "Python 3",
   "language": "python",
   "name": "python3"
  },
  "language_info": {
   "codemirror_mode": {
    "name": "ipython",
    "version": 3
   },
   "file_extension": ".py",
   "mimetype": "text/x-python",
   "name": "python",
   "nbconvert_exporter": "python",
   "pygments_lexer": "ipython3",
   "version": "3.8.5"
  }
 },
 "nbformat": 4,
 "nbformat_minor": 4
}
