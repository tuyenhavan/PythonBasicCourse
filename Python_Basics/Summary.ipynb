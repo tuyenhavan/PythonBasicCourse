{
 "cells": [
  {
   "cell_type": "markdown",
   "metadata": {},
   "source": [
    "- Create a dictionary with key is unique word and values = word indices."
   ]
  },
  {
   "cell_type": "code",
   "execution_count": null,
   "metadata": {},
   "outputs": [],
   "source": [
    "list1=[\"Ha\",\"Van\",\"Tuyen\",\"Ha\",\"Age\",\"Ha\",\"Van\",\"Tuyen\",\"Ha\",\"Age\",\"Ha\",\"Tuyen\"]"
   ]
  },
  {
   "cell_type": "markdown",
   "metadata": {},
   "source": [
    "- Please write a traditional game `rock`, `scissor` and `paper`."
   ]
  },
  {
   "cell_type": "code",
   "execution_count": null,
   "metadata": {},
   "outputs": [],
   "source": []
  },
  {
   "cell_type": "markdown",
   "metadata": {},
   "source": [
    "**List all available images ID for a specific area and time period**"
   ]
  },
  {
   "cell_type": "code",
   "execution_count": 2,
   "metadata": {},
   "outputs": [
    {
     "data": {
      "text/html": [
       "<p>To authorize access needed by Earth Engine, open the following\n",
       "        URL in a web browser and follow the instructions:</p>\n",
       "        <p><a href=https://accounts.google.com/o/oauth2/auth?client_id=517222506229-vsmmajv00ul0bs7p89v5m89qs8eb9359.apps.googleusercontent.com&scope=https%3A%2F%2Fwww.googleapis.com%2Fauth%2Fearthengine+https%3A%2F%2Fwww.googleapis.com%2Fauth%2Fdevstorage.full_control&redirect_uri=urn%3Aietf%3Awg%3Aoauth%3A2.0%3Aoob&response_type=code&code_challenge=0JaNXZ0d7T3LBhxVGOeKoiJYziXeZOl0ORJUVJr2fRA&code_challenge_method=S256>https://accounts.google.com/o/oauth2/auth?client_id=517222506229-vsmmajv00ul0bs7p89v5m89qs8eb9359.apps.googleusercontent.com&scope=https%3A%2F%2Fwww.googleapis.com%2Fauth%2Fearthengine+https%3A%2F%2Fwww.googleapis.com%2Fauth%2Fdevstorage.full_control&redirect_uri=urn%3Aietf%3Awg%3Aoauth%3A2.0%3Aoob&response_type=code&code_challenge=0JaNXZ0d7T3LBhxVGOeKoiJYziXeZOl0ORJUVJr2fRA&code_challenge_method=S256</a></p>\n",
       "        <p>The authorization workflow will generate a code, which you\n",
       "        should paste in the box below</p>\n",
       "        "
      ],
      "text/plain": [
       "<IPython.core.display.HTML object>"
      ]
     },
     "metadata": {},
     "output_type": "display_data"
    },
    {
     "name": "stdout",
     "output_type": "stream",
     "text": [
      "Enter verification code: 4/1AX4XfWhWTbwaD9Os_Ou4OKJOG7M_mlZy2eo27dfqhdB1I1DmdZU89rXxJp8\n",
      "\n",
      "Successfully saved authorization token.\n"
     ]
    }
   ],
   "source": [
    "import ee\n",
    "import geemap as emap\n",
    "\n",
    "ee.Authenticate()\n",
    "ee.Initialize()"
   ]
  },
  {
   "cell_type": "code",
   "execution_count": 3,
   "metadata": {},
   "outputs": [
    {
     "name": "stdout",
     "output_type": "stream",
     "text": [
      "66\n"
     ]
    }
   ],
   "source": [
    "LS=ee.ImageCollection(\"LANDSAT/LC08/C01/T1_TOA\").filterDate(\"2019-01-01\",\"2019-12-31\")\n",
    "HN=ee.FeatureCollection(\"users/havantuyen/Hanoi_Extent\")\n",
    "LS_HN=LS.filterBounds(HN)\n",
    "print(LS_HN.size().getInfo())"
   ]
  },
  {
   "cell_type": "code",
   "execution_count": null,
   "metadata": {},
   "outputs": [],
   "source": [
    "\n",
    "collection=LS_HN.sort(\"system:time_start\").aggregate_array(\"system:index\").getInfo()\n",
    "container=[]\n",
    "for i in collection:\n",
    "    container.append(i)\n",
    "    print(i)"
   ]
  },
  {
   "cell_type": "code",
   "execution_count": null,
   "metadata": {},
   "outputs": [],
   "source": [
    "for i in container:\n",
    "    myfile=os.path.join(\"LANDSAT/LC08/C01/T1_TOA\",i).replace(\"\\\\\",\"/\")\n",
    "    myimage=ee.Image(myfile)\n",
    "    print(i,\"Cloud Percent is\",myimage.get(\"CLOUD_COVER\").getInfo())"
   ]
  },
  {
   "cell_type": "code",
   "execution_count": null,
   "metadata": {},
   "outputs": [],
   "source": [
    "\n",
    "cards=[\"rock\",\"scissor\",\"paper\"]\n",
    "import random\n",
    "\n",
    "choice=random.choice(cards)\n",
    "\n",
    "player=None\n",
    "\n",
    "def continuePlay(message):\n",
    "    if message in [\"yes\",\"Yes\",\"YES\"]:\n",
    "        return True\n",
    "    else:\n",
    "        return False\n",
    "\n",
    "while player not in cards:\n",
    "    player=input(\"Do you want to pick paper, rock or scissor: \").lower()\n",
    "    if choice==player:\n",
    "        print(\"Congrats.You are a winner!\")\n",
    "        decision=continuePlay(input(\"Do you want to continue playing? (yes or no): \").lower())\n",
    "        if decision:\n",
    "            player=None\n",
    "        else:\n",
    "            break\n",
    "    else: \n",
    "        print(\"Sorry. Try again!\")\n",
    "        decision=continuePlay(input(\"Do you want to continue playing? (yes or no): \").lower())\n",
    "        if decision:\n",
    "            player=None\n",
    "        else:\n",
    "            break  "
   ]
  }
 ],
 "metadata": {
  "kernelspec": {
   "display_name": "Python 3",
   "language": "python",
   "name": "python3"
  },
  "language_info": {
   "codemirror_mode": {
    "name": "ipython",
    "version": 3
   },
   "file_extension": ".py",
   "mimetype": "text/x-python",
   "name": "python",
   "nbconvert_exporter": "python",
   "pygments_lexer": "ipython3",
   "version": "3.8.5"
  }
 },
 "nbformat": 4,
 "nbformat_minor": 4
}
