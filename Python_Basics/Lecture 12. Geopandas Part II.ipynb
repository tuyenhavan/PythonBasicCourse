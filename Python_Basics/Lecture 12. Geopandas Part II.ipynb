{
 "cells": [
  {
   "cell_type": "code",
   "execution_count": 1,
   "metadata": {},
   "outputs": [],
   "source": [
    "import os\n",
    "import pandas as pd\n",
    "import numpy as np \n",
    "import geopandas as gpd"
   ]
  },
  {
   "cell_type": "markdown",
   "metadata": {},
   "source": [
    "##### 1. Read all shapefiles in Python"
   ]
  },
  {
   "cell_type": "code",
   "execution_count": 2,
   "metadata": {},
   "outputs": [
    {
     "name": "stdout",
     "output_type": "stream",
     "text": [
      "An example:  C:\\Users\\DELL\\OneDrive - tuaf.edu.vn\\TUAF\\Python_Tutorial\\DoDoc.shp\n",
      "Total number of shapefiles= 22\n"
     ]
    }
   ],
   "source": [
    "# Using geopandas to read files\n",
    "path=r\"C:\\Users\\DELL\\OneDrive - tuaf.edu.vn\\TUAF\\Python_Tutorial\" # Define the data path\n",
    "\n",
    "files=os.listdir(path)\n",
    "# Save all shapefiles in a list\n",
    "\n",
    "shape1=[]\n",
    "\n",
    "for shape_file in files:\n",
    "    if shape_file.endswith(\".shp\"):\n",
    "        \n",
    "        shape1.append(os.path.join(path,shape_file))\n",
    "        \n",
    "print(\"An example: \",shape1[2])\n",
    "# Calculate the numbers of shapefile in shape1 list\n",
    "sum1=0\n",
    "\n",
    "for i in shape1:\n",
    "    a=shape1.count(i)\n",
    "    sum1+=a\n",
    "print(\"Total number of shapefiles=\",sum1)"
   ]
  },
  {
   "cell_type": "markdown",
   "metadata": {},
   "source": [
    "##### 2. Check the projection, reproject or define new project of no projection "
   ]
  },
  {
   "cell_type": "markdown",
   "metadata": {},
   "source": [
    "###### 2a. Check projection, reprojection and defining new projection "
   ]
  },
  {
   "cell_type": "code",
   "execution_count": 11,
   "metadata": {},
   "outputs": [
    {
     "name": "stdout",
     "output_type": "stream",
     "text": [
      "None\n"
     ]
    }
   ],
   "source": [
    "# Example of no projection \n",
    "from shapely.geometry import Point\n",
    "d = {'col1': ['name1', 'name2'], 'geometry': [Point(1, 2), Point(2, 1)]}\n",
    "gdf = gpd.GeoDataFrame(d)\n",
    "print(gdf.crs)"
   ]
  },
  {
   "cell_type": "code",
   "execution_count": 21,
   "metadata": {},
   "outputs": [],
   "source": [
    "def reprojection(list_file):\n",
    "    for file in list_file:\n",
    "        myfile=gpd.read_file(file)\n",
    "        crs=myfile.crs.to_epsg()\n",
    "        if crs:\n",
    "            df=myfile.to_crs(\"EPSG:4326\")\n",
    "        else:\n",
    "            df=myfile.to_crs(\"EPSG:4326\")\n",
    "    return df"
   ]
  },
  {
   "cell_type": "code",
   "execution_count": 16,
   "metadata": {},
   "outputs": [
    {
     "data": {
      "text/plain": [
       "'Point'"
      ]
     },
     "execution_count": 16,
     "metadata": {},
     "output_type": "execute_result"
    }
   ],
   "source": [
    "# Print the geometry type\n",
    "myfile=gpd.read_file(shape1[0])\n",
    "myfile.geometry.geom_type[0]"
   ]
  },
  {
   "cell_type": "markdown",
   "metadata": {},
   "source": [
    "**Export shapefile to excel or csv files**"
   ]
  },
  {
   "cell_type": "code",
   "execution_count": 17,
   "metadata": {},
   "outputs": [
    {
     "data": {
      "text/html": [
       "<div>\n",
       "<style scoped>\n",
       "    .dataframe tbody tr th:only-of-type {\n",
       "        vertical-align: middle;\n",
       "    }\n",
       "\n",
       "    .dataframe tbody tr th {\n",
       "        vertical-align: top;\n",
       "    }\n",
       "\n",
       "    .dataframe thead th {\n",
       "        text-align: right;\n",
       "    }\n",
       "</style>\n",
       "<table border=\"1\" class=\"dataframe\">\n",
       "  <thead>\n",
       "    <tr style=\"text-align: right;\">\n",
       "      <th></th>\n",
       "      <th>DOCAO</th>\n",
       "      <th>geometry</th>\n",
       "    </tr>\n",
       "  </thead>\n",
       "  <tbody>\n",
       "    <tr>\n",
       "      <th>0</th>\n",
       "      <td>36.55</td>\n",
       "      <td>POINT Z (426847.294 2389272.061 0.000)</td>\n",
       "    </tr>\n",
       "    <tr>\n",
       "      <th>1</th>\n",
       "      <td>39.71</td>\n",
       "      <td>POINT Z (426816.237 2389260.839 0.000)</td>\n",
       "    </tr>\n",
       "    <tr>\n",
       "      <th>2</th>\n",
       "      <td>43.68</td>\n",
       "      <td>POINT Z (426806.644 2389271.442 0.000)</td>\n",
       "    </tr>\n",
       "    <tr>\n",
       "      <th>3</th>\n",
       "      <td>51.17</td>\n",
       "      <td>POINT Z (426779.009 2389260.452 0.000)</td>\n",
       "    </tr>\n",
       "    <tr>\n",
       "      <th>4</th>\n",
       "      <td>51.17</td>\n",
       "      <td>POINT Z (426776.862 2389245.901 0.000)</td>\n",
       "    </tr>\n",
       "  </tbody>\n",
       "</table>\n",
       "</div>"
      ],
      "text/plain": [
       "   DOCAO                                geometry\n",
       "0  36.55  POINT Z (426847.294 2389272.061 0.000)\n",
       "1  39.71  POINT Z (426816.237 2389260.839 0.000)\n",
       "2  43.68  POINT Z (426806.644 2389271.442 0.000)\n",
       "3  51.17  POINT Z (426779.009 2389260.452 0.000)\n",
       "4  51.17  POINT Z (426776.862 2389245.901 0.000)"
      ]
     },
     "execution_count": 17,
     "metadata": {},
     "output_type": "execute_result"
    }
   ],
   "source": [
    "gdf=gpd.read_file(shape1[0])\n",
    "gdf.head()"
   ]
  },
  {
   "cell_type": "code",
   "execution_count": 19,
   "metadata": {},
   "outputs": [],
   "source": [
    "# Export to excel\n",
    "store=r\"E:\\Spatial_Decision\\Test_Geopandas\"\n",
    "gdf.to_excel(os.path.join(store,\"docao.xlsx\"), index=False)"
   ]
  }
 ],
 "metadata": {
  "kernelspec": {
   "display_name": "Python 3",
   "language": "python",
   "name": "python3"
  },
  "language_info": {
   "codemirror_mode": {
    "name": "ipython",
    "version": 3
   },
   "file_extension": ".py",
   "mimetype": "text/x-python",
   "name": "python",
   "nbconvert_exporter": "python",
   "pygments_lexer": "ipython3",
   "version": "3.8.5"
  }
 },
 "nbformat": 4,
 "nbformat_minor": 4
}
