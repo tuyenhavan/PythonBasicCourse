{
 "cells": [
  {
   "cell_type": "markdown",
   "metadata": {},
   "source": [
    "**Libary**\n",
    "\n",
    "To better work with `Google earth engine` in Python, we need to load the following packages (Noted: If you have not installed it, please see this [website](https://www.youtube.com/watch?v=Z_Kxg-EYvxM) on how to install Python packages)."
   ]
  },
  {
   "cell_type": "code",
   "execution_count": 1,
   "metadata": {},
   "outputs": [],
   "source": [
    "import ee\n",
    "import geemap as emap"
   ]
  },
  {
   "cell_type": "code",
   "execution_count": 2,
   "metadata": {},
   "outputs": [
    {
     "data": {
      "text/html": [
       "<p>To authorize access needed by Earth Engine, open the following\n",
       "        URL in a web browser and follow the instructions:</p>\n",
       "        <p><a href=https://accounts.google.com/o/oauth2/auth?client_id=517222506229-vsmmajv00ul0bs7p89v5m89qs8eb9359.apps.googleusercontent.com&scope=https%3A%2F%2Fwww.googleapis.com%2Fauth%2Fearthengine+https%3A%2F%2Fwww.googleapis.com%2Fauth%2Fdevstorage.full_control&redirect_uri=urn%3Aietf%3Awg%3Aoauth%3A2.0%3Aoob&response_type=code&code_challenge=5rSVlouUUMxgYJan4n0q4c-hbdMQ0mWJqyjPIFYij_c&code_challenge_method=S256>https://accounts.google.com/o/oauth2/auth?client_id=517222506229-vsmmajv00ul0bs7p89v5m89qs8eb9359.apps.googleusercontent.com&scope=https%3A%2F%2Fwww.googleapis.com%2Fauth%2Fearthengine+https%3A%2F%2Fwww.googleapis.com%2Fauth%2Fdevstorage.full_control&redirect_uri=urn%3Aietf%3Awg%3Aoauth%3A2.0%3Aoob&response_type=code&code_challenge=5rSVlouUUMxgYJan4n0q4c-hbdMQ0mWJqyjPIFYij_c&code_challenge_method=S256</a></p>\n",
       "        <p>The authorization workflow will generate a code, which you\n",
       "        should paste in the box below</p>\n",
       "        "
      ],
      "text/plain": [
       "<IPython.core.display.HTML object>"
      ]
     },
     "metadata": {},
     "output_type": "display_data"
    },
    {
     "name": "stdout",
     "output_type": "stream",
     "text": [
      "Enter verification code: 4/1AX4XfWiFJTQQbrxH4GI_aCKEtPpqUW_57KJeF1a3uNbXtiGRRxE5qx-tdvU\n",
      "\n",
      "Successfully saved authorization token.\n"
     ]
    }
   ],
   "source": [
    "# Initialize ee\n",
    "ee.Initialize()\n",
    "ee.Authenticate()"
   ]
  },
  {
   "cell_type": "code",
   "execution_count": 3,
   "metadata": {
    "scrolled": false
   },
   "outputs": [
    {
     "data": {
      "application/vnd.jupyter.widget-view+json": {
       "model_id": "5be61a166c764a5ab47b5fba78a4fb2f",
       "version_major": 2,
       "version_minor": 0
      },
      "text/plain": [
       "Map(center=[40, -100], controls=(WidgetControl(options=['position', 'transparent_bg'], widget=HBox(children=(T…"
      ]
     },
     "metadata": {},
     "output_type": "display_data"
    }
   ],
   "source": [
    "Map=emap.Map()\n",
    "# Map.add_basemap(\"Google Satellite\")\n",
    "Map"
   ]
  },
  {
   "cell_type": "code",
   "execution_count": 17,
   "metadata": {},
   "outputs": [],
   "source": [
    "# Map.addLayerControl()\n",
    "# Map"
   ]
  },
  {
   "cell_type": "markdown",
   "metadata": {},
   "source": [
    "# <font color='blue'>Working with Single Image </font> "
   ]
  },
  {
   "cell_type": "markdown",
   "metadata": {},
   "source": [
    "**Load images**"
   ]
  },
  {
   "cell_type": "code",
   "execution_count": 5,
   "metadata": {},
   "outputs": [
    {
     "data": {
      "application/vnd.jupyter.widget-view+json": {
       "model_id": "5be61a166c764a5ab47b5fba78a4fb2f",
       "version_major": 2,
       "version_minor": 0
      },
      "text/plain": [
       "Map(bottom=51101.0, center=[37.471602850590656, -122.14451407746262], controls=(WidgetControl(options=['positi…"
      ]
     },
     "metadata": {},
     "output_type": "display_data"
    }
   ],
   "source": [
    "image = ee.Image('LANDSAT/LC08/C01/T1_TOA/LC08_044034_20140318')\n",
    "# Display the image\n",
    "Map.centerObject(image,8)\n",
    "\n",
    "Map.addLayer(image, {'bands':[\"B5\",\"B4\",\"B3\"], 'min':0, 'max':0.5},\"Landsat\")\n",
    "\n",
    "Map"
   ]
  },
  {
   "cell_type": "code",
   "execution_count": null,
   "metadata": {},
   "outputs": [],
   "source": [
    "image.bandNames().getInfo()"
   ]
  },
  {
   "cell_type": "markdown",
   "metadata": {},
   "source": [
    "##### <font color='blue'>Math Operations</font> \n",
    "\n",
    "**Calcualte NDVI**"
   ]
  },
  {
   "cell_type": "code",
   "execution_count": 7,
   "metadata": {},
   "outputs": [
    {
     "data": {
      "application/vnd.jupyter.widget-view+json": {
       "model_id": "5be61a166c764a5ab47b5fba78a4fb2f",
       "version_major": 2,
       "version_minor": 0
      },
      "text/plain": [
       "Map(bottom=25701.0, center=[37.471602850590656, -122.14451407746262], controls=(WidgetControl(options=['positi…"
      ]
     },
     "metadata": {},
     "output_type": "display_data"
    }
   ],
   "source": [
    "# The hard way\n",
    "\n",
    "NDVI=image.select(\"B5\").subtract(image.select(\"B4\")).divide(image.select(\"B5\")).add(image.select(\"B4\"))\n",
    "# Visualizing NDVI\n",
    "# palette = ['#0615ff', '#101eff', '#94ff85', '#19ff12']\n",
    "palette = ['#d73027', '#f46d43', '#fdae61', '#fee08b', '#d9ef8b', '#a6d96a', '#66bd63', '#1a9850']\n",
    "\n",
    "Map.addLayer(NDVI,{'palette':palette, \"min\":-1.13, \"max\":0.93}, \"NDVI\")\n",
    "Map"
   ]
  },
  {
   "cell_type": "code",
   "execution_count": 8,
   "metadata": {},
   "outputs": [
    {
     "name": "stdout",
     "output_type": "stream",
     "text": [
      "['NDVI']\n"
     ]
    }
   ],
   "source": [
    "# We can also rename it\n",
    "NDVI=NDVI.rename(\"NDVI\")\n",
    "\n",
    "print(NDVI.bandNames().getInfo())"
   ]
  },
  {
   "cell_type": "markdown",
   "metadata": {},
   "source": [
    "**Better Way of calculating NDVI or any indices**"
   ]
  },
  {
   "cell_type": "code",
   "execution_count": 13,
   "metadata": {},
   "outputs": [
    {
     "data": {
      "application/vnd.jupyter.widget-view+json": {
       "model_id": "1102db81566949a1a2a06af740cf7d76",
       "version_major": 2,
       "version_minor": 0
      },
      "text/plain": [
       "Map(bottom=13067.133339219834, center=[36.88840804313823, -122.40966796875001], controls=(WidgetControl(option…"
      ]
     },
     "metadata": {},
     "output_type": "display_data"
    }
   ],
   "source": [
    "EVI = image.expression(\n",
    "    '2.5 * ((NIR - RED) / (NIR + 6 * RED - 7.5 * BLUE + 1))', {\n",
    "      'NIR': image.select('B5'),\n",
    "      'RED': image.select('B4'),\n",
    "      'BLUE': image.select('B2')\n",
    "})\n",
    "\n",
    "# palette = ['#0615ff', '#101eff', '#94ff85', '#19ff12']\n",
    "palette = ['#d73027', '#f46d43', '#fdae61', '#fee08b', '#d9ef8b', '#a6d96a', '#66bd63', '#1a9850']\n",
    "\n",
    "Map.addLayer(EVI,{'palette':palette, \"min\":-1.13, \"max\":0.93}, \"EVI\")\n",
    "Map"
   ]
  },
  {
   "cell_type": "markdown",
   "metadata": {},
   "source": [
    "\n",
    "##### <font color=\"blue\">Relational, conditional and Boolean operations</font>\n",
    "\n",
    "This can be done using `lt` (less than), `gt` (greater than) or `eq` (equal), `gte`, `lte` (less than or equal). This function to create a binary image where `0` represents `False` and `1` represents `True`. We then can mask out `0` by using `updateMask()` function."
   ]
  },
  {
   "cell_type": "code",
   "execution_count": 14,
   "metadata": {
    "scrolled": true
   },
   "outputs": [
    {
     "data": {
      "application/vnd.jupyter.widget-view+json": {
       "model_id": "1102db81566949a1a2a06af740cf7d76",
       "version_major": 2,
       "version_minor": 0
      },
      "text/plain": [
       "Map(bottom=13067.0, center=[36.88840804313823, -122.40966796875001], controls=(WidgetControl(options=['positio…"
      ]
     },
     "metadata": {},
     "output_type": "display_data"
    }
   ],
   "source": [
    "# Load NDVI \n",
    "NDWI = image.normalizedDifference(['B3', 'B5'])\n",
    "\n",
    "Map.addLayer(NDWI,{'palette':palette, \"min\":-1.13, \"max\":0.93}, \"NDVI\")\n",
    "Map"
   ]
  },
  {
   "cell_type": "code",
   "execution_count": 17,
   "metadata": {},
   "outputs": [
    {
     "data": {
      "application/vnd.jupyter.widget-view+json": {
       "model_id": "1102db81566949a1a2a06af740cf7d76",
       "version_major": 2,
       "version_minor": 0
      },
      "text/plain": [
       "Map(bottom=25813.46665410699, center=[36.98061506528613, -121.89880371093751], controls=(WidgetControl(options…"
      ]
     },
     "metadata": {},
     "output_type": "display_data"
    }
   ],
   "source": [
    "# Create a bare ground and water\n",
    "water=NDVI.lt(0.2)# Create a binary image where <0.2 represents 1 and >0.2 represents 0.\n",
    "# Map.addLayer(water,{},\"Water\")\n",
    "# Mask out everything greater than 0.1\n",
    "mask=water.updateMask(water)\n",
    "# Set up color palette\n",
    "palette = ['#0615ff'] # The \n",
    "Map.addLayer(mask,{\"palette\":palette}, \"Water\")\n",
    "Map"
   ]
  },
  {
   "cell_type": "markdown",
   "metadata": {},
   "source": [
    "- We can combine `And()` `Or()` or `Not()` in the same image or with other images."
   ]
  },
  {
   "cell_type": "code",
   "execution_count": 18,
   "metadata": {
    "scrolled": true
   },
   "outputs": [
    {
     "data": {
      "application/vnd.jupyter.widget-view+json": {
       "model_id": "1102db81566949a1a2a06af740cf7d76",
       "version_major": 2,
       "version_minor": 0
      },
      "text/plain": [
       "Map(bottom=25805.0, center=[37.01571219880126, -122.26684570312501], controls=(WidgetControl(options=['positio…"
      ]
     },
     "metadata": {},
     "output_type": "display_data"
    }
   ],
   "source": [
    "# We can also combine with And \n",
    "bare=NDVI.lt(0.1).And(NDWI.lt(0.5))\n",
    "# Mask out the non-bare\n",
    "mask=bare.updateMask(bare)\n",
    "palette = ['#0615ff']\n",
    "Map.addLayer(mask,{\"palette\":palette, min:0, max:1}, \"Bare\")\n",
    "Map"
   ]
  },
  {
   "cell_type": "markdown",
   "metadata": {},
   "source": [
    "**Create three classes representing three zones** using `.add()`"
   ]
  },
  {
   "cell_type": "code",
   "execution_count": 20,
   "metadata": {},
   "outputs": [
    {
     "data": {
      "application/vnd.jupyter.widget-view+json": {
       "model_id": "1102db81566949a1a2a06af740cf7d76",
       "version_major": 2,
       "version_minor": 0
      },
      "text/plain": [
       "Map(bottom=25816.0, center=[48.8683, 2.373], controls=(WidgetControl(options=['position', 'transparent_bg'], w…"
      ]
     },
     "metadata": {},
     "output_type": "display_data"
    }
   ],
   "source": [
    "# Load a 2012 nightlights image.\n",
    "nl2012 = ee.Image('NOAA/DMSP-OLS/NIGHTTIME_LIGHTS/F182012')\n",
    "lights = nl2012.select('stable_lights')\n",
    "\n",
    "# Define arbitrary thresholds on the 6-bit stable lights band.\n",
    "zones = lights.gt(30).add(lights.gt(55)).add(lights.gt(62))\n",
    "Map.addLayer(zones, {}, 'development zones')\n",
    "\n",
    "# # Display the thresholded image as three distinct zones near Paris.\n",
    "palette = ['000000', '0000FF', '00FF00', 'FF0000']\n",
    "Map.setCenter(2.373, 48.8683, 8)\n",
    "Map.addLayer(zones, {'min': 0, 'max': 3, 'palette': palette}, 'development zones')\n",
    "Map"
   ]
  },
  {
   "cell_type": "code",
   "execution_count": 22,
   "metadata": {},
   "outputs": [
    {
     "data": {
      "text/plain": [
       "['avg_vis', 'stable_lights', 'cf_cvg', 'avg_lights_x_pct']"
      ]
     },
     "execution_count": 22,
     "metadata": {},
     "output_type": "execute_result"
    }
   ],
   "source": [
    "nl2012.get(\"system:band_names\").getInfo()"
   ]
  },
  {
   "cell_type": "markdown",
   "metadata": {},
   "source": [
    "**Where**\n",
    "\n",
    "`where()` return a binary image or image with replaced value if condition meets."
   ]
  },
  {
   "cell_type": "code",
   "execution_count": 4,
   "metadata": {},
   "outputs": [
    {
     "data": {
      "application/vnd.jupyter.widget-view+json": {
       "model_id": "5be61a166c764a5ab47b5fba78a4fb2f",
       "version_major": 2,
       "version_minor": 0
      },
      "text/plain": [
       "Map(bottom=1851.0, center=[37.471642191576414, -122.11085841101837], controls=(WidgetControl(options=['positio…"
      ]
     },
     "metadata": {},
     "output_type": "display_data"
    }
   ],
   "source": [
    "# Load a cloudy Landsat 8 image.\n",
    "image = ee.Image('LANDSAT/LC08/C01/T1_TOA/LC08_044034_20130603')\n",
    "\n",
    "# Load another image to replace the cloudy pixels.\n",
    "replacement = ee.Image('LANDSAT/LC08/C01/T1_TOA/LC08_044034_20130416')\n",
    "Map.addLayer(replacement,{'bands': ['B5', 'B4', 'B3'], 'min': 0, 'max': 0.5},\"Original Image\")\n",
    "# Compute a cloud score band.\n",
    "cloud = ee.Algorithms.Landsat.simpleCloudScore(image).select('cloud')\n",
    "\n",
    "# Set cloudy pixels to the other image.\n",
    "new_image = image.where(cloud.gt(5), replacement)\n",
    "\n",
    "# # Display the result.\n",
    "Map.centerObject(replacement, 9)\n",
    "Map.addLayer(new_image,\n",
    "             {'bands': ['B5', 'B4', 'B3'], 'min': 0, 'max': 0.5},\n",
    "             'clouds replaced')\n",
    "\n",
    "# Map.addLayerControl()\n",
    "Map"
   ]
  },
  {
   "cell_type": "markdown",
   "metadata": {},
   "source": [
    "#### <font color='blue'>Spectral Transformation</font> "
   ]
  },
  {
   "cell_type": "code",
   "execution_count": null,
   "metadata": {
    "scrolled": true
   },
   "outputs": [],
   "source": [
    "# Convert the RGB bands to the HSV color space.\n",
    "hsv = image.select(['B4', 'B3', 'B2']).rgbToHsv()\n",
    "\n",
    "# Swap in the panchromatic band and convert back to RGB.\n",
    "sharpened = ee.Image.cat([\n",
    "  hsv.select('hue'), hsv.select('saturation'), image.select('B8')\n",
    "]).hsvToRgb()\n",
    "\n",
    "# Display the pan-sharpened result.\n",
    "Map.setCenter(-122.44829, 37.76664, 13)\n",
    "# Map.addLayer(sharpened,\n",
    "#              {'min': 0, 'max': 0.25, 'gamma': [1.3, 1.3, 1.3]},\n",
    "#              'pan-sharpened')\n",
    "\n",
    "# Map.addLayerControl()\n",
    "# Map"
   ]
  },
  {
   "cell_type": "markdown",
   "metadata": {},
   "source": [
    "# <font color=\"blue\"> Export a single image </font>"
   ]
  },
  {
   "cell_type": "code",
   "execution_count": 11,
   "metadata": {},
   "outputs": [
    {
     "data": {
      "application/vnd.jupyter.widget-view+json": {
       "model_id": "5be61a166c764a5ab47b5fba78a4fb2f",
       "version_major": 2,
       "version_minor": 0
      },
      "text/plain": [
       "Map(bottom=65340.0, center=[1.3621763466641712, 103.82080078125001], controls=(WidgetControl(options=['positio…"
      ]
     },
     "metadata": {},
     "output_type": "display_data"
    }
   ],
   "source": [
    "# Obtain Landsat 8 TOA Level 1\n",
    "LS8=ee.ImageCollection(\"LANDSAT/LC08/C01/T1_TOA\").filterDate(\"2018-01-01\",\"2018-12-31\")\\\n",
    ".filterMetadata(\"CLOUD_COVER\",\"less_than\",10).filterBounds(Singapore) # Filter boundary of Singapore and cloud cover\n",
    "Map.addLayer(LS8,{},\"LS8\")\n",
    "Map"
   ]
  },
  {
   "cell_type": "code",
   "execution_count": 12,
   "metadata": {},
   "outputs": [
    {
     "data": {
      "application/vnd.jupyter.widget-view+json": {
       "model_id": "5be61a166c764a5ab47b5fba78a4fb2f",
       "version_major": 2,
       "version_minor": 0
      },
      "text/plain": [
       "Map(bottom=260617.0, center=[1.3611355787659067, 103.8202830927031], controls=(WidgetControl(options=['positio…"
      ]
     },
     "metadata": {},
     "output_type": "display_data"
    }
   ],
   "source": [
    "# Display the Hanoi boundary \n",
    "UN=ee.FeatureCollection(\"FAO/GAUL/2015/level2\")\n",
    "\n",
    "Singapore=UN.filterMetadata(\"ADM0_NAME\",\"equals\",\"Singapore\")\n",
    "\n",
    "Map.centerObject(Singapore,9)\n",
    "Map.addLayer(ee.Image().paint(Singapore,0,1.5),{\"palette\":[\"red\"]},\"Singapore\") # Colour = 0 or set color=\"red\", and width =1.5\n",
    "Map"
   ]
  },
  {
   "cell_type": "code",
   "execution_count": 13,
   "metadata": {},
   "outputs": [
    {
     "data": {
      "application/vnd.jupyter.widget-view+json": {
       "model_id": "5be61a166c764a5ab47b5fba78a4fb2f",
       "version_major": 2,
       "version_minor": 0
      },
      "text/plain": [
       "Map(bottom=65340.0, center=[1.3611355787659067, 103.8202830927031], controls=(WidgetControl(options=['position…"
      ]
     },
     "metadata": {},
     "output_type": "display_data"
    }
   ],
   "source": [
    "# Obtain median over the Image Collection\n",
    "LS_Sing=LS8.median().float().clip(Singapore) # Convert to float32 as it has both float32 and float64. Can't download if mixed\n",
    "Map.addLayer(LS_Sing,{},\"LSSIng\")\n",
    "Map"
   ]
  },
  {
   "cell_type": "code",
   "execution_count": null,
   "metadata": {},
   "outputs": [],
   "source": [
    "# Download a single image with boundary of Singapore and 30m pixel size\n",
    "task = ee.batch.Export.image.toDrive(image=LS_Sing,  # an ee.Image object.\n",
    "                                     region=Singapore.geometry().bounds().getInfo()[\"coordinates\"],  # an ee.Geometry object.\n",
    "                                     description=\"LS_Sing\",\n",
    "                                     folder=\"Examples\",\n",
    "                                     fileNamePrefix=\"LS_Sing\",\n",
    "                                     scale=30,\n",
    "                                     crs=\"EPSG:4326\")\n",
    "task.start()"
   ]
  },
  {
   "cell_type": "code",
   "execution_count": 14,
   "metadata": {},
   "outputs": [
    {
     "ename": "NameError",
     "evalue": "name 'task' is not defined",
     "output_type": "error",
     "traceback": [
      "\u001b[1;31m---------------------------------------------------------------------------\u001b[0m",
      "\u001b[1;31mNameError\u001b[0m                                 Traceback (most recent call last)",
      "\u001b[1;32m<ipython-input-14-2fef6818829e>\u001b[0m in \u001b[0;36m<module>\u001b[1;34m\u001b[0m\n\u001b[1;32m----> 1\u001b[1;33m \u001b[0mtask\u001b[0m\u001b[1;33m.\u001b[0m\u001b[0mstatus\u001b[0m\u001b[1;33m(\u001b[0m\u001b[1;33m)\u001b[0m\u001b[1;33m\u001b[0m\u001b[1;33m\u001b[0m\u001b[0m\n\u001b[0m",
      "\u001b[1;31mNameError\u001b[0m: name 'task' is not defined"
     ]
    }
   ],
   "source": [
    "task.status()"
   ]
  },
  {
   "cell_type": "code",
   "execution_count": null,
   "metadata": {},
   "outputs": [],
   "source": []
  }
 ],
 "metadata": {
  "kernelspec": {
   "display_name": "Python 3",
   "language": "python",
   "name": "python3"
  },
  "language_info": {
   "codemirror_mode": {
    "name": "ipython",
    "version": 3
   },
   "file_extension": ".py",
   "mimetype": "text/x-python",
   "name": "python",
   "nbconvert_exporter": "python",
   "pygments_lexer": "ipython3",
   "version": "3.8.5"
  }
 },
 "nbformat": 4,
 "nbformat_minor": 4
}
