{
 "cells": [
  {
   "cell_type": "code",
   "execution_count": 1,
   "metadata": {},
   "outputs": [],
   "source": [
    "import ee\n",
    "import geemap as emap"
   ]
  },
  {
   "cell_type": "code",
   "execution_count": 2,
   "metadata": {},
   "outputs": [
    {
     "data": {
      "text/html": [
       "<p>To authorize access needed by Earth Engine, open the following\n",
       "        URL in a web browser and follow the instructions:</p>\n",
       "        <p><a href=https://accounts.google.com/o/oauth2/auth?client_id=517222506229-vsmmajv00ul0bs7p89v5m89qs8eb9359.apps.googleusercontent.com&scope=https%3A%2F%2Fwww.googleapis.com%2Fauth%2Fearthengine+https%3A%2F%2Fwww.googleapis.com%2Fauth%2Fdevstorage.full_control&redirect_uri=urn%3Aietf%3Awg%3Aoauth%3A2.0%3Aoob&response_type=code&code_challenge=nV86racZq8EzVifKcmvXSyqpB_a8rq8SArvxQttOv00&code_challenge_method=S256>https://accounts.google.com/o/oauth2/auth?client_id=517222506229-vsmmajv00ul0bs7p89v5m89qs8eb9359.apps.googleusercontent.com&scope=https%3A%2F%2Fwww.googleapis.com%2Fauth%2Fearthengine+https%3A%2F%2Fwww.googleapis.com%2Fauth%2Fdevstorage.full_control&redirect_uri=urn%3Aietf%3Awg%3Aoauth%3A2.0%3Aoob&response_type=code&code_challenge=nV86racZq8EzVifKcmvXSyqpB_a8rq8SArvxQttOv00&code_challenge_method=S256</a></p>\n",
       "        <p>The authorization workflow will generate a code, which you\n",
       "        should paste in the box below</p>\n",
       "        "
      ],
      "text/plain": [
       "<IPython.core.display.HTML object>"
      ]
     },
     "metadata": {},
     "output_type": "display_data"
    },
    {
     "name": "stdout",
     "output_type": "stream",
     "text": [
      "Enter verification code: 4/1AX4XfWhLmegtoFh09gCQpgU40wz-04qrifN35sItha9xQenS9MYSfzlN1TY\n",
      "\n",
      "Successfully saved authorization token.\n"
     ]
    }
   ],
   "source": [
    "# Initialize ee\n",
    "ee.Initialize()\n",
    "ee.Authenticate()"
   ]
  },
  {
   "cell_type": "code",
   "execution_count": 3,
   "metadata": {
    "scrolled": true
   },
   "outputs": [
    {
     "data": {
      "application/vnd.jupyter.widget-view+json": {
       "model_id": "24064c778f9f4b498bd91022a69b4cef",
       "version_major": 2,
       "version_minor": 0
      },
      "text/plain": [
       "Map(center=[40, -100], controls=(WidgetControl(options=['position', 'transparent_bg'], widget=HBox(children=(T…"
      ]
     },
     "metadata": {},
     "output_type": "display_data"
    }
   ],
   "source": [
    "Map=emap.Map()\n",
    "\n",
    "Map"
   ]
  },
  {
   "cell_type": "markdown",
   "metadata": {},
   "source": [
    "# <font color=\"blue\"> 1. Create a image collection </font>"
   ]
  },
  {
   "cell_type": "code",
   "execution_count": null,
   "metadata": {},
   "outputs": [],
   "source": [
    "# Create arbitrary constant images.\n",
    "constant1 = ee.Image(1).rename(\"B1\")\n",
    "constant2 = ee.Image(2).rename(\"B1\")\n",
    "# Get info of image1\n",
    "constant1.getInfo()"
   ]
  },
  {
   "cell_type": "code",
   "execution_count": null,
   "metadata": {},
   "outputs": [],
   "source": [
    "# Create a collection by giving a list to the constructor.\n",
    "collectionFromConstructor = ee.ImageCollection([constant1, constant2])\n",
    "print('collectionFromConstructor: ', collectionFromConstructor.getInfo())"
   ]
  },
  {
   "cell_type": "code",
   "execution_count": null,
   "metadata": {},
   "outputs": [],
   "source": [
    "# Create a collection with fromImages().\n",
    "collectionFromImages = ee.ImageCollection.fromImages(\n",
    "  [ee.Image(3.5), ee.Image(4)])\n",
    "print('collectionFromImages: ', collectionFromImages.getInfo())"
   ]
  },
  {
   "cell_type": "markdown",
   "metadata": {},
   "source": [
    "**We can merge two or more collection**"
   ]
  },
  {
   "cell_type": "code",
   "execution_count": null,
   "metadata": {},
   "outputs": [],
   "source": [
    "# Merge two collections.\n",
    "mergedCollection = collectionFromConstructor.merge(collectionFromImages)\n",
    "print('mergedCollection: ', mergedCollection.getInfo())"
   ]
  },
  {
   "cell_type": "markdown",
   "metadata": {},
   "source": [
    "# <font color=\"blue\"> Select image Collection </font>"
   ]
  },
  {
   "cell_type": "code",
   "execution_count": null,
   "metadata": {},
   "outputs": [],
   "source": [
    "VN=ee.FeatureCollection(\"users/havantuyen/VN_Map\")\n",
    "Map.centerObject(VN,10)\n",
    "Map.addLayer(VN,{},\"Vietnam\")\n",
    "Map"
   ]
  },
  {
   "cell_type": "code",
   "execution_count": null,
   "metadata": {},
   "outputs": [],
   "source": [
    "# Load a Landsat 8 ImageCollection for a single path-row.\n",
    "collection = ee.ImageCollection('LANDSAT/LC08/C01/T1_TOA').filterDate('2020-01-01', '2020-12-31').filterBounds(VN).\\\n",
    "filterMetadata(\"CLOUD_COVER\",\"less_than\",30)"
   ]
  },
  {
   "cell_type": "code",
   "execution_count": null,
   "metadata": {},
   "outputs": [],
   "source": [
    "# MODIS temperature \n",
    "modis=ee.ImageCollection(\"MODIS/006/MOD11A1\").filterDate('2020-01-01', '2020-12-31').filterBounds(VN).select(\"LST_Day_1km\")"
   ]
  },
  {
   "cell_type": "code",
   "execution_count": null,
   "metadata": {},
   "outputs": [],
   "source": [
    "# Get the number of images.\n",
    "count = collection.size()\n",
    "count.getInfo()"
   ]
  },
  {
   "cell_type": "code",
   "execution_count": null,
   "metadata": {},
   "outputs": [],
   "source": [
    "# Get the date range of images in the collection.\n",
    "range = collection.reduceColumns(ee.Reducer.minMax(), [\"system:time_start\"])\n",
    "print('Date range: ', ee.Date(range.get('min')).getInfo(), ee.Date(range.get('max')).getInfo())"
   ]
  },
  {
   "cell_type": "code",
   "execution_count": null,
   "metadata": {},
   "outputs": [],
   "source": [
    "# Better way of extracting start and end time\n",
    "collection.get(\"date_range\").getInfo()"
   ]
  },
  {
   "cell_type": "code",
   "execution_count": null,
   "metadata": {},
   "outputs": [],
   "source": [
    "collection.reduceColumns(ee.Reducer.minMax(),[\"system:time_start\"]).getInfo()"
   ]
  },
  {
   "cell_type": "code",
   "execution_count": null,
   "metadata": {},
   "outputs": [],
   "source": [
    "# Change the date format.\n",
    "range1 = collection.reduceColumns(ee.Reducer.minMax(), [\"system:time_start\"])\n",
    "start_date = ee.Date(range1.get('min')).format(\"YYYY-MM-dd\")\n",
    "end_date = ee.Date(range1.get('max')).format(\"YYYY-MM-dd\")\n",
    "print('Date range: ', start_date.getInfo(), end_date.getInfo())"
   ]
  },
  {
   "cell_type": "code",
   "execution_count": null,
   "metadata": {},
   "outputs": [],
   "source": [
    "# Get statistics for a property of the images in the collection.\n",
    "sunStats = collection.aggregate_stats('RADIANCE_ADD_BAND_3')\n",
    "print('Sun elevation statistics: ', sunStats.getInfo())"
   ]
  },
  {
   "cell_type": "code",
   "execution_count": null,
   "metadata": {},
   "outputs": [],
   "source": [
    "# Get statistics for a property of the images in the collection.\n",
    "clouds = collection.aggregate_array('CLOUD_COVER')\n",
    "print('Cloud covers: ', clouds.getInfo())"
   ]
  },
  {
   "cell_type": "code",
   "execution_count": null,
   "metadata": {},
   "outputs": [],
   "source": [
    "# Sort by a cloud cover property, get the least cloudy image.\n",
    "image = ee.Image(collection.sort('CLOUD_COVER').first())\n",
    "print('Least cloudy image: ', image.propertyNames().getInfo())\n",
    "print('\\nCloud cover: ', image.get(\"CLOUD_COVER\").getInfo())"
   ]
  },
  {
   "cell_type": "code",
   "execution_count": null,
   "metadata": {},
   "outputs": [],
   "source": [
    "# Limit the collection to the 10 most recent images.\n",
    "recent = collection.sort('system:time_start', False).limit(10)\n",
    "images = recent.aggregate_array('system:index').getInfo()\n",
    "print(\"Recent images:\")\n",
    "for image in images:\n",
    "    print(image)"
   ]
  },
  {
   "cell_type": "markdown",
   "metadata": {},
   "source": [
    "# 1. Select Multiple Images\n",
    "\n",
    "##### Filter or get `best` image from a ImageCollection"
   ]
  },
  {
   "cell_type": "code",
   "execution_count": null,
   "metadata": {},
   "outputs": [],
   "source": [
    "# Filter date, bounds and sort by cloud cover\n",
    "## Define the region of interest\n",
    "point=ee.Geometry.Point(105.46,21.41)\n",
    "## Filter by collection\n",
    "collection=ee.ImageCollection(\"LANDSAT/LC08/C01/T1_TOA\").filterDate(\"2014-01-01\",\"2015-01-01\").\\\n",
    "filterBounds(point).sort(\"CLOUD_COVER\")"
   ]
  },
  {
   "cell_type": "code",
   "execution_count": null,
   "metadata": {},
   "outputs": [],
   "source": [
    "# Print out the number of images \n",
    "collection.size().getInfo()"
   ]
  },
  {
   "cell_type": "code",
   "execution_count": null,
   "metadata": {},
   "outputs": [],
   "source": [
    "# Get the best image\n",
    "image=collection.first()\n",
    "Map.centerObject(image,10)\n",
    "Map.addLayer(image,{},\"HAAAA\")\n",
    "Map"
   ]
  },
  {
   "cell_type": "code",
   "execution_count": null,
   "metadata": {},
   "outputs": [],
   "source": [
    "# Investigate the image property\n",
    "image.getInfo()"
   ]
  },
  {
   "cell_type": "code",
   "execution_count": null,
   "metadata": {},
   "outputs": [],
   "source": [
    "# Set property for image\n",
    "date_code=ee.Date(image.get('system:time_start')).format(\"dd-MM-YYYY\")\n",
    "\n",
    "# date_code.getInfo()\n",
    "\n",
    "addedProperty=image.set({\"Date\": date_code,\"Name\":\"Ha Van Tuyen\"})\n",
    "\n",
    "print(addedProperty.get(\"Name\").getInfo())"
   ]
  },
  {
   "cell_type": "markdown",
   "metadata": {},
   "source": [
    "**Using `image.get('property')` to extract needed information from an image**"
   ]
  },
  {
   "cell_type": "code",
   "execution_count": null,
   "metadata": {},
   "outputs": [],
   "source": [
    "# get property\n",
    "image.get(\"RADIANCE_MULT_BAND_8\").getInfo()"
   ]
  },
  {
   "cell_type": "code",
   "execution_count": null,
   "metadata": {},
   "outputs": [],
   "source": [
    "# Visualizing the above image\n",
    "vis={\"bands\":[\"B4\",\"B3\",\"B2\"],\"min\":0.046, \"max\":0.389}\n",
    "# Center the map\n",
    "Map.centerObject(point,10)\n",
    "# Plot the image\n",
    "Map.addLayer(image, vis, \"Image 2014\")\n",
    "Map"
   ]
  },
  {
   "cell_type": "markdown",
   "metadata": {},
   "source": [
    "##### Write a function to select the best image by each year from 2015 to 2020"
   ]
  },
  {
   "cell_type": "code",
   "execution_count": null,
   "metadata": {},
   "outputs": [],
   "source": [
    "def bestImage(year):\n",
    "    start_year=ee.Date.fromYMD(year, 1,1)\n",
    "    end_year=start_year.advance(1,\"year\")\n",
    "    image=ee.ImageCollection(\"LANDSAT/LC08/C01/T1_TOA\").filterDate(start_year,end_year).\\\n",
    "filterBounds(point).sort(\"CLOUD_COVER\").first()\n",
    "    return image\n",
    "years=ee.List.sequence(2014,2020)\n",
    "\n",
    "myImage=years.map(bestImage)\n",
    "# See the number of images\n",
    "myImage.size().getInfo()"
   ]
  },
  {
   "cell_type": "code",
   "execution_count": null,
   "metadata": {},
   "outputs": [],
   "source": [
    "collection=ee.ImageCollection(myImage)\n",
    "# See cloud cover each image\n",
    "for i in sorted(collection.aggregate_array(\"CLOUD_COVER\").getInfo()):\n",
    "    print(\"Cloud Cover: {:.3} %\".format(i))"
   ]
  },
  {
   "cell_type": "code",
   "execution_count": null,
   "metadata": {},
   "outputs": [],
   "source": [
    "# Visualize each image\n",
    "for index in [0,1,2,3,4,5,6]:\n",
    "    image=ee.Image(myImage.get(index))\n",
    "    layerName=\"Image \"+ str(years.getInfo()[index])\n",
    "    Map.addLayer(image, vis, layerName, False)\n",
    "Map"
   ]
  },
  {
   "cell_type": "markdown",
   "metadata": {},
   "source": [
    "##### Writing a function to select monthly images "
   ]
  },
  {
   "cell_type": "code",
   "execution_count": 6,
   "metadata": {},
   "outputs": [],
   "source": [
    "years=range(2015,2017)\n",
    "\n",
    "months=range(1,13)\n",
    "\n",
    "import datetime as dt\n",
    "\n",
    "for year in years:\n",
    "    for month in months:\n",
    "        start=ee.Date.fromYMD(year,month,1)\n",
    "        end=start.advance(1, \"month\")\n",
    "#         print(\"Starting month:\",start.get(\"month\").getInfo(),\"-\", end.get(\"month\").getInfo())"
   ]
  },
  {
   "cell_type": "markdown",
   "metadata": {},
   "source": [
    "## Converting GEE date to human datetime"
   ]
  },
  {
   "cell_type": "code",
   "execution_count": null,
   "metadata": {},
   "outputs": [],
   "source": [
    "# Create a GEE date\n",
    "date=ee.Date.fromYMD(2018,12,28)\n",
    "\n",
    "date.getInfo()"
   ]
  },
  {
   "cell_type": "code",
   "execution_count": null,
   "metadata": {},
   "outputs": [],
   "source": [
    "# We can convert a system time start to date time human\n",
    "ee.Date(1545955200000).format(\"YYY,MM,dd\").getInfo()"
   ]
  },
  {
   "cell_type": "code",
   "execution_count": null,
   "metadata": {},
   "outputs": [],
   "source": [
    "# Using format to format to human datetime\n",
    "date.format(\"YYYY-MM-dd\").getInfo()"
   ]
  },
  {
   "cell_type": "code",
   "execution_count": null,
   "metadata": {},
   "outputs": [],
   "source": [
    "# get all properties information\n",
    "keys=image.getInfo()\n",
    "\n",
    "for key in keys:\n",
    "    if key==\"properties\":\n",
    "        for i in keys[key]:\n",
    "            print(i,\":\",keys[key][i])"
   ]
  },
  {
   "cell_type": "code",
   "execution_count": null,
   "metadata": {},
   "outputs": [],
   "source": [
    "Map=emap.Map()\n",
    "Map.add_basemap(\"Google Satellite\")\n",
    "Map\n",
    "# Add Earth Engine dataset\n",
    "image = ee.Image('USGS/SRTMGL1_003')\n",
    "\n",
    "# Set visualization parameters.\n",
    "vis_params = {\n",
    "  'min': 0,\n",
    "  'max': 4000,\n",
    "  'palette': ['006633', 'E5FFCC', '662A00', 'D8D8D8', 'F5F5F5']}\n",
    "\n",
    "# Print the elevation of Mount Everest.\n",
    "xy = ee.Geometry.Point([86.9250, 27.9881])\n",
    "elev = image.sample(xy, 30).first().get('elevation').getInfo()\n",
    "print('Mount Everest elevation (m):', elev)\n",
    "\n",
    "# Add Earth Engine layers to Map\n",
    "Map.addLayer(image, vis_params, 'DEM')\n",
    "Map.addLayer(xy, {'color': 'red'}, 'Mount Everest')\n",
    "\n",
    "# Center the map based on an Earth Engine object or coordinates (longitude, latitude)\n",
    "# Map.centerObject(xy, 4)\n",
    "Map.setCenter(86.9250, 27.9881, 4)"
   ]
  }
 ],
 "metadata": {
  "kernelspec": {
   "display_name": "Python 3",
   "language": "python",
   "name": "python3"
  },
  "language_info": {
   "codemirror_mode": {
    "name": "ipython",
    "version": 3
   },
   "file_extension": ".py",
   "mimetype": "text/x-python",
   "name": "python",
   "nbconvert_exporter": "python",
   "pygments_lexer": "ipython3",
   "version": "3.8.5"
  }
 },
 "nbformat": 4,
 "nbformat_minor": 4
}
