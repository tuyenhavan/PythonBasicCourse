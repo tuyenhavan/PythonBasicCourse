{
 "cells": [
  {
   "cell_type": "markdown",
   "metadata": {},
   "source": [
    "# 1. Try and Except "
   ]
  },
  {
   "cell_type": "markdown",
   "metadata": {},
   "source": [
    "`Try` and `Except` statement is used to handle these errors within our code in Python. \n",
    "\n",
    "    try:\n",
    "        # Some Code\n",
    "    except:\n",
    "        # Executed if error \n",
    "        # try block\n",
    "    else:\n",
    "        # execute if no exception\n",
    "    finally:\n",
    "        # Some code .....(always executed)"
   ]
  },
  {
   "cell_type": "code",
   "execution_count": 13,
   "metadata": {},
   "outputs": [
    {
     "name": "stdout",
     "output_type": "stream",
     "text": [
      "Can't divide by 0\n",
      "It always print out this line/ always execute this line.\n"
     ]
    }
   ],
   "source": [
    "# Write a simple try and except statement\n",
    "\n",
    "try:\n",
    "    2/0\n",
    "except:\n",
    "    print(\"Can't divide by 0\")\n",
    "else:\n",
    "    print(\"It will print out the result if no exception\")\n",
    "finally:\n",
    "    print(\"It always print out this line/ always execute this line.\")"
   ]
  },
  {
   "cell_type": "code",
   "execution_count": 19,
   "metadata": {},
   "outputs": [],
   "source": [
    "# Write a try and except statement \n",
    "\n",
    "def division(a,b):\n",
    "    try:\n",
    "        ketqua=a/b\n",
    "#         print(ketqua)\n",
    "        return ketqua\n",
    "    except:\n",
    "        print(\"Error occurred. Can't divide by 0\")\n",
    "#     else:\n",
    "#         print(f\"{a} divided by {b} is {ketqua:.2f}\")\n",
    "#     finally:\n",
    "#         print(\"Well-done!\")"
   ]
  },
  {
   "cell_type": "code",
   "execution_count": 21,
   "metadata": {},
   "outputs": [
    {
     "data": {
      "text/plain": [
       "11.68421052631579"
      ]
     },
     "execution_count": 21,
     "metadata": {},
     "output_type": "execute_result"
    }
   ],
   "source": [
    "a=division(222,19)\n",
    "a"
   ]
  },
  {
   "cell_type": "markdown",
   "metadata": {},
   "source": [
    "# 2. Datetime in Python\n",
    "\n",
    "`Datetime` provides three classes that are widely used. \n",
    "\n",
    "`datetime.date`, `datetime.time`, `datetime.datetime`"
   ]
  },
  {
   "cell_type": "code",
   "execution_count": 1,
   "metadata": {},
   "outputs": [],
   "source": [
    "import datetime as dt"
   ]
  },
  {
   "cell_type": "markdown",
   "metadata": {},
   "source": [
    "**Date**"
   ]
  },
  {
   "cell_type": "code",
   "execution_count": 22,
   "metadata": {},
   "outputs": [
    {
     "data": {
      "text/plain": [
       "datetime.date(2021, 2, 23)"
      ]
     },
     "execution_count": 22,
     "metadata": {},
     "output_type": "execute_result"
    }
   ],
   "source": [
    "# Create a date\n",
    "date=dt.date(year=2021, month=2, day=23)\n",
    "\n",
    "date"
   ]
  },
  {
   "cell_type": "code",
   "execution_count": 27,
   "metadata": {},
   "outputs": [
    {
     "name": "stdout",
     "output_type": "stream",
     "text": [
      "2021-08-12\n"
     ]
    }
   ],
   "source": [
    "date=dt.date(2021,8,12)\n",
    "print(date)"
   ]
  },
  {
   "cell_type": "code",
   "execution_count": 30,
   "metadata": {},
   "outputs": [
    {
     "data": {
      "text/plain": [
       "8"
      ]
     },
     "execution_count": 30,
     "metadata": {},
     "output_type": "execute_result"
    }
   ],
   "source": [
    "# Access date attributes\n",
    "date.day\n",
    "date.year\n",
    "date.month"
   ]
  },
  {
   "cell_type": "markdown",
   "metadata": {},
   "source": [
    "**Time**"
   ]
  },
  {
   "cell_type": "code",
   "execution_count": 31,
   "metadata": {},
   "outputs": [
    {
     "name": "stdout",
     "output_type": "stream",
     "text": [
      "13:11:23\n"
     ]
    }
   ],
   "source": [
    "# Create time\n",
    "time=dt.time(hour=13,minute=11,second=23)\n",
    "print(time)"
   ]
  },
  {
   "cell_type": "code",
   "execution_count": 34,
   "metadata": {},
   "outputs": [
    {
     "data": {
      "text/plain": [
       "23"
      ]
     },
     "execution_count": 34,
     "metadata": {},
     "output_type": "execute_result"
    }
   ],
   "source": [
    "# Access time attributes\n",
    "time.hour\n",
    "time.minute\n",
    "time.second"
   ]
  },
  {
   "cell_type": "markdown",
   "metadata": {},
   "source": [
    "**Datetime**"
   ]
  },
  {
   "cell_type": "code",
   "execution_count": 24,
   "metadata": {},
   "outputs": [
    {
     "data": {
      "text/plain": [
       "datetime.datetime(2020, 12, 23, 10, 10, 10)"
      ]
     },
     "execution_count": 24,
     "metadata": {},
     "output_type": "execute_result"
    }
   ],
   "source": [
    "# Create a datetime \n",
    "\n",
    "datetime=dt.datetime(2020,12,23,10,10,10)\n",
    "# More readable\n",
    "datetime=dt.datetime(year=2020,month=12,day=23,hour=10,minute=10,second=10)\n",
    "\n",
    "datetime"
   ]
  },
  {
   "cell_type": "markdown",
   "metadata": {},
   "source": [
    "**Other handy functions**\n",
    "\n",
    "`date.today()`, `datetime.now()`, and `datetime.combine()`"
   ]
  },
  {
   "cell_type": "code",
   "execution_count": 35,
   "metadata": {},
   "outputs": [
    {
     "data": {
      "text/plain": [
       "datetime.date(2021, 8, 22)"
      ]
     },
     "execution_count": 35,
     "metadata": {},
     "output_type": "execute_result"
    }
   ],
   "source": [
    "# datetime today\n",
    "\n",
    "today=dt.date.today()\n",
    "today"
   ]
  },
  {
   "cell_type": "code",
   "execution_count": 28,
   "metadata": {},
   "outputs": [
    {
     "data": {
      "text/plain": [
       "datetime.datetime(2021, 8, 8, 21, 32, 21, 966184)"
      ]
     },
     "execution_count": 28,
     "metadata": {},
     "output_type": "execute_result"
    }
   ],
   "source": [
    "# Datetime now\n",
    "now=dt.datetime.now()\n",
    "now"
   ]
  },
  {
   "cell_type": "markdown",
   "metadata": {},
   "source": [
    "##### Convert datetime to string\n",
    "\n",
    "Please see [this website](https://www.programiz.com/python-programming/datetime/strftime) for more converting code."
   ]
  },
  {
   "cell_type": "code",
   "execution_count": 36,
   "metadata": {},
   "outputs": [
    {
     "name": "stdout",
     "output_type": "stream",
     "text": [
      "2021-08-22\n"
     ]
    }
   ],
   "source": [
    "today=dt.date.today() \n",
    "print(today)"
   ]
  },
  {
   "cell_type": "code",
   "execution_count": 37,
   "metadata": {},
   "outputs": [
    {
     "data": {
      "text/plain": [
       "datetime.date"
      ]
     },
     "execution_count": 37,
     "metadata": {},
     "output_type": "execute_result"
    }
   ],
   "source": [
    "type(today)"
   ]
  },
  {
   "cell_type": "code",
   "execution_count": 38,
   "metadata": {},
   "outputs": [
    {
     "name": "stdout",
     "output_type": "stream",
     "text": [
      "2021-08-22\n"
     ]
    }
   ],
   "source": [
    "date_string=dt.datetime.strftime(today,\"%Y-%m-%d\")\n",
    "\n",
    "print(date_string)"
   ]
  },
  {
   "cell_type": "markdown",
   "metadata": {},
   "source": [
    "##### Convert datetime string to datetime\n",
    "\n",
    "**Formula**\n",
    "\n",
    "datetime.datetime.strptime(date_string, format_string)\n",
    "\n",
    "\n",
    "    date_string = \"01-31-2020 14:45:37\" \n",
    "    format_string = \"%m-%d-%Y %H:%M:%S\""
   ]
  },
  {
   "cell_type": "code",
   "execution_count": 42,
   "metadata": {},
   "outputs": [
    {
     "data": {
      "text/plain": [
       "datetime.datetime(2021, 8, 9, 12, 30, 40)"
      ]
     },
     "execution_count": 42,
     "metadata": {},
     "output_type": "execute_result"
    }
   ],
   "source": [
    "date_string=\"2021-8-9 12:30:40\"\n",
    "\n",
    "date=dt.datetime.strptime(date_string,\"%Y-%m-%d %H:%M:%S\")\n",
    "\n",
    "date"
   ]
  },
  {
   "cell_type": "code",
   "execution_count": null,
   "metadata": {},
   "outputs": [],
   "source": []
  },
  {
   "cell_type": "markdown",
   "metadata": {},
   "source": [
    "## Timedelta"
   ]
  },
  {
   "cell_type": "code",
   "execution_count": 26,
   "metadata": {},
   "outputs": [
    {
     "data": {
      "text/plain": [
       "2021"
      ]
     },
     "execution_count": 26,
     "metadata": {},
     "output_type": "execute_result"
    }
   ],
   "source": [
    "time_day=dt.timedelta(days=11) # weeks\n",
    "\n",
    "today=dt.date.today()\n",
    "today.year"
   ]
  },
  {
   "cell_type": "code",
   "execution_count": 46,
   "metadata": {},
   "outputs": [
    {
     "name": "stdout",
     "output_type": "stream",
     "text": [
      "Next 15 days: 2021-09-02\n"
     ]
    }
   ],
   "source": [
    "next_15days=today+time_day\n",
    "\n",
    "print(\"Next 15 days:\",next_15days)"
   ]
  },
  {
   "cell_type": "code",
   "execution_count": 23,
   "metadata": {},
   "outputs": [
    {
     "name": "stdout",
     "output_type": "stream",
     "text": [
      "2019-02-22\n",
      "2019-02-21\n",
      "2019-02-20\n",
      "2019-02-19\n",
      "2019-02-18\n",
      "2019-02-17\n",
      "2019-02-16\n",
      "2019-02-15\n",
      "2019-02-14\n"
     ]
    }
   ],
   "source": [
    "for i in range(1,10):\n",
    "    days=dt.timedelta(days=i)\n",
    "    date=dt.date(year=2019, month=2, day=23)\n",
    "    ketqua=date-days\n",
    "    print(ketqua)"
   ]
  },
  {
   "cell_type": "markdown",
   "metadata": {},
   "source": [
    "**Challenge 1**\n",
    "\n",
    "Create a list of string date, starting from today until next 20 days consecutive. "
   ]
  },
  {
   "cell_type": "code",
   "execution_count": 3,
   "metadata": {},
   "outputs": [],
   "source": [
    "today=dt.date.today()\n",
    "\n",
    "delta=dt.timedelta(days=1)\n",
    "\n"
   ]
  },
  {
   "cell_type": "markdown",
   "metadata": {},
   "source": [
    "**Challenge 2** \n",
    "\n",
    "Convert today date into string datetime and vice versa."
   ]
  },
  {
   "cell_type": "code",
   "execution_count": null,
   "metadata": {},
   "outputs": [],
   "source": []
  },
  {
   "cell_type": "markdown",
   "metadata": {},
   "source": [
    "**Challenge 3**\n",
    "\n",
    "Create a dictionary with key=month and list of days in each month. "
   ]
  },
  {
   "cell_type": "code",
   "execution_count": null,
   "metadata": {},
   "outputs": [],
   "source": []
  },
  {
   "cell_type": "markdown",
   "metadata": {},
   "source": [
    "# Exercise Practice"
   ]
  },
  {
   "cell_type": "markdown",
   "metadata": {},
   "source": [
    "**1**. Write a Python program to convert a string to datetime.\n",
    "\n",
    "String datetime: Jan 1 2014 2:43PM"
   ]
  },
  {
   "cell_type": "code",
   "execution_count": null,
   "metadata": {},
   "outputs": [],
   "source": []
  },
  {
   "cell_type": "markdown",
   "metadata": {},
   "source": [
    "**2**. Write a Python program to get the current time in Python."
   ]
  },
  {
   "cell_type": "code",
   "execution_count": null,
   "metadata": {},
   "outputs": [],
   "source": []
  },
  {
   "cell_type": "markdown",
   "metadata": {},
   "source": [
    "3. Viết một chương trình Python để output là ngày tiếp theo của input là ngày,tháng, năm đã cho bất kỳ."
   ]
  },
  {
   "cell_type": "code",
   "execution_count": null,
   "metadata": {},
   "outputs": [],
   "source": []
  },
  {
   "cell_type": "markdown",
   "metadata": {},
   "source": [
    "**4**. Write a Python program to subtract five days from current date."
   ]
  },
  {
   "cell_type": "code",
   "execution_count": null,
   "metadata": {},
   "outputs": [],
   "source": []
  },
  {
   "cell_type": "markdown",
   "metadata": {},
   "source": [
    "**5**. Write a Python program to convert Year/Month/Day to Day of Year"
   ]
  },
  {
   "cell_type": "code",
   "execution_count": null,
   "metadata": {},
   "outputs": [],
   "source": []
  },
  {
   "cell_type": "markdown",
   "metadata": {},
   "source": [
    "**6**. Write a Python program to select all the Sundays of a specified year."
   ]
  },
  {
   "cell_type": "code",
   "execution_count": null,
   "metadata": {},
   "outputs": [],
   "source": []
  },
  {
   "cell_type": "markdown",
   "metadata": {},
   "source": [
    "**7**. Write a Python program to print simple format of time, full names and the representation format and preferred date time format.\n",
    "\n",
    "Sample: Tuesday, 04/13/21 April 2021 12:02:01 + 0000"
   ]
  },
  {
   "cell_type": "code",
   "execution_count": null,
   "metadata": {},
   "outputs": [],
   "source": []
  },
  {
   "cell_type": "markdown",
   "metadata": {},
   "source": [
    "**8**. Write a program to check if a file is exist/ read a certain file extension, if not print error."
   ]
  },
  {
   "cell_type": "code",
   "execution_count": null,
   "metadata": {},
   "outputs": [],
   "source": []
  },
  {
   "cell_type": "markdown",
   "metadata": {},
   "source": [
    "**9**. Write a program to catch errors when dividing numbers."
   ]
  },
  {
   "cell_type": "code",
   "execution_count": null,
   "metadata": {},
   "outputs": [],
   "source": []
  },
  {
   "cell_type": "markdown",
   "metadata": {},
   "source": [
    "**10**. Write a function to perform a task of your interest integrating `try` and `except` statement in your function. "
   ]
  }
 ],
 "metadata": {
  "kernelspec": {
   "display_name": "Python 3",
   "language": "python",
   "name": "python3"
  },
  "language_info": {
   "codemirror_mode": {
    "name": "ipython",
    "version": 3
   },
   "file_extension": ".py",
   "mimetype": "text/x-python",
   "name": "python",
   "nbconvert_exporter": "python",
   "pygments_lexer": "ipython3",
   "version": "3.8.5"
  }
 },
 "nbformat": 4,
 "nbformat_minor": 4
}
