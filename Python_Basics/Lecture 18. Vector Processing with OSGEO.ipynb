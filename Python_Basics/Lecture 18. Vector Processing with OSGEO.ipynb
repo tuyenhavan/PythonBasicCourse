{
 "cells": [
  {
   "cell_type": "code",
   "execution_count": 3,
   "metadata": {},
   "outputs": [],
   "source": [
    "import ogr\n",
    "import gdal"
   ]
  },
  {
   "cell_type": "markdown",
   "metadata": {},
   "source": [
    "**Create a single Point**"
   ]
  },
  {
   "cell_type": "code",
   "execution_count": 4,
   "metadata": {},
   "outputs": [
    {
     "name": "stdout",
     "output_type": "stream",
     "text": [
      "POINT (1198054.34 648493.09 0)\n"
     ]
    }
   ],
   "source": [
    "point = ogr.Geometry(ogr.wkbPoint)\n",
    "point.AddPoint(1198054.34, 648493.09)\n",
    "print (point.ExportToWkt())"
   ]
  },
  {
   "cell_type": "markdown",
   "metadata": {},
   "source": [
    "**Create multipoint**"
   ]
  },
  {
   "cell_type": "code",
   "execution_count": 5,
   "metadata": {},
   "outputs": [
    {
     "name": "stdout",
     "output_type": "stream",
     "text": [
      "MULTIPOINT (1251243.73616105 598078.795866876 0,1240605.85703396 601778.927737169 0,1250318.70319348 606404.092575036 0)\n"
     ]
    }
   ],
   "source": [
    "# First to define the geometry type\n",
    "multipoint = ogr.Geometry(ogr.wkbMultiPoint)\n",
    "\n",
    "point1 = ogr.Geometry(ogr.wkbPoint)\n",
    "point1.AddPoint(1251243.7361610543, 598078.7958668759)\n",
    "multipoint.AddGeometry(point1)\n",
    "\n",
    "point2 = ogr.Geometry(ogr.wkbPoint)\n",
    "point2.AddPoint(1240605.8570339603, 601778.9277371694)\n",
    "multipoint.AddGeometry(point2)\n",
    "\n",
    "point3 = ogr.Geometry(ogr.wkbPoint)\n",
    "point3.AddPoint(1250318.7031934808, 606404.0925750365)\n",
    "multipoint.AddGeometry(point3)\n",
    "\n",
    "print (multipoint.ExportToWkt())"
   ]
  },
  {
   "cell_type": "markdown",
   "metadata": {},
   "source": [
    "**Driver Object**\n",
    "\n",
    "There are many drivers supporting vector geospatial data. We can get those drivers by function below."
   ]
  },
  {
   "cell_type": "code",
   "execution_count": 6,
   "metadata": {},
   "outputs": [
    {
     "data": {
      "text/plain": [
       "['VRT',\n",
       " 'DERIVED',\n",
       " 'GTiff',\n",
       " 'NITF',\n",
       " 'RPFTOC',\n",
       " 'ECRGTOC',\n",
       " 'HFA',\n",
       " 'SAR_CEOS',\n",
       " 'CEOS',\n",
       " 'JAXAPALSAR',\n",
       " 'GFF',\n",
       " 'ELAS',\n",
       " 'AIG',\n",
       " 'AAIGrid',\n",
       " 'GRASSASCIIGrid',\n",
       " 'SDTS',\n",
       " 'DTED',\n",
       " 'PNG',\n",
       " 'JPEG',\n",
       " 'MEM',\n",
       " 'JDEM',\n",
       " 'GIF',\n",
       " 'BIGGIF',\n",
       " 'ESAT',\n",
       " 'FITS',\n",
       " 'BSB',\n",
       " 'XPM',\n",
       " 'BMP',\n",
       " 'DIMAP',\n",
       " 'AirSAR',\n",
       " 'RS2',\n",
       " 'SAFE',\n",
       " 'PCIDSK',\n",
       " 'PCRaster',\n",
       " 'ILWIS',\n",
       " 'SGI',\n",
       " 'SRTMHGT',\n",
       " 'Leveller',\n",
       " 'Terragen',\n",
       " 'GMT',\n",
       " 'netCDF',\n",
       " 'HDF4',\n",
       " 'HDF4Image',\n",
       " 'ISIS3',\n",
       " 'ISIS2',\n",
       " 'PDS',\n",
       " 'PDS4',\n",
       " 'VICAR',\n",
       " 'TIL',\n",
       " 'ERS',\n",
       " 'JP2OpenJPEG',\n",
       " 'L1B',\n",
       " 'FIT',\n",
       " 'GRIB',\n",
       " 'RMF',\n",
       " 'WCS',\n",
       " 'WMS',\n",
       " 'MSGN',\n",
       " 'RST',\n",
       " 'INGR',\n",
       " 'GSAG',\n",
       " 'GSBG',\n",
       " 'GS7BG',\n",
       " 'COSAR',\n",
       " 'TSX',\n",
       " 'COASP',\n",
       " 'R',\n",
       " 'MAP',\n",
       " 'KMLSUPEROVERLAY',\n",
       " 'WEBP',\n",
       " 'PDF',\n",
       " 'Rasterlite',\n",
       " 'MBTiles',\n",
       " 'PLMOSAIC',\n",
       " 'CALS',\n",
       " 'WMTS',\n",
       " 'SENTINEL2',\n",
       " 'MRF',\n",
       " 'TileDB',\n",
       " 'PNM',\n",
       " 'DOQ1',\n",
       " 'DOQ2',\n",
       " 'PAux',\n",
       " 'MFF',\n",
       " 'MFF2',\n",
       " 'FujiBAS',\n",
       " 'GSC',\n",
       " 'FAST',\n",
       " 'BT',\n",
       " 'LAN',\n",
       " 'CPG',\n",
       " 'IDA',\n",
       " 'NDF',\n",
       " 'EIR',\n",
       " 'DIPEx',\n",
       " 'LCP',\n",
       " 'GTX',\n",
       " 'LOSLAS',\n",
       " 'NTv1',\n",
       " 'NTv2',\n",
       " 'CTable2',\n",
       " 'ACE2',\n",
       " 'SNODAS',\n",
       " 'KRO',\n",
       " 'ROI_PAC',\n",
       " 'RRASTER',\n",
       " 'BYN',\n",
       " 'ARG',\n",
       " 'RIK',\n",
       " 'USGSDEM',\n",
       " 'GXF',\n",
       " 'KEA',\n",
       " 'BAG',\n",
       " 'HDF5',\n",
       " 'HDF5Image',\n",
       " 'NWT_GRD',\n",
       " 'NWT_GRC',\n",
       " 'ADRG',\n",
       " 'SRP',\n",
       " 'BLX',\n",
       " 'PostGISRaster',\n",
       " 'SAGA',\n",
       " 'IGNFHeightASCIIGrid',\n",
       " 'XYZ',\n",
       " 'HF2',\n",
       " 'OZI',\n",
       " 'CTG',\n",
       " 'E00GRID',\n",
       " 'ZMap',\n",
       " 'NGSGEOID',\n",
       " 'IRIS',\n",
       " 'PRF',\n",
       " 'RDA',\n",
       " 'EEDAI',\n",
       " 'EEDA',\n",
       " 'DAAS',\n",
       " 'SIGDEM',\n",
       " 'GNMFile',\n",
       " 'GNMDatabase',\n",
       " 'DB2ODBC',\n",
       " 'ESRI Shapefile',\n",
       " 'MapInfo File',\n",
       " 'UK .NTF',\n",
       " 'OGR_SDTS',\n",
       " 'S57',\n",
       " 'DGN',\n",
       " 'OGR_VRT',\n",
       " 'REC',\n",
       " 'Memory',\n",
       " 'BNA',\n",
       " 'CSV',\n",
       " 'NAS',\n",
       " 'GML',\n",
       " 'GPX',\n",
       " 'KML',\n",
       " 'GeoJSON',\n",
       " 'GeoJSONSeq',\n",
       " 'ESRIJSON',\n",
       " 'TopoJSON',\n",
       " 'OGR_GMT',\n",
       " 'GPKG',\n",
       " 'SQLite',\n",
       " 'ODBC',\n",
       " 'WAsP',\n",
       " 'PGeo',\n",
       " 'MSSQLSpatial',\n",
       " 'PostgreSQL',\n",
       " 'OpenFileGDB',\n",
       " 'XPlane',\n",
       " 'DXF',\n",
       " 'CAD',\n",
       " 'Geoconcept',\n",
       " 'GeoRSS',\n",
       " 'GPSTrackMaker',\n",
       " 'VFK',\n",
       " 'PGDUMP',\n",
       " 'OSM',\n",
       " 'GPSBabel',\n",
       " 'SUA',\n",
       " 'OpenAir',\n",
       " 'OGR_PDS',\n",
       " 'WFS',\n",
       " 'WFS3',\n",
       " 'HTF',\n",
       " 'AeronavFAA',\n",
       " 'Geomedia',\n",
       " 'EDIGEO',\n",
       " 'GFT',\n",
       " 'SVG',\n",
       " 'CouchDB',\n",
       " 'Cloudant',\n",
       " 'Idrisi',\n",
       " 'ARCGEN',\n",
       " 'SEGUKOOA',\n",
       " 'SEGY',\n",
       " 'XLS',\n",
       " 'ODS',\n",
       " 'XLSX',\n",
       " 'ElasticSearch',\n",
       " 'Walk',\n",
       " 'Carto',\n",
       " 'AmigoCloud',\n",
       " 'SXF',\n",
       " 'Selafin',\n",
       " 'JML',\n",
       " 'PLSCENES',\n",
       " 'CSW',\n",
       " 'VDV',\n",
       " 'GMLAS',\n",
       " 'MVT',\n",
       " 'TIGER',\n",
       " 'AVCBin',\n",
       " 'AVCE00',\n",
       " 'NGW',\n",
       " 'GenBin',\n",
       " 'ENVI',\n",
       " 'EHdr',\n",
       " 'ISCE',\n",
       " 'HTTP']"
      ]
     },
     "execution_count": 6,
     "metadata": {},
     "output_type": "execute_result"
    }
   ],
   "source": [
    "def driverGDAL():\n",
    "    driver_list=[]\n",
    "    for i in range(gdal.GetDriverCount()):\n",
    "        driver=gdal.GetDriver(i)\n",
    "        driver_name=driver.GetDescription()\n",
    "        driver_list.append(driver_name)\n",
    "    return driver_list\n",
    "# Print all GDAL supported drivers\n",
    "driverGDAL()"
   ]
  },
  {
   "cell_type": "markdown",
   "metadata": {},
   "source": [
    "**Read data**\n",
    "\n",
    "Whenever you read or write data, you need to define the `driver` you want to use first. This acts a \"gateway\" to access to the data."
   ]
  },
  {
   "cell_type": "code",
   "execution_count": 7,
   "metadata": {},
   "outputs": [],
   "source": [
    "# Define the driver\n",
    "driver=ogr.GetDriverByName(\"ESRI Shapefile\")\n",
    "# Read the shapefile\n",
    "path=r\"F:\\Research\\Maps\\Maps\\VN_DIVA_GIS\\gadm36_VNM_1.shp\"\n",
    "ds=driver.Open(path,0) # 0 means for reading only while 1 for writing\n",
    "# Get Layer\n",
    "layer=ds.GetLayer(0) # 0 is optional for shapefile"
   ]
  },
  {
   "cell_type": "markdown",
   "metadata": {},
   "source": [
    "**Get feature count**"
   ]
  },
  {
   "cell_type": "code",
   "execution_count": 8,
   "metadata": {},
   "outputs": [
    {
     "name": "stdout",
     "output_type": "stream",
     "text": [
      "Total Feature: 63\n"
     ]
    }
   ],
   "source": [
    "# Get the number of features\n",
    "featureCount=layer.GetFeatureCount()\n",
    "print(f\"Total Feature: {featureCount}\")"
   ]
  },
  {
   "cell_type": "code",
   "execution_count": 9,
   "metadata": {},
   "outputs": [
    {
     "data": {
      "text/plain": [
       "'An Giang'"
      ]
     },
     "execution_count": 9,
     "metadata": {},
     "output_type": "execute_result"
    }
   ],
   "source": [
    "# Get feature name\n",
    "layer.GetFeature(0).NAME_1 # 0 is the index "
   ]
  },
  {
   "cell_type": "code",
   "execution_count": 10,
   "metadata": {},
   "outputs": [
    {
     "name": "stdout",
     "output_type": "stream",
     "text": [
      "UL: 102.14458466,23.39269257\n",
      "LR: 109.46916962,8.38135529\n"
     ]
    }
   ],
   "source": [
    "# We can get the extent of the layer\n",
    "layerExtent=layer.GetExtent()\n",
    "\n",
    "print(f\"UL: {layerExtent[0]},{layerExtent[3]}\\nLR: {layerExtent[1]},{layerExtent[2]}\")"
   ]
  },
  {
   "cell_type": "markdown",
   "metadata": {},
   "source": [
    "**Get column Names**"
   ]
  },
  {
   "cell_type": "code",
   "execution_count": 11,
   "metadata": {},
   "outputs": [
    {
     "data": {
      "text/plain": [
       "['GID_0',\n",
       " 'NAME_0',\n",
       " 'GID_1',\n",
       " 'NAME_1',\n",
       " 'VARNAME_1',\n",
       " 'NL_NAME_1',\n",
       " 'TYPE_1',\n",
       " 'ENGTYPE_1',\n",
       " 'CC_1',\n",
       " 'HASC_1']"
      ]
     },
     "execution_count": 11,
     "metadata": {},
     "output_type": "execute_result"
    }
   ],
   "source": [
    "[field.name for field in layer.schema]"
   ]
  },
  {
   "cell_type": "code",
   "execution_count": 14,
   "metadata": {},
   "outputs": [
    {
     "name": "stdout",
     "output_type": "stream",
     "text": [
      "POLYGON\n",
      "POLYGON\n",
      "POLYGON\n",
      "POLYGON\n",
      "POLYGON\n",
      "POLYGON\n",
      "MULTIPOLYGON\n",
      "MULTIPOLYGON\n",
      "POLYGON\n",
      "POLYGON\n"
     ]
    }
   ],
   "source": [
    "path=r\"F:\\Research\\Maps\\Maps\\VN_DIVA_GIS\\gadm36_VNM_1.shp\" # Define the shapefile path\n",
    "ds=driver.Open(path,0) # 0 means for reading only while 1 for writing\n",
    "layer=ds.GetLayer(0) # 0 is optional for shapefile\n",
    "count=0\n",
    "mlist=[]\n",
    "for feat in layer:\n",
    "    pt=feat.geometry()\n",
    "    print(pt.GetGeometryName())\n",
    "    name=feat.GetField(\"VARNAME_1\")\n",
    "    english=feat.GetFieldAsString(\"ENGTYPE_1\")\n",
    "    mlist.append(pt.ExportToWkt())\n",
    "#     print(pt)\n",
    "    count+=1\n",
    "    if count==10:\n",
    "        break\n",
    "layer.ResetReading()\n",
    "del ds   "
   ]
  },
  {
   "cell_type": "code",
   "execution_count": 2,
   "metadata": {},
   "outputs": [
    {
     "name": "stdout",
     "output_type": "stream",
     "text": [
      "3\n"
     ]
    },
    {
     "data": {
      "text/plain": [
       "True"
      ]
     },
     "execution_count": 2,
     "metadata": {},
     "output_type": "execute_result"
    }
   ],
   "source": [
    "import ogr\n",
    "path=r\"F:\\Research\\Maps\\Maps\\VN_DIVA_GIS\\gadm36_VNM_1.shp\" # Define the shapefile path\n",
    "driver=ogr.GetDriverByName(\"ESRI Shapefile\")\n",
    "ds=driver.Open(path,0) # 0 means for reading only while 1 for writing\n",
    "layer=ds.GetLayer(0) # 0 is optional for shapefile\n",
    "# Get Geometry type\n",
    "print(layer.GetGeomType())\n",
    "# Check geometry type ogr.wkbPoint\n",
    "layer.GetGeomType()==ogr.wkbPolygon"
   ]
  },
  {
   "cell_type": "markdown",
   "metadata": {},
   "source": [
    "**Get Geometry type Name**"
   ]
  },
  {
   "cell_type": "code",
   "execution_count": 4,
   "metadata": {},
   "outputs": [
    {
     "name": "stdout",
     "output_type": "stream",
     "text": [
      "POLYGON\n"
     ]
    }
   ],
   "source": [
    "ly=layer.GetFeature(0)\n",
    "\n",
    "print(ly.geometry().GetGeometryName())"
   ]
  },
  {
   "cell_type": "code",
   "execution_count": 6,
   "metadata": {},
   "outputs": [
    {
     "name": "stdout",
     "output_type": "stream",
     "text": [
      "GEOGCS[\"WGS 84\",\n",
      "    DATUM[\"WGS_1984\",\n",
      "        SPHEROID[\"WGS 84\",6378137,298.257223563,\n",
      "            AUTHORITY[\"EPSG\",\"7030\"]],\n",
      "        AUTHORITY[\"EPSG\",\"6326\"]],\n",
      "    PRIMEM[\"Greenwich\",0],\n",
      "    UNIT[\"Degree\",0.0174532925199433],\n",
      "    AXIS[\"Longitude\",EAST],\n",
      "    AXIS[\"Latitude\",NORTH]]\n"
     ]
    }
   ],
   "source": [
    "print(layer.GetSpatialRef())"
   ]
  },
  {
   "cell_type": "code",
   "execution_count": 8,
   "metadata": {},
   "outputs": [
    {
     "name": "stdout",
     "output_type": "stream",
     "text": [
      "GID_0 : String\n",
      "NAME_0 : String\n",
      "GID_1 : String\n",
      "NAME_1 : String\n",
      "VARNAME_1 : String\n",
      "NL_NAME_1 : String\n",
      "TYPE_1 : String\n",
      "ENGTYPE_1 : String\n",
      "CC_1 : String\n",
      "HASC_1 : String\n"
     ]
    }
   ],
   "source": [
    "for field in layer.schema:\n",
    "    print(field.name,\":\", field.GetTypeName())"
   ]
  },
  {
   "cell_type": "code",
   "execution_count": 14,
   "metadata": {},
   "outputs": [
    {
     "data": {
      "text/plain": [
       "'VNM.1_1'"
      ]
     },
     "execution_count": 14,
     "metadata": {},
     "output_type": "execute_result"
    }
   ],
   "source": [
    "layer.GetFeature(0).GetField(2)"
   ]
  },
  {
   "cell_type": "code",
   "execution_count": null,
   "metadata": {},
   "outputs": [],
   "source": []
  }
 ],
 "metadata": {
  "kernelspec": {
   "display_name": "Python 3",
   "language": "python",
   "name": "python3"
  },
  "language_info": {
   "codemirror_mode": {
    "name": "ipython",
    "version": 3
   },
   "file_extension": ".py",
   "mimetype": "text/x-python",
   "name": "python",
   "nbconvert_exporter": "python",
   "pygments_lexer": "ipython3",
   "version": "3.8.5"
  }
 },
 "nbformat": 4,
 "nbformat_minor": 4
}
