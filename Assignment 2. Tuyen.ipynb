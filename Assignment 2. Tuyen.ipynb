{
 "cells": [
  {
   "cell_type": "markdown",
   "metadata": {},
   "source": [
    "# Bài tập buổi học 2 (Ngày 14/05/2021)\n"
   ]
  },
  {
   "cell_type": "markdown",
   "metadata": {},
   "source": [
    "# 1. Kiểu số liệu số thực thuộc lớp số (float)"
   ]
  },
  {
   "cell_type": "markdown",
   "metadata": {},
   "source": [
    "# 2.  Hai biến dưới đây có khác nhau không? Nếu có sự khác biệt đó là gì?\n",
    "- a=1\n",
    "- b=1.0\n",
    "\n",
    "*Thưc sự thì giá trị chúng giống nhau. Khác về object (a: int) và (b: float) và identity. "
   ]
  },
  {
   "cell_type": "code",
   "execution_count": 2,
   "metadata": {},
   "outputs": [
    {
     "data": {
      "text/plain": [
       "True"
      ]
     },
     "execution_count": 2,
     "metadata": {},
     "output_type": "execute_result"
    }
   ],
   "source": [
    "a=1\n",
    "b=1.0\n",
    "a==b # return True"
   ]
  },
  {
   "cell_type": "markdown",
   "metadata": {},
   "source": [
    "# 3. Những chuỗi nào sau đây là hợp lệ?\n",
    "- ‘abckfdhjf’, “234a’adadf”, “””asd34’asdfjoaisdfadf””””, “\\”, “””\\”””, ‘’\n",
    "* Những cái sau không phải chuỗi \"\\\\\", \"\"\"\\\\\"\"\" mà là escape sequence. Những cái còn lại nếu đúng về mặt ' ', \" \", hoặc là \"\"\" \"\"\" đều là chuỗi hết. Một số chuỗi bên trên đánh máy không theo thứ tự quotations hoặc chủ ý của người đánh máy. "
   ]
  },
  {
   "cell_type": "markdown",
   "metadata": {},
   "source": [
    "# 4. Sự khác nhau giữa hai biến a và b dưới đây là gì?\n",
    "- a='2021'\n",
    "- b=2021\n",
    "* Biến a là string và b là numeric (int). Ngoài ra chúng khác nhau về object và identiy. "
   ]
  },
  {
   "cell_type": "markdown",
   "metadata": {},
   "source": [
    "# 5. Chỉ ra các Escape sequence trong các giá trị dưới đây?\n",
    "- Chuỗi 1: ‘232\\n69\\ai34’\n",
    "- Chuỗi 2: ‘\\\\t’\n",
    "- Chuỗi 3: “\\/\\/\\/\\\\/\\/\\”\n",
    "* Chuỗi 1 là \\n (new line) và \\a (bel)*\n",
    "* Chuỗi 2 là \\t (tab)*\n",
    "* Chuỗi 3 không là escape sequence."
   ]
  },
  {
   "cell_type": "code",
   "execution_count": 4,
   "metadata": {},
   "outputs": [
    {
     "name": "stdout",
     "output_type": "stream",
     "text": [
      "232\n",
      "69\u0007i34\n",
      "ha\t\n"
     ]
    }
   ],
   "source": [
    "# Chuỗi 1 \n",
    "print(\"232\\n69\\ai34\")\n",
    "# Chuỗi 2\n",
    "print(\"ha\\\\t\")"
   ]
  },
  {
   "cell_type": "code",
   "execution_count": 3,
   "metadata": {},
   "outputs": [
    {
     "name": "stdout",
     "output_type": "stream",
     "text": [
      "\t\n"
     ]
    }
   ],
   "source": []
  },
  {
   "cell_type": "markdown",
   "metadata": {},
   "source": [
    "# 6. Có bao nhiêu escape sequence trong chuỗi dưới đây?\n",
    "- s = r'\\nte\\teng\\b\\v23\\adf\\t'\n",
    "* Không có escape nào vì có r ngoài. Vì thêm r bên ngoài chuỗi là đã ngầm hiểu no escape"
   ]
  },
  {
   "cell_type": "code",
   "execution_count": 92,
   "metadata": {},
   "outputs": [
    {
     "name": "stdout",
     "output_type": "stream",
     "text": [
      "\\nte\\teng\\b\\v23\\adf\\t\n"
     ]
    }
   ],
   "source": [
    "s = r'\\nte\\teng\\b\\v23\\adf\\t'\n",
    "print(s)"
   ]
  },
  {
   "cell_type": "markdown",
   "metadata": {},
   "source": [
    "# 7. Cho biến s với giá trị chuỗi sau:\n",
    "- s= ‘Nop BTVN dung deadline nhe’\n",
    "- Dựa trên các kiến thức đã học phần kiểu dữ liệu chuỗi, code dựa trên biến s để cho ra màn hình dòng “Quan trong là nop BTVN phai dung deadline”."
   ]
  },
  {
   "cell_type": "code",
   "execution_count": 4,
   "metadata": {},
   "outputs": [
    {
     "name": "stdout",
     "output_type": "stream",
     "text": [
      "Quan trọng là nop BTVN phải dung deadline.\n"
     ]
    }
   ],
   "source": [
    "s='Nop BTVN dung deadline nhe'\n",
    "\n",
    "print(f\"Quan trọng là {s[:3].lower()} {s[4:8]} phải {s[s.index('d'):s.index('nh')-1]}.\")"
   ]
  },
  {
   "cell_type": "markdown",
   "metadata": {},
   "source": [
    "# 8. Cho 2 dòng code sau, dựa vào phần kiến thức định dạng chuỗi thực hiện các yêu cầu dưới đây:\n",
    "- row_1 = '| {:<6} | {:^15} | {:>10} |'.format('ID', 'Ho va ten', 'Noi sinh')\n",
    "- row_2= '| {:<6} | {:^15} | {:>10} |'.format(‘1', ‘Phung Phuong Thao', ‘Ha Noi')\n",
    "- Xuất ra màn hình kết quả của 2 dòng code trên.\n",
    "- Viết lệnh để căn lề trái, căn lề phải, căn giữa tất cả các chuỗi trong 2 dòng trên."
   ]
  },
  {
   "cell_type": "code",
   "execution_count": 91,
   "metadata": {},
   "outputs": [
    {
     "name": "stdout",
     "output_type": "stream",
     "text": [
      "| ID     |    Ho va Ten    |        Noi Sinh|\n",
      "| 10     |  Ha Van Tuyen   |  Vinh Phuc|\n"
     ]
    }
   ],
   "source": [
    "row_1=\"| {:<6} | {:^15} | {:>15}|\".format(\"ID\",\"Ho va Ten\",\"Noi Sinh\")\n",
    "row_2=\"| {:<6} | {:^15} | {:>10}|\".format(\"10\",\"Ha Van Tuyen\",\"Vinh Phuc\")\n",
    "\n",
    "print(row_1)\n",
    "print(row_2)"
   ]
  },
  {
   "cell_type": "code",
   "execution_count": 70,
   "metadata": {},
   "outputs": [
    {
     "name": "stdout",
     "output_type": "stream",
     "text": [
      "Căn lề trái | ID     | Ho va Ten  | Noi Sinh  |\n",
      "Căn lề trái | 10     | Ha Van Tuyen | Vinh Phuc |\n"
     ]
    }
   ],
   "source": [
    "# Căn trái \n",
    "row_1=\"| {:<6} | {:<10} | {:<10}|\".format(\"ID\",\"Ho va Ten\",\"Noi Sinh\")\n",
    "row_2=\"| {:<6} | {:<10} | {:<10}|\".format(\"10\",\"Ha Van Tuyen\",\"Vinh Phuc\")\n",
    "\n",
    "print(\"Căn lề trái\",row_1)\n",
    "print(\"Căn lề trái\",row_2)"
   ]
  },
  {
   "cell_type": "code",
   "execution_count": 6,
   "metadata": {},
   "outputs": [
    {
     "name": "stdout",
     "output_type": "stream",
     "text": [
      "Căn lề phải |     ID |            Ho va Ten | ************Noi Sinh|\n",
      "Căn lề phải |     10 |         Ha Van Tuyen |            Vinh Phuc|\n"
     ]
    }
   ],
   "source": [
    "# Căn phải \n",
    "row_1=\"| {:>6} | {:>20} | {:*>20}|\".format(\"ID\",\"Ho va Ten\",\"Noi Sinh\")\n",
    "row_2=\"| {:>6} | {:>20} | {:>20}|\".format(\"10\",\"Ha Van Tuyen\",\"Vinh Phuc\")\n",
    "\n",
    "print(\"Căn lề phải\",row_1)\n",
    "print(\"Căn lề phải\",row_2)"
   ]
  },
  {
   "cell_type": "code",
   "execution_count": 5,
   "metadata": {},
   "outputs": [
    {
     "name": "stdout",
     "output_type": "stream",
     "text": [
      "Căn giữa |   ID   |      Ho va Ten       | ******Noi Sinh******|\n",
      "Căn giữa |   10   |     Ha Van Tuyen     |      Vinh Phuc      |\n"
     ]
    }
   ],
   "source": [
    "# Căn giữa \n",
    "row_1=\"| {:^6} | {:^20} | {:*^20}|\".format(\"ID\",\"Ho va Ten\",\"Noi Sinh\")\n",
    "row_2=\"| {:^6} | {:^20} | {:^20}|\".format(\"10\",\"Ha Van Tuyen\",\"Vinh Phuc\")\n",
    "\n",
    "print(\"Căn giữa\",row_1)\n",
    "print(\"Căn giữa\",row_2)"
   ]
  },
  {
   "cell_type": "code",
   "execution_count": null,
   "metadata": {},
   "outputs": [],
   "source": []
  }
 ],
 "metadata": {
  "kernelspec": {
   "display_name": "Python 3",
   "language": "python",
   "name": "python3"
  },
  "language_info": {
   "codemirror_mode": {
    "name": "ipython",
    "version": 3
   },
   "file_extension": ".py",
   "mimetype": "text/x-python",
   "name": "python",
   "nbconvert_exporter": "python",
   "pygments_lexer": "ipython3",
   "version": "3.8.5"
  }
 },
 "nbformat": 4,
 "nbformat_minor": 4
}
